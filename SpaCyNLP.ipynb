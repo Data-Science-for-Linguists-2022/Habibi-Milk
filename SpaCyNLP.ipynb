{
 "cells": [
  {
   "cell_type": "markdown",
   "id": "37712c24",
   "metadata": {},
   "source": [
    "# United Nations Parallel Corpora Analysis using SpaCy and Camel\n",
    "### Kinan Al-Mouk / kim47@pitt.edu "
   ]
  },
  {
   "cell_type": "markdown",
   "id": "fbd3d511",
   "metadata": {},
   "source": [
    "## Table of Contents \n",
    "[`Imports`](#Importing-Tools)\n",
    "\n",
    "[`Uploading and Processing Data`](#Uploading-and-Processing-Data-using-Spacy)\n",
    "    \n",
    "   - [`English`](#English)\n",
    "       - [Reading File](#Reading-in-English-File)\n",
    "       - [Downloading SpaCy English Module](#Downloading-SpaCy-object-for-English-processing)\n",
    "       - [Word Tokenizing](#Word-Tokenizing-English-Document)\n",
    "       - [Sentence Tokenizing](#Sentence-Tokenizing-English-Document)\n",
    "       - [POS Tagging](#POS-Tagging-English-Document)\n",
    "       - [Dependency Tagging](#Dependency-Tagging-English-Document)\n",
    "           - Image Rendering\n",
    "       - [Stop Word Tagging](#Eng-Stop-Word-Tagging)\n",
    "       - [Entity Tagging](#English-Entity-Tagging)\n",
    "   - [`Spanish`](#Spanish)\n",
    "       - [Reading File](#Reading-in-Spanish-File)\n",
    "       - [Word Tokenizing](#Word-Tokenizing-Spanish-Document)\n",
    "       - [Sentence Tokenizing](#Sentence-Tokenizing-Spanish-Document)\n",
    "       - [POS Tagging](#POS-Tagging-Spanish-Document)\n",
    "       - [Dependency Tagging](#Dependency-Tagging-Spanish-Document)\n",
    "           - Image Rendering\n",
    "       - [Entity Tagging](#Spanish-Entity-Tagging)\n",
    "   - [`French`](#French)\n",
    "       - [Reading File](#Reading-in-French-File)\n",
    "       - [Word Tokenizing](#Word-Tokenizing-French-Document)\n",
    "       - [Sentence Tokenizing](#Sentence-Tokenizing-French-Document)\n",
    "       - [POS Tagging](#POS-Tagging-French-Document)\n",
    "       - [Dependency Tagging](#Dependency-Tagging-French-Document)\n",
    "           - Image Rendering\n",
    "       - [Entity Tagging](#French-Entity-Tagging)\n",
    "   - [`Russian`](#Russian)\n",
    "       - [Reading File](#Reading-in-Russian-File)\n",
    "       - [Word Tokenizing](#Word-Tokenizing-Russian-Document)\n",
    "       - [Sentence Tokenizing](#Sentence-Tokenizing-Russian-Document)\n",
    "       - [POS Tagging](#POS-Tagging-Russian-Document)\n",
    "       - [Dependency Tagging](#Dependency-Tagging-Russian-Document)\n",
    "       - [Entity Tagging](#Russian-Entity-Tagging)\n",
    "   - [`Chinese`](#Chinese)\n",
    "       - [Reading File](#Reading-in-Mandarin-File)\n",
    "       - [Word Tokenizing](#Word-Tokenizing-Mandarin-Document)\n",
    "       - [Sentence Tokenizing](#Sentence-Tokenizing-Mandarin-Document)\n",
    "       - [POS Tagging](#POS-Tagging-Mandarin-Document)\n",
    "       - [Dependency Tagging](#Dependency-Tagging-Mandarin-Document)\n",
    "       - [Entity Tagging](#Mandarin-Entity-Tagging)\n",
    "   - [`Arabic`](#Arabic)\n",
    "  \n",
    "[`Creating DataFrame for Analyzation`](#Creating-DataFrame-for-Analyzation)\n",
    "  \n"
   ]
  },
  {
   "cell_type": "markdown",
   "id": "daa8f88c",
   "metadata": {},
   "source": [
    "# Importing Tools"
   ]
  },
  {
   "cell_type": "code",
   "execution_count": 1,
   "id": "8b6b5d30",
   "metadata": {},
   "outputs": [],
   "source": [
    "import nltk \n",
    "import pickle\n",
    "from time import time\n",
    "import numpy as np \n",
    "import pandas as pd "
   ]
  },
  {
   "cell_type": "code",
   "execution_count": 2,
   "id": "f290dd68",
   "metadata": {},
   "outputs": [],
   "source": [
    "import spacy"
   ]
  },
  {
   "cell_type": "markdown",
   "id": "39dd1b2e",
   "metadata": {},
   "source": [
    "I am using [SpaCy](https://spacy.io/) for NLP of **English, Spanish, French, Russian**, and **Mandarin Chinese** in order to ensure that the tokenization for each langauge remains accurate since NLTK is mostly and primarily used for English language NLP.\n",
    "\n",
    "However there is no [SpaCy](https://spacy.io/) module that can allow me to process the **Arabic** files. At the moment I am still looking into other resources."
   ]
  },
  {
   "cell_type": "markdown",
   "id": "f7709a88",
   "metadata": {},
   "source": [
    "# Uploading and Processing Data using Spacy"
   ]
  },
  {
   "cell_type": "markdown",
   "id": "8ae77cc6",
   "metadata": {},
   "source": [
    "## English"
   ]
  },
  {
   "cell_type": "markdown",
   "id": "460b964a",
   "metadata": {},
   "source": [
    "### Reading in File"
   ]
  },
  {
   "cell_type": "code",
   "execution_count": 3,
   "id": "8c09401c",
   "metadata": {},
   "outputs": [
    {
     "name": "stdout",
     "output_type": "stream",
     "text": [
      "Data loaded in: 0.14672303199768066 seconds.\n"
     ]
    }
   ],
   "source": [
    "# Loading in English Files\n",
    "start = time()\n",
    "f = open('data/sixway/english.100k', 'r') # Reading in English File\n",
    "english = f.read()\n",
    "print(\"Data loaded in:\", (time()-start), \"seconds.\")\n",
    "f.close()"
   ]
  },
  {
   "cell_type": "markdown",
   "id": "de7d28f2",
   "metadata": {},
   "source": [
    "### Downloading SpaCy object for English processing"
   ]
  },
  {
   "cell_type": "code",
   "execution_count": 4,
   "id": "aa8fbd5d",
   "metadata": {},
   "outputs": [],
   "source": [
    "english_samp = english[:1000000] # 1000000 is the characther limit for SpaCy processing"
   ]
  },
  {
   "cell_type": "code",
   "execution_count": 5,
   "id": "121f0e33",
   "metadata": {},
   "outputs": [
    {
     "name": "stdout",
     "output_type": "stream",
     "text": [
      "English document processed in: 89.45646619796753 seconds.\n"
     ]
    }
   ],
   "source": [
    "start = time()\n",
    "nlp = spacy.load('en_core_web_sm')\n",
    "eng_doc = nlp(english_samp)\n",
    "\n",
    "print(\"English document processed in:\", (time()-start), \"seconds.\")"
   ]
  },
  {
   "cell_type": "markdown",
   "id": "19c42eda",
   "metadata": {},
   "source": [
    "Here I am using the `time` function to see how long it takes to train files in [SpaCy](https://spacy.io/)'s processor.. It usually takes the English document about 86.43 seconds to complete."
   ]
  },
  {
   "cell_type": "markdown",
   "id": "02d7ef26",
   "metadata": {},
   "source": [
    "### Word Tokenizing English Document"
   ]
  },
  {
   "cell_type": "code",
   "execution_count": 6,
   "id": "07c2e6c0",
   "metadata": {},
   "outputs": [
    {
     "name": "stdout",
     "output_type": "stream",
     "text": [
      "English document word tokenized in: 0.25989675521850586 seconds.\n"
     ]
    }
   ],
   "source": [
    "start = time()\n",
    "\n",
    "eng_tokens = [token for token in eng_doc]  # Tokenizing Document\n",
    "\n",
    "print(\"English document word tokenized in:\", (time()-start), \"seconds.\")"
   ]
  },
  {
   "cell_type": "code",
   "execution_count": 7,
   "id": "dd305956",
   "metadata": {},
   "outputs": [
    {
     "name": "stdout",
     "output_type": "stream",
     "text": [
      "English Word Tokens Count: 177808 \n",
      " \n",
      " [RESOLUTION, 918, (, 1994, ), \n",
      ", Adopted, by, the, Security, Council, at, its, 3377th, meeting, ,, on, 17, May, 1994]\n"
     ]
    }
   ],
   "source": [
    "print('English Word Tokens Count:', len(eng_tokens), '\\n \\n', eng_tokens[:20])"
   ]
  },
  {
   "cell_type": "markdown",
   "id": "51101789",
   "metadata": {},
   "source": [
    "[SpaCy's Tokenizer](https://spacy.io/api/tokenizer) segments text into words, puncutation marks, etc. Additionally it creates a `Doc` object with the discovered segment boundaries. Their **global** and **langauge-specific** data is supplied via the langauge data in [`spacy/lang`]"
   ]
  },
  {
   "cell_type": "markdown",
   "id": "4ee0f802",
   "metadata": {},
   "source": [
    "### Sentence Tokenizing English Document"
   ]
  },
  {
   "cell_type": "code",
   "execution_count": 8,
   "id": "55de0ca2",
   "metadata": {},
   "outputs": [
    {
     "name": "stdout",
     "output_type": "stream",
     "text": [
      "English document sentence tokenized in: 0.11670398712158203 seconds.\n"
     ]
    }
   ],
   "source": [
    "start = time()\n",
    "eng_sent = [sent.text for sent in eng_doc.sents]\n",
    "print(\"English document sentence tokenized in:\", (time()-start), \"seconds.\")"
   ]
  },
  {
   "cell_type": "code",
   "execution_count": 9,
   "id": "1bfcf6da",
   "metadata": {},
   "outputs": [
    {
     "data": {
      "text/plain": [
       "6662"
      ]
     },
     "execution_count": 9,
     "metadata": {},
     "output_type": "execute_result"
    }
   ],
   "source": [
    "len(eng_sent)"
   ]
  },
  {
   "cell_type": "code",
   "execution_count": 163,
   "id": "8f000c34",
   "metadata": {},
   "outputs": [
    {
     "name": "stdout",
     "output_type": "stream",
     "text": [
      "Demands that all parties to the conflict immediately cease hostilities, agree to a cease-fire, and bring an end to the mindless violence and carnage engulfing Rwanda;\n",
      "2.\n"
     ]
    }
   ],
   "source": [
    "example_eng_sent = eng_sent[1]\n",
    "print(example_eng_sent)"
   ]
  },
  {
   "cell_type": "markdown",
   "id": "ead4e372",
   "metadata": {},
   "source": [
    "### POS Tagging English Document"
   ]
  },
  {
   "cell_type": "code",
   "execution_count": 51,
   "id": "a1b62178",
   "metadata": {},
   "outputs": [
    {
     "name": "stdout",
     "output_type": "stream",
     "text": [
      "English document POS tagged in: 0.056739091873168945 seconds.\n"
     ]
    }
   ],
   "source": [
    "start = time()\n",
    "eng_pos = [token.pos_ for token in eng_doc] \n",
    "print(\"English document POS tagged in:\", (time()-start), \"seconds.\")"
   ]
  },
  {
   "cell_type": "code",
   "execution_count": 52,
   "id": "2fb79d77",
   "metadata": {},
   "outputs": [
    {
     "name": "stdout",
     "output_type": "stream",
     "text": [
      "\n",
      "List of POS tags: {'INTJ', 'NOUN', 'X', 'NUM', 'DET', 'PRON', 'PART', 'ADP', 'VERB', 'PROPN', 'SPACE', 'ADJ', 'CCONJ', 'SYM', 'ADV', 'AUX', 'SCONJ', 'PUNCT'} \n",
      "\n",
      "POS count: 18\n"
     ]
    }
   ],
   "source": [
    "print('\\nList of POS tags:', set(eng_pos), '\\n\\nPOS count:', len(set(eng_pos)))"
   ]
  },
  {
   "cell_type": "markdown",
   "id": "bf396e7b",
   "metadata": {},
   "source": [
    "The [SpaCy](https://spacy.io/) library is quite easy. All that is neccessary is tot instantiate a [SpaCy](https://spacy.io/) object as doc, then iterate over the `Doc` object and use `pos_` to print the **POS**."
   ]
  },
  {
   "cell_type": "markdown",
   "id": "570be211",
   "metadata": {},
   "source": [
    "### Dependency Tagging"
   ]
  },
  {
   "cell_type": "code",
   "execution_count": 53,
   "id": "882de825",
   "metadata": {},
   "outputs": [],
   "source": [
    "from spacy import displacy"
   ]
  },
  {
   "cell_type": "code",
   "execution_count": 54,
   "id": "27f80922",
   "metadata": {},
   "outputs": [
    {
     "name": "stdout",
     "output_type": "stream",
     "text": [
      "English document DEP tagged in: 0.08782196044921875 seconds.\n"
     ]
    }
   ],
   "source": [
    "start = time()\n",
    "eng_dep = [token.dep_ for token in eng_doc] \n",
    "print(\"English document DEP tagged in:\", (time()-start), \"seconds.\")"
   ]
  },
  {
   "cell_type": "code",
   "execution_count": 55,
   "id": "0a2fe978",
   "metadata": {},
   "outputs": [
    {
     "data": {
      "text/plain": [
       "['nsubj', 'nummod', 'punct', 'npadvmod', 'punct']"
      ]
     },
     "execution_count": 55,
     "metadata": {},
     "output_type": "execute_result"
    }
   ],
   "source": [
    "eng_dep[:5]"
   ]
  },
  {
   "cell_type": "code",
   "execution_count": 75,
   "id": "b5405d5a",
   "metadata": {},
   "outputs": [
    {
     "data": {
      "text/plain": [
       "45"
      ]
     },
     "execution_count": 75,
     "metadata": {},
     "output_type": "execute_result"
    }
   ],
   "source": [
    "len(set(eng_dep))"
   ]
  },
  {
   "cell_type": "markdown",
   "id": "a50b0720",
   "metadata": {},
   "source": [
    "[SpaCy](https://spacy.io/)'s **dependency parser** come with a visualiztion module. We can pass a Doc or a list of Doc objects to displaCy and run `displacy.render` to generate the raw markup. I am using the example sentence from above `example_eng_sent` because it is one of the shortest sentences I managed to find. "
   ]
  },
  {
   "cell_type": "code",
   "execution_count": 56,
   "id": "94e4fddc",
   "metadata": {},
   "outputs": [
    {
     "data": {
      "text/html": [
       "<span class=\"tex2jax_ignore\"><svg xmlns=\"http://www.w3.org/2000/svg\" xmlns:xlink=\"http://www.w3.org/1999/xlink\" xml:lang=\"es\" id=\"d1a90183e4a641999ad2d0e83a2fa382-0\" class=\"displacy\" width=\"4950\" height=\"1187.0\" direction=\"ltr\" style=\"max-width: none; height: 1187.0px; color: #000000; background: #ffffff; font-family: Arial; direction: ltr\">\n",
       "<text class=\"displacy-token\" fill=\"currentColor\" text-anchor=\"middle\" y=\"1097.0\">\n",
       "    <tspan class=\"displacy-word\" fill=\"currentColor\" x=\"50\">Demands</tspan>\n",
       "    <tspan class=\"displacy-tag\" dy=\"2em\" fill=\"currentColor\" x=\"50\">PROPN</tspan>\n",
       "</text>\n",
       "\n",
       "<text class=\"displacy-token\" fill=\"currentColor\" text-anchor=\"middle\" y=\"1097.0\">\n",
       "    <tspan class=\"displacy-word\" fill=\"currentColor\" x=\"225\">that</tspan>\n",
       "    <tspan class=\"displacy-tag\" dy=\"2em\" fill=\"currentColor\" x=\"225\">PROPN</tspan>\n",
       "</text>\n",
       "\n",
       "<text class=\"displacy-token\" fill=\"currentColor\" text-anchor=\"middle\" y=\"1097.0\">\n",
       "    <tspan class=\"displacy-word\" fill=\"currentColor\" x=\"400\">all</tspan>\n",
       "    <tspan class=\"displacy-tag\" dy=\"2em\" fill=\"currentColor\" x=\"400\">PROPN</tspan>\n",
       "</text>\n",
       "\n",
       "<text class=\"displacy-token\" fill=\"currentColor\" text-anchor=\"middle\" y=\"1097.0\">\n",
       "    <tspan class=\"displacy-word\" fill=\"currentColor\" x=\"575\">parties</tspan>\n",
       "    <tspan class=\"displacy-tag\" dy=\"2em\" fill=\"currentColor\" x=\"575\">PROPN</tspan>\n",
       "</text>\n",
       "\n",
       "<text class=\"displacy-token\" fill=\"currentColor\" text-anchor=\"middle\" y=\"1097.0\">\n",
       "    <tspan class=\"displacy-word\" fill=\"currentColor\" x=\"750\">to</tspan>\n",
       "    <tspan class=\"displacy-tag\" dy=\"2em\" fill=\"currentColor\" x=\"750\">PROPN</tspan>\n",
       "</text>\n",
       "\n",
       "<text class=\"displacy-token\" fill=\"currentColor\" text-anchor=\"middle\" y=\"1097.0\">\n",
       "    <tspan class=\"displacy-word\" fill=\"currentColor\" x=\"925\">the</tspan>\n",
       "    <tspan class=\"displacy-tag\" dy=\"2em\" fill=\"currentColor\" x=\"925\">PROPN</tspan>\n",
       "</text>\n",
       "\n",
       "<text class=\"displacy-token\" fill=\"currentColor\" text-anchor=\"middle\" y=\"1097.0\">\n",
       "    <tspan class=\"displacy-word\" fill=\"currentColor\" x=\"1100\">conflict</tspan>\n",
       "    <tspan class=\"displacy-tag\" dy=\"2em\" fill=\"currentColor\" x=\"1100\">ADJ</tspan>\n",
       "</text>\n",
       "\n",
       "<text class=\"displacy-token\" fill=\"currentColor\" text-anchor=\"middle\" y=\"1097.0\">\n",
       "    <tspan class=\"displacy-word\" fill=\"currentColor\" x=\"1275\">immediately</tspan>\n",
       "    <tspan class=\"displacy-tag\" dy=\"2em\" fill=\"currentColor\" x=\"1275\">PROPN</tspan>\n",
       "</text>\n",
       "\n",
       "<text class=\"displacy-token\" fill=\"currentColor\" text-anchor=\"middle\" y=\"1097.0\">\n",
       "    <tspan class=\"displacy-word\" fill=\"currentColor\" x=\"1450\">cease</tspan>\n",
       "    <tspan class=\"displacy-tag\" dy=\"2em\" fill=\"currentColor\" x=\"1450\">VERB</tspan>\n",
       "</text>\n",
       "\n",
       "<text class=\"displacy-token\" fill=\"currentColor\" text-anchor=\"middle\" y=\"1097.0\">\n",
       "    <tspan class=\"displacy-word\" fill=\"currentColor\" x=\"1625\">hostilities,</tspan>\n",
       "    <tspan class=\"displacy-tag\" dy=\"2em\" fill=\"currentColor\" x=\"1625\">NOUN</tspan>\n",
       "</text>\n",
       "\n",
       "<text class=\"displacy-token\" fill=\"currentColor\" text-anchor=\"middle\" y=\"1097.0\">\n",
       "    <tspan class=\"displacy-word\" fill=\"currentColor\" x=\"1800\">agree</tspan>\n",
       "    <tspan class=\"displacy-tag\" dy=\"2em\" fill=\"currentColor\" x=\"1800\">VERB</tspan>\n",
       "</text>\n",
       "\n",
       "<text class=\"displacy-token\" fill=\"currentColor\" text-anchor=\"middle\" y=\"1097.0\">\n",
       "    <tspan class=\"displacy-word\" fill=\"currentColor\" x=\"1975\">to</tspan>\n",
       "    <tspan class=\"displacy-tag\" dy=\"2em\" fill=\"currentColor\" x=\"1975\">PROPN</tspan>\n",
       "</text>\n",
       "\n",
       "<text class=\"displacy-token\" fill=\"currentColor\" text-anchor=\"middle\" y=\"1097.0\">\n",
       "    <tspan class=\"displacy-word\" fill=\"currentColor\" x=\"2150\">a</tspan>\n",
       "    <tspan class=\"displacy-tag\" dy=\"2em\" fill=\"currentColor\" x=\"2150\">ADP</tspan>\n",
       "</text>\n",
       "\n",
       "<text class=\"displacy-token\" fill=\"currentColor\" text-anchor=\"middle\" y=\"1097.0\">\n",
       "    <tspan class=\"displacy-word\" fill=\"currentColor\" x=\"2325\">cease-fire,</tspan>\n",
       "    <tspan class=\"displacy-tag\" dy=\"2em\" fill=\"currentColor\" x=\"2325\">PROPN</tspan>\n",
       "</text>\n",
       "\n",
       "<text class=\"displacy-token\" fill=\"currentColor\" text-anchor=\"middle\" y=\"1097.0\">\n",
       "    <tspan class=\"displacy-word\" fill=\"currentColor\" x=\"2500\">and</tspan>\n",
       "    <tspan class=\"displacy-tag\" dy=\"2em\" fill=\"currentColor\" x=\"2500\">PROPN</tspan>\n",
       "</text>\n",
       "\n",
       "<text class=\"displacy-token\" fill=\"currentColor\" text-anchor=\"middle\" y=\"1097.0\">\n",
       "    <tspan class=\"displacy-word\" fill=\"currentColor\" x=\"2675\">bring</tspan>\n",
       "    <tspan class=\"displacy-tag\" dy=\"2em\" fill=\"currentColor\" x=\"2675\">PROPN</tspan>\n",
       "</text>\n",
       "\n",
       "<text class=\"displacy-token\" fill=\"currentColor\" text-anchor=\"middle\" y=\"1097.0\">\n",
       "    <tspan class=\"displacy-word\" fill=\"currentColor\" x=\"2850\">an</tspan>\n",
       "    <tspan class=\"displacy-tag\" dy=\"2em\" fill=\"currentColor\" x=\"2850\">PROPN</tspan>\n",
       "</text>\n",
       "\n",
       "<text class=\"displacy-token\" fill=\"currentColor\" text-anchor=\"middle\" y=\"1097.0\">\n",
       "    <tspan class=\"displacy-word\" fill=\"currentColor\" x=\"3025\">end</tspan>\n",
       "    <tspan class=\"displacy-tag\" dy=\"2em\" fill=\"currentColor\" x=\"3025\">PROPN</tspan>\n",
       "</text>\n",
       "\n",
       "<text class=\"displacy-token\" fill=\"currentColor\" text-anchor=\"middle\" y=\"1097.0\">\n",
       "    <tspan class=\"displacy-word\" fill=\"currentColor\" x=\"3200\">to</tspan>\n",
       "    <tspan class=\"displacy-tag\" dy=\"2em\" fill=\"currentColor\" x=\"3200\">PROPN</tspan>\n",
       "</text>\n",
       "\n",
       "<text class=\"displacy-token\" fill=\"currentColor\" text-anchor=\"middle\" y=\"1097.0\">\n",
       "    <tspan class=\"displacy-word\" fill=\"currentColor\" x=\"3375\">the</tspan>\n",
       "    <tspan class=\"displacy-tag\" dy=\"2em\" fill=\"currentColor\" x=\"3375\">PROPN</tspan>\n",
       "</text>\n",
       "\n",
       "<text class=\"displacy-token\" fill=\"currentColor\" text-anchor=\"middle\" y=\"1097.0\">\n",
       "    <tspan class=\"displacy-word\" fill=\"currentColor\" x=\"3550\">mindless</tspan>\n",
       "    <tspan class=\"displacy-tag\" dy=\"2em\" fill=\"currentColor\" x=\"3550\">PROPN</tspan>\n",
       "</text>\n",
       "\n",
       "<text class=\"displacy-token\" fill=\"currentColor\" text-anchor=\"middle\" y=\"1097.0\">\n",
       "    <tspan class=\"displacy-word\" fill=\"currentColor\" x=\"3725\">violence</tspan>\n",
       "    <tspan class=\"displacy-tag\" dy=\"2em\" fill=\"currentColor\" x=\"3725\">PROPN</tspan>\n",
       "</text>\n",
       "\n",
       "<text class=\"displacy-token\" fill=\"currentColor\" text-anchor=\"middle\" y=\"1097.0\">\n",
       "    <tspan class=\"displacy-word\" fill=\"currentColor\" x=\"3900\">and</tspan>\n",
       "    <tspan class=\"displacy-tag\" dy=\"2em\" fill=\"currentColor\" x=\"3900\">PROPN</tspan>\n",
       "</text>\n",
       "\n",
       "<text class=\"displacy-token\" fill=\"currentColor\" text-anchor=\"middle\" y=\"1097.0\">\n",
       "    <tspan class=\"displacy-word\" fill=\"currentColor\" x=\"4075\">carnage</tspan>\n",
       "    <tspan class=\"displacy-tag\" dy=\"2em\" fill=\"currentColor\" x=\"4075\">PROPN</tspan>\n",
       "</text>\n",
       "\n",
       "<text class=\"displacy-token\" fill=\"currentColor\" text-anchor=\"middle\" y=\"1097.0\">\n",
       "    <tspan class=\"displacy-word\" fill=\"currentColor\" x=\"4250\">engulfing</tspan>\n",
       "    <tspan class=\"displacy-tag\" dy=\"2em\" fill=\"currentColor\" x=\"4250\">PROPN</tspan>\n",
       "</text>\n",
       "\n",
       "<text class=\"displacy-token\" fill=\"currentColor\" text-anchor=\"middle\" y=\"1097.0\">\n",
       "    <tspan class=\"displacy-word\" fill=\"currentColor\" x=\"4425\">Rwanda;</tspan>\n",
       "    <tspan class=\"displacy-tag\" dy=\"2em\" fill=\"currentColor\" x=\"4425\">PROPN</tspan>\n",
       "</text>\n",
       "\n",
       "<text class=\"displacy-token\" fill=\"currentColor\" text-anchor=\"middle\" y=\"1097.0\">\n",
       "    <tspan class=\"displacy-word\" fill=\"currentColor\" x=\"4600\">\n",
       "</tspan>\n",
       "    <tspan class=\"displacy-tag\" dy=\"2em\" fill=\"currentColor\" x=\"4600\">SPACE</tspan>\n",
       "</text>\n",
       "\n",
       "<text class=\"displacy-token\" fill=\"currentColor\" text-anchor=\"middle\" y=\"1097.0\">\n",
       "    <tspan class=\"displacy-word\" fill=\"currentColor\" x=\"4775\">2.</tspan>\n",
       "    <tspan class=\"displacy-tag\" dy=\"2em\" fill=\"currentColor\" x=\"4775\">NUM</tspan>\n",
       "</text>\n",
       "\n",
       "<g class=\"displacy-arrow\">\n",
       "    <path class=\"displacy-arc\" id=\"arrow-d1a90183e4a641999ad2d0e83a2fa382-0-0\" stroke-width=\"2px\" d=\"M70,1052.0 C70,964.5 170.0,964.5 170.0,1052.0\" fill=\"none\" stroke=\"currentColor\"/>\n",
       "    <text dy=\"1.25em\" style=\"font-size: 0.8em; letter-spacing: 1px\">\n",
       "        <textPath xlink:href=\"#arrow-d1a90183e4a641999ad2d0e83a2fa382-0-0\" class=\"displacy-label\" startOffset=\"50%\" side=\"left\" fill=\"currentColor\" text-anchor=\"middle\">nsubj</textPath>\n",
       "    </text>\n",
       "    <path class=\"displacy-arrowhead\" d=\"M70,1054.0 L62,1042.0 78,1042.0\" fill=\"currentColor\"/>\n",
       "</g>\n",
       "\n",
       "<g class=\"displacy-arrow\">\n",
       "    <path class=\"displacy-arc\" id=\"arrow-d1a90183e4a641999ad2d0e83a2fa382-0-1\" stroke-width=\"2px\" d=\"M245,1052.0 C245,964.5 345.0,964.5 345.0,1052.0\" fill=\"none\" stroke=\"currentColor\"/>\n",
       "    <text dy=\"1.25em\" style=\"font-size: 0.8em; letter-spacing: 1px\">\n",
       "        <textPath xlink:href=\"#arrow-d1a90183e4a641999ad2d0e83a2fa382-0-1\" class=\"displacy-label\" startOffset=\"50%\" side=\"left\" fill=\"currentColor\" text-anchor=\"middle\">obj</textPath>\n",
       "    </text>\n",
       "    <path class=\"displacy-arrowhead\" d=\"M345.0,1054.0 L353.0,1042.0 337.0,1042.0\" fill=\"currentColor\"/>\n",
       "</g>\n",
       "\n",
       "<g class=\"displacy-arrow\">\n",
       "    <path class=\"displacy-arc\" id=\"arrow-d1a90183e4a641999ad2d0e83a2fa382-0-2\" stroke-width=\"2px\" d=\"M420,1052.0 C420,964.5 520.0,964.5 520.0,1052.0\" fill=\"none\" stroke=\"currentColor\"/>\n",
       "    <text dy=\"1.25em\" style=\"font-size: 0.8em; letter-spacing: 1px\">\n",
       "        <textPath xlink:href=\"#arrow-d1a90183e4a641999ad2d0e83a2fa382-0-2\" class=\"displacy-label\" startOffset=\"50%\" side=\"left\" fill=\"currentColor\" text-anchor=\"middle\">flat</textPath>\n",
       "    </text>\n",
       "    <path class=\"displacy-arrowhead\" d=\"M520.0,1054.0 L528.0,1042.0 512.0,1042.0\" fill=\"currentColor\"/>\n",
       "</g>\n",
       "\n",
       "<g class=\"displacy-arrow\">\n",
       "    <path class=\"displacy-arc\" id=\"arrow-d1a90183e4a641999ad2d0e83a2fa382-0-3\" stroke-width=\"2px\" d=\"M420,1052.0 C420,877.0 700.0,877.0 700.0,1052.0\" fill=\"none\" stroke=\"currentColor\"/>\n",
       "    <text dy=\"1.25em\" style=\"font-size: 0.8em; letter-spacing: 1px\">\n",
       "        <textPath xlink:href=\"#arrow-d1a90183e4a641999ad2d0e83a2fa382-0-3\" class=\"displacy-label\" startOffset=\"50%\" side=\"left\" fill=\"currentColor\" text-anchor=\"middle\">flat</textPath>\n",
       "    </text>\n",
       "    <path class=\"displacy-arrowhead\" d=\"M700.0,1054.0 L708.0,1042.0 692.0,1042.0\" fill=\"currentColor\"/>\n",
       "</g>\n",
       "\n",
       "<g class=\"displacy-arrow\">\n",
       "    <path class=\"displacy-arc\" id=\"arrow-d1a90183e4a641999ad2d0e83a2fa382-0-4\" stroke-width=\"2px\" d=\"M770,1052.0 C770,964.5 870.0,964.5 870.0,1052.0\" fill=\"none\" stroke=\"currentColor\"/>\n",
       "    <text dy=\"1.25em\" style=\"font-size: 0.8em; letter-spacing: 1px\">\n",
       "        <textPath xlink:href=\"#arrow-d1a90183e4a641999ad2d0e83a2fa382-0-4\" class=\"displacy-label\" startOffset=\"50%\" side=\"left\" fill=\"currentColor\" text-anchor=\"middle\">flat</textPath>\n",
       "    </text>\n",
       "    <path class=\"displacy-arrowhead\" d=\"M870.0,1054.0 L878.0,1042.0 862.0,1042.0\" fill=\"currentColor\"/>\n",
       "</g>\n",
       "\n",
       "<g class=\"displacy-arrow\">\n",
       "    <path class=\"displacy-arc\" id=\"arrow-d1a90183e4a641999ad2d0e83a2fa382-0-5\" stroke-width=\"2px\" d=\"M770,1052.0 C770,877.0 1050.0,877.0 1050.0,1052.0\" fill=\"none\" stroke=\"currentColor\"/>\n",
       "    <text dy=\"1.25em\" style=\"font-size: 0.8em; letter-spacing: 1px\">\n",
       "        <textPath xlink:href=\"#arrow-d1a90183e4a641999ad2d0e83a2fa382-0-5\" class=\"displacy-label\" startOffset=\"50%\" side=\"left\" fill=\"currentColor\" text-anchor=\"middle\">flat</textPath>\n",
       "    </text>\n",
       "    <path class=\"displacy-arrowhead\" d=\"M1050.0,1054.0 L1058.0,1042.0 1042.0,1042.0\" fill=\"currentColor\"/>\n",
       "</g>\n",
       "\n",
       "<g class=\"displacy-arrow\">\n",
       "    <path class=\"displacy-arc\" id=\"arrow-d1a90183e4a641999ad2d0e83a2fa382-0-6\" stroke-width=\"2px\" d=\"M420,1052.0 C420,614.5 1240.0,614.5 1240.0,1052.0\" fill=\"none\" stroke=\"currentColor\"/>\n",
       "    <text dy=\"1.25em\" style=\"font-size: 0.8em; letter-spacing: 1px\">\n",
       "        <textPath xlink:href=\"#arrow-d1a90183e4a641999ad2d0e83a2fa382-0-6\" class=\"displacy-label\" startOffset=\"50%\" side=\"left\" fill=\"currentColor\" text-anchor=\"middle\">flat</textPath>\n",
       "    </text>\n",
       "    <path class=\"displacy-arrowhead\" d=\"M1240.0,1054.0 L1248.0,1042.0 1232.0,1042.0\" fill=\"currentColor\"/>\n",
       "</g>\n",
       "\n",
       "<g class=\"displacy-arrow\">\n",
       "    <path class=\"displacy-arc\" id=\"arrow-d1a90183e4a641999ad2d0e83a2fa382-0-7\" stroke-width=\"2px\" d=\"M245,1052.0 C245,527.0 1420.0,527.0 1420.0,1052.0\" fill=\"none\" stroke=\"currentColor\"/>\n",
       "    <text dy=\"1.25em\" style=\"font-size: 0.8em; letter-spacing: 1px\">\n",
       "        <textPath xlink:href=\"#arrow-d1a90183e4a641999ad2d0e83a2fa382-0-7\" class=\"displacy-label\" startOffset=\"50%\" side=\"left\" fill=\"currentColor\" text-anchor=\"middle\">advcl</textPath>\n",
       "    </text>\n",
       "    <path class=\"displacy-arrowhead\" d=\"M1420.0,1054.0 L1428.0,1042.0 1412.0,1042.0\" fill=\"currentColor\"/>\n",
       "</g>\n",
       "\n",
       "<g class=\"displacy-arrow\">\n",
       "    <path class=\"displacy-arc\" id=\"arrow-d1a90183e4a641999ad2d0e83a2fa382-0-8\" stroke-width=\"2px\" d=\"M1470,1052.0 C1470,964.5 1570.0,964.5 1570.0,1052.0\" fill=\"none\" stroke=\"currentColor\"/>\n",
       "    <text dy=\"1.25em\" style=\"font-size: 0.8em; letter-spacing: 1px\">\n",
       "        <textPath xlink:href=\"#arrow-d1a90183e4a641999ad2d0e83a2fa382-0-8\" class=\"displacy-label\" startOffset=\"50%\" side=\"left\" fill=\"currentColor\" text-anchor=\"middle\">obj</textPath>\n",
       "    </text>\n",
       "    <path class=\"displacy-arrowhead\" d=\"M1570.0,1054.0 L1578.0,1042.0 1562.0,1042.0\" fill=\"currentColor\"/>\n",
       "</g>\n",
       "\n",
       "<g class=\"displacy-arrow\">\n",
       "    <path class=\"displacy-arc\" id=\"arrow-d1a90183e4a641999ad2d0e83a2fa382-0-9\" stroke-width=\"2px\" d=\"M245,1052.0 C245,352.0 1780.0,352.0 1780.0,1052.0\" fill=\"none\" stroke=\"currentColor\"/>\n",
       "    <text dy=\"1.25em\" style=\"font-size: 0.8em; letter-spacing: 1px\">\n",
       "        <textPath xlink:href=\"#arrow-d1a90183e4a641999ad2d0e83a2fa382-0-9\" class=\"displacy-label\" startOffset=\"50%\" side=\"left\" fill=\"currentColor\" text-anchor=\"middle\">advcl</textPath>\n",
       "    </text>\n",
       "    <path class=\"displacy-arrowhead\" d=\"M1780.0,1054.0 L1788.0,1042.0 1772.0,1042.0\" fill=\"currentColor\"/>\n",
       "</g>\n",
       "\n",
       "<g class=\"displacy-arrow\">\n",
       "    <path class=\"displacy-arc\" id=\"arrow-d1a90183e4a641999ad2d0e83a2fa382-0-10\" stroke-width=\"2px\" d=\"M1820,1052.0 C1820,964.5 1920.0,964.5 1920.0,1052.0\" fill=\"none\" stroke=\"currentColor\"/>\n",
       "    <text dy=\"1.25em\" style=\"font-size: 0.8em; letter-spacing: 1px\">\n",
       "        <textPath xlink:href=\"#arrow-d1a90183e4a641999ad2d0e83a2fa382-0-10\" class=\"displacy-label\" startOffset=\"50%\" side=\"left\" fill=\"currentColor\" text-anchor=\"middle\">obj</textPath>\n",
       "    </text>\n",
       "    <path class=\"displacy-arrowhead\" d=\"M1920.0,1054.0 L1928.0,1042.0 1912.0,1042.0\" fill=\"currentColor\"/>\n",
       "</g>\n",
       "\n",
       "<g class=\"displacy-arrow\">\n",
       "    <path class=\"displacy-arc\" id=\"arrow-d1a90183e4a641999ad2d0e83a2fa382-0-11\" stroke-width=\"2px\" d=\"M2170,1052.0 C2170,964.5 2270.0,964.5 2270.0,1052.0\" fill=\"none\" stroke=\"currentColor\"/>\n",
       "    <text dy=\"1.25em\" style=\"font-size: 0.8em; letter-spacing: 1px\">\n",
       "        <textPath xlink:href=\"#arrow-d1a90183e4a641999ad2d0e83a2fa382-0-11\" class=\"displacy-label\" startOffset=\"50%\" side=\"left\" fill=\"currentColor\" text-anchor=\"middle\">case</textPath>\n",
       "    </text>\n",
       "    <path class=\"displacy-arrowhead\" d=\"M2170,1054.0 L2162,1042.0 2178,1042.0\" fill=\"currentColor\"/>\n",
       "</g>\n",
       "\n",
       "<g class=\"displacy-arrow\">\n",
       "    <path class=\"displacy-arc\" id=\"arrow-d1a90183e4a641999ad2d0e83a2fa382-0-12\" stroke-width=\"2px\" d=\"M1820,1052.0 C1820,789.5 2280.0,789.5 2280.0,1052.0\" fill=\"none\" stroke=\"currentColor\"/>\n",
       "    <text dy=\"1.25em\" style=\"font-size: 0.8em; letter-spacing: 1px\">\n",
       "        <textPath xlink:href=\"#arrow-d1a90183e4a641999ad2d0e83a2fa382-0-12\" class=\"displacy-label\" startOffset=\"50%\" side=\"left\" fill=\"currentColor\" text-anchor=\"middle\">obj</textPath>\n",
       "    </text>\n",
       "    <path class=\"displacy-arrowhead\" d=\"M2280.0,1054.0 L2288.0,1042.0 2272.0,1042.0\" fill=\"currentColor\"/>\n",
       "</g>\n",
       "\n",
       "<g class=\"displacy-arrow\">\n",
       "    <path class=\"displacy-arc\" id=\"arrow-d1a90183e4a641999ad2d0e83a2fa382-0-13\" stroke-width=\"2px\" d=\"M245,1052.0 C245,89.5 2495.0,89.5 2495.0,1052.0\" fill=\"none\" stroke=\"currentColor\"/>\n",
       "    <text dy=\"1.25em\" style=\"font-size: 0.8em; letter-spacing: 1px\">\n",
       "        <textPath xlink:href=\"#arrow-d1a90183e4a641999ad2d0e83a2fa382-0-13\" class=\"displacy-label\" startOffset=\"50%\" side=\"left\" fill=\"currentColor\" text-anchor=\"middle\">obl</textPath>\n",
       "    </text>\n",
       "    <path class=\"displacy-arrowhead\" d=\"M2495.0,1054.0 L2503.0,1042.0 2487.0,1042.0\" fill=\"currentColor\"/>\n",
       "</g>\n",
       "\n",
       "<g class=\"displacy-arrow\">\n",
       "    <path class=\"displacy-arc\" id=\"arrow-d1a90183e4a641999ad2d0e83a2fa382-0-14\" stroke-width=\"2px\" d=\"M2520,1052.0 C2520,964.5 2620.0,964.5 2620.0,1052.0\" fill=\"none\" stroke=\"currentColor\"/>\n",
       "    <text dy=\"1.25em\" style=\"font-size: 0.8em; letter-spacing: 1px\">\n",
       "        <textPath xlink:href=\"#arrow-d1a90183e4a641999ad2d0e83a2fa382-0-14\" class=\"displacy-label\" startOffset=\"50%\" side=\"left\" fill=\"currentColor\" text-anchor=\"middle\">flat</textPath>\n",
       "    </text>\n",
       "    <path class=\"displacy-arrowhead\" d=\"M2620.0,1054.0 L2628.0,1042.0 2612.0,1042.0\" fill=\"currentColor\"/>\n",
       "</g>\n",
       "\n",
       "<g class=\"displacy-arrow\">\n",
       "    <path class=\"displacy-arc\" id=\"arrow-d1a90183e4a641999ad2d0e83a2fa382-0-15\" stroke-width=\"2px\" d=\"M2520,1052.0 C2520,877.0 2800.0,877.0 2800.0,1052.0\" fill=\"none\" stroke=\"currentColor\"/>\n",
       "    <text dy=\"1.25em\" style=\"font-size: 0.8em; letter-spacing: 1px\">\n",
       "        <textPath xlink:href=\"#arrow-d1a90183e4a641999ad2d0e83a2fa382-0-15\" class=\"displacy-label\" startOffset=\"50%\" side=\"left\" fill=\"currentColor\" text-anchor=\"middle\">flat</textPath>\n",
       "    </text>\n",
       "    <path class=\"displacy-arrowhead\" d=\"M2800.0,1054.0 L2808.0,1042.0 2792.0,1042.0\" fill=\"currentColor\"/>\n",
       "</g>\n",
       "\n",
       "<g class=\"displacy-arrow\">\n",
       "    <path class=\"displacy-arc\" id=\"arrow-d1a90183e4a641999ad2d0e83a2fa382-0-16\" stroke-width=\"2px\" d=\"M2520,1052.0 C2520,789.5 2980.0,789.5 2980.0,1052.0\" fill=\"none\" stroke=\"currentColor\"/>\n",
       "    <text dy=\"1.25em\" style=\"font-size: 0.8em; letter-spacing: 1px\">\n",
       "        <textPath xlink:href=\"#arrow-d1a90183e4a641999ad2d0e83a2fa382-0-16\" class=\"displacy-label\" startOffset=\"50%\" side=\"left\" fill=\"currentColor\" text-anchor=\"middle\">flat</textPath>\n",
       "    </text>\n",
       "    <path class=\"displacy-arrowhead\" d=\"M2980.0,1054.0 L2988.0,1042.0 2972.0,1042.0\" fill=\"currentColor\"/>\n",
       "</g>\n",
       "\n",
       "<g class=\"displacy-arrow\">\n",
       "    <path class=\"displacy-arc\" id=\"arrow-d1a90183e4a641999ad2d0e83a2fa382-0-17\" stroke-width=\"2px\" d=\"M2520,1052.0 C2520,702.0 3160.0,702.0 3160.0,1052.0\" fill=\"none\" stroke=\"currentColor\"/>\n",
       "    <text dy=\"1.25em\" style=\"font-size: 0.8em; letter-spacing: 1px\">\n",
       "        <textPath xlink:href=\"#arrow-d1a90183e4a641999ad2d0e83a2fa382-0-17\" class=\"displacy-label\" startOffset=\"50%\" side=\"left\" fill=\"currentColor\" text-anchor=\"middle\">flat</textPath>\n",
       "    </text>\n",
       "    <path class=\"displacy-arrowhead\" d=\"M3160.0,1054.0 L3168.0,1042.0 3152.0,1042.0\" fill=\"currentColor\"/>\n",
       "</g>\n",
       "\n",
       "<g class=\"displacy-arrow\">\n",
       "    <path class=\"displacy-arc\" id=\"arrow-d1a90183e4a641999ad2d0e83a2fa382-0-18\" stroke-width=\"2px\" d=\"M2520,1052.0 C2520,614.5 3340.0,614.5 3340.0,1052.0\" fill=\"none\" stroke=\"currentColor\"/>\n",
       "    <text dy=\"1.25em\" style=\"font-size: 0.8em; letter-spacing: 1px\">\n",
       "        <textPath xlink:href=\"#arrow-d1a90183e4a641999ad2d0e83a2fa382-0-18\" class=\"displacy-label\" startOffset=\"50%\" side=\"left\" fill=\"currentColor\" text-anchor=\"middle\">flat</textPath>\n",
       "    </text>\n",
       "    <path class=\"displacy-arrowhead\" d=\"M3340.0,1054.0 L3348.0,1042.0 3332.0,1042.0\" fill=\"currentColor\"/>\n",
       "</g>\n",
       "\n",
       "<g class=\"displacy-arrow\">\n",
       "    <path class=\"displacy-arc\" id=\"arrow-d1a90183e4a641999ad2d0e83a2fa382-0-19\" stroke-width=\"2px\" d=\"M3395,1052.0 C3395,964.5 3495.0,964.5 3495.0,1052.0\" fill=\"none\" stroke=\"currentColor\"/>\n",
       "    <text dy=\"1.25em\" style=\"font-size: 0.8em; letter-spacing: 1px\">\n",
       "        <textPath xlink:href=\"#arrow-d1a90183e4a641999ad2d0e83a2fa382-0-19\" class=\"displacy-label\" startOffset=\"50%\" side=\"left\" fill=\"currentColor\" text-anchor=\"middle\">flat</textPath>\n",
       "    </text>\n",
       "    <path class=\"displacy-arrowhead\" d=\"M3495.0,1054.0 L3503.0,1042.0 3487.0,1042.0\" fill=\"currentColor\"/>\n",
       "</g>\n",
       "\n",
       "<g class=\"displacy-arrow\">\n",
       "    <path class=\"displacy-arc\" id=\"arrow-d1a90183e4a641999ad2d0e83a2fa382-0-20\" stroke-width=\"2px\" d=\"M2520,1052.0 C2520,527.0 3695.0,527.0 3695.0,1052.0\" fill=\"none\" stroke=\"currentColor\"/>\n",
       "    <text dy=\"1.25em\" style=\"font-size: 0.8em; letter-spacing: 1px\">\n",
       "        <textPath xlink:href=\"#arrow-d1a90183e4a641999ad2d0e83a2fa382-0-20\" class=\"displacy-label\" startOffset=\"50%\" side=\"left\" fill=\"currentColor\" text-anchor=\"middle\">flat</textPath>\n",
       "    </text>\n",
       "    <path class=\"displacy-arrowhead\" d=\"M3695.0,1054.0 L3703.0,1042.0 3687.0,1042.0\" fill=\"currentColor\"/>\n",
       "</g>\n",
       "\n",
       "<g class=\"displacy-arrow\">\n",
       "    <path class=\"displacy-arc\" id=\"arrow-d1a90183e4a641999ad2d0e83a2fa382-0-21\" stroke-width=\"2px\" d=\"M2520,1052.0 C2520,439.5 3875.0,439.5 3875.0,1052.0\" fill=\"none\" stroke=\"currentColor\"/>\n",
       "    <text dy=\"1.25em\" style=\"font-size: 0.8em; letter-spacing: 1px\">\n",
       "        <textPath xlink:href=\"#arrow-d1a90183e4a641999ad2d0e83a2fa382-0-21\" class=\"displacy-label\" startOffset=\"50%\" side=\"left\" fill=\"currentColor\" text-anchor=\"middle\">flat</textPath>\n",
       "    </text>\n",
       "    <path class=\"displacy-arrowhead\" d=\"M3875.0,1054.0 L3883.0,1042.0 3867.0,1042.0\" fill=\"currentColor\"/>\n",
       "</g>\n",
       "\n",
       "<g class=\"displacy-arrow\">\n",
       "    <path class=\"displacy-arc\" id=\"arrow-d1a90183e4a641999ad2d0e83a2fa382-0-22\" stroke-width=\"2px\" d=\"M2520,1052.0 C2520,352.0 4055.0,352.0 4055.0,1052.0\" fill=\"none\" stroke=\"currentColor\"/>\n",
       "    <text dy=\"1.25em\" style=\"font-size: 0.8em; letter-spacing: 1px\">\n",
       "        <textPath xlink:href=\"#arrow-d1a90183e4a641999ad2d0e83a2fa382-0-22\" class=\"displacy-label\" startOffset=\"50%\" side=\"left\" fill=\"currentColor\" text-anchor=\"middle\">flat</textPath>\n",
       "    </text>\n",
       "    <path class=\"displacy-arrowhead\" d=\"M4055.0,1054.0 L4063.0,1042.0 4047.0,1042.0\" fill=\"currentColor\"/>\n",
       "</g>\n",
       "\n",
       "<g class=\"displacy-arrow\">\n",
       "    <path class=\"displacy-arc\" id=\"arrow-d1a90183e4a641999ad2d0e83a2fa382-0-23\" stroke-width=\"2px\" d=\"M2520,1052.0 C2520,264.5 4235.0,264.5 4235.0,1052.0\" fill=\"none\" stroke=\"currentColor\"/>\n",
       "    <text dy=\"1.25em\" style=\"font-size: 0.8em; letter-spacing: 1px\">\n",
       "        <textPath xlink:href=\"#arrow-d1a90183e4a641999ad2d0e83a2fa382-0-23\" class=\"displacy-label\" startOffset=\"50%\" side=\"left\" fill=\"currentColor\" text-anchor=\"middle\">flat</textPath>\n",
       "    </text>\n",
       "    <path class=\"displacy-arrowhead\" d=\"M4235.0,1054.0 L4243.0,1042.0 4227.0,1042.0\" fill=\"currentColor\"/>\n",
       "</g>\n",
       "\n",
       "<g class=\"displacy-arrow\">\n",
       "    <path class=\"displacy-arc\" id=\"arrow-d1a90183e4a641999ad2d0e83a2fa382-0-24\" stroke-width=\"2px\" d=\"M2520,1052.0 C2520,177.0 4415.0,177.0 4415.0,1052.0\" fill=\"none\" stroke=\"currentColor\"/>\n",
       "    <text dy=\"1.25em\" style=\"font-size: 0.8em; letter-spacing: 1px\">\n",
       "        <textPath xlink:href=\"#arrow-d1a90183e4a641999ad2d0e83a2fa382-0-24\" class=\"displacy-label\" startOffset=\"50%\" side=\"left\" fill=\"currentColor\" text-anchor=\"middle\">flat</textPath>\n",
       "    </text>\n",
       "    <path class=\"displacy-arrowhead\" d=\"M4415.0,1054.0 L4423.0,1042.0 4407.0,1042.0\" fill=\"currentColor\"/>\n",
       "</g>\n",
       "\n",
       "<g class=\"displacy-arrow\">\n",
       "    <path class=\"displacy-arc\" id=\"arrow-d1a90183e4a641999ad2d0e83a2fa382-0-25\" stroke-width=\"2px\" d=\"M245,1052.0 C245,2.0 4600.0,2.0 4600.0,1052.0\" fill=\"none\" stroke=\"currentColor\"/>\n",
       "    <text dy=\"1.25em\" style=\"font-size: 0.8em; letter-spacing: 1px\">\n",
       "        <textPath xlink:href=\"#arrow-d1a90183e4a641999ad2d0e83a2fa382-0-25\" class=\"displacy-label\" startOffset=\"50%\" side=\"left\" fill=\"currentColor\" text-anchor=\"middle\">dep</textPath>\n",
       "    </text>\n",
       "    <path class=\"displacy-arrowhead\" d=\"M4600.0,1054.0 L4608.0,1042.0 4592.0,1042.0\" fill=\"currentColor\"/>\n",
       "</g>\n",
       "\n",
       "<g class=\"displacy-arrow\">\n",
       "    <path class=\"displacy-arc\" id=\"arrow-d1a90183e4a641999ad2d0e83a2fa382-0-26\" stroke-width=\"2px\" d=\"M4620,1052.0 C4620,964.5 4720.0,964.5 4720.0,1052.0\" fill=\"none\" stroke=\"currentColor\"/>\n",
       "    <text dy=\"1.25em\" style=\"font-size: 0.8em; letter-spacing: 1px\">\n",
       "        <textPath xlink:href=\"#arrow-d1a90183e4a641999ad2d0e83a2fa382-0-26\" class=\"displacy-label\" startOffset=\"50%\" side=\"left\" fill=\"currentColor\" text-anchor=\"middle\">obj</textPath>\n",
       "    </text>\n",
       "    <path class=\"displacy-arrowhead\" d=\"M4720.0,1054.0 L4728.0,1042.0 4712.0,1042.0\" fill=\"currentColor\"/>\n",
       "</g>\n",
       "</svg></span>"
      ],
      "text/plain": [
       "<IPython.core.display.HTML object>"
      ]
     },
     "metadata": {},
     "output_type": "display_data"
    }
   ],
   "source": [
    "sentence_doc = nlp(example_eng_sent)\n",
    "displacy.render(sentence_doc, style='dep')"
   ]
  },
  {
   "cell_type": "markdown",
   "id": "0e89c89d",
   "metadata": {},
   "source": [
    "### Stop Word Tagging"
   ]
  },
  {
   "cell_type": "code",
   "execution_count": 57,
   "id": "356b1c2e",
   "metadata": {},
   "outputs": [
    {
     "name": "stdout",
     "output_type": "stream",
     "text": [
      "English document STOP tagged in: 0.09779000282287598 seconds.\n"
     ]
    }
   ],
   "source": [
    "start = time()\n",
    "eng_stop = [token for token in eng_doc if token.is_stop is False]\n",
    "print(\"English document STOP tagged in:\", (time()-start), \"seconds.\")"
   ]
  },
  {
   "cell_type": "markdown",
   "id": "06810de9",
   "metadata": {},
   "source": [
    "### Entity Tagging"
   ]
  },
  {
   "cell_type": "code",
   "execution_count": 58,
   "id": "9360167b",
   "metadata": {},
   "outputs": [
    {
     "name": "stdout",
     "output_type": "stream",
     "text": [
      "English document entity tagged in: 0.06624889373779297 seconds.\n"
     ]
    }
   ],
   "source": [
    "start = time()\n",
    "eng_ent = []\n",
    "eng_label = []\n",
    "for ent in eng_doc.ents:\n",
    "    eng_ent.append(ent.text)\n",
    "    eng_label.append(ent.label_)\n",
    "print(\"English document entity tagged in:\", (time()-start), \"seconds.\")"
   ]
  },
  {
   "cell_type": "code",
   "execution_count": 59,
   "id": "28e6aea8",
   "metadata": {},
   "outputs": [
    {
     "name": "stdout",
     "output_type": "stream",
     "text": [
      "{'ORG', 'LAW', 'WORK_OF_ART', 'FAC', 'LOC', 'LANGUAGE', 'ORDINAL', 'PERCENT', 'CARDINAL', 'NORP', 'DATE', 'PRODUCT', 'TIME', 'EVENT', 'MONEY', 'QUANTITY', 'PERSON', 'GPE'}\n"
     ]
    }
   ],
   "source": [
    "print(set(eng_label))"
   ]
  },
  {
   "cell_type": "code",
   "execution_count": 60,
   "id": "926a8d5c",
   "metadata": {},
   "outputs": [],
   "source": [
    "eng_ents = np.column_stack((eng_ent, eng_label))"
   ]
  },
  {
   "cell_type": "code",
   "execution_count": 61,
   "id": "b2580185",
   "metadata": {},
   "outputs": [
    {
     "name": "stdout",
     "output_type": "stream",
     "text": [
      "[['918' 'CARDINAL']\n",
      " ['1994' 'DATE']\n",
      " ['the Security Council' 'ORG']\n",
      " ['3377th' 'ORDINAL']\n",
      " ['17 May 1994' 'DATE']\n",
      " ['The Security Council' 'ORG']\n",
      " ['Rwanda' 'GPE']\n",
      " ['resolution 872' 'LAW']\n",
      " ['1993' 'DATE']\n",
      " ['5 October 1993' 'DATE']] \n",
      "\n",
      "Length of English Entities: 12124\n"
     ]
    }
   ],
   "source": [
    "print(eng_ents[:10], '\\n\\nLength of English Entities:', len(eng_ents))"
   ]
  },
  {
   "cell_type": "markdown",
   "id": "04d2031f",
   "metadata": {},
   "source": [
    "## Spanish"
   ]
  },
  {
   "cell_type": "markdown",
   "id": "ce7e04b1",
   "metadata": {},
   "source": [
    "### Reading in Spanish File"
   ]
  },
  {
   "cell_type": "code",
   "execution_count": 62,
   "id": "761b7c18",
   "metadata": {},
   "outputs": [
    {
     "name": "stdout",
     "output_type": "stream",
     "text": [
      "Data loaded in: 0.22364211082458496 seconds.\n"
     ]
    }
   ],
   "source": [
    "# Loading in Spanish Files\n",
    "start = time()\n",
    "\n",
    "f = open('data/sixway/spanish.100k', 'r') # Reading in Spanish File\n",
    "spanish100 = f.read()\n",
    "print(\"Data loaded in:\", (time()-start), \"seconds.\")\n",
    "f.close()"
   ]
  },
  {
   "cell_type": "code",
   "execution_count": 63,
   "id": "c41a0bcd",
   "metadata": {},
   "outputs": [],
   "source": [
    "# Creating Smaller Slice to Analyze using SpaCy\n",
    "spanish_samp = spanish100[:1000000]"
   ]
  },
  {
   "cell_type": "markdown",
   "id": "1020e2de",
   "metadata": {},
   "source": [
    "### Downloading SpaCy object for Spanish processing"
   ]
  },
  {
   "cell_type": "code",
   "execution_count": 24,
   "id": "a8234dff",
   "metadata": {},
   "outputs": [
    {
     "name": "stdout",
     "output_type": "stream",
     "text": [
      "Spanish document processed in: 110.16744899749756 seconds.\n"
     ]
    }
   ],
   "source": [
    "start = time()\n",
    "\n",
    "nlp = spacy.load('es_core_news_sm')\n",
    "es_doc = nlp(spanish_samp)\n",
    "\n",
    "print(\"Spanish document processed in:\", (time()-start), \"seconds.\")"
   ]
  },
  {
   "cell_type": "markdown",
   "id": "8da73d8d",
   "metadata": {},
   "source": [
    "### Word Tokenizing Spanish Document"
   ]
  },
  {
   "cell_type": "code",
   "execution_count": 25,
   "id": "c7ed1f5d",
   "metadata": {},
   "outputs": [
    {
     "name": "stdout",
     "output_type": "stream",
     "text": [
      "Spanish document tokenized in: 0.4779846668243408 seconds.\n"
     ]
    }
   ],
   "source": [
    "start = time()\n",
    "es_tokens = [token for token in es_doc]\n",
    "print(\"Spanish document tokenized in:\", (time()-start), \"seconds.\")"
   ]
  },
  {
   "cell_type": "code",
   "execution_count": 26,
   "id": "47199daa",
   "metadata": {},
   "outputs": [
    {
     "name": "stdout",
     "output_type": "stream",
     "text": [
      "Spanish Word Tokens Count: 176209 \n",
      " \n",
      " [RESOLUCIÓN, 918, (, 1994, ), \n",
      ", Aprobada, por, el, Consejo, de, Seguridad, en, su, 3377ª, sesión, ,, celebrada, el, 17]\n"
     ]
    }
   ],
   "source": [
    "print('Spanish Word Tokens Count:', len(es_tokens), '\\n \\n', es_tokens[:20])"
   ]
  },
  {
   "cell_type": "markdown",
   "id": "c8127ead",
   "metadata": {},
   "source": [
    "### Sentence Tokenizing Spanish Document"
   ]
  },
  {
   "cell_type": "code",
   "execution_count": 27,
   "id": "0beffc96",
   "metadata": {},
   "outputs": [
    {
     "name": "stdout",
     "output_type": "stream",
     "text": [
      "Spanish document sentence tokenized in: 0.21952581405639648 seconds.\n"
     ]
    }
   ],
   "source": [
    "start = time()\n",
    "es_sent = [sent.text for sent in es_doc.sents]\n",
    "print(\"Spanish document sentence tokenized in:\", (time()-start), \"seconds.\")"
   ]
  },
  {
   "cell_type": "code",
   "execution_count": 28,
   "id": "e32de18b",
   "metadata": {},
   "outputs": [
    {
     "data": {
      "text/plain": [
       "4861"
      ]
     },
     "execution_count": 28,
     "metadata": {},
     "output_type": "execute_result"
    }
   ],
   "source": [
    "len(es_sent)"
   ]
  },
  {
   "cell_type": "code",
   "execution_count": 64,
   "id": "9caab645",
   "metadata": {},
   "outputs": [
    {
     "name": "stdout",
     "output_type": "stream",
     "text": [
      "Exige que todas las partes en el conflicto pongan fin inmediatamente a las hostilidades, convengan en una cesación del fuego y pongan término a la violencia y la carnicería insensatas en que está sumida Rwanda;\n",
      "2.\n"
     ]
    }
   ],
   "source": [
    "example_es_sent = es_sent[1]\n",
    "print(example_es_sent)"
   ]
  },
  {
   "cell_type": "markdown",
   "id": "39943fd3",
   "metadata": {},
   "source": [
    "#### Comparing SpaCy English Tokenizer with Spanish Tokenizer"
   ]
  },
  {
   "cell_type": "code",
   "execution_count": 71,
   "id": "42aa8740",
   "metadata": {},
   "outputs": [
    {
     "name": "stdout",
     "output_type": "stream",
     "text": [
      "Demands that all parties to the conflict immediately cease hostilities, agree to a cease-fire, and bring an end to the mindless violence and carnage engulfing Rwanda;\n",
      "2. \n",
      "\n",
      " Exige que todas las partes en el conflicto pongan fin inmediatamente a las hostilidades, convengan en una cesación del fuego y pongan término a la violencia y la carnicería insensatas en que está sumida Rwanda;\n",
      "2.\n"
     ]
    }
   ],
   "source": [
    "print(eng_sent[1],'\\n\\n',es_sent[1])"
   ]
  },
  {
   "cell_type": "markdown",
   "id": "94e76a6d",
   "metadata": {},
   "source": [
    "### POS Tagging Spanish Document"
   ]
  },
  {
   "cell_type": "code",
   "execution_count": 30,
   "id": "3ea28aad",
   "metadata": {},
   "outputs": [
    {
     "name": "stdout",
     "output_type": "stream",
     "text": [
      "Spanish document POS tagged in: 0.07349586486816406 seconds.\n"
     ]
    }
   ],
   "source": [
    "start = time()\n",
    "es_pos = [token.pos_ for token in es_doc] \n",
    "print(\"Spanish document POS tagged in:\", (time()-start), \"seconds.\")"
   ]
  },
  {
   "cell_type": "code",
   "execution_count": 72,
   "id": "1c635d41",
   "metadata": {},
   "outputs": [
    {
     "name": "stdout",
     "output_type": "stream",
     "text": [
      "\n",
      "List of POS tags: {'INTJ', 'NOUN', 'NUM', 'DET', 'PRON', 'PART', 'ADP', 'VERB', 'PROPN', 'SPACE', 'ADJ', 'CCONJ', 'AUX', 'ADV', 'SYM', 'SCONJ', 'PUNCT'} \n",
      "\n",
      "POS count: 17\n"
     ]
    }
   ],
   "source": [
    "print('\\nList of POS tags:', set(es_pos), '\\n\\nPOS count:', len(set(es_pos)))"
   ]
  },
  {
   "cell_type": "code",
   "execution_count": 73,
   "id": "96180c26",
   "metadata": {},
   "outputs": [
    {
     "name": "stdout",
     "output_type": "stream",
     "text": [
      "{'INTJ', 'NOUN', 'NUM', 'DET', 'PRON', 'PART', 'ADP', 'VERB', 'PROPN', 'SPACE', 'ADJ', 'CCONJ', 'AUX', 'ADV', 'SYM', 'SCONJ', 'PUNCT'}\n"
     ]
    }
   ],
   "source": [
    "print(set(es_pos))"
   ]
  },
  {
   "cell_type": "markdown",
   "id": "4a0f3e91",
   "metadata": {},
   "source": [
    "### Dependency Tagging Spanish File"
   ]
  },
  {
   "cell_type": "code",
   "execution_count": 74,
   "id": "bbb80125",
   "metadata": {},
   "outputs": [
    {
     "name": "stdout",
     "output_type": "stream",
     "text": [
      "Spanish document DEP tagged in: 0.09531593322753906 seconds.\n"
     ]
    }
   ],
   "source": [
    "start = time()\n",
    "es_dep = [token.dep_ for token in es_doc] \n",
    "print(\"Spanish document DEP tagged in:\", (time()-start), \"seconds.\")"
   ]
  },
  {
   "cell_type": "code",
   "execution_count": 76,
   "id": "7596ed6f",
   "metadata": {},
   "outputs": [
    {
     "data": {
      "text/plain": [
       "['nsubj', 'nummod', 'punct', 'appos', 'punct']"
      ]
     },
     "execution_count": 76,
     "metadata": {},
     "output_type": "execute_result"
    }
   ],
   "source": [
    "es_dep[:5]"
   ]
  },
  {
   "cell_type": "code",
   "execution_count": 77,
   "id": "98b2d2fd",
   "metadata": {},
   "outputs": [
    {
     "data": {
      "text/plain": [
       "31"
      ]
     },
     "execution_count": 77,
     "metadata": {},
     "output_type": "execute_result"
    }
   ],
   "source": [
    "len(set(es_dep))"
   ]
  },
  {
   "cell_type": "code",
   "execution_count": 79,
   "id": "13b4dc2e",
   "metadata": {},
   "outputs": [
    {
     "name": "stdout",
     "output_type": "stream",
     "text": [
      "{'npadvmod', 'attr', 'pcomp', 'quantmod', 'csubjpass', 'agent', 'dobj', 'acomp', 'expl', 'nsubjpass', 'preconj', 'intj', 'prep', 'neg', 'auxpass', 'predet', 'pobj', 'relcl', 'dative', 'poss', 'oprd', 'prt', 'meta'}\n"
     ]
    }
   ],
   "source": [
    "print(set(eng_dep)-set(es_dep))"
   ]
  },
  {
   "cell_type": "code",
   "execution_count": 80,
   "id": "bb87671c",
   "metadata": {},
   "outputs": [
    {
     "data": {
      "text/html": [
       "<span class=\"tex2jax_ignore\"><svg xmlns=\"http://www.w3.org/2000/svg\" xmlns:xlink=\"http://www.w3.org/1999/xlink\" xml:lang=\"es\" id=\"f8ca822ede364d438a87cf619e1fcd94-0\" class=\"displacy\" width=\"6525\" height=\"1012.0\" direction=\"ltr\" style=\"max-width: none; height: 1012.0px; color: #000000; background: #ffffff; font-family: Arial; direction: ltr\">\n",
       "<text class=\"displacy-token\" fill=\"currentColor\" text-anchor=\"middle\" y=\"922.0\">\n",
       "    <tspan class=\"displacy-word\" fill=\"currentColor\" x=\"50\">Exige</tspan>\n",
       "    <tspan class=\"displacy-tag\" dy=\"2em\" fill=\"currentColor\" x=\"50\">VERB</tspan>\n",
       "</text>\n",
       "\n",
       "<text class=\"displacy-token\" fill=\"currentColor\" text-anchor=\"middle\" y=\"922.0\">\n",
       "    <tspan class=\"displacy-word\" fill=\"currentColor\" x=\"225\">que</tspan>\n",
       "    <tspan class=\"displacy-tag\" dy=\"2em\" fill=\"currentColor\" x=\"225\">SCONJ</tspan>\n",
       "</text>\n",
       "\n",
       "<text class=\"displacy-token\" fill=\"currentColor\" text-anchor=\"middle\" y=\"922.0\">\n",
       "    <tspan class=\"displacy-word\" fill=\"currentColor\" x=\"400\">todas</tspan>\n",
       "    <tspan class=\"displacy-tag\" dy=\"2em\" fill=\"currentColor\" x=\"400\">DET</tspan>\n",
       "</text>\n",
       "\n",
       "<text class=\"displacy-token\" fill=\"currentColor\" text-anchor=\"middle\" y=\"922.0\">\n",
       "    <tspan class=\"displacy-word\" fill=\"currentColor\" x=\"575\">las</tspan>\n",
       "    <tspan class=\"displacy-tag\" dy=\"2em\" fill=\"currentColor\" x=\"575\">DET</tspan>\n",
       "</text>\n",
       "\n",
       "<text class=\"displacy-token\" fill=\"currentColor\" text-anchor=\"middle\" y=\"922.0\">\n",
       "    <tspan class=\"displacy-word\" fill=\"currentColor\" x=\"750\">partes</tspan>\n",
       "    <tspan class=\"displacy-tag\" dy=\"2em\" fill=\"currentColor\" x=\"750\">NOUN</tspan>\n",
       "</text>\n",
       "\n",
       "<text class=\"displacy-token\" fill=\"currentColor\" text-anchor=\"middle\" y=\"922.0\">\n",
       "    <tspan class=\"displacy-word\" fill=\"currentColor\" x=\"925\">en</tspan>\n",
       "    <tspan class=\"displacy-tag\" dy=\"2em\" fill=\"currentColor\" x=\"925\">ADP</tspan>\n",
       "</text>\n",
       "\n",
       "<text class=\"displacy-token\" fill=\"currentColor\" text-anchor=\"middle\" y=\"922.0\">\n",
       "    <tspan class=\"displacy-word\" fill=\"currentColor\" x=\"1100\">el</tspan>\n",
       "    <tspan class=\"displacy-tag\" dy=\"2em\" fill=\"currentColor\" x=\"1100\">DET</tspan>\n",
       "</text>\n",
       "\n",
       "<text class=\"displacy-token\" fill=\"currentColor\" text-anchor=\"middle\" y=\"922.0\">\n",
       "    <tspan class=\"displacy-word\" fill=\"currentColor\" x=\"1275\">conflicto</tspan>\n",
       "    <tspan class=\"displacy-tag\" dy=\"2em\" fill=\"currentColor\" x=\"1275\">NOUN</tspan>\n",
       "</text>\n",
       "\n",
       "<text class=\"displacy-token\" fill=\"currentColor\" text-anchor=\"middle\" y=\"922.0\">\n",
       "    <tspan class=\"displacy-word\" fill=\"currentColor\" x=\"1450\">pongan</tspan>\n",
       "    <tspan class=\"displacy-tag\" dy=\"2em\" fill=\"currentColor\" x=\"1450\">VERB</tspan>\n",
       "</text>\n",
       "\n",
       "<text class=\"displacy-token\" fill=\"currentColor\" text-anchor=\"middle\" y=\"922.0\">\n",
       "    <tspan class=\"displacy-word\" fill=\"currentColor\" x=\"1625\">fin</tspan>\n",
       "    <tspan class=\"displacy-tag\" dy=\"2em\" fill=\"currentColor\" x=\"1625\">NOUN</tspan>\n",
       "</text>\n",
       "\n",
       "<text class=\"displacy-token\" fill=\"currentColor\" text-anchor=\"middle\" y=\"922.0\">\n",
       "    <tspan class=\"displacy-word\" fill=\"currentColor\" x=\"1800\">inmediatamente</tspan>\n",
       "    <tspan class=\"displacy-tag\" dy=\"2em\" fill=\"currentColor\" x=\"1800\">ADV</tspan>\n",
       "</text>\n",
       "\n",
       "<text class=\"displacy-token\" fill=\"currentColor\" text-anchor=\"middle\" y=\"922.0\">\n",
       "    <tspan class=\"displacy-word\" fill=\"currentColor\" x=\"1975\">a</tspan>\n",
       "    <tspan class=\"displacy-tag\" dy=\"2em\" fill=\"currentColor\" x=\"1975\">ADP</tspan>\n",
       "</text>\n",
       "\n",
       "<text class=\"displacy-token\" fill=\"currentColor\" text-anchor=\"middle\" y=\"922.0\">\n",
       "    <tspan class=\"displacy-word\" fill=\"currentColor\" x=\"2150\">las</tspan>\n",
       "    <tspan class=\"displacy-tag\" dy=\"2em\" fill=\"currentColor\" x=\"2150\">DET</tspan>\n",
       "</text>\n",
       "\n",
       "<text class=\"displacy-token\" fill=\"currentColor\" text-anchor=\"middle\" y=\"922.0\">\n",
       "    <tspan class=\"displacy-word\" fill=\"currentColor\" x=\"2325\">hostilidades,</tspan>\n",
       "    <tspan class=\"displacy-tag\" dy=\"2em\" fill=\"currentColor\" x=\"2325\">NOUN</tspan>\n",
       "</text>\n",
       "\n",
       "<text class=\"displacy-token\" fill=\"currentColor\" text-anchor=\"middle\" y=\"922.0\">\n",
       "    <tspan class=\"displacy-word\" fill=\"currentColor\" x=\"2500\">convengan</tspan>\n",
       "    <tspan class=\"displacy-tag\" dy=\"2em\" fill=\"currentColor\" x=\"2500\">VERB</tspan>\n",
       "</text>\n",
       "\n",
       "<text class=\"displacy-token\" fill=\"currentColor\" text-anchor=\"middle\" y=\"922.0\">\n",
       "    <tspan class=\"displacy-word\" fill=\"currentColor\" x=\"2675\">en</tspan>\n",
       "    <tspan class=\"displacy-tag\" dy=\"2em\" fill=\"currentColor\" x=\"2675\">ADP</tspan>\n",
       "</text>\n",
       "\n",
       "<text class=\"displacy-token\" fill=\"currentColor\" text-anchor=\"middle\" y=\"922.0\">\n",
       "    <tspan class=\"displacy-word\" fill=\"currentColor\" x=\"2850\">una</tspan>\n",
       "    <tspan class=\"displacy-tag\" dy=\"2em\" fill=\"currentColor\" x=\"2850\">DET</tspan>\n",
       "</text>\n",
       "\n",
       "<text class=\"displacy-token\" fill=\"currentColor\" text-anchor=\"middle\" y=\"922.0\">\n",
       "    <tspan class=\"displacy-word\" fill=\"currentColor\" x=\"3025\">cesación</tspan>\n",
       "    <tspan class=\"displacy-tag\" dy=\"2em\" fill=\"currentColor\" x=\"3025\">NOUN</tspan>\n",
       "</text>\n",
       "\n",
       "<text class=\"displacy-token\" fill=\"currentColor\" text-anchor=\"middle\" y=\"922.0\">\n",
       "    <tspan class=\"displacy-word\" fill=\"currentColor\" x=\"3200\">del</tspan>\n",
       "    <tspan class=\"displacy-tag\" dy=\"2em\" fill=\"currentColor\" x=\"3200\">ADP</tspan>\n",
       "</text>\n",
       "\n",
       "<text class=\"displacy-token\" fill=\"currentColor\" text-anchor=\"middle\" y=\"922.0\">\n",
       "    <tspan class=\"displacy-word\" fill=\"currentColor\" x=\"3375\">fuego</tspan>\n",
       "    <tspan class=\"displacy-tag\" dy=\"2em\" fill=\"currentColor\" x=\"3375\">NOUN</tspan>\n",
       "</text>\n",
       "\n",
       "<text class=\"displacy-token\" fill=\"currentColor\" text-anchor=\"middle\" y=\"922.0\">\n",
       "    <tspan class=\"displacy-word\" fill=\"currentColor\" x=\"3550\">y</tspan>\n",
       "    <tspan class=\"displacy-tag\" dy=\"2em\" fill=\"currentColor\" x=\"3550\">CCONJ</tspan>\n",
       "</text>\n",
       "\n",
       "<text class=\"displacy-token\" fill=\"currentColor\" text-anchor=\"middle\" y=\"922.0\">\n",
       "    <tspan class=\"displacy-word\" fill=\"currentColor\" x=\"3725\">pongan</tspan>\n",
       "    <tspan class=\"displacy-tag\" dy=\"2em\" fill=\"currentColor\" x=\"3725\">VERB</tspan>\n",
       "</text>\n",
       "\n",
       "<text class=\"displacy-token\" fill=\"currentColor\" text-anchor=\"middle\" y=\"922.0\">\n",
       "    <tspan class=\"displacy-word\" fill=\"currentColor\" x=\"3900\">término</tspan>\n",
       "    <tspan class=\"displacy-tag\" dy=\"2em\" fill=\"currentColor\" x=\"3900\">NOUN</tspan>\n",
       "</text>\n",
       "\n",
       "<text class=\"displacy-token\" fill=\"currentColor\" text-anchor=\"middle\" y=\"922.0\">\n",
       "    <tspan class=\"displacy-word\" fill=\"currentColor\" x=\"4075\">a</tspan>\n",
       "    <tspan class=\"displacy-tag\" dy=\"2em\" fill=\"currentColor\" x=\"4075\">ADP</tspan>\n",
       "</text>\n",
       "\n",
       "<text class=\"displacy-token\" fill=\"currentColor\" text-anchor=\"middle\" y=\"922.0\">\n",
       "    <tspan class=\"displacy-word\" fill=\"currentColor\" x=\"4250\">la</tspan>\n",
       "    <tspan class=\"displacy-tag\" dy=\"2em\" fill=\"currentColor\" x=\"4250\">DET</tspan>\n",
       "</text>\n",
       "\n",
       "<text class=\"displacy-token\" fill=\"currentColor\" text-anchor=\"middle\" y=\"922.0\">\n",
       "    <tspan class=\"displacy-word\" fill=\"currentColor\" x=\"4425\">violencia</tspan>\n",
       "    <tspan class=\"displacy-tag\" dy=\"2em\" fill=\"currentColor\" x=\"4425\">NOUN</tspan>\n",
       "</text>\n",
       "\n",
       "<text class=\"displacy-token\" fill=\"currentColor\" text-anchor=\"middle\" y=\"922.0\">\n",
       "    <tspan class=\"displacy-word\" fill=\"currentColor\" x=\"4600\">y</tspan>\n",
       "    <tspan class=\"displacy-tag\" dy=\"2em\" fill=\"currentColor\" x=\"4600\">CCONJ</tspan>\n",
       "</text>\n",
       "\n",
       "<text class=\"displacy-token\" fill=\"currentColor\" text-anchor=\"middle\" y=\"922.0\">\n",
       "    <tspan class=\"displacy-word\" fill=\"currentColor\" x=\"4775\">la</tspan>\n",
       "    <tspan class=\"displacy-tag\" dy=\"2em\" fill=\"currentColor\" x=\"4775\">DET</tspan>\n",
       "</text>\n",
       "\n",
       "<text class=\"displacy-token\" fill=\"currentColor\" text-anchor=\"middle\" y=\"922.0\">\n",
       "    <tspan class=\"displacy-word\" fill=\"currentColor\" x=\"4950\">carnicería</tspan>\n",
       "    <tspan class=\"displacy-tag\" dy=\"2em\" fill=\"currentColor\" x=\"4950\">NOUN</tspan>\n",
       "</text>\n",
       "\n",
       "<text class=\"displacy-token\" fill=\"currentColor\" text-anchor=\"middle\" y=\"922.0\">\n",
       "    <tspan class=\"displacy-word\" fill=\"currentColor\" x=\"5125\">insensatas</tspan>\n",
       "    <tspan class=\"displacy-tag\" dy=\"2em\" fill=\"currentColor\" x=\"5125\">ADJ</tspan>\n",
       "</text>\n",
       "\n",
       "<text class=\"displacy-token\" fill=\"currentColor\" text-anchor=\"middle\" y=\"922.0\">\n",
       "    <tspan class=\"displacy-word\" fill=\"currentColor\" x=\"5300\">en</tspan>\n",
       "    <tspan class=\"displacy-tag\" dy=\"2em\" fill=\"currentColor\" x=\"5300\">ADP</tspan>\n",
       "</text>\n",
       "\n",
       "<text class=\"displacy-token\" fill=\"currentColor\" text-anchor=\"middle\" y=\"922.0\">\n",
       "    <tspan class=\"displacy-word\" fill=\"currentColor\" x=\"5475\">que</tspan>\n",
       "    <tspan class=\"displacy-tag\" dy=\"2em\" fill=\"currentColor\" x=\"5475\">PRON</tspan>\n",
       "</text>\n",
       "\n",
       "<text class=\"displacy-token\" fill=\"currentColor\" text-anchor=\"middle\" y=\"922.0\">\n",
       "    <tspan class=\"displacy-word\" fill=\"currentColor\" x=\"5650\">está</tspan>\n",
       "    <tspan class=\"displacy-tag\" dy=\"2em\" fill=\"currentColor\" x=\"5650\">AUX</tspan>\n",
       "</text>\n",
       "\n",
       "<text class=\"displacy-token\" fill=\"currentColor\" text-anchor=\"middle\" y=\"922.0\">\n",
       "    <tspan class=\"displacy-word\" fill=\"currentColor\" x=\"5825\">sumida</tspan>\n",
       "    <tspan class=\"displacy-tag\" dy=\"2em\" fill=\"currentColor\" x=\"5825\">ADJ</tspan>\n",
       "</text>\n",
       "\n",
       "<text class=\"displacy-token\" fill=\"currentColor\" text-anchor=\"middle\" y=\"922.0\">\n",
       "    <tspan class=\"displacy-word\" fill=\"currentColor\" x=\"6000\">Rwanda;</tspan>\n",
       "    <tspan class=\"displacy-tag\" dy=\"2em\" fill=\"currentColor\" x=\"6000\">PROPN</tspan>\n",
       "</text>\n",
       "\n",
       "<text class=\"displacy-token\" fill=\"currentColor\" text-anchor=\"middle\" y=\"922.0\">\n",
       "    <tspan class=\"displacy-word\" fill=\"currentColor\" x=\"6175\">\n",
       "</tspan>\n",
       "    <tspan class=\"displacy-tag\" dy=\"2em\" fill=\"currentColor\" x=\"6175\">SPACE</tspan>\n",
       "</text>\n",
       "\n",
       "<text class=\"displacy-token\" fill=\"currentColor\" text-anchor=\"middle\" y=\"922.0\">\n",
       "    <tspan class=\"displacy-word\" fill=\"currentColor\" x=\"6350\">2.</tspan>\n",
       "    <tspan class=\"displacy-tag\" dy=\"2em\" fill=\"currentColor\" x=\"6350\">NUM</tspan>\n",
       "</text>\n",
       "\n",
       "<g class=\"displacy-arrow\">\n",
       "    <path class=\"displacy-arc\" id=\"arrow-f8ca822ede364d438a87cf619e1fcd94-0-0\" stroke-width=\"2px\" d=\"M245,877.0 C245,264.5 1435.0,264.5 1435.0,877.0\" fill=\"none\" stroke=\"currentColor\"/>\n",
       "    <text dy=\"1.25em\" style=\"font-size: 0.8em; letter-spacing: 1px\">\n",
       "        <textPath xlink:href=\"#arrow-f8ca822ede364d438a87cf619e1fcd94-0-0\" class=\"displacy-label\" startOffset=\"50%\" side=\"left\" fill=\"currentColor\" text-anchor=\"middle\">mark</textPath>\n",
       "    </text>\n",
       "    <path class=\"displacy-arrowhead\" d=\"M245,879.0 L237,867.0 253,867.0\" fill=\"currentColor\"/>\n",
       "</g>\n",
       "\n",
       "<g class=\"displacy-arrow\">\n",
       "    <path class=\"displacy-arc\" id=\"arrow-f8ca822ede364d438a87cf619e1fcd94-0-1\" stroke-width=\"2px\" d=\"M420,877.0 C420,789.5 530.0,789.5 530.0,877.0\" fill=\"none\" stroke=\"currentColor\"/>\n",
       "    <text dy=\"1.25em\" style=\"font-size: 0.8em; letter-spacing: 1px\">\n",
       "        <textPath xlink:href=\"#arrow-f8ca822ede364d438a87cf619e1fcd94-0-1\" class=\"displacy-label\" startOffset=\"50%\" side=\"left\" fill=\"currentColor\" text-anchor=\"middle\">det</textPath>\n",
       "    </text>\n",
       "    <path class=\"displacy-arrowhead\" d=\"M420,879.0 L412,867.0 428,867.0\" fill=\"currentColor\"/>\n",
       "</g>\n",
       "\n",
       "<g class=\"displacy-arrow\">\n",
       "    <path class=\"displacy-arc\" id=\"arrow-f8ca822ede364d438a87cf619e1fcd94-0-2\" stroke-width=\"2px\" d=\"M595,877.0 C595,789.5 705.0,789.5 705.0,877.0\" fill=\"none\" stroke=\"currentColor\"/>\n",
       "    <text dy=\"1.25em\" style=\"font-size: 0.8em; letter-spacing: 1px\">\n",
       "        <textPath xlink:href=\"#arrow-f8ca822ede364d438a87cf619e1fcd94-0-2\" class=\"displacy-label\" startOffset=\"50%\" side=\"left\" fill=\"currentColor\" text-anchor=\"middle\">det</textPath>\n",
       "    </text>\n",
       "    <path class=\"displacy-arrowhead\" d=\"M595,879.0 L587,867.0 603,867.0\" fill=\"currentColor\"/>\n",
       "</g>\n",
       "\n",
       "<g class=\"displacy-arrow\">\n",
       "    <path class=\"displacy-arc\" id=\"arrow-f8ca822ede364d438a87cf619e1fcd94-0-3\" stroke-width=\"2px\" d=\"M770,877.0 C770,527.0 1420.0,527.0 1420.0,877.0\" fill=\"none\" stroke=\"currentColor\"/>\n",
       "    <text dy=\"1.25em\" style=\"font-size: 0.8em; letter-spacing: 1px\">\n",
       "        <textPath xlink:href=\"#arrow-f8ca822ede364d438a87cf619e1fcd94-0-3\" class=\"displacy-label\" startOffset=\"50%\" side=\"left\" fill=\"currentColor\" text-anchor=\"middle\">nsubj</textPath>\n",
       "    </text>\n",
       "    <path class=\"displacy-arrowhead\" d=\"M770,879.0 L762,867.0 778,867.0\" fill=\"currentColor\"/>\n",
       "</g>\n",
       "\n",
       "<g class=\"displacy-arrow\">\n",
       "    <path class=\"displacy-arc\" id=\"arrow-f8ca822ede364d438a87cf619e1fcd94-0-4\" stroke-width=\"2px\" d=\"M945,877.0 C945,702.0 1235.0,702.0 1235.0,877.0\" fill=\"none\" stroke=\"currentColor\"/>\n",
       "    <text dy=\"1.25em\" style=\"font-size: 0.8em; letter-spacing: 1px\">\n",
       "        <textPath xlink:href=\"#arrow-f8ca822ede364d438a87cf619e1fcd94-0-4\" class=\"displacy-label\" startOffset=\"50%\" side=\"left\" fill=\"currentColor\" text-anchor=\"middle\">case</textPath>\n",
       "    </text>\n",
       "    <path class=\"displacy-arrowhead\" d=\"M945,879.0 L937,867.0 953,867.0\" fill=\"currentColor\"/>\n",
       "</g>\n",
       "\n",
       "<g class=\"displacy-arrow\">\n",
       "    <path class=\"displacy-arc\" id=\"arrow-f8ca822ede364d438a87cf619e1fcd94-0-5\" stroke-width=\"2px\" d=\"M1120,877.0 C1120,789.5 1230.0,789.5 1230.0,877.0\" fill=\"none\" stroke=\"currentColor\"/>\n",
       "    <text dy=\"1.25em\" style=\"font-size: 0.8em; letter-spacing: 1px\">\n",
       "        <textPath xlink:href=\"#arrow-f8ca822ede364d438a87cf619e1fcd94-0-5\" class=\"displacy-label\" startOffset=\"50%\" side=\"left\" fill=\"currentColor\" text-anchor=\"middle\">det</textPath>\n",
       "    </text>\n",
       "    <path class=\"displacy-arrowhead\" d=\"M1120,879.0 L1112,867.0 1128,867.0\" fill=\"currentColor\"/>\n",
       "</g>\n",
       "\n",
       "<g class=\"displacy-arrow\">\n",
       "    <path class=\"displacy-arc\" id=\"arrow-f8ca822ede364d438a87cf619e1fcd94-0-6\" stroke-width=\"2px\" d=\"M770,877.0 C770,614.5 1240.0,614.5 1240.0,877.0\" fill=\"none\" stroke=\"currentColor\"/>\n",
       "    <text dy=\"1.25em\" style=\"font-size: 0.8em; letter-spacing: 1px\">\n",
       "        <textPath xlink:href=\"#arrow-f8ca822ede364d438a87cf619e1fcd94-0-6\" class=\"displacy-label\" startOffset=\"50%\" side=\"left\" fill=\"currentColor\" text-anchor=\"middle\">nmod</textPath>\n",
       "    </text>\n",
       "    <path class=\"displacy-arrowhead\" d=\"M1240.0,879.0 L1248.0,867.0 1232.0,867.0\" fill=\"currentColor\"/>\n",
       "</g>\n",
       "\n",
       "<g class=\"displacy-arrow\">\n",
       "    <path class=\"displacy-arc\" id=\"arrow-f8ca822ede364d438a87cf619e1fcd94-0-7\" stroke-width=\"2px\" d=\"M70,877.0 C70,177.0 1440.0,177.0 1440.0,877.0\" fill=\"none\" stroke=\"currentColor\"/>\n",
       "    <text dy=\"1.25em\" style=\"font-size: 0.8em; letter-spacing: 1px\">\n",
       "        <textPath xlink:href=\"#arrow-f8ca822ede364d438a87cf619e1fcd94-0-7\" class=\"displacy-label\" startOffset=\"50%\" side=\"left\" fill=\"currentColor\" text-anchor=\"middle\">ccomp</textPath>\n",
       "    </text>\n",
       "    <path class=\"displacy-arrowhead\" d=\"M1440.0,879.0 L1448.0,867.0 1432.0,867.0\" fill=\"currentColor\"/>\n",
       "</g>\n",
       "\n",
       "<g class=\"displacy-arrow\">\n",
       "    <path class=\"displacy-arc\" id=\"arrow-f8ca822ede364d438a87cf619e1fcd94-0-8\" stroke-width=\"2px\" d=\"M1470,877.0 C1470,789.5 1580.0,789.5 1580.0,877.0\" fill=\"none\" stroke=\"currentColor\"/>\n",
       "    <text dy=\"1.25em\" style=\"font-size: 0.8em; letter-spacing: 1px\">\n",
       "        <textPath xlink:href=\"#arrow-f8ca822ede364d438a87cf619e1fcd94-0-8\" class=\"displacy-label\" startOffset=\"50%\" side=\"left\" fill=\"currentColor\" text-anchor=\"middle\">compound</textPath>\n",
       "    </text>\n",
       "    <path class=\"displacy-arrowhead\" d=\"M1580.0,879.0 L1588.0,867.0 1572.0,867.0\" fill=\"currentColor\"/>\n",
       "</g>\n",
       "\n",
       "<g class=\"displacy-arrow\">\n",
       "    <path class=\"displacy-arc\" id=\"arrow-f8ca822ede364d438a87cf619e1fcd94-0-9\" stroke-width=\"2px\" d=\"M1470,877.0 C1470,702.0 1760.0,702.0 1760.0,877.0\" fill=\"none\" stroke=\"currentColor\"/>\n",
       "    <text dy=\"1.25em\" style=\"font-size: 0.8em; letter-spacing: 1px\">\n",
       "        <textPath xlink:href=\"#arrow-f8ca822ede364d438a87cf619e1fcd94-0-9\" class=\"displacy-label\" startOffset=\"50%\" side=\"left\" fill=\"currentColor\" text-anchor=\"middle\">advmod</textPath>\n",
       "    </text>\n",
       "    <path class=\"displacy-arrowhead\" d=\"M1760.0,879.0 L1768.0,867.0 1752.0,867.0\" fill=\"currentColor\"/>\n",
       "</g>\n",
       "\n",
       "<g class=\"displacy-arrow\">\n",
       "    <path class=\"displacy-arc\" id=\"arrow-f8ca822ede364d438a87cf619e1fcd94-0-10\" stroke-width=\"2px\" d=\"M1995,877.0 C1995,702.0 2285.0,702.0 2285.0,877.0\" fill=\"none\" stroke=\"currentColor\"/>\n",
       "    <text dy=\"1.25em\" style=\"font-size: 0.8em; letter-spacing: 1px\">\n",
       "        <textPath xlink:href=\"#arrow-f8ca822ede364d438a87cf619e1fcd94-0-10\" class=\"displacy-label\" startOffset=\"50%\" side=\"left\" fill=\"currentColor\" text-anchor=\"middle\">case</textPath>\n",
       "    </text>\n",
       "    <path class=\"displacy-arrowhead\" d=\"M1995,879.0 L1987,867.0 2003,867.0\" fill=\"currentColor\"/>\n",
       "</g>\n",
       "\n",
       "<g class=\"displacy-arrow\">\n",
       "    <path class=\"displacy-arc\" id=\"arrow-f8ca822ede364d438a87cf619e1fcd94-0-11\" stroke-width=\"2px\" d=\"M2170,877.0 C2170,789.5 2280.0,789.5 2280.0,877.0\" fill=\"none\" stroke=\"currentColor\"/>\n",
       "    <text dy=\"1.25em\" style=\"font-size: 0.8em; letter-spacing: 1px\">\n",
       "        <textPath xlink:href=\"#arrow-f8ca822ede364d438a87cf619e1fcd94-0-11\" class=\"displacy-label\" startOffset=\"50%\" side=\"left\" fill=\"currentColor\" text-anchor=\"middle\">det</textPath>\n",
       "    </text>\n",
       "    <path class=\"displacy-arrowhead\" d=\"M2170,879.0 L2162,867.0 2178,867.0\" fill=\"currentColor\"/>\n",
       "</g>\n",
       "\n",
       "<g class=\"displacy-arrow\">\n",
       "    <path class=\"displacy-arc\" id=\"arrow-f8ca822ede364d438a87cf619e1fcd94-0-12\" stroke-width=\"2px\" d=\"M1470,877.0 C1470,439.5 2300.0,439.5 2300.0,877.0\" fill=\"none\" stroke=\"currentColor\"/>\n",
       "    <text dy=\"1.25em\" style=\"font-size: 0.8em; letter-spacing: 1px\">\n",
       "        <textPath xlink:href=\"#arrow-f8ca822ede364d438a87cf619e1fcd94-0-12\" class=\"displacy-label\" startOffset=\"50%\" side=\"left\" fill=\"currentColor\" text-anchor=\"middle\">obj</textPath>\n",
       "    </text>\n",
       "    <path class=\"displacy-arrowhead\" d=\"M2300.0,879.0 L2308.0,867.0 2292.0,867.0\" fill=\"currentColor\"/>\n",
       "</g>\n",
       "\n",
       "<g class=\"displacy-arrow\">\n",
       "    <path class=\"displacy-arc\" id=\"arrow-f8ca822ede364d438a87cf619e1fcd94-0-13\" stroke-width=\"2px\" d=\"M1470,877.0 C1470,352.0 2480.0,352.0 2480.0,877.0\" fill=\"none\" stroke=\"currentColor\"/>\n",
       "    <text dy=\"1.25em\" style=\"font-size: 0.8em; letter-spacing: 1px\">\n",
       "        <textPath xlink:href=\"#arrow-f8ca822ede364d438a87cf619e1fcd94-0-13\" class=\"displacy-label\" startOffset=\"50%\" side=\"left\" fill=\"currentColor\" text-anchor=\"middle\">advcl</textPath>\n",
       "    </text>\n",
       "    <path class=\"displacy-arrowhead\" d=\"M2480.0,879.0 L2488.0,867.0 2472.0,867.0\" fill=\"currentColor\"/>\n",
       "</g>\n",
       "\n",
       "<g class=\"displacy-arrow\">\n",
       "    <path class=\"displacy-arc\" id=\"arrow-f8ca822ede364d438a87cf619e1fcd94-0-14\" stroke-width=\"2px\" d=\"M2695,877.0 C2695,702.0 2985.0,702.0 2985.0,877.0\" fill=\"none\" stroke=\"currentColor\"/>\n",
       "    <text dy=\"1.25em\" style=\"font-size: 0.8em; letter-spacing: 1px\">\n",
       "        <textPath xlink:href=\"#arrow-f8ca822ede364d438a87cf619e1fcd94-0-14\" class=\"displacy-label\" startOffset=\"50%\" side=\"left\" fill=\"currentColor\" text-anchor=\"middle\">case</textPath>\n",
       "    </text>\n",
       "    <path class=\"displacy-arrowhead\" d=\"M2695,879.0 L2687,867.0 2703,867.0\" fill=\"currentColor\"/>\n",
       "</g>\n",
       "\n",
       "<g class=\"displacy-arrow\">\n",
       "    <path class=\"displacy-arc\" id=\"arrow-f8ca822ede364d438a87cf619e1fcd94-0-15\" stroke-width=\"2px\" d=\"M2870,877.0 C2870,789.5 2980.0,789.5 2980.0,877.0\" fill=\"none\" stroke=\"currentColor\"/>\n",
       "    <text dy=\"1.25em\" style=\"font-size: 0.8em; letter-spacing: 1px\">\n",
       "        <textPath xlink:href=\"#arrow-f8ca822ede364d438a87cf619e1fcd94-0-15\" class=\"displacy-label\" startOffset=\"50%\" side=\"left\" fill=\"currentColor\" text-anchor=\"middle\">det</textPath>\n",
       "    </text>\n",
       "    <path class=\"displacy-arrowhead\" d=\"M2870,879.0 L2862,867.0 2878,867.0\" fill=\"currentColor\"/>\n",
       "</g>\n",
       "\n",
       "<g class=\"displacy-arrow\">\n",
       "    <path class=\"displacy-arc\" id=\"arrow-f8ca822ede364d438a87cf619e1fcd94-0-16\" stroke-width=\"2px\" d=\"M2520,877.0 C2520,614.5 2990.0,614.5 2990.0,877.0\" fill=\"none\" stroke=\"currentColor\"/>\n",
       "    <text dy=\"1.25em\" style=\"font-size: 0.8em; letter-spacing: 1px\">\n",
       "        <textPath xlink:href=\"#arrow-f8ca822ede364d438a87cf619e1fcd94-0-16\" class=\"displacy-label\" startOffset=\"50%\" side=\"left\" fill=\"currentColor\" text-anchor=\"middle\">obl</textPath>\n",
       "    </text>\n",
       "    <path class=\"displacy-arrowhead\" d=\"M2990.0,879.0 L2998.0,867.0 2982.0,867.0\" fill=\"currentColor\"/>\n",
       "</g>\n",
       "\n",
       "<g class=\"displacy-arrow\">\n",
       "    <path class=\"displacy-arc\" id=\"arrow-f8ca822ede364d438a87cf619e1fcd94-0-17\" stroke-width=\"2px\" d=\"M3220,877.0 C3220,789.5 3330.0,789.5 3330.0,877.0\" fill=\"none\" stroke=\"currentColor\"/>\n",
       "    <text dy=\"1.25em\" style=\"font-size: 0.8em; letter-spacing: 1px\">\n",
       "        <textPath xlink:href=\"#arrow-f8ca822ede364d438a87cf619e1fcd94-0-17\" class=\"displacy-label\" startOffset=\"50%\" side=\"left\" fill=\"currentColor\" text-anchor=\"middle\">case</textPath>\n",
       "    </text>\n",
       "    <path class=\"displacy-arrowhead\" d=\"M3220,879.0 L3212,867.0 3228,867.0\" fill=\"currentColor\"/>\n",
       "</g>\n",
       "\n",
       "<g class=\"displacy-arrow\">\n",
       "    <path class=\"displacy-arc\" id=\"arrow-f8ca822ede364d438a87cf619e1fcd94-0-18\" stroke-width=\"2px\" d=\"M3045,877.0 C3045,702.0 3335.0,702.0 3335.0,877.0\" fill=\"none\" stroke=\"currentColor\"/>\n",
       "    <text dy=\"1.25em\" style=\"font-size: 0.8em; letter-spacing: 1px\">\n",
       "        <textPath xlink:href=\"#arrow-f8ca822ede364d438a87cf619e1fcd94-0-18\" class=\"displacy-label\" startOffset=\"50%\" side=\"left\" fill=\"currentColor\" text-anchor=\"middle\">nmod</textPath>\n",
       "    </text>\n",
       "    <path class=\"displacy-arrowhead\" d=\"M3335.0,879.0 L3343.0,867.0 3327.0,867.0\" fill=\"currentColor\"/>\n",
       "</g>\n",
       "\n",
       "<g class=\"displacy-arrow\">\n",
       "    <path class=\"displacy-arc\" id=\"arrow-f8ca822ede364d438a87cf619e1fcd94-0-19\" stroke-width=\"2px\" d=\"M3570,877.0 C3570,789.5 3680.0,789.5 3680.0,877.0\" fill=\"none\" stroke=\"currentColor\"/>\n",
       "    <text dy=\"1.25em\" style=\"font-size: 0.8em; letter-spacing: 1px\">\n",
       "        <textPath xlink:href=\"#arrow-f8ca822ede364d438a87cf619e1fcd94-0-19\" class=\"displacy-label\" startOffset=\"50%\" side=\"left\" fill=\"currentColor\" text-anchor=\"middle\">cc</textPath>\n",
       "    </text>\n",
       "    <path class=\"displacy-arrowhead\" d=\"M3570,879.0 L3562,867.0 3578,867.0\" fill=\"currentColor\"/>\n",
       "</g>\n",
       "\n",
       "<g class=\"displacy-arrow\">\n",
       "    <path class=\"displacy-arc\" id=\"arrow-f8ca822ede364d438a87cf619e1fcd94-0-20\" stroke-width=\"2px\" d=\"M1470,877.0 C1470,89.5 3720.0,89.5 3720.0,877.0\" fill=\"none\" stroke=\"currentColor\"/>\n",
       "    <text dy=\"1.25em\" style=\"font-size: 0.8em; letter-spacing: 1px\">\n",
       "        <textPath xlink:href=\"#arrow-f8ca822ede364d438a87cf619e1fcd94-0-20\" class=\"displacy-label\" startOffset=\"50%\" side=\"left\" fill=\"currentColor\" text-anchor=\"middle\">conj</textPath>\n",
       "    </text>\n",
       "    <path class=\"displacy-arrowhead\" d=\"M3720.0,879.0 L3728.0,867.0 3712.0,867.0\" fill=\"currentColor\"/>\n",
       "</g>\n",
       "\n",
       "<g class=\"displacy-arrow\">\n",
       "    <path class=\"displacy-arc\" id=\"arrow-f8ca822ede364d438a87cf619e1fcd94-0-21\" stroke-width=\"2px\" d=\"M3745,877.0 C3745,789.5 3855.0,789.5 3855.0,877.0\" fill=\"none\" stroke=\"currentColor\"/>\n",
       "    <text dy=\"1.25em\" style=\"font-size: 0.8em; letter-spacing: 1px\">\n",
       "        <textPath xlink:href=\"#arrow-f8ca822ede364d438a87cf619e1fcd94-0-21\" class=\"displacy-label\" startOffset=\"50%\" side=\"left\" fill=\"currentColor\" text-anchor=\"middle\">compound</textPath>\n",
       "    </text>\n",
       "    <path class=\"displacy-arrowhead\" d=\"M3855.0,879.0 L3863.0,867.0 3847.0,867.0\" fill=\"currentColor\"/>\n",
       "</g>\n",
       "\n",
       "<g class=\"displacy-arrow\">\n",
       "    <path class=\"displacy-arc\" id=\"arrow-f8ca822ede364d438a87cf619e1fcd94-0-22\" stroke-width=\"2px\" d=\"M4095,877.0 C4095,702.0 4385.0,702.0 4385.0,877.0\" fill=\"none\" stroke=\"currentColor\"/>\n",
       "    <text dy=\"1.25em\" style=\"font-size: 0.8em; letter-spacing: 1px\">\n",
       "        <textPath xlink:href=\"#arrow-f8ca822ede364d438a87cf619e1fcd94-0-22\" class=\"displacy-label\" startOffset=\"50%\" side=\"left\" fill=\"currentColor\" text-anchor=\"middle\">case</textPath>\n",
       "    </text>\n",
       "    <path class=\"displacy-arrowhead\" d=\"M4095,879.0 L4087,867.0 4103,867.0\" fill=\"currentColor\"/>\n",
       "</g>\n",
       "\n",
       "<g class=\"displacy-arrow\">\n",
       "    <path class=\"displacy-arc\" id=\"arrow-f8ca822ede364d438a87cf619e1fcd94-0-23\" stroke-width=\"2px\" d=\"M4270,877.0 C4270,789.5 4380.0,789.5 4380.0,877.0\" fill=\"none\" stroke=\"currentColor\"/>\n",
       "    <text dy=\"1.25em\" style=\"font-size: 0.8em; letter-spacing: 1px\">\n",
       "        <textPath xlink:href=\"#arrow-f8ca822ede364d438a87cf619e1fcd94-0-23\" class=\"displacy-label\" startOffset=\"50%\" side=\"left\" fill=\"currentColor\" text-anchor=\"middle\">det</textPath>\n",
       "    </text>\n",
       "    <path class=\"displacy-arrowhead\" d=\"M4270,879.0 L4262,867.0 4278,867.0\" fill=\"currentColor\"/>\n",
       "</g>\n",
       "\n",
       "<g class=\"displacy-arrow\">\n",
       "    <path class=\"displacy-arc\" id=\"arrow-f8ca822ede364d438a87cf619e1fcd94-0-24\" stroke-width=\"2px\" d=\"M3745,877.0 C3745,527.0 4395.0,527.0 4395.0,877.0\" fill=\"none\" stroke=\"currentColor\"/>\n",
       "    <text dy=\"1.25em\" style=\"font-size: 0.8em; letter-spacing: 1px\">\n",
       "        <textPath xlink:href=\"#arrow-f8ca822ede364d438a87cf619e1fcd94-0-24\" class=\"displacy-label\" startOffset=\"50%\" side=\"left\" fill=\"currentColor\" text-anchor=\"middle\">obj</textPath>\n",
       "    </text>\n",
       "    <path class=\"displacy-arrowhead\" d=\"M4395.0,879.0 L4403.0,867.0 4387.0,867.0\" fill=\"currentColor\"/>\n",
       "</g>\n",
       "\n",
       "<g class=\"displacy-arrow\">\n",
       "    <path class=\"displacy-arc\" id=\"arrow-f8ca822ede364d438a87cf619e1fcd94-0-25\" stroke-width=\"2px\" d=\"M4620,877.0 C4620,702.0 4910.0,702.0 4910.0,877.0\" fill=\"none\" stroke=\"currentColor\"/>\n",
       "    <text dy=\"1.25em\" style=\"font-size: 0.8em; letter-spacing: 1px\">\n",
       "        <textPath xlink:href=\"#arrow-f8ca822ede364d438a87cf619e1fcd94-0-25\" class=\"displacy-label\" startOffset=\"50%\" side=\"left\" fill=\"currentColor\" text-anchor=\"middle\">cc</textPath>\n",
       "    </text>\n",
       "    <path class=\"displacy-arrowhead\" d=\"M4620,879.0 L4612,867.0 4628,867.0\" fill=\"currentColor\"/>\n",
       "</g>\n",
       "\n",
       "<g class=\"displacy-arrow\">\n",
       "    <path class=\"displacy-arc\" id=\"arrow-f8ca822ede364d438a87cf619e1fcd94-0-26\" stroke-width=\"2px\" d=\"M4795,877.0 C4795,789.5 4905.0,789.5 4905.0,877.0\" fill=\"none\" stroke=\"currentColor\"/>\n",
       "    <text dy=\"1.25em\" style=\"font-size: 0.8em; letter-spacing: 1px\">\n",
       "        <textPath xlink:href=\"#arrow-f8ca822ede364d438a87cf619e1fcd94-0-26\" class=\"displacy-label\" startOffset=\"50%\" side=\"left\" fill=\"currentColor\" text-anchor=\"middle\">det</textPath>\n",
       "    </text>\n",
       "    <path class=\"displacy-arrowhead\" d=\"M4795,879.0 L4787,867.0 4803,867.0\" fill=\"currentColor\"/>\n",
       "</g>\n",
       "\n",
       "<g class=\"displacy-arrow\">\n",
       "    <path class=\"displacy-arc\" id=\"arrow-f8ca822ede364d438a87cf619e1fcd94-0-27\" stroke-width=\"2px\" d=\"M4445,877.0 C4445,614.5 4915.0,614.5 4915.0,877.0\" fill=\"none\" stroke=\"currentColor\"/>\n",
       "    <text dy=\"1.25em\" style=\"font-size: 0.8em; letter-spacing: 1px\">\n",
       "        <textPath xlink:href=\"#arrow-f8ca822ede364d438a87cf619e1fcd94-0-27\" class=\"displacy-label\" startOffset=\"50%\" side=\"left\" fill=\"currentColor\" text-anchor=\"middle\">conj</textPath>\n",
       "    </text>\n",
       "    <path class=\"displacy-arrowhead\" d=\"M4915.0,879.0 L4923.0,867.0 4907.0,867.0\" fill=\"currentColor\"/>\n",
       "</g>\n",
       "\n",
       "<g class=\"displacy-arrow\">\n",
       "    <path class=\"displacy-arc\" id=\"arrow-f8ca822ede364d438a87cf619e1fcd94-0-28\" stroke-width=\"2px\" d=\"M4970,877.0 C4970,789.5 5080.0,789.5 5080.0,877.0\" fill=\"none\" stroke=\"currentColor\"/>\n",
       "    <text dy=\"1.25em\" style=\"font-size: 0.8em; letter-spacing: 1px\">\n",
       "        <textPath xlink:href=\"#arrow-f8ca822ede364d438a87cf619e1fcd94-0-28\" class=\"displacy-label\" startOffset=\"50%\" side=\"left\" fill=\"currentColor\" text-anchor=\"middle\">amod</textPath>\n",
       "    </text>\n",
       "    <path class=\"displacy-arrowhead\" d=\"M5080.0,879.0 L5088.0,867.0 5072.0,867.0\" fill=\"currentColor\"/>\n",
       "</g>\n",
       "\n",
       "<g class=\"displacy-arrow\">\n",
       "    <path class=\"displacy-arc\" id=\"arrow-f8ca822ede364d438a87cf619e1fcd94-0-29\" stroke-width=\"2px\" d=\"M5320,877.0 C5320,789.5 5430.0,789.5 5430.0,877.0\" fill=\"none\" stroke=\"currentColor\"/>\n",
       "    <text dy=\"1.25em\" style=\"font-size: 0.8em; letter-spacing: 1px\">\n",
       "        <textPath xlink:href=\"#arrow-f8ca822ede364d438a87cf619e1fcd94-0-29\" class=\"displacy-label\" startOffset=\"50%\" side=\"left\" fill=\"currentColor\" text-anchor=\"middle\">case</textPath>\n",
       "    </text>\n",
       "    <path class=\"displacy-arrowhead\" d=\"M5320,879.0 L5312,867.0 5328,867.0\" fill=\"currentColor\"/>\n",
       "</g>\n",
       "\n",
       "<g class=\"displacy-arrow\">\n",
       "    <path class=\"displacy-arc\" id=\"arrow-f8ca822ede364d438a87cf619e1fcd94-0-30\" stroke-width=\"2px\" d=\"M5495,877.0 C5495,614.5 5965.0,614.5 5965.0,877.0\" fill=\"none\" stroke=\"currentColor\"/>\n",
       "    <text dy=\"1.25em\" style=\"font-size: 0.8em; letter-spacing: 1px\">\n",
       "        <textPath xlink:href=\"#arrow-f8ca822ede364d438a87cf619e1fcd94-0-30\" class=\"displacy-label\" startOffset=\"50%\" side=\"left\" fill=\"currentColor\" text-anchor=\"middle\">nsubj</textPath>\n",
       "    </text>\n",
       "    <path class=\"displacy-arrowhead\" d=\"M5495,879.0 L5487,867.0 5503,867.0\" fill=\"currentColor\"/>\n",
       "</g>\n",
       "\n",
       "<g class=\"displacy-arrow\">\n",
       "    <path class=\"displacy-arc\" id=\"arrow-f8ca822ede364d438a87cf619e1fcd94-0-31\" stroke-width=\"2px\" d=\"M5670,877.0 C5670,789.5 5780.0,789.5 5780.0,877.0\" fill=\"none\" stroke=\"currentColor\"/>\n",
       "    <text dy=\"1.25em\" style=\"font-size: 0.8em; letter-spacing: 1px\">\n",
       "        <textPath xlink:href=\"#arrow-f8ca822ede364d438a87cf619e1fcd94-0-31\" class=\"displacy-label\" startOffset=\"50%\" side=\"left\" fill=\"currentColor\" text-anchor=\"middle\">cop</textPath>\n",
       "    </text>\n",
       "    <path class=\"displacy-arrowhead\" d=\"M5670,879.0 L5662,867.0 5678,867.0\" fill=\"currentColor\"/>\n",
       "</g>\n",
       "\n",
       "<g class=\"displacy-arrow\">\n",
       "    <path class=\"displacy-arc\" id=\"arrow-f8ca822ede364d438a87cf619e1fcd94-0-32\" stroke-width=\"2px\" d=\"M5845,877.0 C5845,789.5 5955.0,789.5 5955.0,877.0\" fill=\"none\" stroke=\"currentColor\"/>\n",
       "    <text dy=\"1.25em\" style=\"font-size: 0.8em; letter-spacing: 1px\">\n",
       "        <textPath xlink:href=\"#arrow-f8ca822ede364d438a87cf619e1fcd94-0-32\" class=\"displacy-label\" startOffset=\"50%\" side=\"left\" fill=\"currentColor\" text-anchor=\"middle\">amod</textPath>\n",
       "    </text>\n",
       "    <path class=\"displacy-arrowhead\" d=\"M5845,879.0 L5837,867.0 5853,867.0\" fill=\"currentColor\"/>\n",
       "</g>\n",
       "\n",
       "<g class=\"displacy-arrow\">\n",
       "    <path class=\"displacy-arc\" id=\"arrow-f8ca822ede364d438a87cf619e1fcd94-0-33\" stroke-width=\"2px\" d=\"M4970,877.0 C4970,352.0 5980.0,352.0 5980.0,877.0\" fill=\"none\" stroke=\"currentColor\"/>\n",
       "    <text dy=\"1.25em\" style=\"font-size: 0.8em; letter-spacing: 1px\">\n",
       "        <textPath xlink:href=\"#arrow-f8ca822ede364d438a87cf619e1fcd94-0-33\" class=\"displacy-label\" startOffset=\"50%\" side=\"left\" fill=\"currentColor\" text-anchor=\"middle\">acl</textPath>\n",
       "    </text>\n",
       "    <path class=\"displacy-arrowhead\" d=\"M5980.0,879.0 L5988.0,867.0 5972.0,867.0\" fill=\"currentColor\"/>\n",
       "</g>\n",
       "\n",
       "<g class=\"displacy-arrow\">\n",
       "    <path class=\"displacy-arc\" id=\"arrow-f8ca822ede364d438a87cf619e1fcd94-0-34\" stroke-width=\"2px\" d=\"M1470,877.0 C1470,2.0 6175.0,2.0 6175.0,877.0\" fill=\"none\" stroke=\"currentColor\"/>\n",
       "    <text dy=\"1.25em\" style=\"font-size: 0.8em; letter-spacing: 1px\">\n",
       "        <textPath xlink:href=\"#arrow-f8ca822ede364d438a87cf619e1fcd94-0-34\" class=\"displacy-label\" startOffset=\"50%\" side=\"left\" fill=\"currentColor\" text-anchor=\"middle\">dep</textPath>\n",
       "    </text>\n",
       "    <path class=\"displacy-arrowhead\" d=\"M6175.0,879.0 L6183.0,867.0 6167.0,867.0\" fill=\"currentColor\"/>\n",
       "</g>\n",
       "\n",
       "<g class=\"displacy-arrow\">\n",
       "    <path class=\"displacy-arc\" id=\"arrow-f8ca822ede364d438a87cf619e1fcd94-0-35\" stroke-width=\"2px\" d=\"M6195,877.0 C6195,789.5 6305.0,789.5 6305.0,877.0\" fill=\"none\" stroke=\"currentColor\"/>\n",
       "    <text dy=\"1.25em\" style=\"font-size: 0.8em; letter-spacing: 1px\">\n",
       "        <textPath xlink:href=\"#arrow-f8ca822ede364d438a87cf619e1fcd94-0-35\" class=\"displacy-label\" startOffset=\"50%\" side=\"left\" fill=\"currentColor\" text-anchor=\"middle\">obj</textPath>\n",
       "    </text>\n",
       "    <path class=\"displacy-arrowhead\" d=\"M6305.0,879.0 L6313.0,867.0 6297.0,867.0\" fill=\"currentColor\"/>\n",
       "</g>\n",
       "</svg></span>"
      ],
      "text/plain": [
       "<IPython.core.display.HTML object>"
      ]
     },
     "metadata": {},
     "output_type": "display_data"
    }
   ],
   "source": [
    "sentence_doc = nlp(example_es_sent)\n",
    "displacy.render(sentence_doc, style='dep')"
   ]
  },
  {
   "cell_type": "markdown",
   "id": "5abcb276",
   "metadata": {},
   "source": [
    "### Entity Tagging"
   ]
  },
  {
   "cell_type": "code",
   "execution_count": 81,
   "id": "f6d2a9a5",
   "metadata": {},
   "outputs": [
    {
     "name": "stdout",
     "output_type": "stream",
     "text": [
      "Spanish document entity tagged in: 0.07843494415283203 seconds.\n"
     ]
    }
   ],
   "source": [
    "start = time()\n",
    "es_ent = []\n",
    "es_label = []\n",
    "for ent in es_doc.ents:\n",
    "    es_ent.append(ent.text)\n",
    "    es_label.append(ent.label_)\n",
    "print(\"Spanish document entity tagged in:\", (time()-start), \"seconds.\")"
   ]
  },
  {
   "cell_type": "code",
   "execution_count": 82,
   "id": "45f6300b",
   "metadata": {},
   "outputs": [
    {
     "name": "stdout",
     "output_type": "stream",
     "text": [
      "{'MISC', 'LOC', 'ORG', 'PER'}\n"
     ]
    }
   ],
   "source": [
    "print(set(es_label))"
   ]
  },
  {
   "cell_type": "code",
   "execution_count": 84,
   "id": "f8820781",
   "metadata": {},
   "outputs": [],
   "source": [
    "es_ents = np.column_stack((es_ent, es_label))"
   ]
  },
  {
   "cell_type": "code",
   "execution_count": 85,
   "id": "6cf6d26a",
   "metadata": {},
   "outputs": [
    {
     "name": "stdout",
     "output_type": "stream",
     "text": [
      "[['Aprobada' 'LOC']\n",
      " ['Consejo de Seguridad' 'ORG']\n",
      " ['Consejo de Seguridad' 'ORG']\n",
      " ['Rwanda' 'LOC']\n",
      " ['Misión de Asistencia de las Naciones Unidas a Rwanda' 'LOC']\n",
      " ['UNAMIR' 'ORG']\n",
      " ['UNAMIR' 'ORG']\n",
      " ['UNAMIR' 'ORG']\n",
      " ['Presidente del Consejo' 'MISC']\n",
      " ['S/PRST/1994/16' 'MISC']] \n",
      "\n",
      "Length of Spanish Entities: 9826\n"
     ]
    }
   ],
   "source": [
    "print(es_ents[:10], '\\n\\nLength of Spanish Entities:', len(es_ents))"
   ]
  },
  {
   "cell_type": "markdown",
   "id": "9d437f17",
   "metadata": {},
   "source": [
    "## French"
   ]
  },
  {
   "cell_type": "markdown",
   "id": "74656b69",
   "metadata": {},
   "source": [
    "### Reading in French File"
   ]
  },
  {
   "cell_type": "code",
   "execution_count": 88,
   "id": "8566d491",
   "metadata": {},
   "outputs": [
    {
     "name": "stdout",
     "output_type": "stream",
     "text": [
      "Data loaded in: 0.21050190925598145 seconds.\n"
     ]
    }
   ],
   "source": [
    "# Loading in French Files\n",
    "start = time()\n",
    "f = open('data/sixway/french.100k', 'r') # Reading in French File\n",
    "french100 = f.read()\n",
    "print(\"Data loaded in:\", (time()-start), \"seconds.\")\n",
    "f.close()"
   ]
  },
  {
   "cell_type": "code",
   "execution_count": 89,
   "id": "67fc7b72",
   "metadata": {},
   "outputs": [],
   "source": [
    "# Creating Smaller Slice to Analyze using SpaCy\n",
    "french_samp = french100[:1000000]"
   ]
  },
  {
   "cell_type": "markdown",
   "id": "cf6abf53",
   "metadata": {},
   "source": [
    "### Downloading SpaCy object for French processing"
   ]
  },
  {
   "cell_type": "code",
   "execution_count": 90,
   "id": "edefa51f",
   "metadata": {},
   "outputs": [
    {
     "name": "stdout",
     "output_type": "stream",
     "text": [
      "French document processed in: 120.03544187545776 seconds.\n"
     ]
    }
   ],
   "source": [
    "start = time()\n",
    "nlp = spacy.load('fr_core_news_sm')\n",
    "fr_doc = nlp(french_samp)\n",
    "\n",
    "print(\"French document processed in:\", (time()-start), \"seconds.\")"
   ]
  },
  {
   "cell_type": "markdown",
   "id": "70b15a82",
   "metadata": {},
   "source": [
    "### Word Tokenizing French Document"
   ]
  },
  {
   "cell_type": "code",
   "execution_count": 91,
   "id": "a3549e66",
   "metadata": {},
   "outputs": [
    {
     "name": "stdout",
     "output_type": "stream",
     "text": [
      "French document tokenized in: 0.7552700042724609 seconds.\n"
     ]
    }
   ],
   "source": [
    "start = time()\n",
    "fr_tokens = [token for token in fr_doc]\n",
    "print(\"French document tokenized in:\", (time()-start), \"seconds.\")"
   ]
  },
  {
   "cell_type": "markdown",
   "id": "734bf64e",
   "metadata": {},
   "source": [
    "### Sentence Tokenizing French Document"
   ]
  },
  {
   "cell_type": "code",
   "execution_count": 92,
   "id": "75eba19e",
   "metadata": {},
   "outputs": [
    {
     "name": "stdout",
     "output_type": "stream",
     "text": [
      "French document sentence tokenized in: 0.2048640251159668 seconds.\n"
     ]
    }
   ],
   "source": [
    "start = time()\n",
    "fr_sent = [sent.text for sent in fr_doc.sents]\n",
    "print(\"French document sentence tokenized in:\", (time()-start), \"seconds.\")"
   ]
  },
  {
   "cell_type": "code",
   "execution_count": 93,
   "id": "9e6895e6",
   "metadata": {},
   "outputs": [
    {
     "data": {
      "text/plain": [
       "9440"
      ]
     },
     "execution_count": 93,
     "metadata": {},
     "output_type": "execute_result"
    }
   ],
   "source": [
    "len(fr_sent)"
   ]
  },
  {
   "cell_type": "code",
   "execution_count": 98,
   "id": "39c9847a",
   "metadata": {},
   "outputs": [
    {
     "name": "stdout",
     "output_type": "stream",
     "text": [
      "Exige que toutes les parties au conflit cessent immédiatement les hostilités, acceptent un cessez-le-feu et mettent fin à la violence et au carnage insensés dans lesquels est plongé le Rwanda;\n"
     ]
    }
   ],
   "source": [
    "example_fr_sent = fr_sent[4]\n",
    "print(example_fr_sent)"
   ]
  },
  {
   "cell_type": "code",
   "execution_count": 100,
   "id": "007d1856",
   "metadata": {},
   "outputs": [
    {
     "name": "stdout",
     "output_type": "stream",
     "text": [
      "Demands that all parties to the conflict immediately cease hostilities, agree to a cease-fire, and bring an end to the mindless violence and carnage engulfing Rwanda;\n",
      "2. \n",
      "\n",
      " Exige que todas las partes en el conflicto pongan fin inmediatamente a las hostilidades, convengan en una cesación del fuego y pongan término a la violencia y la carnicería insensatas en que está sumida Rwanda;\n",
      "2. \n",
      "\n",
      " Exige que toutes les parties au conflit cessent immédiatement les hostilités, acceptent un cessez-le-feu et mettent fin à la violence et au carnage insensés dans lesquels est plongé le Rwanda;\n"
     ]
    }
   ],
   "source": [
    "print(example_eng_sent,'\\n\\n',example_es_sent, '\\n\\n',example_fr_sent)"
   ]
  },
  {
   "cell_type": "markdown",
   "id": "08e2b11d",
   "metadata": {},
   "source": [
    "### POS Tagging French Documnent"
   ]
  },
  {
   "cell_type": "code",
   "execution_count": 101,
   "id": "4fdb8991",
   "metadata": {},
   "outputs": [
    {
     "name": "stdout",
     "output_type": "stream",
     "text": [
      "French document POS tagged in: 0.07364201545715332 seconds.\n"
     ]
    }
   ],
   "source": [
    "start = time()\n",
    "fr_pos = [token.pos_ for token in fr_doc] \n",
    "print(\"French document POS tagged in:\", (time()-start), \"seconds.\")"
   ]
  },
  {
   "cell_type": "code",
   "execution_count": 102,
   "id": "9bf8c6a6",
   "metadata": {},
   "outputs": [
    {
     "name": "stdout",
     "output_type": "stream",
     "text": [
      "\n",
      "List of POS tags: {'NOUN', 'X', 'NUM', 'DET', 'PRON', 'ADP', 'VERB', 'PROPN', 'SPACE', 'ADJ', 'CCONJ', 'AUX', 'ADV', 'SYM', 'SCONJ', 'PUNCT'} \n",
      "\n",
      "POS count: 16\n"
     ]
    }
   ],
   "source": [
    "print('\\nList of POS tags:', set(fr_pos), '\\n\\nPOS count:', len(set(fr_pos)))"
   ]
  },
  {
   "cell_type": "code",
   "execution_count": 103,
   "id": "2a5a2f8e",
   "metadata": {},
   "outputs": [
    {
     "name": "stdout",
     "output_type": "stream",
     "text": [
      "{'NOUN', 'X', 'NUM', 'DET', 'PRON', 'ADP', 'VERB', 'PROPN', 'SPACE', 'ADJ', 'CCONJ', 'AUX', 'ADV', 'SYM', 'SCONJ', 'PUNCT'}\n"
     ]
    }
   ],
   "source": [
    "print(set(fr_pos))"
   ]
  },
  {
   "cell_type": "markdown",
   "id": "2549732d",
   "metadata": {},
   "source": [
    "### Dependency Tagging French File"
   ]
  },
  {
   "cell_type": "code",
   "execution_count": 104,
   "id": "95a54b58",
   "metadata": {},
   "outputs": [
    {
     "name": "stdout",
     "output_type": "stream",
     "text": [
      "French document DEP tagged in: 0.10315871238708496 seconds.\n"
     ]
    }
   ],
   "source": [
    "start = time()\n",
    "fr_dep = [token.dep_ for token in fr_doc] \n",
    "print(\"French document DEP tagged in:\", (time()-start), \"seconds.\")"
   ]
  },
  {
   "cell_type": "code",
   "execution_count": 105,
   "id": "44a0d39b",
   "metadata": {},
   "outputs": [
    {
     "data": {
      "text/plain": [
       "['ROOT', 'nummod', 'punct', 'nummod', 'punct']"
      ]
     },
     "execution_count": 105,
     "metadata": {},
     "output_type": "execute_result"
    }
   ],
   "source": [
    "fr_dep[:5]"
   ]
  },
  {
   "cell_type": "code",
   "execution_count": 106,
   "id": "97cd3ea2",
   "metadata": {},
   "outputs": [
    {
     "data": {
      "text/plain": [
       "31"
      ]
     },
     "execution_count": 106,
     "metadata": {},
     "output_type": "execute_result"
    }
   ],
   "source": [
    "len(set(es_dep))"
   ]
  },
  {
   "cell_type": "code",
   "execution_count": 108,
   "id": "6e4c53de",
   "metadata": {},
   "outputs": [
    {
     "name": "stdout",
     "output_type": "stream",
     "text": [
      "{'aux:pass', 'aux:tense', 'flat:name', 'flat:foreign', 'expl:pass', 'nsubj:pass', 'iobj', 'expl:subj', 'fixed', 'obl:arg', 'cop', 'expl:comp', 'acl:relcl', 'obl:mod', 'obj', 'obl:agent', 'vocative'}\n"
     ]
    }
   ],
   "source": [
    "print(set(fr_dep)-set(eng_dep))"
   ]
  },
  {
   "cell_type": "code",
   "execution_count": 109,
   "id": "ee2ccff6",
   "metadata": {
    "scrolled": true
   },
   "outputs": [
    {
     "data": {
      "text/html": [
       "<span class=\"tex2jax_ignore\"><svg xmlns=\"http://www.w3.org/2000/svg\" xmlns:xlink=\"http://www.w3.org/1999/xlink\" xml:lang=\"fr\" id=\"0cfaa59524544988a67b4d665fba426a-0\" class=\"displacy\" width=\"5300\" height=\"837.0\" direction=\"ltr\" style=\"max-width: none; height: 837.0px; color: #000000; background: #ffffff; font-family: Arial; direction: ltr\">\n",
       "<text class=\"displacy-token\" fill=\"currentColor\" text-anchor=\"middle\" y=\"747.0\">\n",
       "    <tspan class=\"displacy-word\" fill=\"currentColor\" x=\"50\">Exige</tspan>\n",
       "    <tspan class=\"displacy-tag\" dy=\"2em\" fill=\"currentColor\" x=\"50\">NOUN</tspan>\n",
       "</text>\n",
       "\n",
       "<text class=\"displacy-token\" fill=\"currentColor\" text-anchor=\"middle\" y=\"747.0\">\n",
       "    <tspan class=\"displacy-word\" fill=\"currentColor\" x=\"225\">que</tspan>\n",
       "    <tspan class=\"displacy-tag\" dy=\"2em\" fill=\"currentColor\" x=\"225\">SCONJ</tspan>\n",
       "</text>\n",
       "\n",
       "<text class=\"displacy-token\" fill=\"currentColor\" text-anchor=\"middle\" y=\"747.0\">\n",
       "    <tspan class=\"displacy-word\" fill=\"currentColor\" x=\"400\">toutes</tspan>\n",
       "    <tspan class=\"displacy-tag\" dy=\"2em\" fill=\"currentColor\" x=\"400\">ADJ</tspan>\n",
       "</text>\n",
       "\n",
       "<text class=\"displacy-token\" fill=\"currentColor\" text-anchor=\"middle\" y=\"747.0\">\n",
       "    <tspan class=\"displacy-word\" fill=\"currentColor\" x=\"575\">les</tspan>\n",
       "    <tspan class=\"displacy-tag\" dy=\"2em\" fill=\"currentColor\" x=\"575\">DET</tspan>\n",
       "</text>\n",
       "\n",
       "<text class=\"displacy-token\" fill=\"currentColor\" text-anchor=\"middle\" y=\"747.0\">\n",
       "    <tspan class=\"displacy-word\" fill=\"currentColor\" x=\"750\">parties</tspan>\n",
       "    <tspan class=\"displacy-tag\" dy=\"2em\" fill=\"currentColor\" x=\"750\">NOUN</tspan>\n",
       "</text>\n",
       "\n",
       "<text class=\"displacy-token\" fill=\"currentColor\" text-anchor=\"middle\" y=\"747.0\">\n",
       "    <tspan class=\"displacy-word\" fill=\"currentColor\" x=\"925\">au</tspan>\n",
       "    <tspan class=\"displacy-tag\" dy=\"2em\" fill=\"currentColor\" x=\"925\">ADP</tspan>\n",
       "</text>\n",
       "\n",
       "<text class=\"displacy-token\" fill=\"currentColor\" text-anchor=\"middle\" y=\"747.0\">\n",
       "    <tspan class=\"displacy-word\" fill=\"currentColor\" x=\"1100\">conflit</tspan>\n",
       "    <tspan class=\"displacy-tag\" dy=\"2em\" fill=\"currentColor\" x=\"1100\">NOUN</tspan>\n",
       "</text>\n",
       "\n",
       "<text class=\"displacy-token\" fill=\"currentColor\" text-anchor=\"middle\" y=\"747.0\">\n",
       "    <tspan class=\"displacy-word\" fill=\"currentColor\" x=\"1275\">cessent</tspan>\n",
       "    <tspan class=\"displacy-tag\" dy=\"2em\" fill=\"currentColor\" x=\"1275\">VERB</tspan>\n",
       "</text>\n",
       "\n",
       "<text class=\"displacy-token\" fill=\"currentColor\" text-anchor=\"middle\" y=\"747.0\">\n",
       "    <tspan class=\"displacy-word\" fill=\"currentColor\" x=\"1450\">immédiatement</tspan>\n",
       "    <tspan class=\"displacy-tag\" dy=\"2em\" fill=\"currentColor\" x=\"1450\">ADV</tspan>\n",
       "</text>\n",
       "\n",
       "<text class=\"displacy-token\" fill=\"currentColor\" text-anchor=\"middle\" y=\"747.0\">\n",
       "    <tspan class=\"displacy-word\" fill=\"currentColor\" x=\"1625\">les</tspan>\n",
       "    <tspan class=\"displacy-tag\" dy=\"2em\" fill=\"currentColor\" x=\"1625\">DET</tspan>\n",
       "</text>\n",
       "\n",
       "<text class=\"displacy-token\" fill=\"currentColor\" text-anchor=\"middle\" y=\"747.0\">\n",
       "    <tspan class=\"displacy-word\" fill=\"currentColor\" x=\"1800\">hostilités,</tspan>\n",
       "    <tspan class=\"displacy-tag\" dy=\"2em\" fill=\"currentColor\" x=\"1800\">NOUN</tspan>\n",
       "</text>\n",
       "\n",
       "<text class=\"displacy-token\" fill=\"currentColor\" text-anchor=\"middle\" y=\"747.0\">\n",
       "    <tspan class=\"displacy-word\" fill=\"currentColor\" x=\"1975\">acceptent</tspan>\n",
       "    <tspan class=\"displacy-tag\" dy=\"2em\" fill=\"currentColor\" x=\"1975\">NOUN</tspan>\n",
       "</text>\n",
       "\n",
       "<text class=\"displacy-token\" fill=\"currentColor\" text-anchor=\"middle\" y=\"747.0\">\n",
       "    <tspan class=\"displacy-word\" fill=\"currentColor\" x=\"2150\">un</tspan>\n",
       "    <tspan class=\"displacy-tag\" dy=\"2em\" fill=\"currentColor\" x=\"2150\">DET</tspan>\n",
       "</text>\n",
       "\n",
       "<text class=\"displacy-token\" fill=\"currentColor\" text-anchor=\"middle\" y=\"747.0\">\n",
       "    <tspan class=\"displacy-word\" fill=\"currentColor\" x=\"2325\">cessez-le-feu</tspan>\n",
       "    <tspan class=\"displacy-tag\" dy=\"2em\" fill=\"currentColor\" x=\"2325\">NOUN</tspan>\n",
       "</text>\n",
       "\n",
       "<text class=\"displacy-token\" fill=\"currentColor\" text-anchor=\"middle\" y=\"747.0\">\n",
       "    <tspan class=\"displacy-word\" fill=\"currentColor\" x=\"2500\">et</tspan>\n",
       "    <tspan class=\"displacy-tag\" dy=\"2em\" fill=\"currentColor\" x=\"2500\">CCONJ</tspan>\n",
       "</text>\n",
       "\n",
       "<text class=\"displacy-token\" fill=\"currentColor\" text-anchor=\"middle\" y=\"747.0\">\n",
       "    <tspan class=\"displacy-word\" fill=\"currentColor\" x=\"2675\">mettent</tspan>\n",
       "    <tspan class=\"displacy-tag\" dy=\"2em\" fill=\"currentColor\" x=\"2675\">VERB</tspan>\n",
       "</text>\n",
       "\n",
       "<text class=\"displacy-token\" fill=\"currentColor\" text-anchor=\"middle\" y=\"747.0\">\n",
       "    <tspan class=\"displacy-word\" fill=\"currentColor\" x=\"2850\">fin</tspan>\n",
       "    <tspan class=\"displacy-tag\" dy=\"2em\" fill=\"currentColor\" x=\"2850\">NOUN</tspan>\n",
       "</text>\n",
       "\n",
       "<text class=\"displacy-token\" fill=\"currentColor\" text-anchor=\"middle\" y=\"747.0\">\n",
       "    <tspan class=\"displacy-word\" fill=\"currentColor\" x=\"3025\">à</tspan>\n",
       "    <tspan class=\"displacy-tag\" dy=\"2em\" fill=\"currentColor\" x=\"3025\">ADP</tspan>\n",
       "</text>\n",
       "\n",
       "<text class=\"displacy-token\" fill=\"currentColor\" text-anchor=\"middle\" y=\"747.0\">\n",
       "    <tspan class=\"displacy-word\" fill=\"currentColor\" x=\"3200\">la</tspan>\n",
       "    <tspan class=\"displacy-tag\" dy=\"2em\" fill=\"currentColor\" x=\"3200\">DET</tspan>\n",
       "</text>\n",
       "\n",
       "<text class=\"displacy-token\" fill=\"currentColor\" text-anchor=\"middle\" y=\"747.0\">\n",
       "    <tspan class=\"displacy-word\" fill=\"currentColor\" x=\"3375\">violence</tspan>\n",
       "    <tspan class=\"displacy-tag\" dy=\"2em\" fill=\"currentColor\" x=\"3375\">NOUN</tspan>\n",
       "</text>\n",
       "\n",
       "<text class=\"displacy-token\" fill=\"currentColor\" text-anchor=\"middle\" y=\"747.0\">\n",
       "    <tspan class=\"displacy-word\" fill=\"currentColor\" x=\"3550\">et</tspan>\n",
       "    <tspan class=\"displacy-tag\" dy=\"2em\" fill=\"currentColor\" x=\"3550\">CCONJ</tspan>\n",
       "</text>\n",
       "\n",
       "<text class=\"displacy-token\" fill=\"currentColor\" text-anchor=\"middle\" y=\"747.0\">\n",
       "    <tspan class=\"displacy-word\" fill=\"currentColor\" x=\"3725\">au</tspan>\n",
       "    <tspan class=\"displacy-tag\" dy=\"2em\" fill=\"currentColor\" x=\"3725\">ADP</tspan>\n",
       "</text>\n",
       "\n",
       "<text class=\"displacy-token\" fill=\"currentColor\" text-anchor=\"middle\" y=\"747.0\">\n",
       "    <tspan class=\"displacy-word\" fill=\"currentColor\" x=\"3900\">carnage</tspan>\n",
       "    <tspan class=\"displacy-tag\" dy=\"2em\" fill=\"currentColor\" x=\"3900\">NOUN</tspan>\n",
       "</text>\n",
       "\n",
       "<text class=\"displacy-token\" fill=\"currentColor\" text-anchor=\"middle\" y=\"747.0\">\n",
       "    <tspan class=\"displacy-word\" fill=\"currentColor\" x=\"4075\">insensés</tspan>\n",
       "    <tspan class=\"displacy-tag\" dy=\"2em\" fill=\"currentColor\" x=\"4075\">VERB</tspan>\n",
       "</text>\n",
       "\n",
       "<text class=\"displacy-token\" fill=\"currentColor\" text-anchor=\"middle\" y=\"747.0\">\n",
       "    <tspan class=\"displacy-word\" fill=\"currentColor\" x=\"4250\">dans</tspan>\n",
       "    <tspan class=\"displacy-tag\" dy=\"2em\" fill=\"currentColor\" x=\"4250\">ADP</tspan>\n",
       "</text>\n",
       "\n",
       "<text class=\"displacy-token\" fill=\"currentColor\" text-anchor=\"middle\" y=\"747.0\">\n",
       "    <tspan class=\"displacy-word\" fill=\"currentColor\" x=\"4425\">lesquels</tspan>\n",
       "    <tspan class=\"displacy-tag\" dy=\"2em\" fill=\"currentColor\" x=\"4425\">PRON</tspan>\n",
       "</text>\n",
       "\n",
       "<text class=\"displacy-token\" fill=\"currentColor\" text-anchor=\"middle\" y=\"747.0\">\n",
       "    <tspan class=\"displacy-word\" fill=\"currentColor\" x=\"4600\">est</tspan>\n",
       "    <tspan class=\"displacy-tag\" dy=\"2em\" fill=\"currentColor\" x=\"4600\">AUX</tspan>\n",
       "</text>\n",
       "\n",
       "<text class=\"displacy-token\" fill=\"currentColor\" text-anchor=\"middle\" y=\"747.0\">\n",
       "    <tspan class=\"displacy-word\" fill=\"currentColor\" x=\"4775\">plongé</tspan>\n",
       "    <tspan class=\"displacy-tag\" dy=\"2em\" fill=\"currentColor\" x=\"4775\">VERB</tspan>\n",
       "</text>\n",
       "\n",
       "<text class=\"displacy-token\" fill=\"currentColor\" text-anchor=\"middle\" y=\"747.0\">\n",
       "    <tspan class=\"displacy-word\" fill=\"currentColor\" x=\"4950\">le</tspan>\n",
       "    <tspan class=\"displacy-tag\" dy=\"2em\" fill=\"currentColor\" x=\"4950\">DET</tspan>\n",
       "</text>\n",
       "\n",
       "<text class=\"displacy-token\" fill=\"currentColor\" text-anchor=\"middle\" y=\"747.0\">\n",
       "    <tspan class=\"displacy-word\" fill=\"currentColor\" x=\"5125\">Rwanda;</tspan>\n",
       "    <tspan class=\"displacy-tag\" dy=\"2em\" fill=\"currentColor\" x=\"5125\">PROPN</tspan>\n",
       "</text>\n",
       "\n",
       "<g class=\"displacy-arrow\">\n",
       "    <path class=\"displacy-arc\" id=\"arrow-0cfaa59524544988a67b4d665fba426a-0-0\" stroke-width=\"2px\" d=\"M70,702.0 C70,2.0 1975.0,2.0 1975.0,702.0\" fill=\"none\" stroke=\"currentColor\"/>\n",
       "    <text dy=\"1.25em\" style=\"font-size: 0.8em; letter-spacing: 1px\">\n",
       "        <textPath xlink:href=\"#arrow-0cfaa59524544988a67b4d665fba426a-0-0\" class=\"displacy-label\" startOffset=\"50%\" side=\"left\" fill=\"currentColor\" text-anchor=\"middle\">nsubj</textPath>\n",
       "    </text>\n",
       "    <path class=\"displacy-arrowhead\" d=\"M70,704.0 L62,692.0 78,692.0\" fill=\"currentColor\"/>\n",
       "</g>\n",
       "\n",
       "<g class=\"displacy-arrow\">\n",
       "    <path class=\"displacy-arc\" id=\"arrow-0cfaa59524544988a67b4d665fba426a-0-1\" stroke-width=\"2px\" d=\"M245,702.0 C245,264.5 1260.0,264.5 1260.0,702.0\" fill=\"none\" stroke=\"currentColor\"/>\n",
       "    <text dy=\"1.25em\" style=\"font-size: 0.8em; letter-spacing: 1px\">\n",
       "        <textPath xlink:href=\"#arrow-0cfaa59524544988a67b4d665fba426a-0-1\" class=\"displacy-label\" startOffset=\"50%\" side=\"left\" fill=\"currentColor\" text-anchor=\"middle\">mark</textPath>\n",
       "    </text>\n",
       "    <path class=\"displacy-arrowhead\" d=\"M245,704.0 L237,692.0 253,692.0\" fill=\"currentColor\"/>\n",
       "</g>\n",
       "\n",
       "<g class=\"displacy-arrow\">\n",
       "    <path class=\"displacy-arc\" id=\"arrow-0cfaa59524544988a67b4d665fba426a-0-2\" stroke-width=\"2px\" d=\"M420,702.0 C420,527.0 720.0,527.0 720.0,702.0\" fill=\"none\" stroke=\"currentColor\"/>\n",
       "    <text dy=\"1.25em\" style=\"font-size: 0.8em; letter-spacing: 1px\">\n",
       "        <textPath xlink:href=\"#arrow-0cfaa59524544988a67b4d665fba426a-0-2\" class=\"displacy-label\" startOffset=\"50%\" side=\"left\" fill=\"currentColor\" text-anchor=\"middle\">amod</textPath>\n",
       "    </text>\n",
       "    <path class=\"displacy-arrowhead\" d=\"M420,704.0 L412,692.0 428,692.0\" fill=\"currentColor\"/>\n",
       "</g>\n",
       "\n",
       "<g class=\"displacy-arrow\">\n",
       "    <path class=\"displacy-arc\" id=\"arrow-0cfaa59524544988a67b4d665fba426a-0-3\" stroke-width=\"2px\" d=\"M595,702.0 C595,614.5 715.0,614.5 715.0,702.0\" fill=\"none\" stroke=\"currentColor\"/>\n",
       "    <text dy=\"1.25em\" style=\"font-size: 0.8em; letter-spacing: 1px\">\n",
       "        <textPath xlink:href=\"#arrow-0cfaa59524544988a67b4d665fba426a-0-3\" class=\"displacy-label\" startOffset=\"50%\" side=\"left\" fill=\"currentColor\" text-anchor=\"middle\">det</textPath>\n",
       "    </text>\n",
       "    <path class=\"displacy-arrowhead\" d=\"M595,704.0 L587,692.0 603,692.0\" fill=\"currentColor\"/>\n",
       "</g>\n",
       "\n",
       "<g class=\"displacy-arrow\">\n",
       "    <path class=\"displacy-arc\" id=\"arrow-0cfaa59524544988a67b4d665fba426a-0-4\" stroke-width=\"2px\" d=\"M770,702.0 C770,439.5 1250.0,439.5 1250.0,702.0\" fill=\"none\" stroke=\"currentColor\"/>\n",
       "    <text dy=\"1.25em\" style=\"font-size: 0.8em; letter-spacing: 1px\">\n",
       "        <textPath xlink:href=\"#arrow-0cfaa59524544988a67b4d665fba426a-0-4\" class=\"displacy-label\" startOffset=\"50%\" side=\"left\" fill=\"currentColor\" text-anchor=\"middle\">nsubj</textPath>\n",
       "    </text>\n",
       "    <path class=\"displacy-arrowhead\" d=\"M770,704.0 L762,692.0 778,692.0\" fill=\"currentColor\"/>\n",
       "</g>\n",
       "\n",
       "<g class=\"displacy-arrow\">\n",
       "    <path class=\"displacy-arc\" id=\"arrow-0cfaa59524544988a67b4d665fba426a-0-5\" stroke-width=\"2px\" d=\"M945,702.0 C945,614.5 1065.0,614.5 1065.0,702.0\" fill=\"none\" stroke=\"currentColor\"/>\n",
       "    <text dy=\"1.25em\" style=\"font-size: 0.8em; letter-spacing: 1px\">\n",
       "        <textPath xlink:href=\"#arrow-0cfaa59524544988a67b4d665fba426a-0-5\" class=\"displacy-label\" startOffset=\"50%\" side=\"left\" fill=\"currentColor\" text-anchor=\"middle\">case</textPath>\n",
       "    </text>\n",
       "    <path class=\"displacy-arrowhead\" d=\"M945,704.0 L937,692.0 953,692.0\" fill=\"currentColor\"/>\n",
       "</g>\n",
       "\n",
       "<g class=\"displacy-arrow\">\n",
       "    <path class=\"displacy-arc\" id=\"arrow-0cfaa59524544988a67b4d665fba426a-0-6\" stroke-width=\"2px\" d=\"M770,702.0 C770,527.0 1070.0,527.0 1070.0,702.0\" fill=\"none\" stroke=\"currentColor\"/>\n",
       "    <text dy=\"1.25em\" style=\"font-size: 0.8em; letter-spacing: 1px\">\n",
       "        <textPath xlink:href=\"#arrow-0cfaa59524544988a67b4d665fba426a-0-6\" class=\"displacy-label\" startOffset=\"50%\" side=\"left\" fill=\"currentColor\" text-anchor=\"middle\">nmod</textPath>\n",
       "    </text>\n",
       "    <path class=\"displacy-arrowhead\" d=\"M1070.0,704.0 L1078.0,692.0 1062.0,692.0\" fill=\"currentColor\"/>\n",
       "</g>\n",
       "\n",
       "<g class=\"displacy-arrow\">\n",
       "    <path class=\"displacy-arc\" id=\"arrow-0cfaa59524544988a67b4d665fba426a-0-7\" stroke-width=\"2px\" d=\"M70,702.0 C70,177.0 1265.0,177.0 1265.0,702.0\" fill=\"none\" stroke=\"currentColor\"/>\n",
       "    <text dy=\"1.25em\" style=\"font-size: 0.8em; letter-spacing: 1px\">\n",
       "        <textPath xlink:href=\"#arrow-0cfaa59524544988a67b4d665fba426a-0-7\" class=\"displacy-label\" startOffset=\"50%\" side=\"left\" fill=\"currentColor\" text-anchor=\"middle\">acl</textPath>\n",
       "    </text>\n",
       "    <path class=\"displacy-arrowhead\" d=\"M1265.0,704.0 L1273.0,692.0 1257.0,692.0\" fill=\"currentColor\"/>\n",
       "</g>\n",
       "\n",
       "<g class=\"displacy-arrow\">\n",
       "    <path class=\"displacy-arc\" id=\"arrow-0cfaa59524544988a67b4d665fba426a-0-8\" stroke-width=\"2px\" d=\"M1295,702.0 C1295,614.5 1415.0,614.5 1415.0,702.0\" fill=\"none\" stroke=\"currentColor\"/>\n",
       "    <text dy=\"1.25em\" style=\"font-size: 0.8em; letter-spacing: 1px\">\n",
       "        <textPath xlink:href=\"#arrow-0cfaa59524544988a67b4d665fba426a-0-8\" class=\"displacy-label\" startOffset=\"50%\" side=\"left\" fill=\"currentColor\" text-anchor=\"middle\">advmod</textPath>\n",
       "    </text>\n",
       "    <path class=\"displacy-arrowhead\" d=\"M1415.0,704.0 L1423.0,692.0 1407.0,692.0\" fill=\"currentColor\"/>\n",
       "</g>\n",
       "\n",
       "<g class=\"displacy-arrow\">\n",
       "    <path class=\"displacy-arc\" id=\"arrow-0cfaa59524544988a67b4d665fba426a-0-9\" stroke-width=\"2px\" d=\"M1645,702.0 C1645,614.5 1765.0,614.5 1765.0,702.0\" fill=\"none\" stroke=\"currentColor\"/>\n",
       "    <text dy=\"1.25em\" style=\"font-size: 0.8em; letter-spacing: 1px\">\n",
       "        <textPath xlink:href=\"#arrow-0cfaa59524544988a67b4d665fba426a-0-9\" class=\"displacy-label\" startOffset=\"50%\" side=\"left\" fill=\"currentColor\" text-anchor=\"middle\">det</textPath>\n",
       "    </text>\n",
       "    <path class=\"displacy-arrowhead\" d=\"M1645,704.0 L1637,692.0 1653,692.0\" fill=\"currentColor\"/>\n",
       "</g>\n",
       "\n",
       "<g class=\"displacy-arrow\">\n",
       "    <path class=\"displacy-arc\" id=\"arrow-0cfaa59524544988a67b4d665fba426a-0-10\" stroke-width=\"2px\" d=\"M1295,702.0 C1295,439.5 1775.0,439.5 1775.0,702.0\" fill=\"none\" stroke=\"currentColor\"/>\n",
       "    <text dy=\"1.25em\" style=\"font-size: 0.8em; letter-spacing: 1px\">\n",
       "        <textPath xlink:href=\"#arrow-0cfaa59524544988a67b4d665fba426a-0-10\" class=\"displacy-label\" startOffset=\"50%\" side=\"left\" fill=\"currentColor\" text-anchor=\"middle\">obj</textPath>\n",
       "    </text>\n",
       "    <path class=\"displacy-arrowhead\" d=\"M1775.0,704.0 L1783.0,692.0 1767.0,692.0\" fill=\"currentColor\"/>\n",
       "</g>\n",
       "\n",
       "<g class=\"displacy-arrow\">\n",
       "    <path class=\"displacy-arc\" id=\"arrow-0cfaa59524544988a67b4d665fba426a-0-11\" stroke-width=\"2px\" d=\"M2170,702.0 C2170,614.5 2290.0,614.5 2290.0,702.0\" fill=\"none\" stroke=\"currentColor\"/>\n",
       "    <text dy=\"1.25em\" style=\"font-size: 0.8em; letter-spacing: 1px\">\n",
       "        <textPath xlink:href=\"#arrow-0cfaa59524544988a67b4d665fba426a-0-11\" class=\"displacy-label\" startOffset=\"50%\" side=\"left\" fill=\"currentColor\" text-anchor=\"middle\">det</textPath>\n",
       "    </text>\n",
       "    <path class=\"displacy-arrowhead\" d=\"M2170,704.0 L2162,692.0 2178,692.0\" fill=\"currentColor\"/>\n",
       "</g>\n",
       "\n",
       "<g class=\"displacy-arrow\">\n",
       "    <path class=\"displacy-arc\" id=\"arrow-0cfaa59524544988a67b4d665fba426a-0-12\" stroke-width=\"2px\" d=\"M1995,702.0 C1995,527.0 2295.0,527.0 2295.0,702.0\" fill=\"none\" stroke=\"currentColor\"/>\n",
       "    <text dy=\"1.25em\" style=\"font-size: 0.8em; letter-spacing: 1px\">\n",
       "        <textPath xlink:href=\"#arrow-0cfaa59524544988a67b4d665fba426a-0-12\" class=\"displacy-label\" startOffset=\"50%\" side=\"left\" fill=\"currentColor\" text-anchor=\"middle\">obj</textPath>\n",
       "    </text>\n",
       "    <path class=\"displacy-arrowhead\" d=\"M2295.0,704.0 L2303.0,692.0 2287.0,692.0\" fill=\"currentColor\"/>\n",
       "</g>\n",
       "\n",
       "<g class=\"displacy-arrow\">\n",
       "    <path class=\"displacy-arc\" id=\"arrow-0cfaa59524544988a67b4d665fba426a-0-13\" stroke-width=\"2px\" d=\"M2520,702.0 C2520,614.5 2640.0,614.5 2640.0,702.0\" fill=\"none\" stroke=\"currentColor\"/>\n",
       "    <text dy=\"1.25em\" style=\"font-size: 0.8em; letter-spacing: 1px\">\n",
       "        <textPath xlink:href=\"#arrow-0cfaa59524544988a67b4d665fba426a-0-13\" class=\"displacy-label\" startOffset=\"50%\" side=\"left\" fill=\"currentColor\" text-anchor=\"middle\">cc</textPath>\n",
       "    </text>\n",
       "    <path class=\"displacy-arrowhead\" d=\"M2520,704.0 L2512,692.0 2528,692.0\" fill=\"currentColor\"/>\n",
       "</g>\n",
       "\n",
       "<g class=\"displacy-arrow\">\n",
       "    <path class=\"displacy-arc\" id=\"arrow-0cfaa59524544988a67b4d665fba426a-0-14\" stroke-width=\"2px\" d=\"M1995,702.0 C1995,352.0 2655.0,352.0 2655.0,702.0\" fill=\"none\" stroke=\"currentColor\"/>\n",
       "    <text dy=\"1.25em\" style=\"font-size: 0.8em; letter-spacing: 1px\">\n",
       "        <textPath xlink:href=\"#arrow-0cfaa59524544988a67b4d665fba426a-0-14\" class=\"displacy-label\" startOffset=\"50%\" side=\"left\" fill=\"currentColor\" text-anchor=\"middle\">conj</textPath>\n",
       "    </text>\n",
       "    <path class=\"displacy-arrowhead\" d=\"M2655.0,704.0 L2663.0,692.0 2647.0,692.0\" fill=\"currentColor\"/>\n",
       "</g>\n",
       "\n",
       "<g class=\"displacy-arrow\">\n",
       "    <path class=\"displacy-arc\" id=\"arrow-0cfaa59524544988a67b4d665fba426a-0-15\" stroke-width=\"2px\" d=\"M2695,702.0 C2695,614.5 2815.0,614.5 2815.0,702.0\" fill=\"none\" stroke=\"currentColor\"/>\n",
       "    <text dy=\"1.25em\" style=\"font-size: 0.8em; letter-spacing: 1px\">\n",
       "        <textPath xlink:href=\"#arrow-0cfaa59524544988a67b4d665fba426a-0-15\" class=\"displacy-label\" startOffset=\"50%\" side=\"left\" fill=\"currentColor\" text-anchor=\"middle\">obj</textPath>\n",
       "    </text>\n",
       "    <path class=\"displacy-arrowhead\" d=\"M2815.0,704.0 L2823.0,692.0 2807.0,692.0\" fill=\"currentColor\"/>\n",
       "</g>\n",
       "\n",
       "<g class=\"displacy-arrow\">\n",
       "    <path class=\"displacy-arc\" id=\"arrow-0cfaa59524544988a67b4d665fba426a-0-16\" stroke-width=\"2px\" d=\"M3045,702.0 C3045,527.0 3345.0,527.0 3345.0,702.0\" fill=\"none\" stroke=\"currentColor\"/>\n",
       "    <text dy=\"1.25em\" style=\"font-size: 0.8em; letter-spacing: 1px\">\n",
       "        <textPath xlink:href=\"#arrow-0cfaa59524544988a67b4d665fba426a-0-16\" class=\"displacy-label\" startOffset=\"50%\" side=\"left\" fill=\"currentColor\" text-anchor=\"middle\">case</textPath>\n",
       "    </text>\n",
       "    <path class=\"displacy-arrowhead\" d=\"M3045,704.0 L3037,692.0 3053,692.0\" fill=\"currentColor\"/>\n",
       "</g>\n",
       "\n",
       "<g class=\"displacy-arrow\">\n",
       "    <path class=\"displacy-arc\" id=\"arrow-0cfaa59524544988a67b4d665fba426a-0-17\" stroke-width=\"2px\" d=\"M3220,702.0 C3220,614.5 3340.0,614.5 3340.0,702.0\" fill=\"none\" stroke=\"currentColor\"/>\n",
       "    <text dy=\"1.25em\" style=\"font-size: 0.8em; letter-spacing: 1px\">\n",
       "        <textPath xlink:href=\"#arrow-0cfaa59524544988a67b4d665fba426a-0-17\" class=\"displacy-label\" startOffset=\"50%\" side=\"left\" fill=\"currentColor\" text-anchor=\"middle\">det</textPath>\n",
       "    </text>\n",
       "    <path class=\"displacy-arrowhead\" d=\"M3220,704.0 L3212,692.0 3228,692.0\" fill=\"currentColor\"/>\n",
       "</g>\n",
       "\n",
       "<g class=\"displacy-arrow\">\n",
       "    <path class=\"displacy-arc\" id=\"arrow-0cfaa59524544988a67b4d665fba426a-0-18\" stroke-width=\"2px\" d=\"M2695,702.0 C2695,352.0 3355.0,352.0 3355.0,702.0\" fill=\"none\" stroke=\"currentColor\"/>\n",
       "    <text dy=\"1.25em\" style=\"font-size: 0.8em; letter-spacing: 1px\">\n",
       "        <textPath xlink:href=\"#arrow-0cfaa59524544988a67b4d665fba426a-0-18\" class=\"displacy-label\" startOffset=\"50%\" side=\"left\" fill=\"currentColor\" text-anchor=\"middle\">obl:arg</textPath>\n",
       "    </text>\n",
       "    <path class=\"displacy-arrowhead\" d=\"M3355.0,704.0 L3363.0,692.0 3347.0,692.0\" fill=\"currentColor\"/>\n",
       "</g>\n",
       "\n",
       "<g class=\"displacy-arrow\">\n",
       "    <path class=\"displacy-arc\" id=\"arrow-0cfaa59524544988a67b4d665fba426a-0-19\" stroke-width=\"2px\" d=\"M3570,702.0 C3570,527.0 3870.0,527.0 3870.0,702.0\" fill=\"none\" stroke=\"currentColor\"/>\n",
       "    <text dy=\"1.25em\" style=\"font-size: 0.8em; letter-spacing: 1px\">\n",
       "        <textPath xlink:href=\"#arrow-0cfaa59524544988a67b4d665fba426a-0-19\" class=\"displacy-label\" startOffset=\"50%\" side=\"left\" fill=\"currentColor\" text-anchor=\"middle\">cc</textPath>\n",
       "    </text>\n",
       "    <path class=\"displacy-arrowhead\" d=\"M3570,704.0 L3562,692.0 3578,692.0\" fill=\"currentColor\"/>\n",
       "</g>\n",
       "\n",
       "<g class=\"displacy-arrow\">\n",
       "    <path class=\"displacy-arc\" id=\"arrow-0cfaa59524544988a67b4d665fba426a-0-20\" stroke-width=\"2px\" d=\"M3745,702.0 C3745,614.5 3865.0,614.5 3865.0,702.0\" fill=\"none\" stroke=\"currentColor\"/>\n",
       "    <text dy=\"1.25em\" style=\"font-size: 0.8em; letter-spacing: 1px\">\n",
       "        <textPath xlink:href=\"#arrow-0cfaa59524544988a67b4d665fba426a-0-20\" class=\"displacy-label\" startOffset=\"50%\" side=\"left\" fill=\"currentColor\" text-anchor=\"middle\">case</textPath>\n",
       "    </text>\n",
       "    <path class=\"displacy-arrowhead\" d=\"M3745,704.0 L3737,692.0 3753,692.0\" fill=\"currentColor\"/>\n",
       "</g>\n",
       "\n",
       "<g class=\"displacy-arrow\">\n",
       "    <path class=\"displacy-arc\" id=\"arrow-0cfaa59524544988a67b4d665fba426a-0-21\" stroke-width=\"2px\" d=\"M3395,702.0 C3395,439.5 3875.0,439.5 3875.0,702.0\" fill=\"none\" stroke=\"currentColor\"/>\n",
       "    <text dy=\"1.25em\" style=\"font-size: 0.8em; letter-spacing: 1px\">\n",
       "        <textPath xlink:href=\"#arrow-0cfaa59524544988a67b4d665fba426a-0-21\" class=\"displacy-label\" startOffset=\"50%\" side=\"left\" fill=\"currentColor\" text-anchor=\"middle\">conj</textPath>\n",
       "    </text>\n",
       "    <path class=\"displacy-arrowhead\" d=\"M3875.0,704.0 L3883.0,692.0 3867.0,692.0\" fill=\"currentColor\"/>\n",
       "</g>\n",
       "\n",
       "<g class=\"displacy-arrow\">\n",
       "    <path class=\"displacy-arc\" id=\"arrow-0cfaa59524544988a67b4d665fba426a-0-22\" stroke-width=\"2px\" d=\"M3920,702.0 C3920,614.5 4040.0,614.5 4040.0,702.0\" fill=\"none\" stroke=\"currentColor\"/>\n",
       "    <text dy=\"1.25em\" style=\"font-size: 0.8em; letter-spacing: 1px\">\n",
       "        <textPath xlink:href=\"#arrow-0cfaa59524544988a67b4d665fba426a-0-22\" class=\"displacy-label\" startOffset=\"50%\" side=\"left\" fill=\"currentColor\" text-anchor=\"middle\">acl</textPath>\n",
       "    </text>\n",
       "    <path class=\"displacy-arrowhead\" d=\"M4040.0,704.0 L4048.0,692.0 4032.0,692.0\" fill=\"currentColor\"/>\n",
       "</g>\n",
       "\n",
       "<g class=\"displacy-arrow\">\n",
       "    <path class=\"displacy-arc\" id=\"arrow-0cfaa59524544988a67b4d665fba426a-0-23\" stroke-width=\"2px\" d=\"M4270,702.0 C4270,614.5 4390.0,614.5 4390.0,702.0\" fill=\"none\" stroke=\"currentColor\"/>\n",
       "    <text dy=\"1.25em\" style=\"font-size: 0.8em; letter-spacing: 1px\">\n",
       "        <textPath xlink:href=\"#arrow-0cfaa59524544988a67b4d665fba426a-0-23\" class=\"displacy-label\" startOffset=\"50%\" side=\"left\" fill=\"currentColor\" text-anchor=\"middle\">case</textPath>\n",
       "    </text>\n",
       "    <path class=\"displacy-arrowhead\" d=\"M4270,704.0 L4262,692.0 4278,692.0\" fill=\"currentColor\"/>\n",
       "</g>\n",
       "\n",
       "<g class=\"displacy-arrow\">\n",
       "    <path class=\"displacy-arc\" id=\"arrow-0cfaa59524544988a67b4d665fba426a-0-24\" stroke-width=\"2px\" d=\"M4445,702.0 C4445,527.0 4745.0,527.0 4745.0,702.0\" fill=\"none\" stroke=\"currentColor\"/>\n",
       "    <text dy=\"1.25em\" style=\"font-size: 0.8em; letter-spacing: 1px\">\n",
       "        <textPath xlink:href=\"#arrow-0cfaa59524544988a67b4d665fba426a-0-24\" class=\"displacy-label\" startOffset=\"50%\" side=\"left\" fill=\"currentColor\" text-anchor=\"middle\">obl:mod</textPath>\n",
       "    </text>\n",
       "    <path class=\"displacy-arrowhead\" d=\"M4445,704.0 L4437,692.0 4453,692.0\" fill=\"currentColor\"/>\n",
       "</g>\n",
       "\n",
       "<g class=\"displacy-arrow\">\n",
       "    <path class=\"displacy-arc\" id=\"arrow-0cfaa59524544988a67b4d665fba426a-0-25\" stroke-width=\"2px\" d=\"M4620,702.0 C4620,614.5 4740.0,614.5 4740.0,702.0\" fill=\"none\" stroke=\"currentColor\"/>\n",
       "    <text dy=\"1.25em\" style=\"font-size: 0.8em; letter-spacing: 1px\">\n",
       "        <textPath xlink:href=\"#arrow-0cfaa59524544988a67b4d665fba426a-0-25\" class=\"displacy-label\" startOffset=\"50%\" side=\"left\" fill=\"currentColor\" text-anchor=\"middle\">aux:pass</textPath>\n",
       "    </text>\n",
       "    <path class=\"displacy-arrowhead\" d=\"M4620,704.0 L4612,692.0 4628,692.0\" fill=\"currentColor\"/>\n",
       "</g>\n",
       "\n",
       "<g class=\"displacy-arrow\">\n",
       "    <path class=\"displacy-arc\" id=\"arrow-0cfaa59524544988a67b4d665fba426a-0-26\" stroke-width=\"2px\" d=\"M3395,702.0 C3395,89.5 4770.0,89.5 4770.0,702.0\" fill=\"none\" stroke=\"currentColor\"/>\n",
       "    <text dy=\"1.25em\" style=\"font-size: 0.8em; letter-spacing: 1px\">\n",
       "        <textPath xlink:href=\"#arrow-0cfaa59524544988a67b4d665fba426a-0-26\" class=\"displacy-label\" startOffset=\"50%\" side=\"left\" fill=\"currentColor\" text-anchor=\"middle\">acl:relcl</textPath>\n",
       "    </text>\n",
       "    <path class=\"displacy-arrowhead\" d=\"M4770.0,704.0 L4778.0,692.0 4762.0,692.0\" fill=\"currentColor\"/>\n",
       "</g>\n",
       "\n",
       "<g class=\"displacy-arrow\">\n",
       "    <path class=\"displacy-arc\" id=\"arrow-0cfaa59524544988a67b4d665fba426a-0-27\" stroke-width=\"2px\" d=\"M4970,702.0 C4970,614.5 5090.0,614.5 5090.0,702.0\" fill=\"none\" stroke=\"currentColor\"/>\n",
       "    <text dy=\"1.25em\" style=\"font-size: 0.8em; letter-spacing: 1px\">\n",
       "        <textPath xlink:href=\"#arrow-0cfaa59524544988a67b4d665fba426a-0-27\" class=\"displacy-label\" startOffset=\"50%\" side=\"left\" fill=\"currentColor\" text-anchor=\"middle\">det</textPath>\n",
       "    </text>\n",
       "    <path class=\"displacy-arrowhead\" d=\"M4970,704.0 L4962,692.0 4978,692.0\" fill=\"currentColor\"/>\n",
       "</g>\n",
       "\n",
       "<g class=\"displacy-arrow\">\n",
       "    <path class=\"displacy-arc\" id=\"arrow-0cfaa59524544988a67b4d665fba426a-0-28\" stroke-width=\"2px\" d=\"M4795,702.0 C4795,527.0 5095.0,527.0 5095.0,702.0\" fill=\"none\" stroke=\"currentColor\"/>\n",
       "    <text dy=\"1.25em\" style=\"font-size: 0.8em; letter-spacing: 1px\">\n",
       "        <textPath xlink:href=\"#arrow-0cfaa59524544988a67b4d665fba426a-0-28\" class=\"displacy-label\" startOffset=\"50%\" side=\"left\" fill=\"currentColor\" text-anchor=\"middle\">obl:arg</textPath>\n",
       "    </text>\n",
       "    <path class=\"displacy-arrowhead\" d=\"M5095.0,704.0 L5103.0,692.0 5087.0,692.0\" fill=\"currentColor\"/>\n",
       "</g>\n",
       "</svg></span>"
      ],
      "text/plain": [
       "<IPython.core.display.HTML object>"
      ]
     },
     "metadata": {},
     "output_type": "display_data"
    }
   ],
   "source": [
    "sentence_doc = nlp(example_fr_sent)\n",
    "displacy.render(sentence_doc, style='dep')"
   ]
  },
  {
   "cell_type": "markdown",
   "id": "dec9d475",
   "metadata": {},
   "source": [
    "### Entity Tagging"
   ]
  },
  {
   "cell_type": "code",
   "execution_count": 115,
   "id": "7973b833",
   "metadata": {},
   "outputs": [
    {
     "name": "stdout",
     "output_type": "stream",
     "text": [
      "French document entity tagged in: 0.06374764442443848 seconds.\n"
     ]
    }
   ],
   "source": [
    "start = time()\n",
    "fr_ent = []\n",
    "fr_label = []\n",
    "for ent in fr_doc.ents:\n",
    "    fr_ent.append(ent.text)\n",
    "    fr_label.append(ent.label_)\n",
    "print(\"French document entity tagged in:\", (time()-start), \"seconds.\")"
   ]
  },
  {
   "cell_type": "code",
   "execution_count": 116,
   "id": "e871c1e0",
   "metadata": {},
   "outputs": [
    {
     "name": "stdout",
     "output_type": "stream",
     "text": [
      "{'MISC', 'ORG', 'LOC', 'PER'}\n"
     ]
    }
   ],
   "source": [
    "print(set(fr_label))"
   ]
  },
  {
   "cell_type": "code",
   "execution_count": 117,
   "id": "130fbc18",
   "metadata": {},
   "outputs": [
    {
     "name": "stdout",
     "output_type": "stream",
     "text": [
      "[['RESOLUTION 918' 'MISC']\n",
      " ['Conseil de sécurité' 'ORG']\n",
      " ['Conseil de sécurité' 'ORG']\n",
      " ['Rwanda' 'LOC']\n",
      " ['Mission des Nations Unies' 'MISC']\n",
      " ['Rwanda' 'LOC']\n",
      " ['MINUAR' 'LOC']\n",
      " ['MINUAR' 'MISC']\n",
      " ['MINUAR' 'MISC']\n",
      " ['Président' 'PER']] \n",
      "\n",
      "Length of French Entities: 7853\n"
     ]
    }
   ],
   "source": [
    "fr_ents = np.column_stack((fr_ent, fr_label))\n",
    "print(fr_ents[:10], '\\n\\nLength of French Entities:', len(fr_ents))"
   ]
  },
  {
   "cell_type": "markdown",
   "id": "a6df277d",
   "metadata": {},
   "source": [
    "## Russian"
   ]
  },
  {
   "cell_type": "code",
   "execution_count": 118,
   "id": "819935e0",
   "metadata": {},
   "outputs": [
    {
     "name": "stdout",
     "output_type": "stream",
     "text": [
      "Data loaded in: 0.15739893913269043 seconds.\n"
     ]
    }
   ],
   "source": [
    "# Loading in Russian Files\n",
    "start = time()\n",
    "f = open('data/sixway/russian.100k', 'r') # Reading in Russian File\n",
    "russian100 = f.read()\n",
    "print(\"Data loaded in:\", (time()-start), \"seconds.\")\n",
    "f.close()"
   ]
  },
  {
   "cell_type": "code",
   "execution_count": 119,
   "id": "ff1127b3",
   "metadata": {},
   "outputs": [],
   "source": [
    "# Creating Smaller Slice to Analyze using SpaCy\n",
    "russian_samp = russian100[:1000000]"
   ]
  },
  {
   "cell_type": "markdown",
   "id": "bda0ba4f",
   "metadata": {},
   "source": [
    "### Downloading SpaCy object for Russian processing"
   ]
  },
  {
   "cell_type": "code",
   "execution_count": 120,
   "id": "6bcb7c49",
   "metadata": {},
   "outputs": [
    {
     "name": "stdout",
     "output_type": "stream",
     "text": [
      "Russian document processed in: 130.43276715278625 seconds.\n"
     ]
    }
   ],
   "source": [
    "start = time()\n",
    "nlp = spacy.load('ru_core_news_sm')\n",
    "ru_doc = nlp(russian_samp)\n",
    "print(\"Russian document processed in:\", (time()-start), \"seconds.\")"
   ]
  },
  {
   "cell_type": "markdown",
   "id": "d3187549",
   "metadata": {},
   "source": [
    "### Word Tokenizing Russian Document"
   ]
  },
  {
   "cell_type": "code",
   "execution_count": 128,
   "id": "721dbe58",
   "metadata": {},
   "outputs": [
    {
     "name": "stdout",
     "output_type": "stream",
     "text": [
      "Russian document word tokenized in: 0.3548762798309326 seconds.\n"
     ]
    }
   ],
   "source": [
    "start = time()\n",
    "\n",
    "ru_tokens = [token for token in ru_doc]  # Tokenizing Document\n",
    "\n",
    "print(\"Russian document word tokenized in:\", (time()-start), \"seconds.\")"
   ]
  },
  {
   "cell_type": "code",
   "execution_count": 129,
   "id": "928ae363",
   "metadata": {},
   "outputs": [
    {
     "name": "stdout",
     "output_type": "stream",
     "text": [
      "Russian Word Tokens Count: 153964 \n",
      " \n",
      " [РЕЗОЛЮЦИЯ, 918, (, 1994, ), ,, \n",
      ", принятая, Советом, Безопасности, на, его, 3377-м, заседании, 17, мая, 1994, года, \n",
      ", Совет]\n"
     ]
    }
   ],
   "source": [
    "print('Russian Word Tokens Count:', len(ru_tokens), '\\n \\n', ru_tokens[:20])"
   ]
  },
  {
   "cell_type": "markdown",
   "id": "2c087d90",
   "metadata": {},
   "source": [
    "### Sentence Tokenizing Russian Document"
   ]
  },
  {
   "cell_type": "code",
   "execution_count": 130,
   "id": "59d1d313",
   "metadata": {},
   "outputs": [
    {
     "name": "stdout",
     "output_type": "stream",
     "text": [
      "Russian document sentence tokenized in: 0.2581510543823242 seconds.\n"
     ]
    }
   ],
   "source": [
    "start = time()\n",
    "ru_sent = [sent.text for sent in ru_doc.sents]\n",
    "print(\"Russian document sentence tokenized in:\", (time()-start), \"seconds.\")"
   ]
  },
  {
   "cell_type": "code",
   "execution_count": 132,
   "id": "00b319df",
   "metadata": {},
   "outputs": [
    {
     "data": {
      "text/plain": [
       "9310"
      ]
     },
     "execution_count": 132,
     "metadata": {},
     "output_type": "execute_result"
    }
   ],
   "source": [
    "len(ru_sent)"
   ]
  },
  {
   "cell_type": "code",
   "execution_count": 164,
   "id": "a2f6f173",
   "metadata": {},
   "outputs": [
    {
     "name": "stdout",
     "output_type": "stream",
     "text": [
      "требует, чтобы все стороны в конфликте немедленно прекратили военные действия, договорились о прекращении огня и положили конец бессмысленному насилию и резне, охватившим Руанду;\n",
      "\n"
     ]
    }
   ],
   "source": [
    "example_ru_sent = ru_sent[13]\n",
    "print(example_ru_sent)"
   ]
  },
  {
   "cell_type": "code",
   "execution_count": 165,
   "id": "aa154af4",
   "metadata": {},
   "outputs": [
    {
     "name": "stdout",
     "output_type": "stream",
     "text": [
      "Demands that all parties to the conflict immediately cease hostilities, agree to a cease-fire, and bring an end to the mindless violence and carnage engulfing Rwanda;\n",
      "2. \n",
      "\n",
      " Exige que todas las partes en el conflicto pongan fin inmediatamente a las hostilidades, convengan en una cesación del fuego y pongan término a la violencia y la carnicería insensatas en que está sumida Rwanda;\n",
      "2. \n",
      "\n",
      " Exige que toutes les parties au conflit cessent immédiatement les hostilités, acceptent un cessez-le-feu et mettent fin à la violence et au carnage insensés dans lesquels est plongé le Rwanda; \n",
      "\n",
      " требует, чтобы все стороны в конфликте немедленно прекратили военные действия, договорились о прекращении огня и положили конец бессмысленному насилию и резне, охватившим Руанду;\n",
      "\n"
     ]
    }
   ],
   "source": [
    "print(example_eng_sent,'\\n\\n',example_es_sent, '\\n\\n',example_fr_sent, '\\n\\n',example_ru_sent)"
   ]
  },
  {
   "cell_type": "markdown",
   "id": "64482ca9",
   "metadata": {},
   "source": [
    "### POS Tagging Russian Document"
   ]
  },
  {
   "cell_type": "code",
   "execution_count": 166,
   "id": "d6b69899",
   "metadata": {},
   "outputs": [
    {
     "name": "stdout",
     "output_type": "stream",
     "text": [
      "Russian document POS tagged in: 0.0551297664642334 seconds.\n"
     ]
    }
   ],
   "source": [
    "start = time()\n",
    "ru_pos = [token.pos_ for token in ru_doc] \n",
    "print(\"Russian document POS tagged in:\", (time()-start), \"seconds.\")"
   ]
  },
  {
   "cell_type": "code",
   "execution_count": 167,
   "id": "b7b51bce",
   "metadata": {},
   "outputs": [
    {
     "name": "stdout",
     "output_type": "stream",
     "text": [
      "\n",
      "List of POS tags: {'NOUN', 'X', 'NUM', 'DET', 'PRON', 'ADP', 'VERB', 'PROPN', 'SPACE', 'ADJ', 'CCONJ', 'AUX', 'ADV', 'SYM', 'SCONJ', 'PUNCT'} \n",
      "\n",
      "POS count: 16\n"
     ]
    }
   ],
   "source": [
    "print('\\nList of POS tags:', set(fr_pos), '\\n\\nPOS count:', len(set(fr_pos)))"
   ]
  },
  {
   "cell_type": "code",
   "execution_count": 168,
   "id": "526edc74",
   "metadata": {},
   "outputs": [
    {
     "name": "stdout",
     "output_type": "stream",
     "text": [
      "{'INTJ', 'NOUN', 'X', 'NUM', 'DET', 'PRON', 'PART', 'ADP', 'VERB', 'ADJ', 'PROPN', 'SPACE', 'CCONJ', 'ADV', 'SYM', 'AUX', 'SCONJ', 'PUNCT'}\n"
     ]
    }
   ],
   "source": [
    "print(set(ru_pos))"
   ]
  },
  {
   "cell_type": "markdown",
   "id": "725a1b22",
   "metadata": {},
   "source": [
    "### Dependency Tagging Russian File"
   ]
  },
  {
   "cell_type": "code",
   "execution_count": 123,
   "id": "809a91f1",
   "metadata": {},
   "outputs": [
    {
     "name": "stdout",
     "output_type": "stream",
     "text": [
      "Russian document DEP tagged in: 0.07619786262512207 seconds.\n"
     ]
    }
   ],
   "source": [
    "start = time()\n",
    "ru_dep = [token.dep_ for token in ru_doc] \n",
    "print(\"Russian document DEP tagged in:\", (time()-start), \"seconds.\")"
   ]
  },
  {
   "cell_type": "code",
   "execution_count": 169,
   "id": "c7ac9c95",
   "metadata": {},
   "outputs": [
    {
     "data": {
      "text/plain": [
       "['nsubj', 'appos', 'punct', 'parataxis', 'punct']"
      ]
     },
     "execution_count": 169,
     "metadata": {},
     "output_type": "execute_result"
    }
   ],
   "source": [
    "ru_dep[:5]"
   ]
  },
  {
   "cell_type": "code",
   "execution_count": 170,
   "id": "52011d58",
   "metadata": {},
   "outputs": [
    {
     "data": {
      "text/plain": [
       "40"
      ]
     },
     "execution_count": 170,
     "metadata": {},
     "output_type": "execute_result"
    }
   ],
   "source": [
    "len(set(ru_dep))"
   ]
  },
  {
   "cell_type": "code",
   "execution_count": 171,
   "id": "d96a4c6a",
   "metadata": {},
   "outputs": [
    {
     "name": "stdout",
     "output_type": "stream",
     "text": [
      "{'obl', 'aux:pass', 'nsubj:pass', 'flat:foreign', 'flat:name', 'iobj', 'fixed', 'obj', 'cop', 'list', 'orphan', 'nummod:gov', 'acl:relcl', 'csubj:pass', 'flat', 'nummod:entity', 'obl:agent', 'discourse'}\n"
     ]
    }
   ],
   "source": [
    "print(set(ru_dep)-set(eng_dep))"
   ]
  },
  {
   "cell_type": "markdown",
   "id": "6a0632ef",
   "metadata": {},
   "source": [
    "### Entity Tagging Russian"
   ]
  },
  {
   "cell_type": "code",
   "execution_count": 209,
   "id": "05a3ce05",
   "metadata": {},
   "outputs": [
    {
     "name": "stdout",
     "output_type": "stream",
     "text": [
      "Russian document entity tagged in: 0.1517488956451416 seconds.\n"
     ]
    }
   ],
   "source": [
    "start = time()\n",
    "ru_ent = []\n",
    "ru_label = []\n",
    "for ent in ru_doc.ents:\n",
    "    ru_ent.append(ent.text)\n",
    "    ru_label.append(ent.label_)\n",
    "print(\"Russian document entity tagged in:\", (time()-start), \"seconds.\")"
   ]
  },
  {
   "cell_type": "code",
   "execution_count": 210,
   "id": "e8617cfd",
   "metadata": {},
   "outputs": [
    {
     "name": "stdout",
     "output_type": "stream",
     "text": [
      "{'ORG', 'LOC', 'PER'}\n"
     ]
    }
   ],
   "source": [
    "print(set(ru_label))"
   ]
  },
  {
   "cell_type": "code",
   "execution_count": 211,
   "id": "a6a44f0e",
   "metadata": {},
   "outputs": [],
   "source": [
    "ru_ents = np.column_stack((ru_ent, ru_label))"
   ]
  },
  {
   "cell_type": "code",
   "execution_count": 212,
   "id": "abe0c86b",
   "metadata": {},
   "outputs": [
    {
     "name": "stdout",
     "output_type": "stream",
     "text": [
      "[['Советом Безопасности' 'ORG']\n",
      " ['Совет Безопасности' 'ORG']\n",
      " ['Руанде' 'LOC']\n",
      " ['Миссию Организации Объединенных Наций' 'ORG']\n",
      " ['Руанде' 'LOC']\n",
      " ['МООНПР' 'ORG']\n",
      " ['МООНПР' 'ORG']\n",
      " ['Председателя' 'PER']\n",
      " ['Совета Безопасности' 'ORG']\n",
      " ['Организации Объединенных Наций' 'ORG']] \n",
      "\n",
      "Length of Russian Entities: 5827\n"
     ]
    }
   ],
   "source": [
    "print(ru_ents[:10], '\\n\\nLength of Russian Entities:', len(ru_ents))"
   ]
  },
  {
   "cell_type": "markdown",
   "id": "b44b4024",
   "metadata": {},
   "source": [
    "## Mandarin"
   ]
  },
  {
   "cell_type": "markdown",
   "id": "893c94d6",
   "metadata": {},
   "source": [
    "### Reading in Mandarin File"
   ]
  },
  {
   "cell_type": "code",
   "execution_count": 172,
   "id": "4e757b2f",
   "metadata": {},
   "outputs": [
    {
     "name": "stdout",
     "output_type": "stream",
     "text": [
      "Data loaded in: 0.11664915084838867 seconds.\n"
     ]
    }
   ],
   "source": [
    "# Loading in Mandarin Files\n",
    "start = time()\n",
    "f = open('data/sixway/mandarin.100k', 'r') # Reading in Mandarin File\n",
    "mandarin100 = f.read()\n",
    "print(\"Data loaded in:\", (time()-start), \"seconds.\")\n",
    "f.close()"
   ]
  },
  {
   "cell_type": "code",
   "execution_count": 173,
   "id": "1ecf5ca4",
   "metadata": {},
   "outputs": [],
   "source": [
    "# Creating Smaller Slice to Analyze using SpaCy\n",
    "mandarin_samp = mandarin100[:1000000]"
   ]
  },
  {
   "cell_type": "markdown",
   "id": "ede7f420",
   "metadata": {},
   "source": [
    "### Downloading SpaCy object for Mandarin processing"
   ]
  },
  {
   "cell_type": "code",
   "execution_count": 175,
   "id": "5d0b94f9",
   "metadata": {},
   "outputs": [
    {
     "name": "stdout",
     "output_type": "stream",
     "text": [
      "Mandarin document processed in: 881.6232738494873 seconds.\n"
     ]
    }
   ],
   "source": [
    "start = time()\n",
    "nlp = spacy.load('zh_core_web_sm')\n",
    "zh_doc = nlp(mandarin_samp)\n",
    "print(\"Mandarin document processed in:\", (time()-start), \"seconds.\")"
   ]
  },
  {
   "cell_type": "markdown",
   "id": "41b35707",
   "metadata": {},
   "source": [
    "SpaCy's Mandarin module takes about 881 seconds, which is painstaking to work with."
   ]
  },
  {
   "cell_type": "markdown",
   "id": "8b9fa7a6",
   "metadata": {},
   "source": [
    "### Word Tokenizing Mandarin Document"
   ]
  },
  {
   "cell_type": "code",
   "execution_count": 176,
   "id": "d61220bd",
   "metadata": {},
   "outputs": [
    {
     "name": "stdout",
     "output_type": "stream",
     "text": [
      "Mandarin document tokenized in: 2.3030920028686523 seconds.\n"
     ]
    }
   ],
   "source": [
    "start = time()\n",
    "zh_tokens = [token for token in zh_doc]\n",
    "print(\"Mandarin document tokenized in:\", (time()-start), \"seconds.\")\n"
   ]
  },
  {
   "cell_type": "code",
   "execution_count": 178,
   "id": "b3d376ce",
   "metadata": {},
   "outputs": [
    {
     "name": "stdout",
     "output_type": "stream",
     "text": [
      "Mandarin Word Tokens Count: 553748 \n",
      " \n",
      " [第918, (, 1994, )号, 决议, \n",
      ", 1994年, 5月, 17日, 安全, 理事会, 第3377, 次, 会议, 通过, \n",
      ", 安全, 理事会, ，, \n",
      "]\n"
     ]
    }
   ],
   "source": [
    "print('Mandarin Word Tokens Count:', len(zh_tokens), '\\n \\n', zh_tokens[:20])"
   ]
  },
  {
   "cell_type": "markdown",
   "id": "7f88c86e",
   "metadata": {},
   "source": [
    "### Sentence Tokenizing Mandarin Document"
   ]
  },
  {
   "cell_type": "code",
   "execution_count": 179,
   "id": "e49f199a",
   "metadata": {},
   "outputs": [
    {
     "name": "stdout",
     "output_type": "stream",
     "text": [
      "Mandarin document sentence tokenized in: 0.40075111389160156 seconds.\n"
     ]
    }
   ],
   "source": [
    "start = time()\n",
    "zh_sent = [sent.text for sent in zh_doc.sents]\n",
    "print(\"Mandarin document sentence tokenized in:\", (time()-start), \"seconds.\")"
   ]
  },
  {
   "cell_type": "code",
   "execution_count": 180,
   "id": "795f381b",
   "metadata": {},
   "outputs": [
    {
     "data": {
      "text/plain": [
       "23363"
      ]
     },
     "execution_count": 180,
     "metadata": {},
     "output_type": "execute_result"
    }
   ],
   "source": [
    "len(zh_sent)"
   ]
  },
  {
   "cell_type": "code",
   "execution_count": 189,
   "id": "9d58c212",
   "metadata": {},
   "outputs": [
    {
     "name": "stdout",
     "output_type": "stream",
     "text": [
      "要求卢旺达各当事方严格尊重联合国及其他在卢旺达服务的组织的人员和房地，并避免对从事人道主义和维持和平工作的人员进行任何恐吓或暴力行为；\n",
      "12.\n"
     ]
    }
   ],
   "source": [
    "example_zh_sent = zh_sent[6]\n",
    "print(example_zh_sent)"
   ]
  },
  {
   "cell_type": "code",
   "execution_count": 190,
   "id": "4d780652",
   "metadata": {},
   "outputs": [
    {
     "name": "stdout",
     "output_type": "stream",
     "text": [
      "Demands that all parties to the conflict immediately cease hostilities, agree to a cease-fire, and bring an end to the mindless violence and carnage engulfing Rwanda;\n",
      "2. \n",
      "\n",
      " Exige que todas las partes en el conflicto pongan fin inmediatamente a las hostilidades, convengan en una cesación del fuego y pongan término a la violencia y la carnicería insensatas en que está sumida Rwanda;\n",
      "2. \n",
      "\n",
      " Exige que toutes les parties au conflit cessent immédiatement les hostilités, acceptent un cessez-le-feu et mettent fin à la violence et au carnage insensés dans lesquels est plongé le Rwanda; \n",
      "\n",
      " требует, чтобы все стороны в конфликте немедленно прекратили военные действия, договорились о прекращении огня и положили конец бессмысленному насилию и резне, охватившим Руанду;\n",
      " \n",
      "\n",
      " 要求卢旺达各当事方严格尊重联合国及其他在卢旺达服务的组织的人员和房地，并避免对从事人道主义和维持和平工作的人员进行任何恐吓或暴力行为；\n",
      "12.\n"
     ]
    }
   ],
   "source": [
    "print(example_eng_sent,'\\n\\n',example_es_sent, '\\n\\n',\n",
    "      example_fr_sent, '\\n\\n',example_ru_sent, '\\n\\n', example_zh_sent)"
   ]
  },
  {
   "cell_type": "markdown",
   "id": "0fc8c68a",
   "metadata": {},
   "source": [
    "### POS Tagging Mandarin Document"
   ]
  },
  {
   "cell_type": "code",
   "execution_count": 191,
   "id": "dbf113aa",
   "metadata": {},
   "outputs": [
    {
     "name": "stdout",
     "output_type": "stream",
     "text": [
      "Mandarin document POS tagged in: 0.15354585647583008 seconds.\n"
     ]
    }
   ],
   "source": [
    "start = time()\n",
    "zh_pos = [token.pos_ for token in zh_doc] \n",
    "print(\"Mandarin document POS tagged in:\", (time()-start), \"seconds.\")"
   ]
  },
  {
   "cell_type": "code",
   "execution_count": 194,
   "id": "ed845d4e",
   "metadata": {},
   "outputs": [
    {
     "name": "stdout",
     "output_type": "stream",
     "text": [
      "\n",
      "List of POS tags: {'INTJ', 'NOUN', 'X', 'NUM', 'DET', 'PRON', 'PART', 'ADP', 'VERB', 'PROPN', 'SPACE', 'CCONJ', 'ADV', 'ADJ', 'SCONJ', 'PUNCT'} \n",
      "\n",
      "POS count: 16\n"
     ]
    }
   ],
   "source": [
    "print('\\nList of POS tags:', set(zh_pos), '\\n\\nPOS count:', len(set(zh_pos)))"
   ]
  },
  {
   "cell_type": "markdown",
   "id": "777df2b6",
   "metadata": {},
   "source": [
    "### Dependency Tagging Mandarin File"
   ]
  },
  {
   "cell_type": "code",
   "execution_count": 195,
   "id": "9daee671",
   "metadata": {},
   "outputs": [
    {
     "name": "stdout",
     "output_type": "stream",
     "text": [
      "Mandarin document DEP tagged in: 0.20015501976013184 seconds.\n"
     ]
    }
   ],
   "source": [
    "start = time()\n",
    "zh_dep = [token.dep_ for token in zh_doc] \n",
    "print(\"Mandarin document DEP tagged in:\", (time()-start), \"seconds.\")"
   ]
  },
  {
   "cell_type": "code",
   "execution_count": 196,
   "id": "cee03704",
   "metadata": {},
   "outputs": [
    {
     "data": {
      "text/plain": [
       "['dep', 'punct', 'dep', 'nsubj', 'dep']"
      ]
     },
     "execution_count": 196,
     "metadata": {},
     "output_type": "execute_result"
    }
   ],
   "source": [
    "zh_dep[:5]"
   ]
  },
  {
   "cell_type": "code",
   "execution_count": 197,
   "id": "d4826be3",
   "metadata": {},
   "outputs": [
    {
     "data": {
      "text/plain": [
       "44"
      ]
     },
     "execution_count": 197,
     "metadata": {},
     "output_type": "execute_result"
    }
   ],
   "source": [
    "len(set(zh_dep))"
   ]
  },
  {
   "cell_type": "code",
   "execution_count": 198,
   "id": "b003849a",
   "metadata": {},
   "outputs": [
    {
     "name": "stdout",
     "output_type": "stream",
     "text": [
      "{'advmod:dvp', 'name', 'aux:asp', 'amod:ordmod', 'mark:clf', 'advmod:rcomp', 'nmod:topic', 'compound:nn', 'aux:ba', 'nmod:poss', 'cop', 'aux:prtmod', 'advcl:loc', 'nmod:prep', 'aux:modal', 'nmod:tmod', 'compound:vc', 'parataxis:prnmod', 'nmod:assmod', 'etc', 'nmod:range', 'advmod:loc', 'discourse'}\n"
     ]
    }
   ],
   "source": [
    "print(set(zh_dep)-set(eng_dep))"
   ]
  },
  {
   "cell_type": "markdown",
   "id": "2324c012",
   "metadata": {},
   "source": [
    "### Entity Tagging"
   ]
  },
  {
   "cell_type": "code",
   "execution_count": 199,
   "id": "99a9bfa8",
   "metadata": {},
   "outputs": [
    {
     "name": "stdout",
     "output_type": "stream",
     "text": [
      "Mandarin document entity tagged in: 0.551123857498169 seconds.\n"
     ]
    }
   ],
   "source": [
    "start = time()\n",
    "zh_ent = []\n",
    "zh_label = []\n",
    "for ent in zh_doc.ents:\n",
    "    zh_ent.append(ent.text)\n",
    "    zh_label.append(ent.label_)\n",
    "print(\"Mandarin document entity tagged in:\", (time()-start), \"seconds.\")"
   ]
  },
  {
   "cell_type": "code",
   "execution_count": 200,
   "id": "cdbb6845",
   "metadata": {},
   "outputs": [
    {
     "name": "stdout",
     "output_type": "stream",
     "text": [
      "{'ORG', 'LOC', 'LAW', 'WORK_OF_ART', 'FAC', 'PERCENT', 'ORDINAL', 'QUANTITY', 'CARDINAL', 'NORP', 'DATE', 'EVENT', 'PRODUCT', 'TIME', 'MONEY', 'LANGUAGE', 'PERSON', 'GPE'}\n"
     ]
    }
   ],
   "source": [
    "print(set(zh_label))"
   ]
  },
  {
   "cell_type": "code",
   "execution_count": 201,
   "id": "ca59709d",
   "metadata": {},
   "outputs": [],
   "source": [
    "zh_ents = np.column_stack((zh_ent, zh_label))"
   ]
  },
  {
   "cell_type": "code",
   "execution_count": 203,
   "id": "f4a59de1",
   "metadata": {},
   "outputs": [
    {
     "name": "stdout",
     "output_type": "stream",
     "text": [
      "[[')号' 'PERSON']\n",
      " ['1994年5月17日' 'DATE']\n",
      " ['卢旺达' 'GPE']\n",
      " ['联合国卢旺达援助团(联卢援助团)' 'ORG']\n",
      " ['1993年10月5日第872(1993' 'DATE']\n",
      " [')号' 'PERSON']\n",
      " ['1994年7月29日' 'DATE']\n",
      " [')号' 'PERSON']\n",
      " ['1994年4月21日第912' 'DATE']\n",
      " [')号' 'PERSON']] \n",
      "\n",
      "Length of Mandarin Entities: 35936\n"
     ]
    }
   ],
   "source": [
    "print(zh_ents[:10], '\\n\\nLength of Mandarin Entities:', len(zh_ents))"
   ]
  },
  {
   "cell_type": "markdown",
   "id": "6e523c72",
   "metadata": {},
   "source": [
    "## Arabic"
   ]
  },
  {
   "cell_type": "markdown",
   "id": "2a17ef56",
   "metadata": {},
   "source": [
    "Spacy does not have a module for processing Arabic, after looking into other resources I decided to go with camel."
   ]
  },
  {
   "cell_type": "code",
   "execution_count": 205,
   "id": "52f92148",
   "metadata": {},
   "outputs": [
    {
     "name": "stdout",
     "output_type": "stream",
     "text": [
      "Data loaded in: 0.1333611011505127 seconds.\n"
     ]
    }
   ],
   "source": [
    "# Loading in Arabic Files\n",
    "start = time()\n",
    "f = open('data/sixway/arabic.100k', 'r') # Reading in Arabic File\n",
    "arabic100 = f.read()\n",
    "print(\"Data loaded in:\", (time()-start), \"seconds.\")\n",
    "f.close()\n",
    "\n",
    "# Creating Smaller Slice to Analyze using SpaCy\n",
    "arabic_samp = arabic100[:1000000]"
   ]
  },
  {
   "cell_type": "markdown",
   "id": "3f77ef18",
   "metadata": {},
   "source": [
    "# Creating DataFrame for Analyzation"
   ]
  },
  {
   "cell_type": "code",
   "execution_count": 222,
   "id": "c53d244a",
   "metadata": {},
   "outputs": [],
   "source": [
    "data = {'Language': ['English', 'Spanish', 'French', 'Russian', 'Mandarin', 'Arabic'],\n",
    "        'Document' : [english_samp, spanish_samp, french_samp, russian_samp, mandarin_samp, arabic_samp],\n",
    "        'Word Tokens' : [eng_tokens, es_tokens, fr_tokens, ru_tokens, zh_tokens, 'null'],\n",
    "        'Word Token Length' : [len(eng_tokens), len(es_tokens), len(fr_tokens), len(ru_tokens), len(zh_tokens), 'null'],\n",
    "        'Sentence Tokens' : [eng_sent, es_sent, fr_sent, ru_sent, zh_sent, 'null'],\n",
    "        'Sentence Token Length' : [len(eng_sent), len(es_sent), len(fr_sent), len(ru_sent), len(zh_sent), 'null'],\n",
    "        'POS Set' : [set(eng_pos), set(es_pos), set(fr_pos), set(ru_pos), set(zh_pos), 'null'],\n",
    "        'POS Count' : [len(set(eng_pos)), len(set(es_pos)), len(set(fr_pos)), len(set(ru_pos)), len(set(zh_pos)), 'null'],\n",
    "        'Dependency': [set(eng_dep), set(es_dep), set(fr_dep), set(ru_dep), set(zh_dep), 'null'],\n",
    "        'Dependency Count' : [len(set(eng_dep)), len(set(es_dep)), len(set(fr_dep)), len(set(ru_dep)), len(set(zh_dep)), 'null'],\n",
    "        'Entity Label List' :[set(eng_label), set(es_label), set(fr_label), set(ru_label), set(zh_label), 'null'],\n",
    "        'Entity Label Count' : [len(set(eng_label)), len(set(es_label)), len(set(fr_label)), len(set(ru_label)), len(set(zh_label)), 'null'],\n",
    "        'Entity Count' : [len((eng_ent)), (len(es_ent)), len(set(fr_ent)), len(set(ru_ent)), len(set(zh_ent)), 'null'],\n",
    "       }"
   ]
  },
  {
   "cell_type": "code",
   "execution_count": 223,
   "id": "a4e88176",
   "metadata": {},
   "outputs": [],
   "source": [
    "sixway_df = pd.DataFrame(data)"
   ]
  },
  {
   "cell_type": "code",
   "execution_count": 224,
   "id": "41e04bf3",
   "metadata": {},
   "outputs": [
    {
     "data": {
      "text/html": [
       "<div>\n",
       "<style scoped>\n",
       "    .dataframe tbody tr th:only-of-type {\n",
       "        vertical-align: middle;\n",
       "    }\n",
       "\n",
       "    .dataframe tbody tr th {\n",
       "        vertical-align: top;\n",
       "    }\n",
       "\n",
       "    .dataframe thead th {\n",
       "        text-align: right;\n",
       "    }\n",
       "</style>\n",
       "<table border=\"1\" class=\"dataframe\">\n",
       "  <thead>\n",
       "    <tr style=\"text-align: right;\">\n",
       "      <th></th>\n",
       "      <th>Language</th>\n",
       "      <th>Document</th>\n",
       "      <th>Word Tokens</th>\n",
       "      <th>Word Token Length</th>\n",
       "      <th>Sentence Tokens</th>\n",
       "      <th>Sentence Token Length</th>\n",
       "      <th>POS Set</th>\n",
       "      <th>POS Count</th>\n",
       "      <th>Dependency</th>\n",
       "      <th>Dependency Count</th>\n",
       "      <th>Entity Label List</th>\n",
       "      <th>Entity Label Count</th>\n",
       "      <th>Entity Count</th>\n",
       "    </tr>\n",
       "  </thead>\n",
       "  <tbody>\n",
       "    <tr>\n",
       "      <th>0</th>\n",
       "      <td>English</td>\n",
       "      <td>RESOLUTION 918 (1994)\\nAdopted by the Security...</td>\n",
       "      <td>[RESOLUTION, 918, (, 1994, ), \\n, Adopted, by,...</td>\n",
       "      <td>177808</td>\n",
       "      <td>[RESOLUTION 918 (1994)\\nAdopted by the Securit...</td>\n",
       "      <td>6662</td>\n",
       "      <td>{INTJ, NOUN, X, NUM, DET, PRON, PART, ADP, VER...</td>\n",
       "      <td>18</td>\n",
       "      <td>{npadvmod, advcl, attr, acl, det, pcomp, quant...</td>\n",
       "      <td>45</td>\n",
       "      <td>{ORG, LAW, WORK_OF_ART, FAC, LOC, LANGUAGE, OR...</td>\n",
       "      <td>18</td>\n",
       "      <td>12124</td>\n",
       "    </tr>\n",
       "    <tr>\n",
       "      <th>1</th>\n",
       "      <td>Spanish</td>\n",
       "      <td>RESOLUCIÓN 918 (1994)\\nAprobada por el Consejo...</td>\n",
       "      <td>[RESOLUCIÓN, 918, (, 1994, ), \\n, Aprobada, po...</td>\n",
       "      <td>176209</td>\n",
       "      <td>[RESOLUCIÓN 918 (1994)\\nAprobada por el Consej...</td>\n",
       "      <td>4861</td>\n",
       "      <td>{INTJ, NOUN, NUM, DET, PRON, PART, ADP, VERB, ...</td>\n",
       "      <td>17</td>\n",
       "      <td>{expl:pass, advcl, det, acl, obl, conj, dep, c...</td>\n",
       "      <td>31</td>\n",
       "      <td>{MISC, LOC, ORG, PER}</td>\n",
       "      <td>4</td>\n",
       "      <td>9826</td>\n",
       "    </tr>\n",
       "    <tr>\n",
       "      <th>2</th>\n",
       "      <td>French</td>\n",
       "      <td>RESOLUTION 918 (1994)\\nAdoptée par le Conseil ...</td>\n",
       "      <td>[RESOLUTION, 918, (, 1994, ), \\n, Adoptée, par...</td>\n",
       "      <td>181823</td>\n",
       "      <td>[RESOLUTION 918 (1994)\\n, Adoptée, par le Cons...</td>\n",
       "      <td>9440</td>\n",
       "      <td>{NOUN, X, NUM, DET, PRON, ADP, VERB, PROPN, SP...</td>\n",
       "      <td>16</td>\n",
       "      <td>{aux:tense, expl:pass, advcl, det, acl, obl:ag...</td>\n",
       "      <td>36</td>\n",
       "      <td>{MISC, ORG, LOC, PER}</td>\n",
       "      <td>4</td>\n",
       "      <td>2762</td>\n",
       "    </tr>\n",
       "    <tr>\n",
       "      <th>3</th>\n",
       "      <td>Russian</td>\n",
       "      <td>РЕЗОЛЮЦИЯ 918 (1994),\\nпринятая Советом Безопа...</td>\n",
       "      <td>[РЕЗОЛЮЦИЯ, 918, (, 1994, ), ,, \\n, принятая, ...</td>\n",
       "      <td>153964</td>\n",
       "      <td>[РЕЗОЛЮЦИЯ 918 (1994),\\n, принятая Советом Без...</td>\n",
       "      <td>9310</td>\n",
       "      <td>{INTJ, NOUN, X, NUM, DET, PRON, PART, ADP, VER...</td>\n",
       "      <td>18</td>\n",
       "      <td>{advcl, det, acl, orphan, obl:agent, obl, conj...</td>\n",
       "      <td>40</td>\n",
       "      <td>{ORG, LOC, PER}</td>\n",
       "      <td>3</td>\n",
       "      <td>2126</td>\n",
       "    </tr>\n",
       "    <tr>\n",
       "      <th>4</th>\n",
       "      <td>Mandarin</td>\n",
       "      <td>第918(1994)号决议\\n1994年5月17日安全理事会第3377次会议通过\\n安全理事...</td>\n",
       "      <td>[第918, (, 1994, )号, 决议, \\n, 1994年, 5月, 17日, 安全...</td>\n",
       "      <td>553748</td>\n",
       "      <td>[第918(1994)号决议\\n1994年5月17日安全理事会第3377次会议通过\\n安全理...</td>\n",
       "      <td>23363</td>\n",
       "      <td>{INTJ, NOUN, X, NUM, DET, PRON, PART, ADP, VER...</td>\n",
       "      <td>16</td>\n",
       "      <td>{advmod:dvp, name, aux:asp, amod:ordmod, mark:...</td>\n",
       "      <td>44</td>\n",
       "      <td>{ORG, LOC, LAW, WORK_OF_ART, FAC, PERCENT, ORD...</td>\n",
       "      <td>18</td>\n",
       "      <td>9476</td>\n",
       "    </tr>\n",
       "    <tr>\n",
       "      <th>5</th>\n",
       "      <td>Arabic</td>\n",
       "      <td>القرار ٨١٩ )٤٩٩١(\\nالذي اتخذه مجلس اﻷمن في جلس...</td>\n",
       "      <td>null</td>\n",
       "      <td>null</td>\n",
       "      <td>null</td>\n",
       "      <td>null</td>\n",
       "      <td>null</td>\n",
       "      <td>null</td>\n",
       "      <td>null</td>\n",
       "      <td>null</td>\n",
       "      <td>null</td>\n",
       "      <td>null</td>\n",
       "      <td>null</td>\n",
       "    </tr>\n",
       "  </tbody>\n",
       "</table>\n",
       "</div>"
      ],
      "text/plain": [
       "   Language                                           Document  \\\n",
       "0   English  RESOLUTION 918 (1994)\\nAdopted by the Security...   \n",
       "1   Spanish  RESOLUCIÓN 918 (1994)\\nAprobada por el Consejo...   \n",
       "2    French  RESOLUTION 918 (1994)\\nAdoptée par le Conseil ...   \n",
       "3   Russian  РЕЗОЛЮЦИЯ 918 (1994),\\nпринятая Советом Безопа...   \n",
       "4  Mandarin  第918(1994)号决议\\n1994年5月17日安全理事会第3377次会议通过\\n安全理事...   \n",
       "5    Arabic  القرار ٨١٩ )٤٩٩١(\\nالذي اتخذه مجلس اﻷمن في جلس...   \n",
       "\n",
       "                                         Word Tokens Word Token Length  \\\n",
       "0  [RESOLUTION, 918, (, 1994, ), \\n, Adopted, by,...            177808   \n",
       "1  [RESOLUCIÓN, 918, (, 1994, ), \\n, Aprobada, po...            176209   \n",
       "2  [RESOLUTION, 918, (, 1994, ), \\n, Adoptée, par...            181823   \n",
       "3  [РЕЗОЛЮЦИЯ, 918, (, 1994, ), ,, \\n, принятая, ...            153964   \n",
       "4  [第918, (, 1994, )号, 决议, \\n, 1994年, 5月, 17日, 安全...            553748   \n",
       "5                                               null              null   \n",
       "\n",
       "                                     Sentence Tokens Sentence Token Length  \\\n",
       "0  [RESOLUTION 918 (1994)\\nAdopted by the Securit...                  6662   \n",
       "1  [RESOLUCIÓN 918 (1994)\\nAprobada por el Consej...                  4861   \n",
       "2  [RESOLUTION 918 (1994)\\n, Adoptée, par le Cons...                  9440   \n",
       "3  [РЕЗОЛЮЦИЯ 918 (1994),\\n, принятая Советом Без...                  9310   \n",
       "4  [第918(1994)号决议\\n1994年5月17日安全理事会第3377次会议通过\\n安全理...                 23363   \n",
       "5                                               null                  null   \n",
       "\n",
       "                                             POS Set POS Count  \\\n",
       "0  {INTJ, NOUN, X, NUM, DET, PRON, PART, ADP, VER...        18   \n",
       "1  {INTJ, NOUN, NUM, DET, PRON, PART, ADP, VERB, ...        17   \n",
       "2  {NOUN, X, NUM, DET, PRON, ADP, VERB, PROPN, SP...        16   \n",
       "3  {INTJ, NOUN, X, NUM, DET, PRON, PART, ADP, VER...        18   \n",
       "4  {INTJ, NOUN, X, NUM, DET, PRON, PART, ADP, VER...        16   \n",
       "5                                               null      null   \n",
       "\n",
       "                                          Dependency Dependency Count  \\\n",
       "0  {npadvmod, advcl, attr, acl, det, pcomp, quant...               45   \n",
       "1  {expl:pass, advcl, det, acl, obl, conj, dep, c...               31   \n",
       "2  {aux:tense, expl:pass, advcl, det, acl, obl:ag...               36   \n",
       "3  {advcl, det, acl, orphan, obl:agent, obl, conj...               40   \n",
       "4  {advmod:dvp, name, aux:asp, amod:ordmod, mark:...               44   \n",
       "5                                               null             null   \n",
       "\n",
       "                                   Entity Label List Entity Label Count  \\\n",
       "0  {ORG, LAW, WORK_OF_ART, FAC, LOC, LANGUAGE, OR...                 18   \n",
       "1                              {MISC, LOC, ORG, PER}                  4   \n",
       "2                              {MISC, ORG, LOC, PER}                  4   \n",
       "3                                    {ORG, LOC, PER}                  3   \n",
       "4  {ORG, LOC, LAW, WORK_OF_ART, FAC, PERCENT, ORD...                 18   \n",
       "5                                               null               null   \n",
       "\n",
       "  Entity Count  \n",
       "0        12124  \n",
       "1         9826  \n",
       "2         2762  \n",
       "3         2126  \n",
       "4         9476  \n",
       "5         null  "
      ]
     },
     "execution_count": 224,
     "metadata": {},
     "output_type": "execute_result"
    }
   ],
   "source": [
    "sixway_df"
   ]
  },
  {
   "cell_type": "code",
   "execution_count": null,
   "id": "4a0a0fcd",
   "metadata": {},
   "outputs": [],
   "source": []
  }
 ],
 "metadata": {
  "kernelspec": {
   "display_name": "Python 3 (ipykernel)",
   "language": "python",
   "name": "python3"
  },
  "language_info": {
   "codemirror_mode": {
    "name": "ipython",
    "version": 3
   },
   "file_extension": ".py",
   "mimetype": "text/x-python",
   "name": "python",
   "nbconvert_exporter": "python",
   "pygments_lexer": "ipython3",
   "version": "3.9.7"
  }
 },
 "nbformat": 4,
 "nbformat_minor": 5
}
