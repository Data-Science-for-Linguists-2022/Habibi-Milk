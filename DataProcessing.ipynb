{
 "cells": [
  {
   "cell_type": "markdown",
   "id": "37712c24",
   "metadata": {},
   "source": [
    "# United Nations Parallel Corpora Analysis using SpaCy and Camel\n",
    "### Kinan Al-Mouk / kim47@pitt.edu "
   ]
  },
  {
   "cell_type": "markdown",
   "id": "fbd3d511",
   "metadata": {},
   "source": [
    "## Table of Contents \n",
    "[`Imports`](#Importing-Tools)\n",
    "\n",
    "[`Uploading and Processing Data`](#Uploading-and-Processing-Data-using-Spacy)\n",
    "    \n",
    "   - [`English`](#English)\n",
    "       - [Reading File](#Reading-in-English-File)\n",
    "       - [Downloading SpaCy English Module](#Downloading-SpaCy-object-for-English-processing)\n",
    "       - [Word Tokenizing](#Word-Tokenizing-English-Document)\n",
    "       - [Sentence Tokenizing](#Sentence-Tokenizing-English-Document)\n",
    "       - [POS Tagging](#POS-Tagging-English-Document)\n",
    "       - [Dependency Tagging](#Dependency-Tagging-English-Document)\n",
    "           - Image Rendering\n",
    "       - [Stop Word Tagging](#Eng-Stop-Word-Tagging)\n",
    "       - [Entity Tagging](#English-Entity-Tagging)\n",
    "   - [`Spanish`](#Spanish)\n",
    "       - [Reading File](#Reading-in-Spanish-File)\n",
    "       - [Word Tokenizing](#Word-Tokenizing-Spanish-Document)\n",
    "       - [Sentence Tokenizing](#Sentence-Tokenizing-Spanish-Document)\n",
    "       - [POS Tagging](#POS-Tagging-Spanish-Document)\n",
    "       - [Dependency Tagging](#Dependency-Tagging-Spanish-Document)\n",
    "           - Image Rendering\n",
    "       - [Entity Tagging](#Spanish-Entity-Tagging)\n",
    "   - [`French`](#French)\n",
    "       - [Reading File](#Reading-in-French-File)\n",
    "       - [Word Tokenizing](#Word-Tokenizing-French-Document)\n",
    "       - [Sentence Tokenizing](#Sentence-Tokenizing-French-Document)\n",
    "       - [POS Tagging](#POS-Tagging-French-Document)\n",
    "       - [Dependency Tagging](#Dependency-Tagging-French-Document)\n",
    "           - Image Rendering\n",
    "       - [Entity Tagging](#French-Entity-Tagging)\n",
    "   - [`Russian`](#Russian)\n",
    "       - [Reading File](#Reading-in-Russian-File)\n",
    "       - [Word Tokenizing](#Word-Tokenizing-Russian-Document)\n",
    "       - [Sentence Tokenizing](#Sentence-Tokenizing-Russian-Document)\n",
    "       - [POS Tagging](#POS-Tagging-Russian-Document)\n",
    "       - [Dependency Tagging](#Dependency-Tagging-Russian-Document)\n",
    "       - [Entity Tagging](#Russian-Entity-Tagging)\n",
    "   - [`Chinese`](#Chinese)\n",
    "       - [Reading File](#Reading-in-Mandarin-File)\n",
    "       - [Word Tokenizing](#Word-Tokenizing-Mandarin-Document)\n",
    "       - [Sentence Tokenizing](#Sentence-Tokenizing-Mandarin-Document)\n",
    "       - [POS Tagging](#POS-Tagging-Mandarin-Document)\n",
    "       - [Dependency Tagging](#Dependency-Tagging-Mandarin-Document)\n",
    "       - [Entity Tagging](#Mandarin-Entity-Tagging)\n",
    "   - [`Arabic`](#Arabic)\n",
    "   \n",
    "[`Creating DataFrame for Analyzation`](#Creating-DataFrame-for-Analyzation)\n",
    "    - [Compiling Data](#Compiling-Data)\n",
    "        \n",
    "  \n"
   ]
  },
  {
   "cell_type": "markdown",
   "id": "daa8f88c",
   "metadata": {},
   "source": [
    "# Importing Tools"
   ]
  },
  {
   "cell_type": "code",
   "execution_count": 1,
   "id": "8b6b5d30",
   "metadata": {},
   "outputs": [],
   "source": [
    "import nltk \n",
    "import pickle\n",
    "from time import time\n",
    "import numpy as np \n",
    "import pandas as pd "
   ]
  },
  {
   "cell_type": "code",
   "execution_count": 2,
   "id": "f290dd68",
   "metadata": {},
   "outputs": [],
   "source": [
    "import spacy"
   ]
  },
  {
   "cell_type": "markdown",
   "id": "39dd1b2e",
   "metadata": {},
   "source": [
    "I am using [SpaCy](https://spacy.io/) for NLP of **English, Spanish, French, Russian**, and **Mandarin Chinese** in order to ensure that the tokenization for each langauge remains accurate since NLTK is mostly and primarily used for English language NLP.\n",
    "\n",
    "However there is no [SpaCy](https://spacy.io/) module that can allow me to process the **Arabic** files. At the moment I am still looking into other resources."
   ]
  },
  {
   "cell_type": "markdown",
   "id": "f7709a88",
   "metadata": {},
   "source": [
    "# Uploading and Processing Data using Spacy"
   ]
  },
  {
   "cell_type": "markdown",
   "id": "8ae77cc6",
   "metadata": {},
   "source": [
    "## English"
   ]
  },
  {
   "cell_type": "markdown",
   "id": "460b964a",
   "metadata": {},
   "source": [
    "### Reading in File"
   ]
  },
  {
   "cell_type": "code",
   "execution_count": 3,
   "id": "8c09401c",
   "metadata": {},
   "outputs": [
    {
     "name": "stdout",
     "output_type": "stream",
     "text": [
      "Data loaded in: 0.1364610195159912 seconds.\n"
     ]
    }
   ],
   "source": [
    "# Loading in English Files\n",
    "start = time()\n",
    "f = open('data/sixway/english.100k', 'r') # Reading in English File\n",
    "english = f.read()\n",
    "print(\"Data loaded in:\", (time()-start), \"seconds.\")\n",
    "f.close()"
   ]
  },
  {
   "cell_type": "markdown",
   "id": "de7d28f2",
   "metadata": {},
   "source": [
    "### Downloading SpaCy object for English processing"
   ]
  },
  {
   "cell_type": "code",
   "execution_count": 4,
   "id": "aa8fbd5d",
   "metadata": {},
   "outputs": [],
   "source": [
    "english_samp = english[:1000000] # 1000000 is the characther limit for SpaCy processing"
   ]
  },
  {
   "cell_type": "code",
   "execution_count": 5,
   "id": "121f0e33",
   "metadata": {},
   "outputs": [
    {
     "name": "stdout",
     "output_type": "stream",
     "text": [
      "English document processed in: 82.42439794540405 seconds.\n"
     ]
    }
   ],
   "source": [
    "start = time()\n",
    "nlp = spacy.load('en_core_web_sm')\n",
    "eng_doc = nlp(english_samp)\n",
    "\n",
    "print(\"English document processed in:\", (time()-start), \"seconds.\")"
   ]
  },
  {
   "cell_type": "markdown",
   "id": "19c42eda",
   "metadata": {},
   "source": [
    "Here I am using the `time` function to see how long it takes to train files in [SpaCy](https://spacy.io/)'s processor. It takes the English document about 86.43 seconds to complete. This is not long in comparision to the amount of time it takes **Mandarin** to complete."
   ]
  },
  {
   "cell_type": "markdown",
   "id": "02d7ef26",
   "metadata": {},
   "source": [
    "### Word Tokenizing English Document"
   ]
  },
  {
   "cell_type": "code",
   "execution_count": 6,
   "id": "07c2e6c0",
   "metadata": {},
   "outputs": [
    {
     "name": "stdout",
     "output_type": "stream",
     "text": [
      "English document word tokenized in: 0.31888604164123535 seconds.\n"
     ]
    }
   ],
   "source": [
    "start = time()\n",
    "\n",
    "eng_tokens = [token for token in eng_doc]  # Tokenizing Document\n",
    "\n",
    "print(\"English document word tokenized in:\", (time()-start), \"seconds.\")"
   ]
  },
  {
   "cell_type": "code",
   "execution_count": 7,
   "id": "dd305956",
   "metadata": {},
   "outputs": [
    {
     "name": "stdout",
     "output_type": "stream",
     "text": [
      "English Word Tokens Count: 177808 \n",
      " \n",
      " [RESOLUTION, 918, (, 1994, ), \n",
      ", Adopted, by, the, Security, Council, at, its, 3377th, meeting, ,, on, 17, May, 1994]\n"
     ]
    }
   ],
   "source": [
    "print('English Word Tokens Count:', len(eng_tokens), '\\n \\n', eng_tokens[:20])"
   ]
  },
  {
   "cell_type": "markdown",
   "id": "51101789",
   "metadata": {},
   "source": [
    "[SpaCy's Tokenizer](https://spacy.io/api/tokenizer) segments text into words, puncutation marks, etc. Additionally it creates a `Doc` object with the discovered segment boundaries. Their **global** and **langauge-specific** data is supplied via the langauge data in [`spacy/lang`]"
   ]
  },
  {
   "cell_type": "markdown",
   "id": "4ee0f802",
   "metadata": {},
   "source": [
    "### Sentence Tokenizing English Document"
   ]
  },
  {
   "cell_type": "code",
   "execution_count": 8,
   "id": "55de0ca2",
   "metadata": {},
   "outputs": [
    {
     "name": "stdout",
     "output_type": "stream",
     "text": [
      "English document sentence tokenized in: 0.14964914321899414 seconds.\n"
     ]
    }
   ],
   "source": [
    "start = time()\n",
    "eng_sent = [sent.text for sent in eng_doc.sents]\n",
    "print(\"English document sentence tokenized in:\", (time()-start), \"seconds.\")"
   ]
  },
  {
   "cell_type": "code",
   "execution_count": 9,
   "id": "1bfcf6da",
   "metadata": {},
   "outputs": [
    {
     "data": {
      "text/plain": [
       "6662"
      ]
     },
     "execution_count": 9,
     "metadata": {},
     "output_type": "execute_result"
    }
   ],
   "source": [
    "len(eng_sent)"
   ]
  },
  {
   "cell_type": "code",
   "execution_count": 10,
   "id": "8f000c34",
   "metadata": {},
   "outputs": [
    {
     "name": "stdout",
     "output_type": "stream",
     "text": [
      "Demands that all parties to the conflict immediately cease hostilities, agree to a cease-fire, and bring an end to the mindless violence and carnage engulfing Rwanda;\n",
      "2.\n"
     ]
    }
   ],
   "source": [
    "example_eng_sent = eng_sent[1]\n",
    "print(example_eng_sent)"
   ]
  },
  {
   "cell_type": "markdown",
   "id": "ead4e372",
   "metadata": {},
   "source": [
    "### POS Tagging English Document"
   ]
  },
  {
   "cell_type": "code",
   "execution_count": 11,
   "id": "a1b62178",
   "metadata": {},
   "outputs": [
    {
     "name": "stdout",
     "output_type": "stream",
     "text": [
      "English document POS tagged in: 0.07286930084228516 seconds.\n"
     ]
    }
   ],
   "source": [
    "start = time()\n",
    "eng_pos = [token.pos_ for token in eng_doc] \n",
    "print(\"English document POS tagged in:\", (time()-start), \"seconds.\")"
   ]
  },
  {
   "cell_type": "code",
   "execution_count": 12,
   "id": "2fb79d77",
   "metadata": {},
   "outputs": [
    {
     "name": "stdout",
     "output_type": "stream",
     "text": [
      "\n",
      "List of POS tags: {'ADP', 'AUX', 'SPACE', 'PUNCT', 'ADV', 'SYM', 'ADJ', 'SCONJ', 'PART', 'DET', 'INTJ', 'CCONJ', 'NUM', 'PRON', 'VERB', 'X', 'NOUN', 'PROPN'} \n",
      "\n",
      "POS count: 18\n"
     ]
    }
   ],
   "source": [
    "print('\\nList of POS tags:', set(eng_pos), '\\n\\nPOS count:', len(set(eng_pos)))"
   ]
  },
  {
   "cell_type": "markdown",
   "id": "bf396e7b",
   "metadata": {},
   "source": [
    "The [SpaCy](https://spacy.io/) library is quite easy. All that is neccessary is tot instantiate a [SpaCy](https://spacy.io/) object as doc, then iterate over the `Doc` object and use `pos_` to print the **POS**."
   ]
  },
  {
   "cell_type": "markdown",
   "id": "570be211",
   "metadata": {},
   "source": [
    "### Dependency Tagging"
   ]
  },
  {
   "cell_type": "code",
   "execution_count": 116,
   "id": "882de825",
   "metadata": {},
   "outputs": [],
   "source": [
    "from spacy import displacy\n",
    "from pathlib import Path\n"
   ]
  },
  {
   "cell_type": "code",
   "execution_count": 14,
   "id": "27f80922",
   "metadata": {},
   "outputs": [
    {
     "name": "stdout",
     "output_type": "stream",
     "text": [
      "English document DEP tagged in: 0.0771491527557373 seconds.\n"
     ]
    }
   ],
   "source": [
    "start = time()\n",
    "eng_dep = [token.dep_ for token in eng_doc] \n",
    "print(\"English document DEP tagged in:\", (time()-start), \"seconds.\")"
   ]
  },
  {
   "cell_type": "code",
   "execution_count": 15,
   "id": "0a2fe978",
   "metadata": {},
   "outputs": [
    {
     "data": {
      "text/plain": [
       "['nsubj', 'nummod', 'punct', 'npadvmod', 'punct']"
      ]
     },
     "execution_count": 15,
     "metadata": {},
     "output_type": "execute_result"
    }
   ],
   "source": [
    "eng_dep[:5]"
   ]
  },
  {
   "cell_type": "code",
   "execution_count": 16,
   "id": "b5405d5a",
   "metadata": {},
   "outputs": [
    {
     "data": {
      "text/plain": [
       "45"
      ]
     },
     "execution_count": 16,
     "metadata": {},
     "output_type": "execute_result"
    }
   ],
   "source": [
    "len(set(eng_dep))"
   ]
  },
  {
   "cell_type": "markdown",
   "id": "a50b0720",
   "metadata": {},
   "source": [
    "[SpaCy](https://spacy.io/)'s **dependency parser** come with a visualiztion module. We can pass a Doc or a list of Doc objects to displaCy and run `displacy.render` to generate the raw markup. I am using the example sentence from above `example_eng_sent` because it is one of the shortest sentences I managed to find. "
   ]
  },
  {
   "cell_type": "code",
   "execution_count": 153,
   "id": "94e4fddc",
   "metadata": {},
   "outputs": [
    {
     "data": {
      "text/html": [
       "<span class=\"tex2jax_ignore\"><svg xmlns=\"http://www.w3.org/2000/svg\" xmlns:xlink=\"http://www.w3.org/1999/xlink\" xml:lang=\"zh\" id=\"b54d90f66988410491a89d3b122ccd67-0\" class=\"displacy\" width=\"4950\" height=\"1012.0\" direction=\"ltr\" style=\"max-width: none; height: 1012.0px; color: #000000; background: #ffffff; font-family: Arial; direction: ltr\">\n",
       "<text class=\"displacy-token\" fill=\"currentColor\" text-anchor=\"middle\" y=\"922.0\">\n",
       "    <tspan class=\"displacy-word\" fill=\"currentColor\" x=\"50\">Demands</tspan>\n",
       "    <tspan class=\"displacy-tag\" dy=\"2em\" fill=\"currentColor\" x=\"50\">PROPN</tspan>\n",
       "</text>\n",
       "\n",
       "<text class=\"displacy-token\" fill=\"currentColor\" text-anchor=\"middle\" y=\"922.0\">\n",
       "    <tspan class=\"displacy-word\" fill=\"currentColor\" x=\"225\">that</tspan>\n",
       "    <tspan class=\"displacy-tag\" dy=\"2em\" fill=\"currentColor\" x=\"225\">NOUN</tspan>\n",
       "</text>\n",
       "\n",
       "<text class=\"displacy-token\" fill=\"currentColor\" text-anchor=\"middle\" y=\"922.0\">\n",
       "    <tspan class=\"displacy-word\" fill=\"currentColor\" x=\"400\">all</tspan>\n",
       "    <tspan class=\"displacy-tag\" dy=\"2em\" fill=\"currentColor\" x=\"400\">DET</tspan>\n",
       "</text>\n",
       "\n",
       "<text class=\"displacy-token\" fill=\"currentColor\" text-anchor=\"middle\" y=\"922.0\">\n",
       "    <tspan class=\"displacy-word\" fill=\"currentColor\" x=\"575\">parties</tspan>\n",
       "    <tspan class=\"displacy-tag\" dy=\"2em\" fill=\"currentColor\" x=\"575\">VERB</tspan>\n",
       "</text>\n",
       "\n",
       "<text class=\"displacy-token\" fill=\"currentColor\" text-anchor=\"middle\" y=\"922.0\">\n",
       "    <tspan class=\"displacy-word\" fill=\"currentColor\" x=\"750\">to</tspan>\n",
       "    <tspan class=\"displacy-tag\" dy=\"2em\" fill=\"currentColor\" x=\"750\">ADP</tspan>\n",
       "</text>\n",
       "\n",
       "<text class=\"displacy-token\" fill=\"currentColor\" text-anchor=\"middle\" y=\"922.0\">\n",
       "    <tspan class=\"displacy-word\" fill=\"currentColor\" x=\"925\">the</tspan>\n",
       "    <tspan class=\"displacy-tag\" dy=\"2em\" fill=\"currentColor\" x=\"925\">DET</tspan>\n",
       "</text>\n",
       "\n",
       "<text class=\"displacy-token\" fill=\"currentColor\" text-anchor=\"middle\" y=\"922.0\">\n",
       "    <tspan class=\"displacy-word\" fill=\"currentColor\" x=\"1100\">conflict</tspan>\n",
       "    <tspan class=\"displacy-tag\" dy=\"2em\" fill=\"currentColor\" x=\"1100\">NOUN</tspan>\n",
       "</text>\n",
       "\n",
       "<text class=\"displacy-token\" fill=\"currentColor\" text-anchor=\"middle\" y=\"922.0\">\n",
       "    <tspan class=\"displacy-word\" fill=\"currentColor\" x=\"1275\">immediately</tspan>\n",
       "    <tspan class=\"displacy-tag\" dy=\"2em\" fill=\"currentColor\" x=\"1275\">VERB</tspan>\n",
       "</text>\n",
       "\n",
       "<text class=\"displacy-token\" fill=\"currentColor\" text-anchor=\"middle\" y=\"922.0\">\n",
       "    <tspan class=\"displacy-word\" fill=\"currentColor\" x=\"1450\">cease</tspan>\n",
       "    <tspan class=\"displacy-tag\" dy=\"2em\" fill=\"currentColor\" x=\"1450\">VERB</tspan>\n",
       "</text>\n",
       "\n",
       "<text class=\"displacy-token\" fill=\"currentColor\" text-anchor=\"middle\" y=\"922.0\">\n",
       "    <tspan class=\"displacy-word\" fill=\"currentColor\" x=\"1625\">hostilities,</tspan>\n",
       "    <tspan class=\"displacy-tag\" dy=\"2em\" fill=\"currentColor\" x=\"1625\">NOUN</tspan>\n",
       "</text>\n",
       "\n",
       "<text class=\"displacy-token\" fill=\"currentColor\" text-anchor=\"middle\" y=\"922.0\">\n",
       "    <tspan class=\"displacy-word\" fill=\"currentColor\" x=\"1800\">agree</tspan>\n",
       "    <tspan class=\"displacy-tag\" dy=\"2em\" fill=\"currentColor\" x=\"1800\">ADV</tspan>\n",
       "</text>\n",
       "\n",
       "<text class=\"displacy-token\" fill=\"currentColor\" text-anchor=\"middle\" y=\"922.0\">\n",
       "    <tspan class=\"displacy-word\" fill=\"currentColor\" x=\"1975\">to</tspan>\n",
       "    <tspan class=\"displacy-tag\" dy=\"2em\" fill=\"currentColor\" x=\"1975\">ADP</tspan>\n",
       "</text>\n",
       "\n",
       "<text class=\"displacy-token\" fill=\"currentColor\" text-anchor=\"middle\" y=\"922.0\">\n",
       "    <tspan class=\"displacy-word\" fill=\"currentColor\" x=\"2150\">a</tspan>\n",
       "    <tspan class=\"displacy-tag\" dy=\"2em\" fill=\"currentColor\" x=\"2150\">VERB</tspan>\n",
       "</text>\n",
       "\n",
       "<text class=\"displacy-token\" fill=\"currentColor\" text-anchor=\"middle\" y=\"922.0\">\n",
       "    <tspan class=\"displacy-word\" fill=\"currentColor\" x=\"2325\">cease-fire,</tspan>\n",
       "    <tspan class=\"displacy-tag\" dy=\"2em\" fill=\"currentColor\" x=\"2325\">NOUN</tspan>\n",
       "</text>\n",
       "\n",
       "<text class=\"displacy-token\" fill=\"currentColor\" text-anchor=\"middle\" y=\"922.0\">\n",
       "    <tspan class=\"displacy-word\" fill=\"currentColor\" x=\"2500\">and</tspan>\n",
       "    <tspan class=\"displacy-tag\" dy=\"2em\" fill=\"currentColor\" x=\"2500\">CCONJ</tspan>\n",
       "</text>\n",
       "\n",
       "<text class=\"displacy-token\" fill=\"currentColor\" text-anchor=\"middle\" y=\"922.0\">\n",
       "    <tspan class=\"displacy-word\" fill=\"currentColor\" x=\"2675\">bring</tspan>\n",
       "    <tspan class=\"displacy-tag\" dy=\"2em\" fill=\"currentColor\" x=\"2675\">PROPN</tspan>\n",
       "</text>\n",
       "\n",
       "<text class=\"displacy-token\" fill=\"currentColor\" text-anchor=\"middle\" y=\"922.0\">\n",
       "    <tspan class=\"displacy-word\" fill=\"currentColor\" x=\"2850\">an</tspan>\n",
       "    <tspan class=\"displacy-tag\" dy=\"2em\" fill=\"currentColor\" x=\"2850\">ADJ</tspan>\n",
       "</text>\n",
       "\n",
       "<text class=\"displacy-token\" fill=\"currentColor\" text-anchor=\"middle\" y=\"922.0\">\n",
       "    <tspan class=\"displacy-word\" fill=\"currentColor\" x=\"3025\">end</tspan>\n",
       "    <tspan class=\"displacy-tag\" dy=\"2em\" fill=\"currentColor\" x=\"3025\">NOUN</tspan>\n",
       "</text>\n",
       "\n",
       "<text class=\"displacy-token\" fill=\"currentColor\" text-anchor=\"middle\" y=\"922.0\">\n",
       "    <tspan class=\"displacy-word\" fill=\"currentColor\" x=\"3200\">to</tspan>\n",
       "    <tspan class=\"displacy-tag\" dy=\"2em\" fill=\"currentColor\" x=\"3200\">ADP</tspan>\n",
       "</text>\n",
       "\n",
       "<text class=\"displacy-token\" fill=\"currentColor\" text-anchor=\"middle\" y=\"922.0\">\n",
       "    <tspan class=\"displacy-word\" fill=\"currentColor\" x=\"3375\">the</tspan>\n",
       "    <tspan class=\"displacy-tag\" dy=\"2em\" fill=\"currentColor\" x=\"3375\">DET</tspan>\n",
       "</text>\n",
       "\n",
       "<text class=\"displacy-token\" fill=\"currentColor\" text-anchor=\"middle\" y=\"922.0\">\n",
       "    <tspan class=\"displacy-word\" fill=\"currentColor\" x=\"3550\">mindless</tspan>\n",
       "    <tspan class=\"displacy-tag\" dy=\"2em\" fill=\"currentColor\" x=\"3550\">NOUN</tspan>\n",
       "</text>\n",
       "\n",
       "<text class=\"displacy-token\" fill=\"currentColor\" text-anchor=\"middle\" y=\"922.0\">\n",
       "    <tspan class=\"displacy-word\" fill=\"currentColor\" x=\"3725\">violence</tspan>\n",
       "    <tspan class=\"displacy-tag\" dy=\"2em\" fill=\"currentColor\" x=\"3725\">NOUN</tspan>\n",
       "</text>\n",
       "\n",
       "<text class=\"displacy-token\" fill=\"currentColor\" text-anchor=\"middle\" y=\"922.0\">\n",
       "    <tspan class=\"displacy-word\" fill=\"currentColor\" x=\"3900\">and</tspan>\n",
       "    <tspan class=\"displacy-tag\" dy=\"2em\" fill=\"currentColor\" x=\"3900\">CCONJ</tspan>\n",
       "</text>\n",
       "\n",
       "<text class=\"displacy-token\" fill=\"currentColor\" text-anchor=\"middle\" y=\"922.0\">\n",
       "    <tspan class=\"displacy-word\" fill=\"currentColor\" x=\"4075\">carnage</tspan>\n",
       "    <tspan class=\"displacy-tag\" dy=\"2em\" fill=\"currentColor\" x=\"4075\">VERB</tspan>\n",
       "</text>\n",
       "\n",
       "<text class=\"displacy-token\" fill=\"currentColor\" text-anchor=\"middle\" y=\"922.0\">\n",
       "    <tspan class=\"displacy-word\" fill=\"currentColor\" x=\"4250\">engulfing</tspan>\n",
       "    <tspan class=\"displacy-tag\" dy=\"2em\" fill=\"currentColor\" x=\"4250\">VERB</tspan>\n",
       "</text>\n",
       "\n",
       "<text class=\"displacy-token\" fill=\"currentColor\" text-anchor=\"middle\" y=\"922.0\">\n",
       "    <tspan class=\"displacy-word\" fill=\"currentColor\" x=\"4425\">Rwanda;</tspan>\n",
       "    <tspan class=\"displacy-tag\" dy=\"2em\" fill=\"currentColor\" x=\"4425\">NUM</tspan>\n",
       "</text>\n",
       "\n",
       "<text class=\"displacy-token\" fill=\"currentColor\" text-anchor=\"middle\" y=\"922.0\">\n",
       "    <tspan class=\"displacy-word\" fill=\"currentColor\" x=\"4600\">\n",
       "</tspan>\n",
       "    <tspan class=\"displacy-tag\" dy=\"2em\" fill=\"currentColor\" x=\"4600\">SPACE</tspan>\n",
       "</text>\n",
       "\n",
       "<text class=\"displacy-token\" fill=\"currentColor\" text-anchor=\"middle\" y=\"922.0\">\n",
       "    <tspan class=\"displacy-word\" fill=\"currentColor\" x=\"4775\">2.</tspan>\n",
       "    <tspan class=\"displacy-tag\" dy=\"2em\" fill=\"currentColor\" x=\"4775\">NUM</tspan>\n",
       "</text>\n",
       "\n",
       "<g class=\"displacy-arrow\">\n",
       "    <path class=\"displacy-arc\" id=\"arrow-b54d90f66988410491a89d3b122ccd67-0-0\" stroke-width=\"2px\" d=\"M70,877.0 C70,789.5 180.0,789.5 180.0,877.0\" fill=\"none\" stroke=\"currentColor\"/>\n",
       "    <text dy=\"1.25em\" style=\"font-size: 0.8em; letter-spacing: 1px\">\n",
       "        <textPath xlink:href=\"#arrow-b54d90f66988410491a89d3b122ccd67-0-0\" class=\"displacy-label\" startOffset=\"50%\" side=\"left\" fill=\"currentColor\" text-anchor=\"middle\">compound:nn</textPath>\n",
       "    </text>\n",
       "    <path class=\"displacy-arrowhead\" d=\"M70,879.0 L62,867.0 78,867.0\" fill=\"currentColor\"/>\n",
       "</g>\n",
       "\n",
       "<g class=\"displacy-arrow\">\n",
       "    <path class=\"displacy-arc\" id=\"arrow-b54d90f66988410491a89d3b122ccd67-0-1\" stroke-width=\"2px\" d=\"M245,877.0 C245,702.0 535.0,702.0 535.0,877.0\" fill=\"none\" stroke=\"currentColor\"/>\n",
       "    <text dy=\"1.25em\" style=\"font-size: 0.8em; letter-spacing: 1px\">\n",
       "        <textPath xlink:href=\"#arrow-b54d90f66988410491a89d3b122ccd67-0-1\" class=\"displacy-label\" startOffset=\"50%\" side=\"left\" fill=\"currentColor\" text-anchor=\"middle\">nsubj</textPath>\n",
       "    </text>\n",
       "    <path class=\"displacy-arrowhead\" d=\"M245,879.0 L237,867.0 253,867.0\" fill=\"currentColor\"/>\n",
       "</g>\n",
       "\n",
       "<g class=\"displacy-arrow\">\n",
       "    <path class=\"displacy-arc\" id=\"arrow-b54d90f66988410491a89d3b122ccd67-0-2\" stroke-width=\"2px\" d=\"M420,877.0 C420,789.5 530.0,789.5 530.0,877.0\" fill=\"none\" stroke=\"currentColor\"/>\n",
       "    <text dy=\"1.25em\" style=\"font-size: 0.8em; letter-spacing: 1px\">\n",
       "        <textPath xlink:href=\"#arrow-b54d90f66988410491a89d3b122ccd67-0-2\" class=\"displacy-label\" startOffset=\"50%\" side=\"left\" fill=\"currentColor\" text-anchor=\"middle\">advmod</textPath>\n",
       "    </text>\n",
       "    <path class=\"displacy-arrowhead\" d=\"M420,879.0 L412,867.0 428,867.0\" fill=\"currentColor\"/>\n",
       "</g>\n",
       "\n",
       "<g class=\"displacy-arrow\">\n",
       "    <path class=\"displacy-arc\" id=\"arrow-b54d90f66988410491a89d3b122ccd67-0-3\" stroke-width=\"2px\" d=\"M770,877.0 C770,702.0 1060.0,702.0 1060.0,877.0\" fill=\"none\" stroke=\"currentColor\"/>\n",
       "    <text dy=\"1.25em\" style=\"font-size: 0.8em; letter-spacing: 1px\">\n",
       "        <textPath xlink:href=\"#arrow-b54d90f66988410491a89d3b122ccd67-0-3\" class=\"displacy-label\" startOffset=\"50%\" side=\"left\" fill=\"currentColor\" text-anchor=\"middle\">case</textPath>\n",
       "    </text>\n",
       "    <path class=\"displacy-arrowhead\" d=\"M770,879.0 L762,867.0 778,867.0\" fill=\"currentColor\"/>\n",
       "</g>\n",
       "\n",
       "<g class=\"displacy-arrow\">\n",
       "    <path class=\"displacy-arc\" id=\"arrow-b54d90f66988410491a89d3b122ccd67-0-4\" stroke-width=\"2px\" d=\"M945,877.0 C945,789.5 1055.0,789.5 1055.0,877.0\" fill=\"none\" stroke=\"currentColor\"/>\n",
       "    <text dy=\"1.25em\" style=\"font-size: 0.8em; letter-spacing: 1px\">\n",
       "        <textPath xlink:href=\"#arrow-b54d90f66988410491a89d3b122ccd67-0-4\" class=\"displacy-label\" startOffset=\"50%\" side=\"left\" fill=\"currentColor\" text-anchor=\"middle\">det</textPath>\n",
       "    </text>\n",
       "    <path class=\"displacy-arrowhead\" d=\"M945,879.0 L937,867.0 953,867.0\" fill=\"currentColor\"/>\n",
       "</g>\n",
       "\n",
       "<g class=\"displacy-arrow\">\n",
       "    <path class=\"displacy-arc\" id=\"arrow-b54d90f66988410491a89d3b122ccd67-0-5\" stroke-width=\"2px\" d=\"M1120,877.0 C1120,789.5 1230.0,789.5 1230.0,877.0\" fill=\"none\" stroke=\"currentColor\"/>\n",
       "    <text dy=\"1.25em\" style=\"font-size: 0.8em; letter-spacing: 1px\">\n",
       "        <textPath xlink:href=\"#arrow-b54d90f66988410491a89d3b122ccd67-0-5\" class=\"displacy-label\" startOffset=\"50%\" side=\"left\" fill=\"currentColor\" text-anchor=\"middle\">nmod:prep</textPath>\n",
       "    </text>\n",
       "    <path class=\"displacy-arrowhead\" d=\"M1120,879.0 L1112,867.0 1128,867.0\" fill=\"currentColor\"/>\n",
       "</g>\n",
       "\n",
       "<g class=\"displacy-arrow\">\n",
       "    <path class=\"displacy-arc\" id=\"arrow-b54d90f66988410491a89d3b122ccd67-0-6\" stroke-width=\"2px\" d=\"M595,877.0 C595,527.0 1245.0,527.0 1245.0,877.0\" fill=\"none\" stroke=\"currentColor\"/>\n",
       "    <text dy=\"1.25em\" style=\"font-size: 0.8em; letter-spacing: 1px\">\n",
       "        <textPath xlink:href=\"#arrow-b54d90f66988410491a89d3b122ccd67-0-6\" class=\"displacy-label\" startOffset=\"50%\" side=\"left\" fill=\"currentColor\" text-anchor=\"middle\">ccomp</textPath>\n",
       "    </text>\n",
       "    <path class=\"displacy-arrowhead\" d=\"M1245.0,879.0 L1253.0,867.0 1237.0,867.0\" fill=\"currentColor\"/>\n",
       "</g>\n",
       "\n",
       "<g class=\"displacy-arrow\">\n",
       "    <path class=\"displacy-arc\" id=\"arrow-b54d90f66988410491a89d3b122ccd67-0-7\" stroke-width=\"2px\" d=\"M1295,877.0 C1295,789.5 1405.0,789.5 1405.0,877.0\" fill=\"none\" stroke=\"currentColor\"/>\n",
       "    <text dy=\"1.25em\" style=\"font-size: 0.8em; letter-spacing: 1px\">\n",
       "        <textPath xlink:href=\"#arrow-b54d90f66988410491a89d3b122ccd67-0-7\" class=\"displacy-label\" startOffset=\"50%\" side=\"left\" fill=\"currentColor\" text-anchor=\"middle\">dobj</textPath>\n",
       "    </text>\n",
       "    <path class=\"displacy-arrowhead\" d=\"M1405.0,879.0 L1413.0,867.0 1397.0,867.0\" fill=\"currentColor\"/>\n",
       "</g>\n",
       "\n",
       "<g class=\"displacy-arrow\">\n",
       "    <path class=\"displacy-arc\" id=\"arrow-b54d90f66988410491a89d3b122ccd67-0-8\" stroke-width=\"2px\" d=\"M595,877.0 C595,439.5 1600.0,439.5 1600.0,877.0\" fill=\"none\" stroke=\"currentColor\"/>\n",
       "    <text dy=\"1.25em\" style=\"font-size: 0.8em; letter-spacing: 1px\">\n",
       "        <textPath xlink:href=\"#arrow-b54d90f66988410491a89d3b122ccd67-0-8\" class=\"displacy-label\" startOffset=\"50%\" side=\"left\" fill=\"currentColor\" text-anchor=\"middle\">conj</textPath>\n",
       "    </text>\n",
       "    <path class=\"displacy-arrowhead\" d=\"M1600.0,879.0 L1608.0,867.0 1592.0,867.0\" fill=\"currentColor\"/>\n",
       "</g>\n",
       "\n",
       "<g class=\"displacy-arrow\">\n",
       "    <path class=\"displacy-arc\" id=\"arrow-b54d90f66988410491a89d3b122ccd67-0-9\" stroke-width=\"2px\" d=\"M595,877.0 C595,352.0 1780.0,352.0 1780.0,877.0\" fill=\"none\" stroke=\"currentColor\"/>\n",
       "    <text dy=\"1.25em\" style=\"font-size: 0.8em; letter-spacing: 1px\">\n",
       "        <textPath xlink:href=\"#arrow-b54d90f66988410491a89d3b122ccd67-0-9\" class=\"displacy-label\" startOffset=\"50%\" side=\"left\" fill=\"currentColor\" text-anchor=\"middle\">conj</textPath>\n",
       "    </text>\n",
       "    <path class=\"displacy-arrowhead\" d=\"M1780.0,879.0 L1788.0,867.0 1772.0,867.0\" fill=\"currentColor\"/>\n",
       "</g>\n",
       "\n",
       "<g class=\"displacy-arrow\">\n",
       "    <path class=\"displacy-arc\" id=\"arrow-b54d90f66988410491a89d3b122ccd67-0-10\" stroke-width=\"2px\" d=\"M1995,877.0 C1995,789.5 2105.0,789.5 2105.0,877.0\" fill=\"none\" stroke=\"currentColor\"/>\n",
       "    <text dy=\"1.25em\" style=\"font-size: 0.8em; letter-spacing: 1px\">\n",
       "        <textPath xlink:href=\"#arrow-b54d90f66988410491a89d3b122ccd67-0-10\" class=\"displacy-label\" startOffset=\"50%\" side=\"left\" fill=\"currentColor\" text-anchor=\"middle\">case</textPath>\n",
       "    </text>\n",
       "    <path class=\"displacy-arrowhead\" d=\"M1995,879.0 L1987,867.0 2003,867.0\" fill=\"currentColor\"/>\n",
       "</g>\n",
       "\n",
       "<g class=\"displacy-arrow\">\n",
       "    <path class=\"displacy-arc\" id=\"arrow-b54d90f66988410491a89d3b122ccd67-0-11\" stroke-width=\"2px\" d=\"M595,877.0 C595,177.0 2140.0,177.0 2140.0,877.0\" fill=\"none\" stroke=\"currentColor\"/>\n",
       "    <text dy=\"1.25em\" style=\"font-size: 0.8em; letter-spacing: 1px\">\n",
       "        <textPath xlink:href=\"#arrow-b54d90f66988410491a89d3b122ccd67-0-11\" class=\"displacy-label\" startOffset=\"50%\" side=\"left\" fill=\"currentColor\" text-anchor=\"middle\">nmod:prep</textPath>\n",
       "    </text>\n",
       "    <path class=\"displacy-arrowhead\" d=\"M2140.0,879.0 L2148.0,867.0 2132.0,867.0\" fill=\"currentColor\"/>\n",
       "</g>\n",
       "\n",
       "<g class=\"displacy-arrow\">\n",
       "    <path class=\"displacy-arc\" id=\"arrow-b54d90f66988410491a89d3b122ccd67-0-12\" stroke-width=\"2px\" d=\"M2170,877.0 C2170,789.5 2280.0,789.5 2280.0,877.0\" fill=\"none\" stroke=\"currentColor\"/>\n",
       "    <text dy=\"1.25em\" style=\"font-size: 0.8em; letter-spacing: 1px\">\n",
       "        <textPath xlink:href=\"#arrow-b54d90f66988410491a89d3b122ccd67-0-12\" class=\"displacy-label\" startOffset=\"50%\" side=\"left\" fill=\"currentColor\" text-anchor=\"middle\">dep</textPath>\n",
       "    </text>\n",
       "    <path class=\"displacy-arrowhead\" d=\"M2280.0,879.0 L2288.0,867.0 2272.0,867.0\" fill=\"currentColor\"/>\n",
       "</g>\n",
       "\n",
       "<g class=\"displacy-arrow\">\n",
       "    <path class=\"displacy-arc\" id=\"arrow-b54d90f66988410491a89d3b122ccd67-0-13\" stroke-width=\"2px\" d=\"M2170,877.0 C2170,702.0 2460.0,702.0 2460.0,877.0\" fill=\"none\" stroke=\"currentColor\"/>\n",
       "    <text dy=\"1.25em\" style=\"font-size: 0.8em; letter-spacing: 1px\">\n",
       "        <textPath xlink:href=\"#arrow-b54d90f66988410491a89d3b122ccd67-0-13\" class=\"displacy-label\" startOffset=\"50%\" side=\"left\" fill=\"currentColor\" text-anchor=\"middle\">dep</textPath>\n",
       "    </text>\n",
       "    <path class=\"displacy-arrowhead\" d=\"M2460.0,879.0 L2468.0,867.0 2452.0,867.0\" fill=\"currentColor\"/>\n",
       "</g>\n",
       "\n",
       "<g class=\"displacy-arrow\">\n",
       "    <path class=\"displacy-arc\" id=\"arrow-b54d90f66988410491a89d3b122ccd67-0-14\" stroke-width=\"2px\" d=\"M2695,877.0 C2695,702.0 2985.0,702.0 2985.0,877.0\" fill=\"none\" stroke=\"currentColor\"/>\n",
       "    <text dy=\"1.25em\" style=\"font-size: 0.8em; letter-spacing: 1px\">\n",
       "        <textPath xlink:href=\"#arrow-b54d90f66988410491a89d3b122ccd67-0-14\" class=\"displacy-label\" startOffset=\"50%\" side=\"left\" fill=\"currentColor\" text-anchor=\"middle\">amod</textPath>\n",
       "    </text>\n",
       "    <path class=\"displacy-arrowhead\" d=\"M2695,879.0 L2687,867.0 2703,867.0\" fill=\"currentColor\"/>\n",
       "</g>\n",
       "\n",
       "<g class=\"displacy-arrow\">\n",
       "    <path class=\"displacy-arc\" id=\"arrow-b54d90f66988410491a89d3b122ccd67-0-15\" stroke-width=\"2px\" d=\"M2870,877.0 C2870,789.5 2980.0,789.5 2980.0,877.0\" fill=\"none\" stroke=\"currentColor\"/>\n",
       "    <text dy=\"1.25em\" style=\"font-size: 0.8em; letter-spacing: 1px\">\n",
       "        <textPath xlink:href=\"#arrow-b54d90f66988410491a89d3b122ccd67-0-15\" class=\"displacy-label\" startOffset=\"50%\" side=\"left\" fill=\"currentColor\" text-anchor=\"middle\">det</textPath>\n",
       "    </text>\n",
       "    <path class=\"displacy-arrowhead\" d=\"M2870,879.0 L2862,867.0 2878,867.0\" fill=\"currentColor\"/>\n",
       "</g>\n",
       "\n",
       "<g class=\"displacy-arrow\">\n",
       "    <path class=\"displacy-arc\" id=\"arrow-b54d90f66988410491a89d3b122ccd67-0-16\" stroke-width=\"2px\" d=\"M595,877.0 C595,89.5 3020.0,89.5 3020.0,877.0\" fill=\"none\" stroke=\"currentColor\"/>\n",
       "    <text dy=\"1.25em\" style=\"font-size: 0.8em; letter-spacing: 1px\">\n",
       "        <textPath xlink:href=\"#arrow-b54d90f66988410491a89d3b122ccd67-0-16\" class=\"displacy-label\" startOffset=\"50%\" side=\"left\" fill=\"currentColor\" text-anchor=\"middle\">conj</textPath>\n",
       "    </text>\n",
       "    <path class=\"displacy-arrowhead\" d=\"M3020.0,879.0 L3028.0,867.0 3012.0,867.0\" fill=\"currentColor\"/>\n",
       "</g>\n",
       "\n",
       "<g class=\"displacy-arrow\">\n",
       "    <path class=\"displacy-arc\" id=\"arrow-b54d90f66988410491a89d3b122ccd67-0-17\" stroke-width=\"2px\" d=\"M3220,877.0 C3220,614.5 3690.0,614.5 3690.0,877.0\" fill=\"none\" stroke=\"currentColor\"/>\n",
       "    <text dy=\"1.25em\" style=\"font-size: 0.8em; letter-spacing: 1px\">\n",
       "        <textPath xlink:href=\"#arrow-b54d90f66988410491a89d3b122ccd67-0-17\" class=\"displacy-label\" startOffset=\"50%\" side=\"left\" fill=\"currentColor\" text-anchor=\"middle\">case</textPath>\n",
       "    </text>\n",
       "    <path class=\"displacy-arrowhead\" d=\"M3220,879.0 L3212,867.0 3228,867.0\" fill=\"currentColor\"/>\n",
       "</g>\n",
       "\n",
       "<g class=\"displacy-arrow\">\n",
       "    <path class=\"displacy-arc\" id=\"arrow-b54d90f66988410491a89d3b122ccd67-0-18\" stroke-width=\"2px\" d=\"M3395,877.0 C3395,702.0 3685.0,702.0 3685.0,877.0\" fill=\"none\" stroke=\"currentColor\"/>\n",
       "    <text dy=\"1.25em\" style=\"font-size: 0.8em; letter-spacing: 1px\">\n",
       "        <textPath xlink:href=\"#arrow-b54d90f66988410491a89d3b122ccd67-0-18\" class=\"displacy-label\" startOffset=\"50%\" side=\"left\" fill=\"currentColor\" text-anchor=\"middle\">det</textPath>\n",
       "    </text>\n",
       "    <path class=\"displacy-arrowhead\" d=\"M3395,879.0 L3387,867.0 3403,867.0\" fill=\"currentColor\"/>\n",
       "</g>\n",
       "\n",
       "<g class=\"displacy-arrow\">\n",
       "    <path class=\"displacy-arc\" id=\"arrow-b54d90f66988410491a89d3b122ccd67-0-19\" stroke-width=\"2px\" d=\"M3570,877.0 C3570,789.5 3680.0,789.5 3680.0,877.0\" fill=\"none\" stroke=\"currentColor\"/>\n",
       "    <text dy=\"1.25em\" style=\"font-size: 0.8em; letter-spacing: 1px\">\n",
       "        <textPath xlink:href=\"#arrow-b54d90f66988410491a89d3b122ccd67-0-19\" class=\"displacy-label\" startOffset=\"50%\" side=\"left\" fill=\"currentColor\" text-anchor=\"middle\">compound:nn</textPath>\n",
       "    </text>\n",
       "    <path class=\"displacy-arrowhead\" d=\"M3570,879.0 L3562,867.0 3578,867.0\" fill=\"currentColor\"/>\n",
       "</g>\n",
       "\n",
       "<g class=\"displacy-arrow\">\n",
       "    <path class=\"displacy-arc\" id=\"arrow-b54d90f66988410491a89d3b122ccd67-0-20\" stroke-width=\"2px\" d=\"M3745,877.0 C3745,527.0 4395.0,527.0 4395.0,877.0\" fill=\"none\" stroke=\"currentColor\"/>\n",
       "    <text dy=\"1.25em\" style=\"font-size: 0.8em; letter-spacing: 1px\">\n",
       "        <textPath xlink:href=\"#arrow-b54d90f66988410491a89d3b122ccd67-0-20\" class=\"displacy-label\" startOffset=\"50%\" side=\"left\" fill=\"currentColor\" text-anchor=\"middle\">dep</textPath>\n",
       "    </text>\n",
       "    <path class=\"displacy-arrowhead\" d=\"M3745,879.0 L3737,867.0 3753,867.0\" fill=\"currentColor\"/>\n",
       "</g>\n",
       "\n",
       "<g class=\"displacy-arrow\">\n",
       "    <path class=\"displacy-arc\" id=\"arrow-b54d90f66988410491a89d3b122ccd67-0-21\" stroke-width=\"2px\" d=\"M3745,877.0 C3745,789.5 3855.0,789.5 3855.0,877.0\" fill=\"none\" stroke=\"currentColor\"/>\n",
       "    <text dy=\"1.25em\" style=\"font-size: 0.8em; letter-spacing: 1px\">\n",
       "        <textPath xlink:href=\"#arrow-b54d90f66988410491a89d3b122ccd67-0-21\" class=\"displacy-label\" startOffset=\"50%\" side=\"left\" fill=\"currentColor\" text-anchor=\"middle\">cc</textPath>\n",
       "    </text>\n",
       "    <path class=\"displacy-arrowhead\" d=\"M3855.0,879.0 L3863.0,867.0 3847.0,867.0\" fill=\"currentColor\"/>\n",
       "</g>\n",
       "\n",
       "<g class=\"displacy-arrow\">\n",
       "    <path class=\"displacy-arc\" id=\"arrow-b54d90f66988410491a89d3b122ccd67-0-22\" stroke-width=\"2px\" d=\"M3745,877.0 C3745,702.0 4035.0,702.0 4035.0,877.0\" fill=\"none\" stroke=\"currentColor\"/>\n",
       "    <text dy=\"1.25em\" style=\"font-size: 0.8em; letter-spacing: 1px\">\n",
       "        <textPath xlink:href=\"#arrow-b54d90f66988410491a89d3b122ccd67-0-22\" class=\"displacy-label\" startOffset=\"50%\" side=\"left\" fill=\"currentColor\" text-anchor=\"middle\">conj</textPath>\n",
       "    </text>\n",
       "    <path class=\"displacy-arrowhead\" d=\"M4035.0,879.0 L4043.0,867.0 4027.0,867.0\" fill=\"currentColor\"/>\n",
       "</g>\n",
       "\n",
       "<g class=\"displacy-arrow\">\n",
       "    <path class=\"displacy-arc\" id=\"arrow-b54d90f66988410491a89d3b122ccd67-0-23\" stroke-width=\"2px\" d=\"M4095,877.0 C4095,789.5 4205.0,789.5 4205.0,877.0\" fill=\"none\" stroke=\"currentColor\"/>\n",
       "    <text dy=\"1.25em\" style=\"font-size: 0.8em; letter-spacing: 1px\">\n",
       "        <textPath xlink:href=\"#arrow-b54d90f66988410491a89d3b122ccd67-0-23\" class=\"displacy-label\" startOffset=\"50%\" side=\"left\" fill=\"currentColor\" text-anchor=\"middle\">compound:vc</textPath>\n",
       "    </text>\n",
       "    <path class=\"displacy-arrowhead\" d=\"M4205.0,879.0 L4213.0,867.0 4197.0,867.0\" fill=\"currentColor\"/>\n",
       "</g>\n",
       "\n",
       "<g class=\"displacy-arrow\">\n",
       "    <path class=\"displacy-arc\" id=\"arrow-b54d90f66988410491a89d3b122ccd67-0-24\" stroke-width=\"2px\" d=\"M3045,877.0 C3045,264.5 4410.0,264.5 4410.0,877.0\" fill=\"none\" stroke=\"currentColor\"/>\n",
       "    <text dy=\"1.25em\" style=\"font-size: 0.8em; letter-spacing: 1px\">\n",
       "        <textPath xlink:href=\"#arrow-b54d90f66988410491a89d3b122ccd67-0-24\" class=\"displacy-label\" startOffset=\"50%\" side=\"left\" fill=\"currentColor\" text-anchor=\"middle\">dep</textPath>\n",
       "    </text>\n",
       "    <path class=\"displacy-arrowhead\" d=\"M4410.0,879.0 L4418.0,867.0 4402.0,867.0\" fill=\"currentColor\"/>\n",
       "</g>\n",
       "\n",
       "<g class=\"displacy-arrow\">\n",
       "    <path class=\"displacy-arc\" id=\"arrow-b54d90f66988410491a89d3b122ccd67-0-25\" stroke-width=\"2px\" d=\"M595,877.0 C595,2.0 4600.0,2.0 4600.0,877.0\" fill=\"none\" stroke=\"currentColor\"/>\n",
       "    <text dy=\"1.25em\" style=\"font-size: 0.8em; letter-spacing: 1px\">\n",
       "        <textPath xlink:href=\"#arrow-b54d90f66988410491a89d3b122ccd67-0-25\" class=\"displacy-label\" startOffset=\"50%\" side=\"left\" fill=\"currentColor\" text-anchor=\"middle\">dep</textPath>\n",
       "    </text>\n",
       "    <path class=\"displacy-arrowhead\" d=\"M4600.0,879.0 L4608.0,867.0 4592.0,867.0\" fill=\"currentColor\"/>\n",
       "</g>\n",
       "\n",
       "<g class=\"displacy-arrow\">\n",
       "    <path class=\"displacy-arc\" id=\"arrow-b54d90f66988410491a89d3b122ccd67-0-26\" stroke-width=\"2px\" d=\"M4620,877.0 C4620,789.5 4730.0,789.5 4730.0,877.0\" fill=\"none\" stroke=\"currentColor\"/>\n",
       "    <text dy=\"1.25em\" style=\"font-size: 0.8em; letter-spacing: 1px\">\n",
       "        <textPath xlink:href=\"#arrow-b54d90f66988410491a89d3b122ccd67-0-26\" class=\"displacy-label\" startOffset=\"50%\" side=\"left\" fill=\"currentColor\" text-anchor=\"middle\">dep</textPath>\n",
       "    </text>\n",
       "    <path class=\"displacy-arrowhead\" d=\"M4730.0,879.0 L4738.0,867.0 4722.0,867.0\" fill=\"currentColor\"/>\n",
       "</g>\n",
       "</svg></span>"
      ],
      "text/plain": [
       "<IPython.core.display.HTML object>"
      ]
     },
     "metadata": {},
     "output_type": "display_data"
    }
   ],
   "source": [
    "sentence_doc = nlp(example_eng_sent)\n",
    "svg = displacy.render(sentence_doc, style='dep')"
   ]
  },
  {
   "cell_type": "markdown",
   "id": "0e89c89d",
   "metadata": {},
   "source": [
    "### Stop Word Tagging"
   ]
  },
  {
   "cell_type": "code",
   "execution_count": 18,
   "id": "356b1c2e",
   "metadata": {},
   "outputs": [
    {
     "name": "stdout",
     "output_type": "stream",
     "text": [
      "English document STOP tagged in: 0.2867891788482666 seconds.\n"
     ]
    }
   ],
   "source": [
    "start = time()\n",
    "eng_stop = [token for token in eng_doc if token.is_stop is False]\n",
    "print(\"English document STOP tagged in:\", (time()-start), \"seconds.\")"
   ]
  },
  {
   "cell_type": "markdown",
   "id": "06810de9",
   "metadata": {},
   "source": [
    "### Entity Tagging"
   ]
  },
  {
   "cell_type": "code",
   "execution_count": 19,
   "id": "9360167b",
   "metadata": {},
   "outputs": [
    {
     "name": "stdout",
     "output_type": "stream",
     "text": [
      "English document entity tagged in: 0.05914807319641113 seconds.\n"
     ]
    }
   ],
   "source": [
    "start = time()\n",
    "eng_ent = []\n",
    "eng_label = []\n",
    "for ent in eng_doc.ents:\n",
    "    eng_ent.append(ent.text)\n",
    "    eng_label.append(ent.label_)\n",
    "print(\"English document entity tagged in:\", (time()-start), \"seconds.\")"
   ]
  },
  {
   "cell_type": "code",
   "execution_count": 20,
   "id": "28e6aea8",
   "metadata": {},
   "outputs": [
    {
     "name": "stdout",
     "output_type": "stream",
     "text": [
      "{'FAC', 'LANGUAGE', 'PERCENT', 'EVENT', 'LOC', 'TIME', 'PRODUCT', 'PERSON', 'QUANTITY', 'ORG', 'ORDINAL', 'MONEY', 'CARDINAL', 'LAW', 'DATE', 'GPE', 'NORP', 'WORK_OF_ART'}\n"
     ]
    }
   ],
   "source": [
    "print(set(eng_label))"
   ]
  },
  {
   "cell_type": "code",
   "execution_count": 21,
   "id": "926a8d5c",
   "metadata": {},
   "outputs": [],
   "source": [
    "eng_ents = np.column_stack((eng_ent, eng_label))"
   ]
  },
  {
   "cell_type": "code",
   "execution_count": 22,
   "id": "b2580185",
   "metadata": {},
   "outputs": [
    {
     "name": "stdout",
     "output_type": "stream",
     "text": [
      "[['918' 'CARDINAL']\n",
      " ['1994' 'DATE']\n",
      " ['the Security Council' 'ORG']\n",
      " ['3377th' 'ORDINAL']\n",
      " ['17 May 1994' 'DATE']\n",
      " ['The Security Council' 'ORG']\n",
      " ['Rwanda' 'GPE']\n",
      " ['resolution 872' 'LAW']\n",
      " ['1993' 'DATE']\n",
      " ['5 October 1993' 'DATE']] \n",
      "\n",
      "Length of English Entities: 12124\n"
     ]
    }
   ],
   "source": [
    "print(eng_ents[:10], '\\n\\nLength of English Entities:', len(eng_ents))"
   ]
  },
  {
   "cell_type": "markdown",
   "id": "04d2031f",
   "metadata": {},
   "source": [
    "## Spanish"
   ]
  },
  {
   "cell_type": "markdown",
   "id": "ce7e04b1",
   "metadata": {},
   "source": [
    "### Reading in Spanish File"
   ]
  },
  {
   "cell_type": "code",
   "execution_count": 23,
   "id": "761b7c18",
   "metadata": {},
   "outputs": [
    {
     "name": "stdout",
     "output_type": "stream",
     "text": [
      "Data loaded in: 0.16038203239440918 seconds.\n"
     ]
    }
   ],
   "source": [
    "# Loading in Spanish Files\n",
    "start = time()\n",
    "\n",
    "f = open('data/sixway/spanish.100k', 'r') # Reading in Spanish File\n",
    "spanish100 = f.read()\n",
    "print(\"Data loaded in:\", (time()-start), \"seconds.\")\n",
    "f.close()"
   ]
  },
  {
   "cell_type": "code",
   "execution_count": 24,
   "id": "c41a0bcd",
   "metadata": {},
   "outputs": [],
   "source": [
    "# Creating Smaller Slice to Analyze using SpaCy\n",
    "spanish_samp = spanish100[:1000000]"
   ]
  },
  {
   "cell_type": "markdown",
   "id": "1020e2de",
   "metadata": {},
   "source": [
    "### Downloading SpaCy object for Spanish processing"
   ]
  },
  {
   "cell_type": "code",
   "execution_count": 25,
   "id": "a8234dff",
   "metadata": {},
   "outputs": [
    {
     "name": "stdout",
     "output_type": "stream",
     "text": [
      "Spanish document processed in: 66.76443815231323 seconds.\n"
     ]
    }
   ],
   "source": [
    "start = time()\n",
    "\n",
    "nlp = spacy.load('es_core_news_sm')\n",
    "es_doc = nlp(spanish_samp)\n",
    "\n",
    "print(\"Spanish document processed in:\", (time()-start), \"seconds.\")"
   ]
  },
  {
   "cell_type": "markdown",
   "id": "8da73d8d",
   "metadata": {},
   "source": [
    "### Word Tokenizing Spanish Document"
   ]
  },
  {
   "cell_type": "code",
   "execution_count": 26,
   "id": "c7ed1f5d",
   "metadata": {},
   "outputs": [
    {
     "name": "stdout",
     "output_type": "stream",
     "text": [
      "Spanish document tokenized in: 0.2389838695526123 seconds.\n"
     ]
    }
   ],
   "source": [
    "start = time()\n",
    "es_tokens = [token for token in es_doc]\n",
    "print(\"Spanish document tokenized in:\", (time()-start), \"seconds.\")"
   ]
  },
  {
   "cell_type": "code",
   "execution_count": 27,
   "id": "47199daa",
   "metadata": {},
   "outputs": [
    {
     "name": "stdout",
     "output_type": "stream",
     "text": [
      "Spanish Word Tokens Count: 176209 \n",
      " \n",
      " [RESOLUCIÓN, 918, (, 1994, ), \n",
      ", Aprobada, por, el, Consejo, de, Seguridad, en, su, 3377ª, sesión, ,, celebrada, el, 17]\n"
     ]
    }
   ],
   "source": [
    "print('Spanish Word Tokens Count:', len(es_tokens), '\\n \\n', es_tokens[:20])"
   ]
  },
  {
   "cell_type": "markdown",
   "id": "c8127ead",
   "metadata": {},
   "source": [
    "### Sentence Tokenizing Spanish Document"
   ]
  },
  {
   "cell_type": "code",
   "execution_count": 28,
   "id": "0beffc96",
   "metadata": {},
   "outputs": [
    {
     "name": "stdout",
     "output_type": "stream",
     "text": [
      "Spanish document sentence tokenized in: 0.1464550495147705 seconds.\n"
     ]
    }
   ],
   "source": [
    "start = time()\n",
    "es_sent = [sent.text for sent in es_doc.sents]\n",
    "print(\"Spanish document sentence tokenized in:\", (time()-start), \"seconds.\")"
   ]
  },
  {
   "cell_type": "code",
   "execution_count": 29,
   "id": "e32de18b",
   "metadata": {},
   "outputs": [
    {
     "data": {
      "text/plain": [
       "4861"
      ]
     },
     "execution_count": 29,
     "metadata": {},
     "output_type": "execute_result"
    }
   ],
   "source": [
    "len(es_sent)"
   ]
  },
  {
   "cell_type": "code",
   "execution_count": 30,
   "id": "9caab645",
   "metadata": {},
   "outputs": [
    {
     "name": "stdout",
     "output_type": "stream",
     "text": [
      "Exige que todas las partes en el conflicto pongan fin inmediatamente a las hostilidades, convengan en una cesación del fuego y pongan término a la violencia y la carnicería insensatas en que está sumida Rwanda;\n",
      "2.\n"
     ]
    }
   ],
   "source": [
    "example_es_sent = es_sent[1]\n",
    "print(example_es_sent)"
   ]
  },
  {
   "cell_type": "markdown",
   "id": "39943fd3",
   "metadata": {},
   "source": [
    "#### Comparing SpaCy English Tokenizer with Spanish Tokenizer"
   ]
  },
  {
   "cell_type": "code",
   "execution_count": 31,
   "id": "42aa8740",
   "metadata": {},
   "outputs": [
    {
     "name": "stdout",
     "output_type": "stream",
     "text": [
      "Demands that all parties to the conflict immediately cease hostilities, agree to a cease-fire, and bring an end to the mindless violence and carnage engulfing Rwanda;\n",
      "2. \n",
      "\n",
      " Exige que todas las partes en el conflicto pongan fin inmediatamente a las hostilidades, convengan en una cesación del fuego y pongan término a la violencia y la carnicería insensatas en que está sumida Rwanda;\n",
      "2.\n"
     ]
    }
   ],
   "source": [
    "print(eng_sent[1],'\\n\\n',es_sent[1])"
   ]
  },
  {
   "cell_type": "markdown",
   "id": "94e76a6d",
   "metadata": {},
   "source": [
    "### POS Tagging Spanish Document"
   ]
  },
  {
   "cell_type": "code",
   "execution_count": 32,
   "id": "3ea28aad",
   "metadata": {},
   "outputs": [
    {
     "name": "stdout",
     "output_type": "stream",
     "text": [
      "Spanish document POS tagged in: 0.05628800392150879 seconds.\n"
     ]
    }
   ],
   "source": [
    "start = time()\n",
    "es_pos = [token.pos_ for token in es_doc] \n",
    "print(\"Spanish document POS tagged in:\", (time()-start), \"seconds.\")"
   ]
  },
  {
   "cell_type": "code",
   "execution_count": 33,
   "id": "1c635d41",
   "metadata": {},
   "outputs": [
    {
     "name": "stdout",
     "output_type": "stream",
     "text": [
      "\n",
      "List of POS tags: {'ADP', 'AUX', 'SPACE', 'PUNCT', 'ADV', 'SYM', 'ADJ', 'SCONJ', 'PART', 'DET', 'INTJ', 'CCONJ', 'NUM', 'PRON', 'VERB', 'NOUN', 'PROPN'} \n",
      "\n",
      "POS count: 17\n"
     ]
    }
   ],
   "source": [
    "print('\\nList of POS tags:', set(es_pos), '\\n\\nPOS count:', len(set(es_pos)))"
   ]
  },
  {
   "cell_type": "code",
   "execution_count": 34,
   "id": "96180c26",
   "metadata": {},
   "outputs": [
    {
     "name": "stdout",
     "output_type": "stream",
     "text": [
      "{'ADP', 'AUX', 'SPACE', 'PUNCT', 'ADV', 'SYM', 'ADJ', 'SCONJ', 'PART', 'DET', 'INTJ', 'CCONJ', 'NUM', 'PRON', 'VERB', 'NOUN', 'PROPN'}\n"
     ]
    }
   ],
   "source": [
    "print(set(es_pos))"
   ]
  },
  {
   "cell_type": "markdown",
   "id": "4a0f3e91",
   "metadata": {},
   "source": [
    "### Dependency Tagging Spanish File"
   ]
  },
  {
   "cell_type": "code",
   "execution_count": 35,
   "id": "bbb80125",
   "metadata": {},
   "outputs": [
    {
     "name": "stdout",
     "output_type": "stream",
     "text": [
      "Spanish document DEP tagged in: 0.08187079429626465 seconds.\n"
     ]
    }
   ],
   "source": [
    "start = time()\n",
    "es_dep = [token.dep_ for token in es_doc] \n",
    "print(\"Spanish document DEP tagged in:\", (time()-start), \"seconds.\")"
   ]
  },
  {
   "cell_type": "code",
   "execution_count": 36,
   "id": "7596ed6f",
   "metadata": {},
   "outputs": [
    {
     "data": {
      "text/plain": [
       "['nsubj', 'nummod', 'punct', 'appos', 'punct']"
      ]
     },
     "execution_count": 36,
     "metadata": {},
     "output_type": "execute_result"
    }
   ],
   "source": [
    "es_dep[:5]"
   ]
  },
  {
   "cell_type": "code",
   "execution_count": 37,
   "id": "98b2d2fd",
   "metadata": {},
   "outputs": [
    {
     "data": {
      "text/plain": [
       "31"
      ]
     },
     "execution_count": 37,
     "metadata": {},
     "output_type": "execute_result"
    }
   ],
   "source": [
    "len(set(es_dep))"
   ]
  },
  {
   "cell_type": "code",
   "execution_count": 38,
   "id": "13b4dc2e",
   "metadata": {},
   "outputs": [
    {
     "name": "stdout",
     "output_type": "stream",
     "text": [
      "{'prt', 'pcomp', 'expl', 'predet', 'npadvmod', 'acomp', 'prep', 'csubjpass', 'intj', 'dobj', 'pobj', 'poss', 'relcl', 'neg', 'nsubjpass', 'quantmod', 'dative', 'agent', 'attr', 'auxpass', 'oprd', 'preconj', 'meta'}\n"
     ]
    }
   ],
   "source": [
    "print(set(eng_dep)-set(es_dep))"
   ]
  },
  {
   "cell_type": "code",
   "execution_count": 39,
   "id": "bb87671c",
   "metadata": {},
   "outputs": [
    {
     "data": {
      "text/html": [
       "<span class=\"tex2jax_ignore\"><svg xmlns=\"http://www.w3.org/2000/svg\" xmlns:xlink=\"http://www.w3.org/1999/xlink\" xml:lang=\"es\" id=\"1d0901ec48c744659d904967c2d3e047-0\" class=\"displacy\" width=\"6525\" height=\"1012.0\" direction=\"ltr\" style=\"max-width: none; height: 1012.0px; color: #000000; background: #ffffff; font-family: Arial; direction: ltr\">\n",
       "<text class=\"displacy-token\" fill=\"currentColor\" text-anchor=\"middle\" y=\"922.0\">\n",
       "    <tspan class=\"displacy-word\" fill=\"currentColor\" x=\"50\">Exige</tspan>\n",
       "    <tspan class=\"displacy-tag\" dy=\"2em\" fill=\"currentColor\" x=\"50\">VERB</tspan>\n",
       "</text>\n",
       "\n",
       "<text class=\"displacy-token\" fill=\"currentColor\" text-anchor=\"middle\" y=\"922.0\">\n",
       "    <tspan class=\"displacy-word\" fill=\"currentColor\" x=\"225\">que</tspan>\n",
       "    <tspan class=\"displacy-tag\" dy=\"2em\" fill=\"currentColor\" x=\"225\">SCONJ</tspan>\n",
       "</text>\n",
       "\n",
       "<text class=\"displacy-token\" fill=\"currentColor\" text-anchor=\"middle\" y=\"922.0\">\n",
       "    <tspan class=\"displacy-word\" fill=\"currentColor\" x=\"400\">todas</tspan>\n",
       "    <tspan class=\"displacy-tag\" dy=\"2em\" fill=\"currentColor\" x=\"400\">DET</tspan>\n",
       "</text>\n",
       "\n",
       "<text class=\"displacy-token\" fill=\"currentColor\" text-anchor=\"middle\" y=\"922.0\">\n",
       "    <tspan class=\"displacy-word\" fill=\"currentColor\" x=\"575\">las</tspan>\n",
       "    <tspan class=\"displacy-tag\" dy=\"2em\" fill=\"currentColor\" x=\"575\">DET</tspan>\n",
       "</text>\n",
       "\n",
       "<text class=\"displacy-token\" fill=\"currentColor\" text-anchor=\"middle\" y=\"922.0\">\n",
       "    <tspan class=\"displacy-word\" fill=\"currentColor\" x=\"750\">partes</tspan>\n",
       "    <tspan class=\"displacy-tag\" dy=\"2em\" fill=\"currentColor\" x=\"750\">NOUN</tspan>\n",
       "</text>\n",
       "\n",
       "<text class=\"displacy-token\" fill=\"currentColor\" text-anchor=\"middle\" y=\"922.0\">\n",
       "    <tspan class=\"displacy-word\" fill=\"currentColor\" x=\"925\">en</tspan>\n",
       "    <tspan class=\"displacy-tag\" dy=\"2em\" fill=\"currentColor\" x=\"925\">ADP</tspan>\n",
       "</text>\n",
       "\n",
       "<text class=\"displacy-token\" fill=\"currentColor\" text-anchor=\"middle\" y=\"922.0\">\n",
       "    <tspan class=\"displacy-word\" fill=\"currentColor\" x=\"1100\">el</tspan>\n",
       "    <tspan class=\"displacy-tag\" dy=\"2em\" fill=\"currentColor\" x=\"1100\">DET</tspan>\n",
       "</text>\n",
       "\n",
       "<text class=\"displacy-token\" fill=\"currentColor\" text-anchor=\"middle\" y=\"922.0\">\n",
       "    <tspan class=\"displacy-word\" fill=\"currentColor\" x=\"1275\">conflicto</tspan>\n",
       "    <tspan class=\"displacy-tag\" dy=\"2em\" fill=\"currentColor\" x=\"1275\">NOUN</tspan>\n",
       "</text>\n",
       "\n",
       "<text class=\"displacy-token\" fill=\"currentColor\" text-anchor=\"middle\" y=\"922.0\">\n",
       "    <tspan class=\"displacy-word\" fill=\"currentColor\" x=\"1450\">pongan</tspan>\n",
       "    <tspan class=\"displacy-tag\" dy=\"2em\" fill=\"currentColor\" x=\"1450\">VERB</tspan>\n",
       "</text>\n",
       "\n",
       "<text class=\"displacy-token\" fill=\"currentColor\" text-anchor=\"middle\" y=\"922.0\">\n",
       "    <tspan class=\"displacy-word\" fill=\"currentColor\" x=\"1625\">fin</tspan>\n",
       "    <tspan class=\"displacy-tag\" dy=\"2em\" fill=\"currentColor\" x=\"1625\">NOUN</tspan>\n",
       "</text>\n",
       "\n",
       "<text class=\"displacy-token\" fill=\"currentColor\" text-anchor=\"middle\" y=\"922.0\">\n",
       "    <tspan class=\"displacy-word\" fill=\"currentColor\" x=\"1800\">inmediatamente</tspan>\n",
       "    <tspan class=\"displacy-tag\" dy=\"2em\" fill=\"currentColor\" x=\"1800\">ADV</tspan>\n",
       "</text>\n",
       "\n",
       "<text class=\"displacy-token\" fill=\"currentColor\" text-anchor=\"middle\" y=\"922.0\">\n",
       "    <tspan class=\"displacy-word\" fill=\"currentColor\" x=\"1975\">a</tspan>\n",
       "    <tspan class=\"displacy-tag\" dy=\"2em\" fill=\"currentColor\" x=\"1975\">ADP</tspan>\n",
       "</text>\n",
       "\n",
       "<text class=\"displacy-token\" fill=\"currentColor\" text-anchor=\"middle\" y=\"922.0\">\n",
       "    <tspan class=\"displacy-word\" fill=\"currentColor\" x=\"2150\">las</tspan>\n",
       "    <tspan class=\"displacy-tag\" dy=\"2em\" fill=\"currentColor\" x=\"2150\">DET</tspan>\n",
       "</text>\n",
       "\n",
       "<text class=\"displacy-token\" fill=\"currentColor\" text-anchor=\"middle\" y=\"922.0\">\n",
       "    <tspan class=\"displacy-word\" fill=\"currentColor\" x=\"2325\">hostilidades,</tspan>\n",
       "    <tspan class=\"displacy-tag\" dy=\"2em\" fill=\"currentColor\" x=\"2325\">NOUN</tspan>\n",
       "</text>\n",
       "\n",
       "<text class=\"displacy-token\" fill=\"currentColor\" text-anchor=\"middle\" y=\"922.0\">\n",
       "    <tspan class=\"displacy-word\" fill=\"currentColor\" x=\"2500\">convengan</tspan>\n",
       "    <tspan class=\"displacy-tag\" dy=\"2em\" fill=\"currentColor\" x=\"2500\">VERB</tspan>\n",
       "</text>\n",
       "\n",
       "<text class=\"displacy-token\" fill=\"currentColor\" text-anchor=\"middle\" y=\"922.0\">\n",
       "    <tspan class=\"displacy-word\" fill=\"currentColor\" x=\"2675\">en</tspan>\n",
       "    <tspan class=\"displacy-tag\" dy=\"2em\" fill=\"currentColor\" x=\"2675\">ADP</tspan>\n",
       "</text>\n",
       "\n",
       "<text class=\"displacy-token\" fill=\"currentColor\" text-anchor=\"middle\" y=\"922.0\">\n",
       "    <tspan class=\"displacy-word\" fill=\"currentColor\" x=\"2850\">una</tspan>\n",
       "    <tspan class=\"displacy-tag\" dy=\"2em\" fill=\"currentColor\" x=\"2850\">DET</tspan>\n",
       "</text>\n",
       "\n",
       "<text class=\"displacy-token\" fill=\"currentColor\" text-anchor=\"middle\" y=\"922.0\">\n",
       "    <tspan class=\"displacy-word\" fill=\"currentColor\" x=\"3025\">cesación</tspan>\n",
       "    <tspan class=\"displacy-tag\" dy=\"2em\" fill=\"currentColor\" x=\"3025\">NOUN</tspan>\n",
       "</text>\n",
       "\n",
       "<text class=\"displacy-token\" fill=\"currentColor\" text-anchor=\"middle\" y=\"922.0\">\n",
       "    <tspan class=\"displacy-word\" fill=\"currentColor\" x=\"3200\">del</tspan>\n",
       "    <tspan class=\"displacy-tag\" dy=\"2em\" fill=\"currentColor\" x=\"3200\">ADP</tspan>\n",
       "</text>\n",
       "\n",
       "<text class=\"displacy-token\" fill=\"currentColor\" text-anchor=\"middle\" y=\"922.0\">\n",
       "    <tspan class=\"displacy-word\" fill=\"currentColor\" x=\"3375\">fuego</tspan>\n",
       "    <tspan class=\"displacy-tag\" dy=\"2em\" fill=\"currentColor\" x=\"3375\">NOUN</tspan>\n",
       "</text>\n",
       "\n",
       "<text class=\"displacy-token\" fill=\"currentColor\" text-anchor=\"middle\" y=\"922.0\">\n",
       "    <tspan class=\"displacy-word\" fill=\"currentColor\" x=\"3550\">y</tspan>\n",
       "    <tspan class=\"displacy-tag\" dy=\"2em\" fill=\"currentColor\" x=\"3550\">CCONJ</tspan>\n",
       "</text>\n",
       "\n",
       "<text class=\"displacy-token\" fill=\"currentColor\" text-anchor=\"middle\" y=\"922.0\">\n",
       "    <tspan class=\"displacy-word\" fill=\"currentColor\" x=\"3725\">pongan</tspan>\n",
       "    <tspan class=\"displacy-tag\" dy=\"2em\" fill=\"currentColor\" x=\"3725\">VERB</tspan>\n",
       "</text>\n",
       "\n",
       "<text class=\"displacy-token\" fill=\"currentColor\" text-anchor=\"middle\" y=\"922.0\">\n",
       "    <tspan class=\"displacy-word\" fill=\"currentColor\" x=\"3900\">término</tspan>\n",
       "    <tspan class=\"displacy-tag\" dy=\"2em\" fill=\"currentColor\" x=\"3900\">NOUN</tspan>\n",
       "</text>\n",
       "\n",
       "<text class=\"displacy-token\" fill=\"currentColor\" text-anchor=\"middle\" y=\"922.0\">\n",
       "    <tspan class=\"displacy-word\" fill=\"currentColor\" x=\"4075\">a</tspan>\n",
       "    <tspan class=\"displacy-tag\" dy=\"2em\" fill=\"currentColor\" x=\"4075\">ADP</tspan>\n",
       "</text>\n",
       "\n",
       "<text class=\"displacy-token\" fill=\"currentColor\" text-anchor=\"middle\" y=\"922.0\">\n",
       "    <tspan class=\"displacy-word\" fill=\"currentColor\" x=\"4250\">la</tspan>\n",
       "    <tspan class=\"displacy-tag\" dy=\"2em\" fill=\"currentColor\" x=\"4250\">DET</tspan>\n",
       "</text>\n",
       "\n",
       "<text class=\"displacy-token\" fill=\"currentColor\" text-anchor=\"middle\" y=\"922.0\">\n",
       "    <tspan class=\"displacy-word\" fill=\"currentColor\" x=\"4425\">violencia</tspan>\n",
       "    <tspan class=\"displacy-tag\" dy=\"2em\" fill=\"currentColor\" x=\"4425\">NOUN</tspan>\n",
       "</text>\n",
       "\n",
       "<text class=\"displacy-token\" fill=\"currentColor\" text-anchor=\"middle\" y=\"922.0\">\n",
       "    <tspan class=\"displacy-word\" fill=\"currentColor\" x=\"4600\">y</tspan>\n",
       "    <tspan class=\"displacy-tag\" dy=\"2em\" fill=\"currentColor\" x=\"4600\">CCONJ</tspan>\n",
       "</text>\n",
       "\n",
       "<text class=\"displacy-token\" fill=\"currentColor\" text-anchor=\"middle\" y=\"922.0\">\n",
       "    <tspan class=\"displacy-word\" fill=\"currentColor\" x=\"4775\">la</tspan>\n",
       "    <tspan class=\"displacy-tag\" dy=\"2em\" fill=\"currentColor\" x=\"4775\">DET</tspan>\n",
       "</text>\n",
       "\n",
       "<text class=\"displacy-token\" fill=\"currentColor\" text-anchor=\"middle\" y=\"922.0\">\n",
       "    <tspan class=\"displacy-word\" fill=\"currentColor\" x=\"4950\">carnicería</tspan>\n",
       "    <tspan class=\"displacy-tag\" dy=\"2em\" fill=\"currentColor\" x=\"4950\">NOUN</tspan>\n",
       "</text>\n",
       "\n",
       "<text class=\"displacy-token\" fill=\"currentColor\" text-anchor=\"middle\" y=\"922.0\">\n",
       "    <tspan class=\"displacy-word\" fill=\"currentColor\" x=\"5125\">insensatas</tspan>\n",
       "    <tspan class=\"displacy-tag\" dy=\"2em\" fill=\"currentColor\" x=\"5125\">ADJ</tspan>\n",
       "</text>\n",
       "\n",
       "<text class=\"displacy-token\" fill=\"currentColor\" text-anchor=\"middle\" y=\"922.0\">\n",
       "    <tspan class=\"displacy-word\" fill=\"currentColor\" x=\"5300\">en</tspan>\n",
       "    <tspan class=\"displacy-tag\" dy=\"2em\" fill=\"currentColor\" x=\"5300\">ADP</tspan>\n",
       "</text>\n",
       "\n",
       "<text class=\"displacy-token\" fill=\"currentColor\" text-anchor=\"middle\" y=\"922.0\">\n",
       "    <tspan class=\"displacy-word\" fill=\"currentColor\" x=\"5475\">que</tspan>\n",
       "    <tspan class=\"displacy-tag\" dy=\"2em\" fill=\"currentColor\" x=\"5475\">PRON</tspan>\n",
       "</text>\n",
       "\n",
       "<text class=\"displacy-token\" fill=\"currentColor\" text-anchor=\"middle\" y=\"922.0\">\n",
       "    <tspan class=\"displacy-word\" fill=\"currentColor\" x=\"5650\">está</tspan>\n",
       "    <tspan class=\"displacy-tag\" dy=\"2em\" fill=\"currentColor\" x=\"5650\">AUX</tspan>\n",
       "</text>\n",
       "\n",
       "<text class=\"displacy-token\" fill=\"currentColor\" text-anchor=\"middle\" y=\"922.0\">\n",
       "    <tspan class=\"displacy-word\" fill=\"currentColor\" x=\"5825\">sumida</tspan>\n",
       "    <tspan class=\"displacy-tag\" dy=\"2em\" fill=\"currentColor\" x=\"5825\">ADJ</tspan>\n",
       "</text>\n",
       "\n",
       "<text class=\"displacy-token\" fill=\"currentColor\" text-anchor=\"middle\" y=\"922.0\">\n",
       "    <tspan class=\"displacy-word\" fill=\"currentColor\" x=\"6000\">Rwanda;</tspan>\n",
       "    <tspan class=\"displacy-tag\" dy=\"2em\" fill=\"currentColor\" x=\"6000\">PROPN</tspan>\n",
       "</text>\n",
       "\n",
       "<text class=\"displacy-token\" fill=\"currentColor\" text-anchor=\"middle\" y=\"922.0\">\n",
       "    <tspan class=\"displacy-word\" fill=\"currentColor\" x=\"6175\">\n",
       "</tspan>\n",
       "    <tspan class=\"displacy-tag\" dy=\"2em\" fill=\"currentColor\" x=\"6175\">SPACE</tspan>\n",
       "</text>\n",
       "\n",
       "<text class=\"displacy-token\" fill=\"currentColor\" text-anchor=\"middle\" y=\"922.0\">\n",
       "    <tspan class=\"displacy-word\" fill=\"currentColor\" x=\"6350\">2.</tspan>\n",
       "    <tspan class=\"displacy-tag\" dy=\"2em\" fill=\"currentColor\" x=\"6350\">NUM</tspan>\n",
       "</text>\n",
       "\n",
       "<g class=\"displacy-arrow\">\n",
       "    <path class=\"displacy-arc\" id=\"arrow-1d0901ec48c744659d904967c2d3e047-0-0\" stroke-width=\"2px\" d=\"M245,877.0 C245,264.5 1435.0,264.5 1435.0,877.0\" fill=\"none\" stroke=\"currentColor\"/>\n",
       "    <text dy=\"1.25em\" style=\"font-size: 0.8em; letter-spacing: 1px\">\n",
       "        <textPath xlink:href=\"#arrow-1d0901ec48c744659d904967c2d3e047-0-0\" class=\"displacy-label\" startOffset=\"50%\" side=\"left\" fill=\"currentColor\" text-anchor=\"middle\">mark</textPath>\n",
       "    </text>\n",
       "    <path class=\"displacy-arrowhead\" d=\"M245,879.0 L237,867.0 253,867.0\" fill=\"currentColor\"/>\n",
       "</g>\n",
       "\n",
       "<g class=\"displacy-arrow\">\n",
       "    <path class=\"displacy-arc\" id=\"arrow-1d0901ec48c744659d904967c2d3e047-0-1\" stroke-width=\"2px\" d=\"M420,877.0 C420,789.5 530.0,789.5 530.0,877.0\" fill=\"none\" stroke=\"currentColor\"/>\n",
       "    <text dy=\"1.25em\" style=\"font-size: 0.8em; letter-spacing: 1px\">\n",
       "        <textPath xlink:href=\"#arrow-1d0901ec48c744659d904967c2d3e047-0-1\" class=\"displacy-label\" startOffset=\"50%\" side=\"left\" fill=\"currentColor\" text-anchor=\"middle\">det</textPath>\n",
       "    </text>\n",
       "    <path class=\"displacy-arrowhead\" d=\"M420,879.0 L412,867.0 428,867.0\" fill=\"currentColor\"/>\n",
       "</g>\n",
       "\n",
       "<g class=\"displacy-arrow\">\n",
       "    <path class=\"displacy-arc\" id=\"arrow-1d0901ec48c744659d904967c2d3e047-0-2\" stroke-width=\"2px\" d=\"M595,877.0 C595,789.5 705.0,789.5 705.0,877.0\" fill=\"none\" stroke=\"currentColor\"/>\n",
       "    <text dy=\"1.25em\" style=\"font-size: 0.8em; letter-spacing: 1px\">\n",
       "        <textPath xlink:href=\"#arrow-1d0901ec48c744659d904967c2d3e047-0-2\" class=\"displacy-label\" startOffset=\"50%\" side=\"left\" fill=\"currentColor\" text-anchor=\"middle\">det</textPath>\n",
       "    </text>\n",
       "    <path class=\"displacy-arrowhead\" d=\"M595,879.0 L587,867.0 603,867.0\" fill=\"currentColor\"/>\n",
       "</g>\n",
       "\n",
       "<g class=\"displacy-arrow\">\n",
       "    <path class=\"displacy-arc\" id=\"arrow-1d0901ec48c744659d904967c2d3e047-0-3\" stroke-width=\"2px\" d=\"M770,877.0 C770,527.0 1420.0,527.0 1420.0,877.0\" fill=\"none\" stroke=\"currentColor\"/>\n",
       "    <text dy=\"1.25em\" style=\"font-size: 0.8em; letter-spacing: 1px\">\n",
       "        <textPath xlink:href=\"#arrow-1d0901ec48c744659d904967c2d3e047-0-3\" class=\"displacy-label\" startOffset=\"50%\" side=\"left\" fill=\"currentColor\" text-anchor=\"middle\">nsubj</textPath>\n",
       "    </text>\n",
       "    <path class=\"displacy-arrowhead\" d=\"M770,879.0 L762,867.0 778,867.0\" fill=\"currentColor\"/>\n",
       "</g>\n",
       "\n",
       "<g class=\"displacy-arrow\">\n",
       "    <path class=\"displacy-arc\" id=\"arrow-1d0901ec48c744659d904967c2d3e047-0-4\" stroke-width=\"2px\" d=\"M945,877.0 C945,702.0 1235.0,702.0 1235.0,877.0\" fill=\"none\" stroke=\"currentColor\"/>\n",
       "    <text dy=\"1.25em\" style=\"font-size: 0.8em; letter-spacing: 1px\">\n",
       "        <textPath xlink:href=\"#arrow-1d0901ec48c744659d904967c2d3e047-0-4\" class=\"displacy-label\" startOffset=\"50%\" side=\"left\" fill=\"currentColor\" text-anchor=\"middle\">case</textPath>\n",
       "    </text>\n",
       "    <path class=\"displacy-arrowhead\" d=\"M945,879.0 L937,867.0 953,867.0\" fill=\"currentColor\"/>\n",
       "</g>\n",
       "\n",
       "<g class=\"displacy-arrow\">\n",
       "    <path class=\"displacy-arc\" id=\"arrow-1d0901ec48c744659d904967c2d3e047-0-5\" stroke-width=\"2px\" d=\"M1120,877.0 C1120,789.5 1230.0,789.5 1230.0,877.0\" fill=\"none\" stroke=\"currentColor\"/>\n",
       "    <text dy=\"1.25em\" style=\"font-size: 0.8em; letter-spacing: 1px\">\n",
       "        <textPath xlink:href=\"#arrow-1d0901ec48c744659d904967c2d3e047-0-5\" class=\"displacy-label\" startOffset=\"50%\" side=\"left\" fill=\"currentColor\" text-anchor=\"middle\">det</textPath>\n",
       "    </text>\n",
       "    <path class=\"displacy-arrowhead\" d=\"M1120,879.0 L1112,867.0 1128,867.0\" fill=\"currentColor\"/>\n",
       "</g>\n",
       "\n",
       "<g class=\"displacy-arrow\">\n",
       "    <path class=\"displacy-arc\" id=\"arrow-1d0901ec48c744659d904967c2d3e047-0-6\" stroke-width=\"2px\" d=\"M770,877.0 C770,614.5 1240.0,614.5 1240.0,877.0\" fill=\"none\" stroke=\"currentColor\"/>\n",
       "    <text dy=\"1.25em\" style=\"font-size: 0.8em; letter-spacing: 1px\">\n",
       "        <textPath xlink:href=\"#arrow-1d0901ec48c744659d904967c2d3e047-0-6\" class=\"displacy-label\" startOffset=\"50%\" side=\"left\" fill=\"currentColor\" text-anchor=\"middle\">nmod</textPath>\n",
       "    </text>\n",
       "    <path class=\"displacy-arrowhead\" d=\"M1240.0,879.0 L1248.0,867.0 1232.0,867.0\" fill=\"currentColor\"/>\n",
       "</g>\n",
       "\n",
       "<g class=\"displacy-arrow\">\n",
       "    <path class=\"displacy-arc\" id=\"arrow-1d0901ec48c744659d904967c2d3e047-0-7\" stroke-width=\"2px\" d=\"M70,877.0 C70,177.0 1440.0,177.0 1440.0,877.0\" fill=\"none\" stroke=\"currentColor\"/>\n",
       "    <text dy=\"1.25em\" style=\"font-size: 0.8em; letter-spacing: 1px\">\n",
       "        <textPath xlink:href=\"#arrow-1d0901ec48c744659d904967c2d3e047-0-7\" class=\"displacy-label\" startOffset=\"50%\" side=\"left\" fill=\"currentColor\" text-anchor=\"middle\">ccomp</textPath>\n",
       "    </text>\n",
       "    <path class=\"displacy-arrowhead\" d=\"M1440.0,879.0 L1448.0,867.0 1432.0,867.0\" fill=\"currentColor\"/>\n",
       "</g>\n",
       "\n",
       "<g class=\"displacy-arrow\">\n",
       "    <path class=\"displacy-arc\" id=\"arrow-1d0901ec48c744659d904967c2d3e047-0-8\" stroke-width=\"2px\" d=\"M1470,877.0 C1470,789.5 1580.0,789.5 1580.0,877.0\" fill=\"none\" stroke=\"currentColor\"/>\n",
       "    <text dy=\"1.25em\" style=\"font-size: 0.8em; letter-spacing: 1px\">\n",
       "        <textPath xlink:href=\"#arrow-1d0901ec48c744659d904967c2d3e047-0-8\" class=\"displacy-label\" startOffset=\"50%\" side=\"left\" fill=\"currentColor\" text-anchor=\"middle\">compound</textPath>\n",
       "    </text>\n",
       "    <path class=\"displacy-arrowhead\" d=\"M1580.0,879.0 L1588.0,867.0 1572.0,867.0\" fill=\"currentColor\"/>\n",
       "</g>\n",
       "\n",
       "<g class=\"displacy-arrow\">\n",
       "    <path class=\"displacy-arc\" id=\"arrow-1d0901ec48c744659d904967c2d3e047-0-9\" stroke-width=\"2px\" d=\"M1470,877.0 C1470,702.0 1760.0,702.0 1760.0,877.0\" fill=\"none\" stroke=\"currentColor\"/>\n",
       "    <text dy=\"1.25em\" style=\"font-size: 0.8em; letter-spacing: 1px\">\n",
       "        <textPath xlink:href=\"#arrow-1d0901ec48c744659d904967c2d3e047-0-9\" class=\"displacy-label\" startOffset=\"50%\" side=\"left\" fill=\"currentColor\" text-anchor=\"middle\">advmod</textPath>\n",
       "    </text>\n",
       "    <path class=\"displacy-arrowhead\" d=\"M1760.0,879.0 L1768.0,867.0 1752.0,867.0\" fill=\"currentColor\"/>\n",
       "</g>\n",
       "\n",
       "<g class=\"displacy-arrow\">\n",
       "    <path class=\"displacy-arc\" id=\"arrow-1d0901ec48c744659d904967c2d3e047-0-10\" stroke-width=\"2px\" d=\"M1995,877.0 C1995,702.0 2285.0,702.0 2285.0,877.0\" fill=\"none\" stroke=\"currentColor\"/>\n",
       "    <text dy=\"1.25em\" style=\"font-size: 0.8em; letter-spacing: 1px\">\n",
       "        <textPath xlink:href=\"#arrow-1d0901ec48c744659d904967c2d3e047-0-10\" class=\"displacy-label\" startOffset=\"50%\" side=\"left\" fill=\"currentColor\" text-anchor=\"middle\">case</textPath>\n",
       "    </text>\n",
       "    <path class=\"displacy-arrowhead\" d=\"M1995,879.0 L1987,867.0 2003,867.0\" fill=\"currentColor\"/>\n",
       "</g>\n",
       "\n",
       "<g class=\"displacy-arrow\">\n",
       "    <path class=\"displacy-arc\" id=\"arrow-1d0901ec48c744659d904967c2d3e047-0-11\" stroke-width=\"2px\" d=\"M2170,877.0 C2170,789.5 2280.0,789.5 2280.0,877.0\" fill=\"none\" stroke=\"currentColor\"/>\n",
       "    <text dy=\"1.25em\" style=\"font-size: 0.8em; letter-spacing: 1px\">\n",
       "        <textPath xlink:href=\"#arrow-1d0901ec48c744659d904967c2d3e047-0-11\" class=\"displacy-label\" startOffset=\"50%\" side=\"left\" fill=\"currentColor\" text-anchor=\"middle\">det</textPath>\n",
       "    </text>\n",
       "    <path class=\"displacy-arrowhead\" d=\"M2170,879.0 L2162,867.0 2178,867.0\" fill=\"currentColor\"/>\n",
       "</g>\n",
       "\n",
       "<g class=\"displacy-arrow\">\n",
       "    <path class=\"displacy-arc\" id=\"arrow-1d0901ec48c744659d904967c2d3e047-0-12\" stroke-width=\"2px\" d=\"M1470,877.0 C1470,439.5 2300.0,439.5 2300.0,877.0\" fill=\"none\" stroke=\"currentColor\"/>\n",
       "    <text dy=\"1.25em\" style=\"font-size: 0.8em; letter-spacing: 1px\">\n",
       "        <textPath xlink:href=\"#arrow-1d0901ec48c744659d904967c2d3e047-0-12\" class=\"displacy-label\" startOffset=\"50%\" side=\"left\" fill=\"currentColor\" text-anchor=\"middle\">obj</textPath>\n",
       "    </text>\n",
       "    <path class=\"displacy-arrowhead\" d=\"M2300.0,879.0 L2308.0,867.0 2292.0,867.0\" fill=\"currentColor\"/>\n",
       "</g>\n",
       "\n",
       "<g class=\"displacy-arrow\">\n",
       "    <path class=\"displacy-arc\" id=\"arrow-1d0901ec48c744659d904967c2d3e047-0-13\" stroke-width=\"2px\" d=\"M1470,877.0 C1470,352.0 2480.0,352.0 2480.0,877.0\" fill=\"none\" stroke=\"currentColor\"/>\n",
       "    <text dy=\"1.25em\" style=\"font-size: 0.8em; letter-spacing: 1px\">\n",
       "        <textPath xlink:href=\"#arrow-1d0901ec48c744659d904967c2d3e047-0-13\" class=\"displacy-label\" startOffset=\"50%\" side=\"left\" fill=\"currentColor\" text-anchor=\"middle\">advcl</textPath>\n",
       "    </text>\n",
       "    <path class=\"displacy-arrowhead\" d=\"M2480.0,879.0 L2488.0,867.0 2472.0,867.0\" fill=\"currentColor\"/>\n",
       "</g>\n",
       "\n",
       "<g class=\"displacy-arrow\">\n",
       "    <path class=\"displacy-arc\" id=\"arrow-1d0901ec48c744659d904967c2d3e047-0-14\" stroke-width=\"2px\" d=\"M2695,877.0 C2695,702.0 2985.0,702.0 2985.0,877.0\" fill=\"none\" stroke=\"currentColor\"/>\n",
       "    <text dy=\"1.25em\" style=\"font-size: 0.8em; letter-spacing: 1px\">\n",
       "        <textPath xlink:href=\"#arrow-1d0901ec48c744659d904967c2d3e047-0-14\" class=\"displacy-label\" startOffset=\"50%\" side=\"left\" fill=\"currentColor\" text-anchor=\"middle\">case</textPath>\n",
       "    </text>\n",
       "    <path class=\"displacy-arrowhead\" d=\"M2695,879.0 L2687,867.0 2703,867.0\" fill=\"currentColor\"/>\n",
       "</g>\n",
       "\n",
       "<g class=\"displacy-arrow\">\n",
       "    <path class=\"displacy-arc\" id=\"arrow-1d0901ec48c744659d904967c2d3e047-0-15\" stroke-width=\"2px\" d=\"M2870,877.0 C2870,789.5 2980.0,789.5 2980.0,877.0\" fill=\"none\" stroke=\"currentColor\"/>\n",
       "    <text dy=\"1.25em\" style=\"font-size: 0.8em; letter-spacing: 1px\">\n",
       "        <textPath xlink:href=\"#arrow-1d0901ec48c744659d904967c2d3e047-0-15\" class=\"displacy-label\" startOffset=\"50%\" side=\"left\" fill=\"currentColor\" text-anchor=\"middle\">det</textPath>\n",
       "    </text>\n",
       "    <path class=\"displacy-arrowhead\" d=\"M2870,879.0 L2862,867.0 2878,867.0\" fill=\"currentColor\"/>\n",
       "</g>\n",
       "\n",
       "<g class=\"displacy-arrow\">\n",
       "    <path class=\"displacy-arc\" id=\"arrow-1d0901ec48c744659d904967c2d3e047-0-16\" stroke-width=\"2px\" d=\"M2520,877.0 C2520,614.5 2990.0,614.5 2990.0,877.0\" fill=\"none\" stroke=\"currentColor\"/>\n",
       "    <text dy=\"1.25em\" style=\"font-size: 0.8em; letter-spacing: 1px\">\n",
       "        <textPath xlink:href=\"#arrow-1d0901ec48c744659d904967c2d3e047-0-16\" class=\"displacy-label\" startOffset=\"50%\" side=\"left\" fill=\"currentColor\" text-anchor=\"middle\">obl</textPath>\n",
       "    </text>\n",
       "    <path class=\"displacy-arrowhead\" d=\"M2990.0,879.0 L2998.0,867.0 2982.0,867.0\" fill=\"currentColor\"/>\n",
       "</g>\n",
       "\n",
       "<g class=\"displacy-arrow\">\n",
       "    <path class=\"displacy-arc\" id=\"arrow-1d0901ec48c744659d904967c2d3e047-0-17\" stroke-width=\"2px\" d=\"M3220,877.0 C3220,789.5 3330.0,789.5 3330.0,877.0\" fill=\"none\" stroke=\"currentColor\"/>\n",
       "    <text dy=\"1.25em\" style=\"font-size: 0.8em; letter-spacing: 1px\">\n",
       "        <textPath xlink:href=\"#arrow-1d0901ec48c744659d904967c2d3e047-0-17\" class=\"displacy-label\" startOffset=\"50%\" side=\"left\" fill=\"currentColor\" text-anchor=\"middle\">case</textPath>\n",
       "    </text>\n",
       "    <path class=\"displacy-arrowhead\" d=\"M3220,879.0 L3212,867.0 3228,867.0\" fill=\"currentColor\"/>\n",
       "</g>\n",
       "\n",
       "<g class=\"displacy-arrow\">\n",
       "    <path class=\"displacy-arc\" id=\"arrow-1d0901ec48c744659d904967c2d3e047-0-18\" stroke-width=\"2px\" d=\"M3045,877.0 C3045,702.0 3335.0,702.0 3335.0,877.0\" fill=\"none\" stroke=\"currentColor\"/>\n",
       "    <text dy=\"1.25em\" style=\"font-size: 0.8em; letter-spacing: 1px\">\n",
       "        <textPath xlink:href=\"#arrow-1d0901ec48c744659d904967c2d3e047-0-18\" class=\"displacy-label\" startOffset=\"50%\" side=\"left\" fill=\"currentColor\" text-anchor=\"middle\">nmod</textPath>\n",
       "    </text>\n",
       "    <path class=\"displacy-arrowhead\" d=\"M3335.0,879.0 L3343.0,867.0 3327.0,867.0\" fill=\"currentColor\"/>\n",
       "</g>\n",
       "\n",
       "<g class=\"displacy-arrow\">\n",
       "    <path class=\"displacy-arc\" id=\"arrow-1d0901ec48c744659d904967c2d3e047-0-19\" stroke-width=\"2px\" d=\"M3570,877.0 C3570,789.5 3680.0,789.5 3680.0,877.0\" fill=\"none\" stroke=\"currentColor\"/>\n",
       "    <text dy=\"1.25em\" style=\"font-size: 0.8em; letter-spacing: 1px\">\n",
       "        <textPath xlink:href=\"#arrow-1d0901ec48c744659d904967c2d3e047-0-19\" class=\"displacy-label\" startOffset=\"50%\" side=\"left\" fill=\"currentColor\" text-anchor=\"middle\">cc</textPath>\n",
       "    </text>\n",
       "    <path class=\"displacy-arrowhead\" d=\"M3570,879.0 L3562,867.0 3578,867.0\" fill=\"currentColor\"/>\n",
       "</g>\n",
       "\n",
       "<g class=\"displacy-arrow\">\n",
       "    <path class=\"displacy-arc\" id=\"arrow-1d0901ec48c744659d904967c2d3e047-0-20\" stroke-width=\"2px\" d=\"M1470,877.0 C1470,89.5 3720.0,89.5 3720.0,877.0\" fill=\"none\" stroke=\"currentColor\"/>\n",
       "    <text dy=\"1.25em\" style=\"font-size: 0.8em; letter-spacing: 1px\">\n",
       "        <textPath xlink:href=\"#arrow-1d0901ec48c744659d904967c2d3e047-0-20\" class=\"displacy-label\" startOffset=\"50%\" side=\"left\" fill=\"currentColor\" text-anchor=\"middle\">conj</textPath>\n",
       "    </text>\n",
       "    <path class=\"displacy-arrowhead\" d=\"M3720.0,879.0 L3728.0,867.0 3712.0,867.0\" fill=\"currentColor\"/>\n",
       "</g>\n",
       "\n",
       "<g class=\"displacy-arrow\">\n",
       "    <path class=\"displacy-arc\" id=\"arrow-1d0901ec48c744659d904967c2d3e047-0-21\" stroke-width=\"2px\" d=\"M3745,877.0 C3745,789.5 3855.0,789.5 3855.0,877.0\" fill=\"none\" stroke=\"currentColor\"/>\n",
       "    <text dy=\"1.25em\" style=\"font-size: 0.8em; letter-spacing: 1px\">\n",
       "        <textPath xlink:href=\"#arrow-1d0901ec48c744659d904967c2d3e047-0-21\" class=\"displacy-label\" startOffset=\"50%\" side=\"left\" fill=\"currentColor\" text-anchor=\"middle\">compound</textPath>\n",
       "    </text>\n",
       "    <path class=\"displacy-arrowhead\" d=\"M3855.0,879.0 L3863.0,867.0 3847.0,867.0\" fill=\"currentColor\"/>\n",
       "</g>\n",
       "\n",
       "<g class=\"displacy-arrow\">\n",
       "    <path class=\"displacy-arc\" id=\"arrow-1d0901ec48c744659d904967c2d3e047-0-22\" stroke-width=\"2px\" d=\"M4095,877.0 C4095,702.0 4385.0,702.0 4385.0,877.0\" fill=\"none\" stroke=\"currentColor\"/>\n",
       "    <text dy=\"1.25em\" style=\"font-size: 0.8em; letter-spacing: 1px\">\n",
       "        <textPath xlink:href=\"#arrow-1d0901ec48c744659d904967c2d3e047-0-22\" class=\"displacy-label\" startOffset=\"50%\" side=\"left\" fill=\"currentColor\" text-anchor=\"middle\">case</textPath>\n",
       "    </text>\n",
       "    <path class=\"displacy-arrowhead\" d=\"M4095,879.0 L4087,867.0 4103,867.0\" fill=\"currentColor\"/>\n",
       "</g>\n",
       "\n",
       "<g class=\"displacy-arrow\">\n",
       "    <path class=\"displacy-arc\" id=\"arrow-1d0901ec48c744659d904967c2d3e047-0-23\" stroke-width=\"2px\" d=\"M4270,877.0 C4270,789.5 4380.0,789.5 4380.0,877.0\" fill=\"none\" stroke=\"currentColor\"/>\n",
       "    <text dy=\"1.25em\" style=\"font-size: 0.8em; letter-spacing: 1px\">\n",
       "        <textPath xlink:href=\"#arrow-1d0901ec48c744659d904967c2d3e047-0-23\" class=\"displacy-label\" startOffset=\"50%\" side=\"left\" fill=\"currentColor\" text-anchor=\"middle\">det</textPath>\n",
       "    </text>\n",
       "    <path class=\"displacy-arrowhead\" d=\"M4270,879.0 L4262,867.0 4278,867.0\" fill=\"currentColor\"/>\n",
       "</g>\n",
       "\n",
       "<g class=\"displacy-arrow\">\n",
       "    <path class=\"displacy-arc\" id=\"arrow-1d0901ec48c744659d904967c2d3e047-0-24\" stroke-width=\"2px\" d=\"M3745,877.0 C3745,527.0 4395.0,527.0 4395.0,877.0\" fill=\"none\" stroke=\"currentColor\"/>\n",
       "    <text dy=\"1.25em\" style=\"font-size: 0.8em; letter-spacing: 1px\">\n",
       "        <textPath xlink:href=\"#arrow-1d0901ec48c744659d904967c2d3e047-0-24\" class=\"displacy-label\" startOffset=\"50%\" side=\"left\" fill=\"currentColor\" text-anchor=\"middle\">obj</textPath>\n",
       "    </text>\n",
       "    <path class=\"displacy-arrowhead\" d=\"M4395.0,879.0 L4403.0,867.0 4387.0,867.0\" fill=\"currentColor\"/>\n",
       "</g>\n",
       "\n",
       "<g class=\"displacy-arrow\">\n",
       "    <path class=\"displacy-arc\" id=\"arrow-1d0901ec48c744659d904967c2d3e047-0-25\" stroke-width=\"2px\" d=\"M4620,877.0 C4620,702.0 4910.0,702.0 4910.0,877.0\" fill=\"none\" stroke=\"currentColor\"/>\n",
       "    <text dy=\"1.25em\" style=\"font-size: 0.8em; letter-spacing: 1px\">\n",
       "        <textPath xlink:href=\"#arrow-1d0901ec48c744659d904967c2d3e047-0-25\" class=\"displacy-label\" startOffset=\"50%\" side=\"left\" fill=\"currentColor\" text-anchor=\"middle\">cc</textPath>\n",
       "    </text>\n",
       "    <path class=\"displacy-arrowhead\" d=\"M4620,879.0 L4612,867.0 4628,867.0\" fill=\"currentColor\"/>\n",
       "</g>\n",
       "\n",
       "<g class=\"displacy-arrow\">\n",
       "    <path class=\"displacy-arc\" id=\"arrow-1d0901ec48c744659d904967c2d3e047-0-26\" stroke-width=\"2px\" d=\"M4795,877.0 C4795,789.5 4905.0,789.5 4905.0,877.0\" fill=\"none\" stroke=\"currentColor\"/>\n",
       "    <text dy=\"1.25em\" style=\"font-size: 0.8em; letter-spacing: 1px\">\n",
       "        <textPath xlink:href=\"#arrow-1d0901ec48c744659d904967c2d3e047-0-26\" class=\"displacy-label\" startOffset=\"50%\" side=\"left\" fill=\"currentColor\" text-anchor=\"middle\">det</textPath>\n",
       "    </text>\n",
       "    <path class=\"displacy-arrowhead\" d=\"M4795,879.0 L4787,867.0 4803,867.0\" fill=\"currentColor\"/>\n",
       "</g>\n",
       "\n",
       "<g class=\"displacy-arrow\">\n",
       "    <path class=\"displacy-arc\" id=\"arrow-1d0901ec48c744659d904967c2d3e047-0-27\" stroke-width=\"2px\" d=\"M4445,877.0 C4445,614.5 4915.0,614.5 4915.0,877.0\" fill=\"none\" stroke=\"currentColor\"/>\n",
       "    <text dy=\"1.25em\" style=\"font-size: 0.8em; letter-spacing: 1px\">\n",
       "        <textPath xlink:href=\"#arrow-1d0901ec48c744659d904967c2d3e047-0-27\" class=\"displacy-label\" startOffset=\"50%\" side=\"left\" fill=\"currentColor\" text-anchor=\"middle\">conj</textPath>\n",
       "    </text>\n",
       "    <path class=\"displacy-arrowhead\" d=\"M4915.0,879.0 L4923.0,867.0 4907.0,867.0\" fill=\"currentColor\"/>\n",
       "</g>\n",
       "\n",
       "<g class=\"displacy-arrow\">\n",
       "    <path class=\"displacy-arc\" id=\"arrow-1d0901ec48c744659d904967c2d3e047-0-28\" stroke-width=\"2px\" d=\"M4970,877.0 C4970,789.5 5080.0,789.5 5080.0,877.0\" fill=\"none\" stroke=\"currentColor\"/>\n",
       "    <text dy=\"1.25em\" style=\"font-size: 0.8em; letter-spacing: 1px\">\n",
       "        <textPath xlink:href=\"#arrow-1d0901ec48c744659d904967c2d3e047-0-28\" class=\"displacy-label\" startOffset=\"50%\" side=\"left\" fill=\"currentColor\" text-anchor=\"middle\">amod</textPath>\n",
       "    </text>\n",
       "    <path class=\"displacy-arrowhead\" d=\"M5080.0,879.0 L5088.0,867.0 5072.0,867.0\" fill=\"currentColor\"/>\n",
       "</g>\n",
       "\n",
       "<g class=\"displacy-arrow\">\n",
       "    <path class=\"displacy-arc\" id=\"arrow-1d0901ec48c744659d904967c2d3e047-0-29\" stroke-width=\"2px\" d=\"M5320,877.0 C5320,789.5 5430.0,789.5 5430.0,877.0\" fill=\"none\" stroke=\"currentColor\"/>\n",
       "    <text dy=\"1.25em\" style=\"font-size: 0.8em; letter-spacing: 1px\">\n",
       "        <textPath xlink:href=\"#arrow-1d0901ec48c744659d904967c2d3e047-0-29\" class=\"displacy-label\" startOffset=\"50%\" side=\"left\" fill=\"currentColor\" text-anchor=\"middle\">case</textPath>\n",
       "    </text>\n",
       "    <path class=\"displacy-arrowhead\" d=\"M5320,879.0 L5312,867.0 5328,867.0\" fill=\"currentColor\"/>\n",
       "</g>\n",
       "\n",
       "<g class=\"displacy-arrow\">\n",
       "    <path class=\"displacy-arc\" id=\"arrow-1d0901ec48c744659d904967c2d3e047-0-30\" stroke-width=\"2px\" d=\"M5495,877.0 C5495,614.5 5965.0,614.5 5965.0,877.0\" fill=\"none\" stroke=\"currentColor\"/>\n",
       "    <text dy=\"1.25em\" style=\"font-size: 0.8em; letter-spacing: 1px\">\n",
       "        <textPath xlink:href=\"#arrow-1d0901ec48c744659d904967c2d3e047-0-30\" class=\"displacy-label\" startOffset=\"50%\" side=\"left\" fill=\"currentColor\" text-anchor=\"middle\">nsubj</textPath>\n",
       "    </text>\n",
       "    <path class=\"displacy-arrowhead\" d=\"M5495,879.0 L5487,867.0 5503,867.0\" fill=\"currentColor\"/>\n",
       "</g>\n",
       "\n",
       "<g class=\"displacy-arrow\">\n",
       "    <path class=\"displacy-arc\" id=\"arrow-1d0901ec48c744659d904967c2d3e047-0-31\" stroke-width=\"2px\" d=\"M5670,877.0 C5670,789.5 5780.0,789.5 5780.0,877.0\" fill=\"none\" stroke=\"currentColor\"/>\n",
       "    <text dy=\"1.25em\" style=\"font-size: 0.8em; letter-spacing: 1px\">\n",
       "        <textPath xlink:href=\"#arrow-1d0901ec48c744659d904967c2d3e047-0-31\" class=\"displacy-label\" startOffset=\"50%\" side=\"left\" fill=\"currentColor\" text-anchor=\"middle\">cop</textPath>\n",
       "    </text>\n",
       "    <path class=\"displacy-arrowhead\" d=\"M5670,879.0 L5662,867.0 5678,867.0\" fill=\"currentColor\"/>\n",
       "</g>\n",
       "\n",
       "<g class=\"displacy-arrow\">\n",
       "    <path class=\"displacy-arc\" id=\"arrow-1d0901ec48c744659d904967c2d3e047-0-32\" stroke-width=\"2px\" d=\"M5845,877.0 C5845,789.5 5955.0,789.5 5955.0,877.0\" fill=\"none\" stroke=\"currentColor\"/>\n",
       "    <text dy=\"1.25em\" style=\"font-size: 0.8em; letter-spacing: 1px\">\n",
       "        <textPath xlink:href=\"#arrow-1d0901ec48c744659d904967c2d3e047-0-32\" class=\"displacy-label\" startOffset=\"50%\" side=\"left\" fill=\"currentColor\" text-anchor=\"middle\">amod</textPath>\n",
       "    </text>\n",
       "    <path class=\"displacy-arrowhead\" d=\"M5845,879.0 L5837,867.0 5853,867.0\" fill=\"currentColor\"/>\n",
       "</g>\n",
       "\n",
       "<g class=\"displacy-arrow\">\n",
       "    <path class=\"displacy-arc\" id=\"arrow-1d0901ec48c744659d904967c2d3e047-0-33\" stroke-width=\"2px\" d=\"M4970,877.0 C4970,352.0 5980.0,352.0 5980.0,877.0\" fill=\"none\" stroke=\"currentColor\"/>\n",
       "    <text dy=\"1.25em\" style=\"font-size: 0.8em; letter-spacing: 1px\">\n",
       "        <textPath xlink:href=\"#arrow-1d0901ec48c744659d904967c2d3e047-0-33\" class=\"displacy-label\" startOffset=\"50%\" side=\"left\" fill=\"currentColor\" text-anchor=\"middle\">acl</textPath>\n",
       "    </text>\n",
       "    <path class=\"displacy-arrowhead\" d=\"M5980.0,879.0 L5988.0,867.0 5972.0,867.0\" fill=\"currentColor\"/>\n",
       "</g>\n",
       "\n",
       "<g class=\"displacy-arrow\">\n",
       "    <path class=\"displacy-arc\" id=\"arrow-1d0901ec48c744659d904967c2d3e047-0-34\" stroke-width=\"2px\" d=\"M1470,877.0 C1470,2.0 6175.0,2.0 6175.0,877.0\" fill=\"none\" stroke=\"currentColor\"/>\n",
       "    <text dy=\"1.25em\" style=\"font-size: 0.8em; letter-spacing: 1px\">\n",
       "        <textPath xlink:href=\"#arrow-1d0901ec48c744659d904967c2d3e047-0-34\" class=\"displacy-label\" startOffset=\"50%\" side=\"left\" fill=\"currentColor\" text-anchor=\"middle\">dep</textPath>\n",
       "    </text>\n",
       "    <path class=\"displacy-arrowhead\" d=\"M6175.0,879.0 L6183.0,867.0 6167.0,867.0\" fill=\"currentColor\"/>\n",
       "</g>\n",
       "\n",
       "<g class=\"displacy-arrow\">\n",
       "    <path class=\"displacy-arc\" id=\"arrow-1d0901ec48c744659d904967c2d3e047-0-35\" stroke-width=\"2px\" d=\"M6195,877.0 C6195,789.5 6305.0,789.5 6305.0,877.0\" fill=\"none\" stroke=\"currentColor\"/>\n",
       "    <text dy=\"1.25em\" style=\"font-size: 0.8em; letter-spacing: 1px\">\n",
       "        <textPath xlink:href=\"#arrow-1d0901ec48c744659d904967c2d3e047-0-35\" class=\"displacy-label\" startOffset=\"50%\" side=\"left\" fill=\"currentColor\" text-anchor=\"middle\">obj</textPath>\n",
       "    </text>\n",
       "    <path class=\"displacy-arrowhead\" d=\"M6305.0,879.0 L6313.0,867.0 6297.0,867.0\" fill=\"currentColor\"/>\n",
       "</g>\n",
       "</svg></span>"
      ],
      "text/plain": [
       "<IPython.core.display.HTML object>"
      ]
     },
     "metadata": {},
     "output_type": "display_data"
    }
   ],
   "source": [
    "sentence_doc = nlp(example_es_sent)\n",
    "displacy.render(sentence_doc, style='dep')"
   ]
  },
  {
   "cell_type": "markdown",
   "id": "5abcb276",
   "metadata": {},
   "source": [
    "### Entity Tagging"
   ]
  },
  {
   "cell_type": "code",
   "execution_count": 40,
   "id": "f6d2a9a5",
   "metadata": {},
   "outputs": [
    {
     "name": "stdout",
     "output_type": "stream",
     "text": [
      "Spanish document entity tagged in: 0.0633401870727539 seconds.\n"
     ]
    }
   ],
   "source": [
    "start = time()\n",
    "es_ent = []\n",
    "es_label = []\n",
    "for ent in es_doc.ents:\n",
    "    es_ent.append(ent.text)\n",
    "    es_label.append(ent.label_)\n",
    "print(\"Spanish document entity tagged in:\", (time()-start), \"seconds.\")"
   ]
  },
  {
   "cell_type": "code",
   "execution_count": 41,
   "id": "45f6300b",
   "metadata": {},
   "outputs": [
    {
     "name": "stdout",
     "output_type": "stream",
     "text": [
      "{'PER', 'ORG', 'LOC', 'MISC'}\n"
     ]
    }
   ],
   "source": [
    "print(set(es_label))"
   ]
  },
  {
   "cell_type": "code",
   "execution_count": 42,
   "id": "f8820781",
   "metadata": {},
   "outputs": [],
   "source": [
    "es_ents = np.column_stack((es_ent, es_label))"
   ]
  },
  {
   "cell_type": "code",
   "execution_count": 43,
   "id": "6cf6d26a",
   "metadata": {},
   "outputs": [
    {
     "name": "stdout",
     "output_type": "stream",
     "text": [
      "[['Aprobada' 'LOC']\n",
      " ['Consejo de Seguridad' 'ORG']\n",
      " ['Consejo de Seguridad' 'ORG']\n",
      " ['Rwanda' 'LOC']\n",
      " ['Misión de Asistencia de las Naciones Unidas a Rwanda' 'LOC']\n",
      " ['UNAMIR' 'ORG']\n",
      " ['UNAMIR' 'ORG']\n",
      " ['UNAMIR' 'ORG']\n",
      " ['Presidente del Consejo' 'MISC']\n",
      " ['S/PRST/1994/16' 'MISC']] \n",
      "\n",
      "Length of Spanish Entities: 9826\n"
     ]
    }
   ],
   "source": [
    "print(es_ents[:10], '\\n\\nLength of Spanish Entities:', len(es_ents))"
   ]
  },
  {
   "cell_type": "markdown",
   "id": "9d437f17",
   "metadata": {},
   "source": [
    "## French"
   ]
  },
  {
   "cell_type": "markdown",
   "id": "74656b69",
   "metadata": {},
   "source": [
    "### Reading in French File"
   ]
  },
  {
   "cell_type": "code",
   "execution_count": 44,
   "id": "8566d491",
   "metadata": {},
   "outputs": [
    {
     "name": "stdout",
     "output_type": "stream",
     "text": [
      "Data loaded in: 0.17295217514038086 seconds.\n"
     ]
    }
   ],
   "source": [
    "# Loading in French Files\n",
    "start = time()\n",
    "f = open('data/sixway/french.100k', 'r') # Reading in French File\n",
    "french100 = f.read()\n",
    "print(\"Data loaded in:\", (time()-start), \"seconds.\")\n",
    "f.close()"
   ]
  },
  {
   "cell_type": "code",
   "execution_count": 45,
   "id": "67fc7b72",
   "metadata": {},
   "outputs": [],
   "source": [
    "# Creating Smaller Slice to Analyze using SpaCy\n",
    "french_samp = french100[:1000000]"
   ]
  },
  {
   "cell_type": "markdown",
   "id": "cf6abf53",
   "metadata": {},
   "source": [
    "### Downloading SpaCy object for French processing"
   ]
  },
  {
   "cell_type": "code",
   "execution_count": 46,
   "id": "edefa51f",
   "metadata": {},
   "outputs": [
    {
     "name": "stdout",
     "output_type": "stream",
     "text": [
      "French document processed in: 82.3001070022583 seconds.\n"
     ]
    }
   ],
   "source": [
    "start = time()\n",
    "nlp = spacy.load('fr_core_news_sm')\n",
    "fr_doc = nlp(french_samp)\n",
    "\n",
    "print(\"French document processed in:\", (time()-start), \"seconds.\")"
   ]
  },
  {
   "cell_type": "markdown",
   "id": "70b15a82",
   "metadata": {},
   "source": [
    "### Word Tokenizing French Document"
   ]
  },
  {
   "cell_type": "code",
   "execution_count": 47,
   "id": "a3549e66",
   "metadata": {},
   "outputs": [
    {
     "name": "stdout",
     "output_type": "stream",
     "text": [
      "French document tokenized in: 0.4269862174987793 seconds.\n"
     ]
    }
   ],
   "source": [
    "start = time()\n",
    "fr_tokens = [token for token in fr_doc]\n",
    "print(\"French document tokenized in:\", (time()-start), \"seconds.\")"
   ]
  },
  {
   "cell_type": "markdown",
   "id": "734bf64e",
   "metadata": {},
   "source": [
    "### Sentence Tokenizing French Document"
   ]
  },
  {
   "cell_type": "code",
   "execution_count": 48,
   "id": "75eba19e",
   "metadata": {},
   "outputs": [
    {
     "name": "stdout",
     "output_type": "stream",
     "text": [
      "French document sentence tokenized in: 0.1482088565826416 seconds.\n"
     ]
    }
   ],
   "source": [
    "start = time()\n",
    "fr_sent = [sent.text for sent in fr_doc.sents]\n",
    "print(\"French document sentence tokenized in:\", (time()-start), \"seconds.\")"
   ]
  },
  {
   "cell_type": "code",
   "execution_count": 49,
   "id": "9e6895e6",
   "metadata": {},
   "outputs": [
    {
     "data": {
      "text/plain": [
       "9440"
      ]
     },
     "execution_count": 49,
     "metadata": {},
     "output_type": "execute_result"
    }
   ],
   "source": [
    "len(fr_sent)"
   ]
  },
  {
   "cell_type": "code",
   "execution_count": 50,
   "id": "39c9847a",
   "metadata": {},
   "outputs": [
    {
     "name": "stdout",
     "output_type": "stream",
     "text": [
      "Exige que toutes les parties au conflit cessent immédiatement les hostilités, acceptent un cessez-le-feu et mettent fin à la violence et au carnage insensés dans lesquels est plongé le Rwanda;\n"
     ]
    }
   ],
   "source": [
    "example_fr_sent = fr_sent[4]\n",
    "print(example_fr_sent)"
   ]
  },
  {
   "cell_type": "code",
   "execution_count": 51,
   "id": "007d1856",
   "metadata": {},
   "outputs": [
    {
     "name": "stdout",
     "output_type": "stream",
     "text": [
      "Demands that all parties to the conflict immediately cease hostilities, agree to a cease-fire, and bring an end to the mindless violence and carnage engulfing Rwanda;\n",
      "2. \n",
      "\n",
      " Exige que todas las partes en el conflicto pongan fin inmediatamente a las hostilidades, convengan en una cesación del fuego y pongan término a la violencia y la carnicería insensatas en que está sumida Rwanda;\n",
      "2. \n",
      "\n",
      " Exige que toutes les parties au conflit cessent immédiatement les hostilités, acceptent un cessez-le-feu et mettent fin à la violence et au carnage insensés dans lesquels est plongé le Rwanda;\n"
     ]
    }
   ],
   "source": [
    "print(example_eng_sent,'\\n\\n',example_es_sent, '\\n\\n',example_fr_sent)"
   ]
  },
  {
   "cell_type": "markdown",
   "id": "08e2b11d",
   "metadata": {},
   "source": [
    "### POS Tagging French Documnent"
   ]
  },
  {
   "cell_type": "code",
   "execution_count": 52,
   "id": "4fdb8991",
   "metadata": {},
   "outputs": [
    {
     "name": "stdout",
     "output_type": "stream",
     "text": [
      "French document POS tagged in: 0.06789398193359375 seconds.\n"
     ]
    }
   ],
   "source": [
    "start = time()\n",
    "fr_pos = [token.pos_ for token in fr_doc] \n",
    "print(\"French document POS tagged in:\", (time()-start), \"seconds.\")"
   ]
  },
  {
   "cell_type": "code",
   "execution_count": 53,
   "id": "9bf8c6a6",
   "metadata": {},
   "outputs": [
    {
     "name": "stdout",
     "output_type": "stream",
     "text": [
      "\n",
      "List of POS tags: {'ADP', 'AUX', 'PUNCT', 'SPACE', 'ADV', 'SYM', 'ADJ', 'SCONJ', 'DET', 'CCONJ', 'NUM', 'PRON', 'VERB', 'X', 'NOUN', 'PROPN'} \n",
      "\n",
      "POS count: 16\n"
     ]
    }
   ],
   "source": [
    "print('\\nList of POS tags:', set(fr_pos), '\\n\\nPOS count:', len(set(fr_pos)))"
   ]
  },
  {
   "cell_type": "code",
   "execution_count": 54,
   "id": "2a5a2f8e",
   "metadata": {},
   "outputs": [
    {
     "name": "stdout",
     "output_type": "stream",
     "text": [
      "{'ADP', 'AUX', 'PUNCT', 'SPACE', 'ADV', 'SYM', 'ADJ', 'SCONJ', 'DET', 'CCONJ', 'NUM', 'PRON', 'VERB', 'X', 'NOUN', 'PROPN'}\n"
     ]
    }
   ],
   "source": [
    "print(set(fr_pos))"
   ]
  },
  {
   "cell_type": "markdown",
   "id": "2549732d",
   "metadata": {},
   "source": [
    "### Dependency Tagging French File"
   ]
  },
  {
   "cell_type": "code",
   "execution_count": 55,
   "id": "95a54b58",
   "metadata": {},
   "outputs": [
    {
     "name": "stdout",
     "output_type": "stream",
     "text": [
      "French document DEP tagged in: 0.0795600414276123 seconds.\n"
     ]
    }
   ],
   "source": [
    "start = time()\n",
    "fr_dep = [token.dep_ for token in fr_doc] \n",
    "print(\"French document DEP tagged in:\", (time()-start), \"seconds.\")"
   ]
  },
  {
   "cell_type": "code",
   "execution_count": 56,
   "id": "44a0d39b",
   "metadata": {},
   "outputs": [
    {
     "data": {
      "text/plain": [
       "['ROOT', 'nummod', 'punct', 'nummod', 'punct']"
      ]
     },
     "execution_count": 56,
     "metadata": {},
     "output_type": "execute_result"
    }
   ],
   "source": [
    "fr_dep[:5]"
   ]
  },
  {
   "cell_type": "code",
   "execution_count": 57,
   "id": "97cd3ea2",
   "metadata": {},
   "outputs": [
    {
     "data": {
      "text/plain": [
       "31"
      ]
     },
     "execution_count": 57,
     "metadata": {},
     "output_type": "execute_result"
    }
   ],
   "source": [
    "len(set(es_dep))"
   ]
  },
  {
   "cell_type": "code",
   "execution_count": 58,
   "id": "6e4c53de",
   "metadata": {},
   "outputs": [
    {
     "name": "stdout",
     "output_type": "stream",
     "text": [
      "{'vocative', 'cop', 'obl:agent', 'expl:pass', 'flat:name', 'flat:foreign', 'obj', 'obl:arg', 'fixed', 'iobj', 'aux:tense', 'nsubj:pass', 'aux:pass', 'expl:subj', 'acl:relcl', 'expl:comp', 'obl:mod'}\n"
     ]
    }
   ],
   "source": [
    "print(set(fr_dep)-set(eng_dep))"
   ]
  },
  {
   "cell_type": "code",
   "execution_count": 59,
   "id": "ee2ccff6",
   "metadata": {
    "scrolled": true
   },
   "outputs": [
    {
     "data": {
      "text/html": [
       "<span class=\"tex2jax_ignore\"><svg xmlns=\"http://www.w3.org/2000/svg\" xmlns:xlink=\"http://www.w3.org/1999/xlink\" xml:lang=\"fr\" id=\"1d11fa94d1d74f84800e23af91384a11-0\" class=\"displacy\" width=\"5300\" height=\"837.0\" direction=\"ltr\" style=\"max-width: none; height: 837.0px; color: #000000; background: #ffffff; font-family: Arial; direction: ltr\">\n",
       "<text class=\"displacy-token\" fill=\"currentColor\" text-anchor=\"middle\" y=\"747.0\">\n",
       "    <tspan class=\"displacy-word\" fill=\"currentColor\" x=\"50\">Exige</tspan>\n",
       "    <tspan class=\"displacy-tag\" dy=\"2em\" fill=\"currentColor\" x=\"50\">NOUN</tspan>\n",
       "</text>\n",
       "\n",
       "<text class=\"displacy-token\" fill=\"currentColor\" text-anchor=\"middle\" y=\"747.0\">\n",
       "    <tspan class=\"displacy-word\" fill=\"currentColor\" x=\"225\">que</tspan>\n",
       "    <tspan class=\"displacy-tag\" dy=\"2em\" fill=\"currentColor\" x=\"225\">SCONJ</tspan>\n",
       "</text>\n",
       "\n",
       "<text class=\"displacy-token\" fill=\"currentColor\" text-anchor=\"middle\" y=\"747.0\">\n",
       "    <tspan class=\"displacy-word\" fill=\"currentColor\" x=\"400\">toutes</tspan>\n",
       "    <tspan class=\"displacy-tag\" dy=\"2em\" fill=\"currentColor\" x=\"400\">ADJ</tspan>\n",
       "</text>\n",
       "\n",
       "<text class=\"displacy-token\" fill=\"currentColor\" text-anchor=\"middle\" y=\"747.0\">\n",
       "    <tspan class=\"displacy-word\" fill=\"currentColor\" x=\"575\">les</tspan>\n",
       "    <tspan class=\"displacy-tag\" dy=\"2em\" fill=\"currentColor\" x=\"575\">DET</tspan>\n",
       "</text>\n",
       "\n",
       "<text class=\"displacy-token\" fill=\"currentColor\" text-anchor=\"middle\" y=\"747.0\">\n",
       "    <tspan class=\"displacy-word\" fill=\"currentColor\" x=\"750\">parties</tspan>\n",
       "    <tspan class=\"displacy-tag\" dy=\"2em\" fill=\"currentColor\" x=\"750\">NOUN</tspan>\n",
       "</text>\n",
       "\n",
       "<text class=\"displacy-token\" fill=\"currentColor\" text-anchor=\"middle\" y=\"747.0\">\n",
       "    <tspan class=\"displacy-word\" fill=\"currentColor\" x=\"925\">au</tspan>\n",
       "    <tspan class=\"displacy-tag\" dy=\"2em\" fill=\"currentColor\" x=\"925\">ADP</tspan>\n",
       "</text>\n",
       "\n",
       "<text class=\"displacy-token\" fill=\"currentColor\" text-anchor=\"middle\" y=\"747.0\">\n",
       "    <tspan class=\"displacy-word\" fill=\"currentColor\" x=\"1100\">conflit</tspan>\n",
       "    <tspan class=\"displacy-tag\" dy=\"2em\" fill=\"currentColor\" x=\"1100\">NOUN</tspan>\n",
       "</text>\n",
       "\n",
       "<text class=\"displacy-token\" fill=\"currentColor\" text-anchor=\"middle\" y=\"747.0\">\n",
       "    <tspan class=\"displacy-word\" fill=\"currentColor\" x=\"1275\">cessent</tspan>\n",
       "    <tspan class=\"displacy-tag\" dy=\"2em\" fill=\"currentColor\" x=\"1275\">VERB</tspan>\n",
       "</text>\n",
       "\n",
       "<text class=\"displacy-token\" fill=\"currentColor\" text-anchor=\"middle\" y=\"747.0\">\n",
       "    <tspan class=\"displacy-word\" fill=\"currentColor\" x=\"1450\">immédiatement</tspan>\n",
       "    <tspan class=\"displacy-tag\" dy=\"2em\" fill=\"currentColor\" x=\"1450\">ADV</tspan>\n",
       "</text>\n",
       "\n",
       "<text class=\"displacy-token\" fill=\"currentColor\" text-anchor=\"middle\" y=\"747.0\">\n",
       "    <tspan class=\"displacy-word\" fill=\"currentColor\" x=\"1625\">les</tspan>\n",
       "    <tspan class=\"displacy-tag\" dy=\"2em\" fill=\"currentColor\" x=\"1625\">DET</tspan>\n",
       "</text>\n",
       "\n",
       "<text class=\"displacy-token\" fill=\"currentColor\" text-anchor=\"middle\" y=\"747.0\">\n",
       "    <tspan class=\"displacy-word\" fill=\"currentColor\" x=\"1800\">hostilités,</tspan>\n",
       "    <tspan class=\"displacy-tag\" dy=\"2em\" fill=\"currentColor\" x=\"1800\">NOUN</tspan>\n",
       "</text>\n",
       "\n",
       "<text class=\"displacy-token\" fill=\"currentColor\" text-anchor=\"middle\" y=\"747.0\">\n",
       "    <tspan class=\"displacy-word\" fill=\"currentColor\" x=\"1975\">acceptent</tspan>\n",
       "    <tspan class=\"displacy-tag\" dy=\"2em\" fill=\"currentColor\" x=\"1975\">NOUN</tspan>\n",
       "</text>\n",
       "\n",
       "<text class=\"displacy-token\" fill=\"currentColor\" text-anchor=\"middle\" y=\"747.0\">\n",
       "    <tspan class=\"displacy-word\" fill=\"currentColor\" x=\"2150\">un</tspan>\n",
       "    <tspan class=\"displacy-tag\" dy=\"2em\" fill=\"currentColor\" x=\"2150\">DET</tspan>\n",
       "</text>\n",
       "\n",
       "<text class=\"displacy-token\" fill=\"currentColor\" text-anchor=\"middle\" y=\"747.0\">\n",
       "    <tspan class=\"displacy-word\" fill=\"currentColor\" x=\"2325\">cessez-le-feu</tspan>\n",
       "    <tspan class=\"displacy-tag\" dy=\"2em\" fill=\"currentColor\" x=\"2325\">NOUN</tspan>\n",
       "</text>\n",
       "\n",
       "<text class=\"displacy-token\" fill=\"currentColor\" text-anchor=\"middle\" y=\"747.0\">\n",
       "    <tspan class=\"displacy-word\" fill=\"currentColor\" x=\"2500\">et</tspan>\n",
       "    <tspan class=\"displacy-tag\" dy=\"2em\" fill=\"currentColor\" x=\"2500\">CCONJ</tspan>\n",
       "</text>\n",
       "\n",
       "<text class=\"displacy-token\" fill=\"currentColor\" text-anchor=\"middle\" y=\"747.0\">\n",
       "    <tspan class=\"displacy-word\" fill=\"currentColor\" x=\"2675\">mettent</tspan>\n",
       "    <tspan class=\"displacy-tag\" dy=\"2em\" fill=\"currentColor\" x=\"2675\">VERB</tspan>\n",
       "</text>\n",
       "\n",
       "<text class=\"displacy-token\" fill=\"currentColor\" text-anchor=\"middle\" y=\"747.0\">\n",
       "    <tspan class=\"displacy-word\" fill=\"currentColor\" x=\"2850\">fin</tspan>\n",
       "    <tspan class=\"displacy-tag\" dy=\"2em\" fill=\"currentColor\" x=\"2850\">NOUN</tspan>\n",
       "</text>\n",
       "\n",
       "<text class=\"displacy-token\" fill=\"currentColor\" text-anchor=\"middle\" y=\"747.0\">\n",
       "    <tspan class=\"displacy-word\" fill=\"currentColor\" x=\"3025\">à</tspan>\n",
       "    <tspan class=\"displacy-tag\" dy=\"2em\" fill=\"currentColor\" x=\"3025\">ADP</tspan>\n",
       "</text>\n",
       "\n",
       "<text class=\"displacy-token\" fill=\"currentColor\" text-anchor=\"middle\" y=\"747.0\">\n",
       "    <tspan class=\"displacy-word\" fill=\"currentColor\" x=\"3200\">la</tspan>\n",
       "    <tspan class=\"displacy-tag\" dy=\"2em\" fill=\"currentColor\" x=\"3200\">DET</tspan>\n",
       "</text>\n",
       "\n",
       "<text class=\"displacy-token\" fill=\"currentColor\" text-anchor=\"middle\" y=\"747.0\">\n",
       "    <tspan class=\"displacy-word\" fill=\"currentColor\" x=\"3375\">violence</tspan>\n",
       "    <tspan class=\"displacy-tag\" dy=\"2em\" fill=\"currentColor\" x=\"3375\">NOUN</tspan>\n",
       "</text>\n",
       "\n",
       "<text class=\"displacy-token\" fill=\"currentColor\" text-anchor=\"middle\" y=\"747.0\">\n",
       "    <tspan class=\"displacy-word\" fill=\"currentColor\" x=\"3550\">et</tspan>\n",
       "    <tspan class=\"displacy-tag\" dy=\"2em\" fill=\"currentColor\" x=\"3550\">CCONJ</tspan>\n",
       "</text>\n",
       "\n",
       "<text class=\"displacy-token\" fill=\"currentColor\" text-anchor=\"middle\" y=\"747.0\">\n",
       "    <tspan class=\"displacy-word\" fill=\"currentColor\" x=\"3725\">au</tspan>\n",
       "    <tspan class=\"displacy-tag\" dy=\"2em\" fill=\"currentColor\" x=\"3725\">ADP</tspan>\n",
       "</text>\n",
       "\n",
       "<text class=\"displacy-token\" fill=\"currentColor\" text-anchor=\"middle\" y=\"747.0\">\n",
       "    <tspan class=\"displacy-word\" fill=\"currentColor\" x=\"3900\">carnage</tspan>\n",
       "    <tspan class=\"displacy-tag\" dy=\"2em\" fill=\"currentColor\" x=\"3900\">NOUN</tspan>\n",
       "</text>\n",
       "\n",
       "<text class=\"displacy-token\" fill=\"currentColor\" text-anchor=\"middle\" y=\"747.0\">\n",
       "    <tspan class=\"displacy-word\" fill=\"currentColor\" x=\"4075\">insensés</tspan>\n",
       "    <tspan class=\"displacy-tag\" dy=\"2em\" fill=\"currentColor\" x=\"4075\">VERB</tspan>\n",
       "</text>\n",
       "\n",
       "<text class=\"displacy-token\" fill=\"currentColor\" text-anchor=\"middle\" y=\"747.0\">\n",
       "    <tspan class=\"displacy-word\" fill=\"currentColor\" x=\"4250\">dans</tspan>\n",
       "    <tspan class=\"displacy-tag\" dy=\"2em\" fill=\"currentColor\" x=\"4250\">ADP</tspan>\n",
       "</text>\n",
       "\n",
       "<text class=\"displacy-token\" fill=\"currentColor\" text-anchor=\"middle\" y=\"747.0\">\n",
       "    <tspan class=\"displacy-word\" fill=\"currentColor\" x=\"4425\">lesquels</tspan>\n",
       "    <tspan class=\"displacy-tag\" dy=\"2em\" fill=\"currentColor\" x=\"4425\">PRON</tspan>\n",
       "</text>\n",
       "\n",
       "<text class=\"displacy-token\" fill=\"currentColor\" text-anchor=\"middle\" y=\"747.0\">\n",
       "    <tspan class=\"displacy-word\" fill=\"currentColor\" x=\"4600\">est</tspan>\n",
       "    <tspan class=\"displacy-tag\" dy=\"2em\" fill=\"currentColor\" x=\"4600\">AUX</tspan>\n",
       "</text>\n",
       "\n",
       "<text class=\"displacy-token\" fill=\"currentColor\" text-anchor=\"middle\" y=\"747.0\">\n",
       "    <tspan class=\"displacy-word\" fill=\"currentColor\" x=\"4775\">plongé</tspan>\n",
       "    <tspan class=\"displacy-tag\" dy=\"2em\" fill=\"currentColor\" x=\"4775\">VERB</tspan>\n",
       "</text>\n",
       "\n",
       "<text class=\"displacy-token\" fill=\"currentColor\" text-anchor=\"middle\" y=\"747.0\">\n",
       "    <tspan class=\"displacy-word\" fill=\"currentColor\" x=\"4950\">le</tspan>\n",
       "    <tspan class=\"displacy-tag\" dy=\"2em\" fill=\"currentColor\" x=\"4950\">DET</tspan>\n",
       "</text>\n",
       "\n",
       "<text class=\"displacy-token\" fill=\"currentColor\" text-anchor=\"middle\" y=\"747.0\">\n",
       "    <tspan class=\"displacy-word\" fill=\"currentColor\" x=\"5125\">Rwanda;</tspan>\n",
       "    <tspan class=\"displacy-tag\" dy=\"2em\" fill=\"currentColor\" x=\"5125\">PROPN</tspan>\n",
       "</text>\n",
       "\n",
       "<g class=\"displacy-arrow\">\n",
       "    <path class=\"displacy-arc\" id=\"arrow-1d11fa94d1d74f84800e23af91384a11-0-0\" stroke-width=\"2px\" d=\"M70,702.0 C70,2.0 1975.0,2.0 1975.0,702.0\" fill=\"none\" stroke=\"currentColor\"/>\n",
       "    <text dy=\"1.25em\" style=\"font-size: 0.8em; letter-spacing: 1px\">\n",
       "        <textPath xlink:href=\"#arrow-1d11fa94d1d74f84800e23af91384a11-0-0\" class=\"displacy-label\" startOffset=\"50%\" side=\"left\" fill=\"currentColor\" text-anchor=\"middle\">nsubj</textPath>\n",
       "    </text>\n",
       "    <path class=\"displacy-arrowhead\" d=\"M70,704.0 L62,692.0 78,692.0\" fill=\"currentColor\"/>\n",
       "</g>\n",
       "\n",
       "<g class=\"displacy-arrow\">\n",
       "    <path class=\"displacy-arc\" id=\"arrow-1d11fa94d1d74f84800e23af91384a11-0-1\" stroke-width=\"2px\" d=\"M245,702.0 C245,264.5 1260.0,264.5 1260.0,702.0\" fill=\"none\" stroke=\"currentColor\"/>\n",
       "    <text dy=\"1.25em\" style=\"font-size: 0.8em; letter-spacing: 1px\">\n",
       "        <textPath xlink:href=\"#arrow-1d11fa94d1d74f84800e23af91384a11-0-1\" class=\"displacy-label\" startOffset=\"50%\" side=\"left\" fill=\"currentColor\" text-anchor=\"middle\">mark</textPath>\n",
       "    </text>\n",
       "    <path class=\"displacy-arrowhead\" d=\"M245,704.0 L237,692.0 253,692.0\" fill=\"currentColor\"/>\n",
       "</g>\n",
       "\n",
       "<g class=\"displacy-arrow\">\n",
       "    <path class=\"displacy-arc\" id=\"arrow-1d11fa94d1d74f84800e23af91384a11-0-2\" stroke-width=\"2px\" d=\"M420,702.0 C420,527.0 720.0,527.0 720.0,702.0\" fill=\"none\" stroke=\"currentColor\"/>\n",
       "    <text dy=\"1.25em\" style=\"font-size: 0.8em; letter-spacing: 1px\">\n",
       "        <textPath xlink:href=\"#arrow-1d11fa94d1d74f84800e23af91384a11-0-2\" class=\"displacy-label\" startOffset=\"50%\" side=\"left\" fill=\"currentColor\" text-anchor=\"middle\">amod</textPath>\n",
       "    </text>\n",
       "    <path class=\"displacy-arrowhead\" d=\"M420,704.0 L412,692.0 428,692.0\" fill=\"currentColor\"/>\n",
       "</g>\n",
       "\n",
       "<g class=\"displacy-arrow\">\n",
       "    <path class=\"displacy-arc\" id=\"arrow-1d11fa94d1d74f84800e23af91384a11-0-3\" stroke-width=\"2px\" d=\"M595,702.0 C595,614.5 715.0,614.5 715.0,702.0\" fill=\"none\" stroke=\"currentColor\"/>\n",
       "    <text dy=\"1.25em\" style=\"font-size: 0.8em; letter-spacing: 1px\">\n",
       "        <textPath xlink:href=\"#arrow-1d11fa94d1d74f84800e23af91384a11-0-3\" class=\"displacy-label\" startOffset=\"50%\" side=\"left\" fill=\"currentColor\" text-anchor=\"middle\">det</textPath>\n",
       "    </text>\n",
       "    <path class=\"displacy-arrowhead\" d=\"M595,704.0 L587,692.0 603,692.0\" fill=\"currentColor\"/>\n",
       "</g>\n",
       "\n",
       "<g class=\"displacy-arrow\">\n",
       "    <path class=\"displacy-arc\" id=\"arrow-1d11fa94d1d74f84800e23af91384a11-0-4\" stroke-width=\"2px\" d=\"M770,702.0 C770,439.5 1250.0,439.5 1250.0,702.0\" fill=\"none\" stroke=\"currentColor\"/>\n",
       "    <text dy=\"1.25em\" style=\"font-size: 0.8em; letter-spacing: 1px\">\n",
       "        <textPath xlink:href=\"#arrow-1d11fa94d1d74f84800e23af91384a11-0-4\" class=\"displacy-label\" startOffset=\"50%\" side=\"left\" fill=\"currentColor\" text-anchor=\"middle\">nsubj</textPath>\n",
       "    </text>\n",
       "    <path class=\"displacy-arrowhead\" d=\"M770,704.0 L762,692.0 778,692.0\" fill=\"currentColor\"/>\n",
       "</g>\n",
       "\n",
       "<g class=\"displacy-arrow\">\n",
       "    <path class=\"displacy-arc\" id=\"arrow-1d11fa94d1d74f84800e23af91384a11-0-5\" stroke-width=\"2px\" d=\"M945,702.0 C945,614.5 1065.0,614.5 1065.0,702.0\" fill=\"none\" stroke=\"currentColor\"/>\n",
       "    <text dy=\"1.25em\" style=\"font-size: 0.8em; letter-spacing: 1px\">\n",
       "        <textPath xlink:href=\"#arrow-1d11fa94d1d74f84800e23af91384a11-0-5\" class=\"displacy-label\" startOffset=\"50%\" side=\"left\" fill=\"currentColor\" text-anchor=\"middle\">case</textPath>\n",
       "    </text>\n",
       "    <path class=\"displacy-arrowhead\" d=\"M945,704.0 L937,692.0 953,692.0\" fill=\"currentColor\"/>\n",
       "</g>\n",
       "\n",
       "<g class=\"displacy-arrow\">\n",
       "    <path class=\"displacy-arc\" id=\"arrow-1d11fa94d1d74f84800e23af91384a11-0-6\" stroke-width=\"2px\" d=\"M770,702.0 C770,527.0 1070.0,527.0 1070.0,702.0\" fill=\"none\" stroke=\"currentColor\"/>\n",
       "    <text dy=\"1.25em\" style=\"font-size: 0.8em; letter-spacing: 1px\">\n",
       "        <textPath xlink:href=\"#arrow-1d11fa94d1d74f84800e23af91384a11-0-6\" class=\"displacy-label\" startOffset=\"50%\" side=\"left\" fill=\"currentColor\" text-anchor=\"middle\">nmod</textPath>\n",
       "    </text>\n",
       "    <path class=\"displacy-arrowhead\" d=\"M1070.0,704.0 L1078.0,692.0 1062.0,692.0\" fill=\"currentColor\"/>\n",
       "</g>\n",
       "\n",
       "<g class=\"displacy-arrow\">\n",
       "    <path class=\"displacy-arc\" id=\"arrow-1d11fa94d1d74f84800e23af91384a11-0-7\" stroke-width=\"2px\" d=\"M70,702.0 C70,177.0 1265.0,177.0 1265.0,702.0\" fill=\"none\" stroke=\"currentColor\"/>\n",
       "    <text dy=\"1.25em\" style=\"font-size: 0.8em; letter-spacing: 1px\">\n",
       "        <textPath xlink:href=\"#arrow-1d11fa94d1d74f84800e23af91384a11-0-7\" class=\"displacy-label\" startOffset=\"50%\" side=\"left\" fill=\"currentColor\" text-anchor=\"middle\">acl</textPath>\n",
       "    </text>\n",
       "    <path class=\"displacy-arrowhead\" d=\"M1265.0,704.0 L1273.0,692.0 1257.0,692.0\" fill=\"currentColor\"/>\n",
       "</g>\n",
       "\n",
       "<g class=\"displacy-arrow\">\n",
       "    <path class=\"displacy-arc\" id=\"arrow-1d11fa94d1d74f84800e23af91384a11-0-8\" stroke-width=\"2px\" d=\"M1295,702.0 C1295,614.5 1415.0,614.5 1415.0,702.0\" fill=\"none\" stroke=\"currentColor\"/>\n",
       "    <text dy=\"1.25em\" style=\"font-size: 0.8em; letter-spacing: 1px\">\n",
       "        <textPath xlink:href=\"#arrow-1d11fa94d1d74f84800e23af91384a11-0-8\" class=\"displacy-label\" startOffset=\"50%\" side=\"left\" fill=\"currentColor\" text-anchor=\"middle\">advmod</textPath>\n",
       "    </text>\n",
       "    <path class=\"displacy-arrowhead\" d=\"M1415.0,704.0 L1423.0,692.0 1407.0,692.0\" fill=\"currentColor\"/>\n",
       "</g>\n",
       "\n",
       "<g class=\"displacy-arrow\">\n",
       "    <path class=\"displacy-arc\" id=\"arrow-1d11fa94d1d74f84800e23af91384a11-0-9\" stroke-width=\"2px\" d=\"M1645,702.0 C1645,614.5 1765.0,614.5 1765.0,702.0\" fill=\"none\" stroke=\"currentColor\"/>\n",
       "    <text dy=\"1.25em\" style=\"font-size: 0.8em; letter-spacing: 1px\">\n",
       "        <textPath xlink:href=\"#arrow-1d11fa94d1d74f84800e23af91384a11-0-9\" class=\"displacy-label\" startOffset=\"50%\" side=\"left\" fill=\"currentColor\" text-anchor=\"middle\">det</textPath>\n",
       "    </text>\n",
       "    <path class=\"displacy-arrowhead\" d=\"M1645,704.0 L1637,692.0 1653,692.0\" fill=\"currentColor\"/>\n",
       "</g>\n",
       "\n",
       "<g class=\"displacy-arrow\">\n",
       "    <path class=\"displacy-arc\" id=\"arrow-1d11fa94d1d74f84800e23af91384a11-0-10\" stroke-width=\"2px\" d=\"M1295,702.0 C1295,439.5 1775.0,439.5 1775.0,702.0\" fill=\"none\" stroke=\"currentColor\"/>\n",
       "    <text dy=\"1.25em\" style=\"font-size: 0.8em; letter-spacing: 1px\">\n",
       "        <textPath xlink:href=\"#arrow-1d11fa94d1d74f84800e23af91384a11-0-10\" class=\"displacy-label\" startOffset=\"50%\" side=\"left\" fill=\"currentColor\" text-anchor=\"middle\">obj</textPath>\n",
       "    </text>\n",
       "    <path class=\"displacy-arrowhead\" d=\"M1775.0,704.0 L1783.0,692.0 1767.0,692.0\" fill=\"currentColor\"/>\n",
       "</g>\n",
       "\n",
       "<g class=\"displacy-arrow\">\n",
       "    <path class=\"displacy-arc\" id=\"arrow-1d11fa94d1d74f84800e23af91384a11-0-11\" stroke-width=\"2px\" d=\"M2170,702.0 C2170,614.5 2290.0,614.5 2290.0,702.0\" fill=\"none\" stroke=\"currentColor\"/>\n",
       "    <text dy=\"1.25em\" style=\"font-size: 0.8em; letter-spacing: 1px\">\n",
       "        <textPath xlink:href=\"#arrow-1d11fa94d1d74f84800e23af91384a11-0-11\" class=\"displacy-label\" startOffset=\"50%\" side=\"left\" fill=\"currentColor\" text-anchor=\"middle\">det</textPath>\n",
       "    </text>\n",
       "    <path class=\"displacy-arrowhead\" d=\"M2170,704.0 L2162,692.0 2178,692.0\" fill=\"currentColor\"/>\n",
       "</g>\n",
       "\n",
       "<g class=\"displacy-arrow\">\n",
       "    <path class=\"displacy-arc\" id=\"arrow-1d11fa94d1d74f84800e23af91384a11-0-12\" stroke-width=\"2px\" d=\"M1995,702.0 C1995,527.0 2295.0,527.0 2295.0,702.0\" fill=\"none\" stroke=\"currentColor\"/>\n",
       "    <text dy=\"1.25em\" style=\"font-size: 0.8em; letter-spacing: 1px\">\n",
       "        <textPath xlink:href=\"#arrow-1d11fa94d1d74f84800e23af91384a11-0-12\" class=\"displacy-label\" startOffset=\"50%\" side=\"left\" fill=\"currentColor\" text-anchor=\"middle\">obj</textPath>\n",
       "    </text>\n",
       "    <path class=\"displacy-arrowhead\" d=\"M2295.0,704.0 L2303.0,692.0 2287.0,692.0\" fill=\"currentColor\"/>\n",
       "</g>\n",
       "\n",
       "<g class=\"displacy-arrow\">\n",
       "    <path class=\"displacy-arc\" id=\"arrow-1d11fa94d1d74f84800e23af91384a11-0-13\" stroke-width=\"2px\" d=\"M2520,702.0 C2520,614.5 2640.0,614.5 2640.0,702.0\" fill=\"none\" stroke=\"currentColor\"/>\n",
       "    <text dy=\"1.25em\" style=\"font-size: 0.8em; letter-spacing: 1px\">\n",
       "        <textPath xlink:href=\"#arrow-1d11fa94d1d74f84800e23af91384a11-0-13\" class=\"displacy-label\" startOffset=\"50%\" side=\"left\" fill=\"currentColor\" text-anchor=\"middle\">cc</textPath>\n",
       "    </text>\n",
       "    <path class=\"displacy-arrowhead\" d=\"M2520,704.0 L2512,692.0 2528,692.0\" fill=\"currentColor\"/>\n",
       "</g>\n",
       "\n",
       "<g class=\"displacy-arrow\">\n",
       "    <path class=\"displacy-arc\" id=\"arrow-1d11fa94d1d74f84800e23af91384a11-0-14\" stroke-width=\"2px\" d=\"M1995,702.0 C1995,352.0 2655.0,352.0 2655.0,702.0\" fill=\"none\" stroke=\"currentColor\"/>\n",
       "    <text dy=\"1.25em\" style=\"font-size: 0.8em; letter-spacing: 1px\">\n",
       "        <textPath xlink:href=\"#arrow-1d11fa94d1d74f84800e23af91384a11-0-14\" class=\"displacy-label\" startOffset=\"50%\" side=\"left\" fill=\"currentColor\" text-anchor=\"middle\">conj</textPath>\n",
       "    </text>\n",
       "    <path class=\"displacy-arrowhead\" d=\"M2655.0,704.0 L2663.0,692.0 2647.0,692.0\" fill=\"currentColor\"/>\n",
       "</g>\n",
       "\n",
       "<g class=\"displacy-arrow\">\n",
       "    <path class=\"displacy-arc\" id=\"arrow-1d11fa94d1d74f84800e23af91384a11-0-15\" stroke-width=\"2px\" d=\"M2695,702.0 C2695,614.5 2815.0,614.5 2815.0,702.0\" fill=\"none\" stroke=\"currentColor\"/>\n",
       "    <text dy=\"1.25em\" style=\"font-size: 0.8em; letter-spacing: 1px\">\n",
       "        <textPath xlink:href=\"#arrow-1d11fa94d1d74f84800e23af91384a11-0-15\" class=\"displacy-label\" startOffset=\"50%\" side=\"left\" fill=\"currentColor\" text-anchor=\"middle\">obj</textPath>\n",
       "    </text>\n",
       "    <path class=\"displacy-arrowhead\" d=\"M2815.0,704.0 L2823.0,692.0 2807.0,692.0\" fill=\"currentColor\"/>\n",
       "</g>\n",
       "\n",
       "<g class=\"displacy-arrow\">\n",
       "    <path class=\"displacy-arc\" id=\"arrow-1d11fa94d1d74f84800e23af91384a11-0-16\" stroke-width=\"2px\" d=\"M3045,702.0 C3045,527.0 3345.0,527.0 3345.0,702.0\" fill=\"none\" stroke=\"currentColor\"/>\n",
       "    <text dy=\"1.25em\" style=\"font-size: 0.8em; letter-spacing: 1px\">\n",
       "        <textPath xlink:href=\"#arrow-1d11fa94d1d74f84800e23af91384a11-0-16\" class=\"displacy-label\" startOffset=\"50%\" side=\"left\" fill=\"currentColor\" text-anchor=\"middle\">case</textPath>\n",
       "    </text>\n",
       "    <path class=\"displacy-arrowhead\" d=\"M3045,704.0 L3037,692.0 3053,692.0\" fill=\"currentColor\"/>\n",
       "</g>\n",
       "\n",
       "<g class=\"displacy-arrow\">\n",
       "    <path class=\"displacy-arc\" id=\"arrow-1d11fa94d1d74f84800e23af91384a11-0-17\" stroke-width=\"2px\" d=\"M3220,702.0 C3220,614.5 3340.0,614.5 3340.0,702.0\" fill=\"none\" stroke=\"currentColor\"/>\n",
       "    <text dy=\"1.25em\" style=\"font-size: 0.8em; letter-spacing: 1px\">\n",
       "        <textPath xlink:href=\"#arrow-1d11fa94d1d74f84800e23af91384a11-0-17\" class=\"displacy-label\" startOffset=\"50%\" side=\"left\" fill=\"currentColor\" text-anchor=\"middle\">det</textPath>\n",
       "    </text>\n",
       "    <path class=\"displacy-arrowhead\" d=\"M3220,704.0 L3212,692.0 3228,692.0\" fill=\"currentColor\"/>\n",
       "</g>\n",
       "\n",
       "<g class=\"displacy-arrow\">\n",
       "    <path class=\"displacy-arc\" id=\"arrow-1d11fa94d1d74f84800e23af91384a11-0-18\" stroke-width=\"2px\" d=\"M2695,702.0 C2695,352.0 3355.0,352.0 3355.0,702.0\" fill=\"none\" stroke=\"currentColor\"/>\n",
       "    <text dy=\"1.25em\" style=\"font-size: 0.8em; letter-spacing: 1px\">\n",
       "        <textPath xlink:href=\"#arrow-1d11fa94d1d74f84800e23af91384a11-0-18\" class=\"displacy-label\" startOffset=\"50%\" side=\"left\" fill=\"currentColor\" text-anchor=\"middle\">obl:arg</textPath>\n",
       "    </text>\n",
       "    <path class=\"displacy-arrowhead\" d=\"M3355.0,704.0 L3363.0,692.0 3347.0,692.0\" fill=\"currentColor\"/>\n",
       "</g>\n",
       "\n",
       "<g class=\"displacy-arrow\">\n",
       "    <path class=\"displacy-arc\" id=\"arrow-1d11fa94d1d74f84800e23af91384a11-0-19\" stroke-width=\"2px\" d=\"M3570,702.0 C3570,527.0 3870.0,527.0 3870.0,702.0\" fill=\"none\" stroke=\"currentColor\"/>\n",
       "    <text dy=\"1.25em\" style=\"font-size: 0.8em; letter-spacing: 1px\">\n",
       "        <textPath xlink:href=\"#arrow-1d11fa94d1d74f84800e23af91384a11-0-19\" class=\"displacy-label\" startOffset=\"50%\" side=\"left\" fill=\"currentColor\" text-anchor=\"middle\">cc</textPath>\n",
       "    </text>\n",
       "    <path class=\"displacy-arrowhead\" d=\"M3570,704.0 L3562,692.0 3578,692.0\" fill=\"currentColor\"/>\n",
       "</g>\n",
       "\n",
       "<g class=\"displacy-arrow\">\n",
       "    <path class=\"displacy-arc\" id=\"arrow-1d11fa94d1d74f84800e23af91384a11-0-20\" stroke-width=\"2px\" d=\"M3745,702.0 C3745,614.5 3865.0,614.5 3865.0,702.0\" fill=\"none\" stroke=\"currentColor\"/>\n",
       "    <text dy=\"1.25em\" style=\"font-size: 0.8em; letter-spacing: 1px\">\n",
       "        <textPath xlink:href=\"#arrow-1d11fa94d1d74f84800e23af91384a11-0-20\" class=\"displacy-label\" startOffset=\"50%\" side=\"left\" fill=\"currentColor\" text-anchor=\"middle\">case</textPath>\n",
       "    </text>\n",
       "    <path class=\"displacy-arrowhead\" d=\"M3745,704.0 L3737,692.0 3753,692.0\" fill=\"currentColor\"/>\n",
       "</g>\n",
       "\n",
       "<g class=\"displacy-arrow\">\n",
       "    <path class=\"displacy-arc\" id=\"arrow-1d11fa94d1d74f84800e23af91384a11-0-21\" stroke-width=\"2px\" d=\"M3395,702.0 C3395,439.5 3875.0,439.5 3875.0,702.0\" fill=\"none\" stroke=\"currentColor\"/>\n",
       "    <text dy=\"1.25em\" style=\"font-size: 0.8em; letter-spacing: 1px\">\n",
       "        <textPath xlink:href=\"#arrow-1d11fa94d1d74f84800e23af91384a11-0-21\" class=\"displacy-label\" startOffset=\"50%\" side=\"left\" fill=\"currentColor\" text-anchor=\"middle\">conj</textPath>\n",
       "    </text>\n",
       "    <path class=\"displacy-arrowhead\" d=\"M3875.0,704.0 L3883.0,692.0 3867.0,692.0\" fill=\"currentColor\"/>\n",
       "</g>\n",
       "\n",
       "<g class=\"displacy-arrow\">\n",
       "    <path class=\"displacy-arc\" id=\"arrow-1d11fa94d1d74f84800e23af91384a11-0-22\" stroke-width=\"2px\" d=\"M3920,702.0 C3920,614.5 4040.0,614.5 4040.0,702.0\" fill=\"none\" stroke=\"currentColor\"/>\n",
       "    <text dy=\"1.25em\" style=\"font-size: 0.8em; letter-spacing: 1px\">\n",
       "        <textPath xlink:href=\"#arrow-1d11fa94d1d74f84800e23af91384a11-0-22\" class=\"displacy-label\" startOffset=\"50%\" side=\"left\" fill=\"currentColor\" text-anchor=\"middle\">acl</textPath>\n",
       "    </text>\n",
       "    <path class=\"displacy-arrowhead\" d=\"M4040.0,704.0 L4048.0,692.0 4032.0,692.0\" fill=\"currentColor\"/>\n",
       "</g>\n",
       "\n",
       "<g class=\"displacy-arrow\">\n",
       "    <path class=\"displacy-arc\" id=\"arrow-1d11fa94d1d74f84800e23af91384a11-0-23\" stroke-width=\"2px\" d=\"M4270,702.0 C4270,614.5 4390.0,614.5 4390.0,702.0\" fill=\"none\" stroke=\"currentColor\"/>\n",
       "    <text dy=\"1.25em\" style=\"font-size: 0.8em; letter-spacing: 1px\">\n",
       "        <textPath xlink:href=\"#arrow-1d11fa94d1d74f84800e23af91384a11-0-23\" class=\"displacy-label\" startOffset=\"50%\" side=\"left\" fill=\"currentColor\" text-anchor=\"middle\">case</textPath>\n",
       "    </text>\n",
       "    <path class=\"displacy-arrowhead\" d=\"M4270,704.0 L4262,692.0 4278,692.0\" fill=\"currentColor\"/>\n",
       "</g>\n",
       "\n",
       "<g class=\"displacy-arrow\">\n",
       "    <path class=\"displacy-arc\" id=\"arrow-1d11fa94d1d74f84800e23af91384a11-0-24\" stroke-width=\"2px\" d=\"M4445,702.0 C4445,527.0 4745.0,527.0 4745.0,702.0\" fill=\"none\" stroke=\"currentColor\"/>\n",
       "    <text dy=\"1.25em\" style=\"font-size: 0.8em; letter-spacing: 1px\">\n",
       "        <textPath xlink:href=\"#arrow-1d11fa94d1d74f84800e23af91384a11-0-24\" class=\"displacy-label\" startOffset=\"50%\" side=\"left\" fill=\"currentColor\" text-anchor=\"middle\">obl:mod</textPath>\n",
       "    </text>\n",
       "    <path class=\"displacy-arrowhead\" d=\"M4445,704.0 L4437,692.0 4453,692.0\" fill=\"currentColor\"/>\n",
       "</g>\n",
       "\n",
       "<g class=\"displacy-arrow\">\n",
       "    <path class=\"displacy-arc\" id=\"arrow-1d11fa94d1d74f84800e23af91384a11-0-25\" stroke-width=\"2px\" d=\"M4620,702.0 C4620,614.5 4740.0,614.5 4740.0,702.0\" fill=\"none\" stroke=\"currentColor\"/>\n",
       "    <text dy=\"1.25em\" style=\"font-size: 0.8em; letter-spacing: 1px\">\n",
       "        <textPath xlink:href=\"#arrow-1d11fa94d1d74f84800e23af91384a11-0-25\" class=\"displacy-label\" startOffset=\"50%\" side=\"left\" fill=\"currentColor\" text-anchor=\"middle\">aux:pass</textPath>\n",
       "    </text>\n",
       "    <path class=\"displacy-arrowhead\" d=\"M4620,704.0 L4612,692.0 4628,692.0\" fill=\"currentColor\"/>\n",
       "</g>\n",
       "\n",
       "<g class=\"displacy-arrow\">\n",
       "    <path class=\"displacy-arc\" id=\"arrow-1d11fa94d1d74f84800e23af91384a11-0-26\" stroke-width=\"2px\" d=\"M3395,702.0 C3395,89.5 4770.0,89.5 4770.0,702.0\" fill=\"none\" stroke=\"currentColor\"/>\n",
       "    <text dy=\"1.25em\" style=\"font-size: 0.8em; letter-spacing: 1px\">\n",
       "        <textPath xlink:href=\"#arrow-1d11fa94d1d74f84800e23af91384a11-0-26\" class=\"displacy-label\" startOffset=\"50%\" side=\"left\" fill=\"currentColor\" text-anchor=\"middle\">acl:relcl</textPath>\n",
       "    </text>\n",
       "    <path class=\"displacy-arrowhead\" d=\"M4770.0,704.0 L4778.0,692.0 4762.0,692.0\" fill=\"currentColor\"/>\n",
       "</g>\n",
       "\n",
       "<g class=\"displacy-arrow\">\n",
       "    <path class=\"displacy-arc\" id=\"arrow-1d11fa94d1d74f84800e23af91384a11-0-27\" stroke-width=\"2px\" d=\"M4970,702.0 C4970,614.5 5090.0,614.5 5090.0,702.0\" fill=\"none\" stroke=\"currentColor\"/>\n",
       "    <text dy=\"1.25em\" style=\"font-size: 0.8em; letter-spacing: 1px\">\n",
       "        <textPath xlink:href=\"#arrow-1d11fa94d1d74f84800e23af91384a11-0-27\" class=\"displacy-label\" startOffset=\"50%\" side=\"left\" fill=\"currentColor\" text-anchor=\"middle\">det</textPath>\n",
       "    </text>\n",
       "    <path class=\"displacy-arrowhead\" d=\"M4970,704.0 L4962,692.0 4978,692.0\" fill=\"currentColor\"/>\n",
       "</g>\n",
       "\n",
       "<g class=\"displacy-arrow\">\n",
       "    <path class=\"displacy-arc\" id=\"arrow-1d11fa94d1d74f84800e23af91384a11-0-28\" stroke-width=\"2px\" d=\"M4795,702.0 C4795,527.0 5095.0,527.0 5095.0,702.0\" fill=\"none\" stroke=\"currentColor\"/>\n",
       "    <text dy=\"1.25em\" style=\"font-size: 0.8em; letter-spacing: 1px\">\n",
       "        <textPath xlink:href=\"#arrow-1d11fa94d1d74f84800e23af91384a11-0-28\" class=\"displacy-label\" startOffset=\"50%\" side=\"left\" fill=\"currentColor\" text-anchor=\"middle\">obl:arg</textPath>\n",
       "    </text>\n",
       "    <path class=\"displacy-arrowhead\" d=\"M5095.0,704.0 L5103.0,692.0 5087.0,692.0\" fill=\"currentColor\"/>\n",
       "</g>\n",
       "</svg></span>"
      ],
      "text/plain": [
       "<IPython.core.display.HTML object>"
      ]
     },
     "metadata": {},
     "output_type": "display_data"
    }
   ],
   "source": [
    "sentence_doc = nlp(example_fr_sent)\n",
    "displacy.render(sentence_doc, style='dep')"
   ]
  },
  {
   "cell_type": "markdown",
   "id": "dec9d475",
   "metadata": {},
   "source": [
    "### Entity Tagging"
   ]
  },
  {
   "cell_type": "code",
   "execution_count": 60,
   "id": "7973b833",
   "metadata": {},
   "outputs": [
    {
     "name": "stdout",
     "output_type": "stream",
     "text": [
      "French document entity tagged in: 0.05712389945983887 seconds.\n"
     ]
    }
   ],
   "source": [
    "start = time()\n",
    "fr_ent = []\n",
    "fr_label = []\n",
    "for ent in fr_doc.ents:\n",
    "    fr_ent.append(ent.text)\n",
    "    fr_label.append(ent.label_)\n",
    "print(\"French document entity tagged in:\", (time()-start), \"seconds.\")"
   ]
  },
  {
   "cell_type": "code",
   "execution_count": 61,
   "id": "e871c1e0",
   "metadata": {},
   "outputs": [
    {
     "name": "stdout",
     "output_type": "stream",
     "text": [
      "{'PER', 'ORG', 'LOC', 'MISC'}\n"
     ]
    }
   ],
   "source": [
    "print(set(fr_label))"
   ]
  },
  {
   "cell_type": "code",
   "execution_count": 62,
   "id": "130fbc18",
   "metadata": {},
   "outputs": [
    {
     "name": "stdout",
     "output_type": "stream",
     "text": [
      "[['RESOLUTION 918' 'MISC']\n",
      " ['Conseil de sécurité' 'ORG']\n",
      " ['Conseil de sécurité' 'ORG']\n",
      " ['Rwanda' 'LOC']\n",
      " ['Mission des Nations Unies' 'MISC']\n",
      " ['Rwanda' 'LOC']\n",
      " ['MINUAR' 'LOC']\n",
      " ['MINUAR' 'MISC']\n",
      " ['MINUAR' 'MISC']\n",
      " ['Président' 'PER']] \n",
      "\n",
      "Length of French Entities: 7853\n"
     ]
    }
   ],
   "source": [
    "fr_ents = np.column_stack((fr_ent, fr_label))\n",
    "print(fr_ents[:10], '\\n\\nLength of French Entities:', len(fr_ents))"
   ]
  },
  {
   "cell_type": "markdown",
   "id": "a6df277d",
   "metadata": {},
   "source": [
    "## Russian"
   ]
  },
  {
   "cell_type": "code",
   "execution_count": 63,
   "id": "819935e0",
   "metadata": {},
   "outputs": [
    {
     "name": "stdout",
     "output_type": "stream",
     "text": [
      "Data loaded in: 0.18988728523254395 seconds.\n"
     ]
    }
   ],
   "source": [
    "# Loading in Russian Files\n",
    "start = time()\n",
    "f = open('data/sixway/russian.100k', 'r') # Reading in Russian File\n",
    "russian100 = f.read()\n",
    "print(\"Data loaded in:\", (time()-start), \"seconds.\")\n",
    "f.close()"
   ]
  },
  {
   "cell_type": "code",
   "execution_count": 64,
   "id": "ff1127b3",
   "metadata": {},
   "outputs": [],
   "source": [
    "# Creating Smaller Slice to Analyze using SpaCy\n",
    "russian_samp = russian100[:1000000]"
   ]
  },
  {
   "cell_type": "markdown",
   "id": "bda0ba4f",
   "metadata": {},
   "source": [
    "### Downloading SpaCy object for Russian processing"
   ]
  },
  {
   "cell_type": "code",
   "execution_count": 65,
   "id": "6bcb7c49",
   "metadata": {},
   "outputs": [
    {
     "name": "stdout",
     "output_type": "stream",
     "text": [
      "Russian document processed in: 101.03733515739441 seconds.\n"
     ]
    }
   ],
   "source": [
    "start = time()\n",
    "nlp = spacy.load('ru_core_news_sm')\n",
    "ru_doc = nlp(russian_samp)\n",
    "print(\"Russian document processed in:\", (time()-start), \"seconds.\")"
   ]
  },
  {
   "cell_type": "markdown",
   "id": "d3187549",
   "metadata": {},
   "source": [
    "### Word Tokenizing Russian Document"
   ]
  },
  {
   "cell_type": "code",
   "execution_count": 66,
   "id": "721dbe58",
   "metadata": {},
   "outputs": [
    {
     "name": "stdout",
     "output_type": "stream",
     "text": [
      "Russian document word tokenized in: 0.4473598003387451 seconds.\n"
     ]
    }
   ],
   "source": [
    "start = time()\n",
    "\n",
    "ru_tokens = [token for token in ru_doc]  # Tokenizing Document\n",
    "\n",
    "print(\"Russian document word tokenized in:\", (time()-start), \"seconds.\")"
   ]
  },
  {
   "cell_type": "code",
   "execution_count": 67,
   "id": "928ae363",
   "metadata": {},
   "outputs": [
    {
     "name": "stdout",
     "output_type": "stream",
     "text": [
      "Russian Word Tokens Count: 153964 \n",
      " \n",
      " [РЕЗОЛЮЦИЯ, 918, (, 1994, ), ,, \n",
      ", принятая, Советом, Безопасности, на, его, 3377-м, заседании, 17, мая, 1994, года, \n",
      ", Совет]\n"
     ]
    }
   ],
   "source": [
    "print('Russian Word Tokens Count:', len(ru_tokens), '\\n \\n', ru_tokens[:20])"
   ]
  },
  {
   "cell_type": "markdown",
   "id": "2c087d90",
   "metadata": {},
   "source": [
    "### Sentence Tokenizing Russian Document"
   ]
  },
  {
   "cell_type": "code",
   "execution_count": 68,
   "id": "59d1d313",
   "metadata": {},
   "outputs": [
    {
     "name": "stdout",
     "output_type": "stream",
     "text": [
      "Russian document sentence tokenized in: 0.1825120449066162 seconds.\n"
     ]
    }
   ],
   "source": [
    "start = time()\n",
    "ru_sent = [sent.text for sent in ru_doc.sents]\n",
    "print(\"Russian document sentence tokenized in:\", (time()-start), \"seconds.\")"
   ]
  },
  {
   "cell_type": "code",
   "execution_count": 69,
   "id": "00b319df",
   "metadata": {},
   "outputs": [
    {
     "data": {
      "text/plain": [
       "9310"
      ]
     },
     "execution_count": 69,
     "metadata": {},
     "output_type": "execute_result"
    }
   ],
   "source": [
    "len(ru_sent)"
   ]
  },
  {
   "cell_type": "code",
   "execution_count": 70,
   "id": "a2f6f173",
   "metadata": {},
   "outputs": [
    {
     "name": "stdout",
     "output_type": "stream",
     "text": [
      "требует, чтобы все стороны в конфликте немедленно прекратили военные действия, договорились о прекращении огня и положили конец бессмысленному насилию и резне, охватившим Руанду;\n",
      "\n"
     ]
    }
   ],
   "source": [
    "example_ru_sent = ru_sent[13]\n",
    "print(example_ru_sent)"
   ]
  },
  {
   "cell_type": "code",
   "execution_count": 71,
   "id": "aa154af4",
   "metadata": {},
   "outputs": [
    {
     "name": "stdout",
     "output_type": "stream",
     "text": [
      "Demands that all parties to the conflict immediately cease hostilities, agree to a cease-fire, and bring an end to the mindless violence and carnage engulfing Rwanda;\n",
      "2. \n",
      "\n",
      " Exige que todas las partes en el conflicto pongan fin inmediatamente a las hostilidades, convengan en una cesación del fuego y pongan término a la violencia y la carnicería insensatas en que está sumida Rwanda;\n",
      "2. \n",
      "\n",
      " Exige que toutes les parties au conflit cessent immédiatement les hostilités, acceptent un cessez-le-feu et mettent fin à la violence et au carnage insensés dans lesquels est plongé le Rwanda; \n",
      "\n",
      " требует, чтобы все стороны в конфликте немедленно прекратили военные действия, договорились о прекращении огня и положили конец бессмысленному насилию и резне, охватившим Руанду;\n",
      "\n"
     ]
    }
   ],
   "source": [
    "print(example_eng_sent,'\\n\\n',example_es_sent, '\\n\\n',example_fr_sent, '\\n\\n',example_ru_sent)"
   ]
  },
  {
   "cell_type": "markdown",
   "id": "64482ca9",
   "metadata": {},
   "source": [
    "### POS Tagging Russian Document"
   ]
  },
  {
   "cell_type": "code",
   "execution_count": 72,
   "id": "d6b69899",
   "metadata": {},
   "outputs": [
    {
     "name": "stdout",
     "output_type": "stream",
     "text": [
      "Russian document POS tagged in: 0.08033895492553711 seconds.\n"
     ]
    }
   ],
   "source": [
    "start = time()\n",
    "ru_pos = [token.pos_ for token in ru_doc] \n",
    "print(\"Russian document POS tagged in:\", (time()-start), \"seconds.\")"
   ]
  },
  {
   "cell_type": "code",
   "execution_count": 73,
   "id": "b7b51bce",
   "metadata": {},
   "outputs": [
    {
     "name": "stdout",
     "output_type": "stream",
     "text": [
      "\n",
      "List of POS tags: {'ADP', 'AUX', 'PUNCT', 'SPACE', 'ADV', 'SYM', 'ADJ', 'SCONJ', 'DET', 'CCONJ', 'NUM', 'PRON', 'VERB', 'X', 'NOUN', 'PROPN'} \n",
      "\n",
      "POS count: 16\n"
     ]
    }
   ],
   "source": [
    "print('\\nList of POS tags:', set(fr_pos), '\\n\\nPOS count:', len(set(fr_pos)))"
   ]
  },
  {
   "cell_type": "code",
   "execution_count": 74,
   "id": "526edc74",
   "metadata": {},
   "outputs": [
    {
     "name": "stdout",
     "output_type": "stream",
     "text": [
      "{'ADP', 'AUX', 'SPACE', 'PUNCT', 'ADV', 'SYM', 'ADJ', 'SCONJ', 'PART', 'DET', 'INTJ', 'CCONJ', 'NUM', 'PRON', 'VERB', 'X', 'NOUN', 'PROPN'}\n"
     ]
    }
   ],
   "source": [
    "print(set(ru_pos))"
   ]
  },
  {
   "cell_type": "markdown",
   "id": "725a1b22",
   "metadata": {},
   "source": [
    "### Dependency Tagging Russian File"
   ]
  },
  {
   "cell_type": "code",
   "execution_count": 75,
   "id": "809a91f1",
   "metadata": {},
   "outputs": [
    {
     "name": "stdout",
     "output_type": "stream",
     "text": [
      "Russian document DEP tagged in: 0.07046198844909668 seconds.\n"
     ]
    }
   ],
   "source": [
    "start = time()\n",
    "ru_dep = [token.dep_ for token in ru_doc] \n",
    "print(\"Russian document DEP tagged in:\", (time()-start), \"seconds.\")"
   ]
  },
  {
   "cell_type": "code",
   "execution_count": 76,
   "id": "c7ac9c95",
   "metadata": {},
   "outputs": [
    {
     "data": {
      "text/plain": [
       "['nsubj', 'appos', 'punct', 'parataxis', 'punct']"
      ]
     },
     "execution_count": 76,
     "metadata": {},
     "output_type": "execute_result"
    }
   ],
   "source": [
    "ru_dep[:5]"
   ]
  },
  {
   "cell_type": "code",
   "execution_count": 77,
   "id": "52011d58",
   "metadata": {},
   "outputs": [
    {
     "data": {
      "text/plain": [
       "40"
      ]
     },
     "execution_count": 77,
     "metadata": {},
     "output_type": "execute_result"
    }
   ],
   "source": [
    "len(set(ru_dep))"
   ]
  },
  {
   "cell_type": "code",
   "execution_count": 78,
   "id": "d96a4c6a",
   "metadata": {},
   "outputs": [
    {
     "name": "stdout",
     "output_type": "stream",
     "text": [
      "{'cop', 'obl:agent', 'flat:name', 'flat', 'flat:foreign', 'obl', 'csubj:pass', 'orphan', 'obj', 'iobj', 'fixed', 'discourse', 'nsubj:pass', 'aux:pass', 'list', 'nummod:entity', 'acl:relcl', 'nummod:gov'}\n"
     ]
    }
   ],
   "source": [
    "print(set(ru_dep)-set(eng_dep))"
   ]
  },
  {
   "cell_type": "markdown",
   "id": "6a0632ef",
   "metadata": {},
   "source": [
    "### Entity Tagging Russian"
   ]
  },
  {
   "cell_type": "code",
   "execution_count": 79,
   "id": "05a3ce05",
   "metadata": {},
   "outputs": [
    {
     "name": "stdout",
     "output_type": "stream",
     "text": [
      "Russian document entity tagged in: 0.06358480453491211 seconds.\n"
     ]
    }
   ],
   "source": [
    "start = time()\n",
    "ru_ent = []\n",
    "ru_label = []\n",
    "for ent in ru_doc.ents:\n",
    "    ru_ent.append(ent.text)\n",
    "    ru_label.append(ent.label_)\n",
    "print(\"Russian document entity tagged in:\", (time()-start), \"seconds.\")"
   ]
  },
  {
   "cell_type": "code",
   "execution_count": 80,
   "id": "e8617cfd",
   "metadata": {},
   "outputs": [
    {
     "name": "stdout",
     "output_type": "stream",
     "text": [
      "{'PER', 'ORG', 'LOC'}\n"
     ]
    }
   ],
   "source": [
    "print(set(ru_label))"
   ]
  },
  {
   "cell_type": "code",
   "execution_count": 81,
   "id": "a6a44f0e",
   "metadata": {},
   "outputs": [],
   "source": [
    "ru_ents = np.column_stack((ru_ent, ru_label))"
   ]
  },
  {
   "cell_type": "code",
   "execution_count": 82,
   "id": "abe0c86b",
   "metadata": {},
   "outputs": [
    {
     "name": "stdout",
     "output_type": "stream",
     "text": [
      "[['Советом Безопасности' 'ORG']\n",
      " ['Совет Безопасности' 'ORG']\n",
      " ['Руанде' 'LOC']\n",
      " ['Миссию Организации Объединенных Наций' 'ORG']\n",
      " ['Руанде' 'LOC']\n",
      " ['МООНПР' 'ORG']\n",
      " ['МООНПР' 'ORG']\n",
      " ['Председателя' 'PER']\n",
      " ['Совета Безопасности' 'ORG']\n",
      " ['Организации Объединенных Наций' 'ORG']] \n",
      "\n",
      "Length of Russian Entities: 5827\n"
     ]
    }
   ],
   "source": [
    "print(ru_ents[:10], '\\n\\nLength of Russian Entities:', len(ru_ents))"
   ]
  },
  {
   "cell_type": "markdown",
   "id": "b44b4024",
   "metadata": {},
   "source": [
    "## Mandarin"
   ]
  },
  {
   "cell_type": "markdown",
   "id": "893c94d6",
   "metadata": {},
   "source": [
    "### Reading in Mandarin File"
   ]
  },
  {
   "cell_type": "code",
   "execution_count": 83,
   "id": "4e757b2f",
   "metadata": {},
   "outputs": [
    {
     "name": "stdout",
     "output_type": "stream",
     "text": [
      "Data loaded in: 0.08116698265075684 seconds.\n"
     ]
    }
   ],
   "source": [
    "# Loading in Mandarin Files\n",
    "start = time()\n",
    "f = open('data/sixway/mandarin.100k', 'r') # Reading in Mandarin File\n",
    "mandarin100 = f.read()\n",
    "print(\"Data loaded in:\", (time()-start), \"seconds.\")\n",
    "f.close()"
   ]
  },
  {
   "cell_type": "code",
   "execution_count": 84,
   "id": "1ecf5ca4",
   "metadata": {},
   "outputs": [],
   "source": [
    "# Creating Smaller Slice to Analyze using SpaCy\n",
    "mandarin_samp = mandarin100[:1000000]"
   ]
  },
  {
   "cell_type": "markdown",
   "id": "ede7f420",
   "metadata": {},
   "source": [
    "### Downloading SpaCy object for Mandarin processing"
   ]
  },
  {
   "cell_type": "code",
   "execution_count": 85,
   "id": "5d0b94f9",
   "metadata": {},
   "outputs": [
    {
     "name": "stdout",
     "output_type": "stream",
     "text": [
      "Mandarin document processed in: 1562.7549011707306 seconds.\n"
     ]
    }
   ],
   "source": [
    "start = time()\n",
    "nlp = spacy.load('zh_core_web_sm')\n",
    "zh_doc = nlp(mandarin_samp)\n",
    "print(\"Mandarin document processed in:\", (time()-start), \"seconds.\")"
   ]
  },
  {
   "cell_type": "markdown",
   "id": "41b35707",
   "metadata": {},
   "source": [
    "SpaCy's Mandarin module takes about 881 seconds, which is painstaking to work with."
   ]
  },
  {
   "cell_type": "markdown",
   "id": "8b9fa7a6",
   "metadata": {},
   "source": [
    "### Word Tokenizing Mandarin Document"
   ]
  },
  {
   "cell_type": "code",
   "execution_count": 86,
   "id": "d61220bd",
   "metadata": {},
   "outputs": [
    {
     "name": "stdout",
     "output_type": "stream",
     "text": [
      "Mandarin document tokenized in: 2.3838090896606445 seconds.\n"
     ]
    }
   ],
   "source": [
    "start = time()\n",
    "zh_tokens = [token for token in zh_doc]\n",
    "print(\"Mandarin document tokenized in:\", (time()-start), \"seconds.\")\n"
   ]
  },
  {
   "cell_type": "code",
   "execution_count": 87,
   "id": "b3d376ce",
   "metadata": {},
   "outputs": [
    {
     "name": "stdout",
     "output_type": "stream",
     "text": [
      "Mandarin Word Tokens Count: 553748 \n",
      " \n",
      " [第918, (, 1994, )号, 决议, \n",
      ", 1994年, 5月, 17日, 安全, 理事会, 第3377, 次, 会议, 通过, \n",
      ", 安全, 理事会, ，, \n",
      "]\n"
     ]
    }
   ],
   "source": [
    "print('Mandarin Word Tokens Count:', len(zh_tokens), '\\n \\n', zh_tokens[:20])"
   ]
  },
  {
   "cell_type": "markdown",
   "id": "7f88c86e",
   "metadata": {},
   "source": [
    "### Sentence Tokenizing Mandarin Document"
   ]
  },
  {
   "cell_type": "code",
   "execution_count": 88,
   "id": "e49f199a",
   "metadata": {},
   "outputs": [
    {
     "name": "stdout",
     "output_type": "stream",
     "text": [
      "Mandarin document sentence tokenized in: 0.892035961151123 seconds.\n"
     ]
    }
   ],
   "source": [
    "start = time()\n",
    "zh_sent = [sent.text for sent in zh_doc.sents]\n",
    "print(\"Mandarin document sentence tokenized in:\", (time()-start), \"seconds.\")"
   ]
  },
  {
   "cell_type": "code",
   "execution_count": 89,
   "id": "795f381b",
   "metadata": {},
   "outputs": [
    {
     "data": {
      "text/plain": [
       "23363"
      ]
     },
     "execution_count": 89,
     "metadata": {},
     "output_type": "execute_result"
    }
   ],
   "source": [
    "len(zh_sent)"
   ]
  },
  {
   "cell_type": "code",
   "execution_count": 90,
   "id": "9d58c212",
   "metadata": {},
   "outputs": [
    {
     "name": "stdout",
     "output_type": "stream",
     "text": [
      "要求卢旺达各当事方严格尊重联合国及其他在卢旺达服务的组织的人员和房地，并避免对从事人道主义和维持和平工作的人员进行任何恐吓或暴力行为；\n",
      "12.\n"
     ]
    }
   ],
   "source": [
    "example_zh_sent = zh_sent[6]\n",
    "print(example_zh_sent)"
   ]
  },
  {
   "cell_type": "code",
   "execution_count": 91,
   "id": "4d780652",
   "metadata": {},
   "outputs": [
    {
     "name": "stdout",
     "output_type": "stream",
     "text": [
      "Demands that all parties to the conflict immediately cease hostilities, agree to a cease-fire, and bring an end to the mindless violence and carnage engulfing Rwanda;\n",
      "2. \n",
      "\n",
      " Exige que todas las partes en el conflicto pongan fin inmediatamente a las hostilidades, convengan en una cesación del fuego y pongan término a la violencia y la carnicería insensatas en que está sumida Rwanda;\n",
      "2. \n",
      "\n",
      " Exige que toutes les parties au conflit cessent immédiatement les hostilités, acceptent un cessez-le-feu et mettent fin à la violence et au carnage insensés dans lesquels est plongé le Rwanda; \n",
      "\n",
      " требует, чтобы все стороны в конфликте немедленно прекратили военные действия, договорились о прекращении огня и положили конец бессмысленному насилию и резне, охватившим Руанду;\n",
      " \n",
      "\n",
      " 要求卢旺达各当事方严格尊重联合国及其他在卢旺达服务的组织的人员和房地，并避免对从事人道主义和维持和平工作的人员进行任何恐吓或暴力行为；\n",
      "12.\n"
     ]
    }
   ],
   "source": [
    "print(example_eng_sent,'\\n\\n',example_es_sent, '\\n\\n',\n",
    "      example_fr_sent, '\\n\\n',example_ru_sent, '\\n\\n', example_zh_sent)"
   ]
  },
  {
   "cell_type": "markdown",
   "id": "0fc8c68a",
   "metadata": {},
   "source": [
    "### POS Tagging Mandarin Document"
   ]
  },
  {
   "cell_type": "code",
   "execution_count": 92,
   "id": "dbf113aa",
   "metadata": {},
   "outputs": [
    {
     "name": "stdout",
     "output_type": "stream",
     "text": [
      "Mandarin document POS tagged in: 0.21947383880615234 seconds.\n"
     ]
    }
   ],
   "source": [
    "start = time()\n",
    "zh_pos = [token.pos_ for token in zh_doc] \n",
    "print(\"Mandarin document POS tagged in:\", (time()-start), \"seconds.\")"
   ]
  },
  {
   "cell_type": "code",
   "execution_count": 93,
   "id": "ed845d4e",
   "metadata": {},
   "outputs": [
    {
     "name": "stdout",
     "output_type": "stream",
     "text": [
      "\n",
      "List of POS tags: {'ADP', 'PUNCT', 'SPACE', 'ADV', 'ADJ', 'SCONJ', 'PART', 'DET', 'INTJ', 'CCONJ', 'NUM', 'PRON', 'VERB', 'X', 'NOUN', 'PROPN'} \n",
      "\n",
      "POS count: 16\n"
     ]
    }
   ],
   "source": [
    "print('\\nList of POS tags:', set(zh_pos), '\\n\\nPOS count:', len(set(zh_pos)))"
   ]
  },
  {
   "cell_type": "markdown",
   "id": "777df2b6",
   "metadata": {},
   "source": [
    "### Dependency Tagging Mandarin File"
   ]
  },
  {
   "cell_type": "code",
   "execution_count": 94,
   "id": "9daee671",
   "metadata": {},
   "outputs": [
    {
     "name": "stdout",
     "output_type": "stream",
     "text": [
      "Mandarin document DEP tagged in: 0.36147618293762207 seconds.\n"
     ]
    }
   ],
   "source": [
    "start = time()\n",
    "zh_dep = [token.dep_ for token in zh_doc] \n",
    "print(\"Mandarin document DEP tagged in:\", (time()-start), \"seconds.\")"
   ]
  },
  {
   "cell_type": "code",
   "execution_count": 95,
   "id": "cee03704",
   "metadata": {},
   "outputs": [
    {
     "data": {
      "text/plain": [
       "['dep', 'punct', 'dep', 'nsubj', 'dep']"
      ]
     },
     "execution_count": 95,
     "metadata": {},
     "output_type": "execute_result"
    }
   ],
   "source": [
    "zh_dep[:5]"
   ]
  },
  {
   "cell_type": "code",
   "execution_count": 96,
   "id": "d4826be3",
   "metadata": {},
   "outputs": [
    {
     "data": {
      "text/plain": [
       "44"
      ]
     },
     "execution_count": 96,
     "metadata": {},
     "output_type": "execute_result"
    }
   ],
   "source": [
    "len(set(zh_dep))"
   ]
  },
  {
   "cell_type": "code",
   "execution_count": 97,
   "id": "b003849a",
   "metadata": {},
   "outputs": [
    {
     "name": "stdout",
     "output_type": "stream",
     "text": [
      "{'cop', 'nmod:range', 'nmod:assmod', 'mark:clf', 'nmod:topic', 'name', 'compound:nn', 'nmod:prep', 'aux:asp', 'aux:modal', 'nmod:tmod', 'amod:ordmod', 'aux:ba', 'advmod:dvp', 'parataxis:prnmod', 'advmod:loc', 'compound:vc', 'etc', 'advmod:rcomp', 'aux:prtmod', 'discourse', 'nmod:poss', 'advcl:loc'}\n"
     ]
    }
   ],
   "source": [
    "print(set(zh_dep)-set(eng_dep))"
   ]
  },
  {
   "cell_type": "markdown",
   "id": "2324c012",
   "metadata": {},
   "source": [
    "### Entity Tagging"
   ]
  },
  {
   "cell_type": "code",
   "execution_count": 98,
   "id": "99a9bfa8",
   "metadata": {},
   "outputs": [
    {
     "name": "stdout",
     "output_type": "stream",
     "text": [
      "Mandarin document entity tagged in: 0.21102309226989746 seconds.\n"
     ]
    }
   ],
   "source": [
    "start = time()\n",
    "zh_ent = []\n",
    "zh_label = []\n",
    "for ent in zh_doc.ents:\n",
    "    zh_ent.append(ent.text)\n",
    "    zh_label.append(ent.label_)\n",
    "print(\"Mandarin document entity tagged in:\", (time()-start), \"seconds.\")"
   ]
  },
  {
   "cell_type": "code",
   "execution_count": 99,
   "id": "cdbb6845",
   "metadata": {},
   "outputs": [
    {
     "name": "stdout",
     "output_type": "stream",
     "text": [
      "{'FAC', 'LANGUAGE', 'PERCENT', 'EVENT', 'LOC', 'TIME', 'PERSON', 'PRODUCT', 'QUANTITY', 'ORG', 'ORDINAL', 'MONEY', 'CARDINAL', 'LAW', 'DATE', 'GPE', 'NORP', 'WORK_OF_ART'}\n"
     ]
    }
   ],
   "source": [
    "print(set(zh_label))"
   ]
  },
  {
   "cell_type": "code",
   "execution_count": 100,
   "id": "ca59709d",
   "metadata": {},
   "outputs": [],
   "source": [
    "zh_ents = np.column_stack((zh_ent, zh_label))"
   ]
  },
  {
   "cell_type": "code",
   "execution_count": 101,
   "id": "f4a59de1",
   "metadata": {},
   "outputs": [
    {
     "name": "stdout",
     "output_type": "stream",
     "text": [
      "[[')号' 'PERSON']\n",
      " ['1994年5月17日' 'DATE']\n",
      " ['卢旺达' 'GPE']\n",
      " ['联合国卢旺达援助团(联卢援助团)' 'ORG']\n",
      " ['1993年10月5日第872(1993' 'DATE']\n",
      " [')号' 'PERSON']\n",
      " ['1994年7月29日' 'DATE']\n",
      " [')号' 'PERSON']\n",
      " ['1994年4月21日第912' 'DATE']\n",
      " [')号' 'PERSON']] \n",
      "\n",
      "Length of Mandarin Entities: 35936\n"
     ]
    }
   ],
   "source": [
    "print(zh_ents[:10], '\\n\\nLength of Mandarin Entities:', len(zh_ents))"
   ]
  },
  {
   "cell_type": "markdown",
   "id": "6e523c72",
   "metadata": {},
   "source": [
    "## Arabic"
   ]
  },
  {
   "cell_type": "markdown",
   "id": "2a17ef56",
   "metadata": {},
   "source": [
    "Spacy does not have a module for processing Arabic, after looking into other resources I decided to go with camel."
   ]
  },
  {
   "cell_type": "markdown",
   "id": "132983a3",
   "metadata": {},
   "source": [
    "### Reading in Arabic File"
   ]
  },
  {
   "cell_type": "code",
   "execution_count": 102,
   "id": "52f92148",
   "metadata": {},
   "outputs": [
    {
     "name": "stdout",
     "output_type": "stream",
     "text": [
      "Data loaded in: 0.13978910446166992 seconds.\n"
     ]
    }
   ],
   "source": [
    "# Loading in Arabic Files\n",
    "start = time()\n",
    "f = open('data/sixway/arabic.100k', 'r') # Reading in Arabic File\n",
    "arabic100 = f.read()\n",
    "print(\"Data loaded in:\", (time()-start), \"seconds.\")\n",
    "f.close()\n",
    "\n",
    "# Creating Smaller Slice to Analyze using Camel Tools\n",
    "arabic_samp = arabic100[:1000000]"
   ]
  },
  {
   "cell_type": "markdown",
   "id": "086470b0",
   "metadata": {},
   "source": [
    "### Downloading CAMEL Tools for Arabic processing"
   ]
  },
  {
   "cell_type": "code",
   "execution_count": 103,
   "id": "8893a0af",
   "metadata": {},
   "outputs": [],
   "source": [
    "import camel_tools"
   ]
  },
  {
   "cell_type": "markdown",
   "id": "29b40971",
   "metadata": {},
   "source": [
    "### Word Tokenizing Arabic Document"
   ]
  },
  {
   "cell_type": "code",
   "execution_count": 104,
   "id": "cc3a2551",
   "metadata": {},
   "outputs": [],
   "source": [
    "import camel_tools.tokenizers.word"
   ]
  },
  {
   "cell_type": "code",
   "execution_count": 105,
   "id": "32f4db83",
   "metadata": {},
   "outputs": [
    {
     "name": "stdout",
     "output_type": "stream",
     "text": [
      "Arabic document word tokenized in: 66.50326490402222 seconds.\n"
     ]
    }
   ],
   "source": [
    "start = time()\n",
    "ar_tokens = camel_tools.tokenizers.word.simple_word_tokenize(arabic_samp)\n",
    "print(\"Arabic document word tokenized in:\", (time()-start), \"seconds.\")"
   ]
  },
  {
   "cell_type": "code",
   "execution_count": 106,
   "id": "7fe7d560",
   "metadata": {},
   "outputs": [
    {
     "name": "stdout",
     "output_type": "stream",
     "text": [
      "Arabic Word Tokens Count: 188380 \n",
      " \n",
      " ['القرار', '٨١٩', ')', '٤٩٩١', '(', 'الذي', 'اتخذه', 'مجلس', 'اﻷمن', 'في', 'جلسته', '٧٧٣٣', '،', 'المعقودة', 'في', '٧١', 'أيار', '/', 'مايو', '٤٩٩١']\n"
     ]
    }
   ],
   "source": [
    "print('Arabic Word Tokens Count:', len(ar_tokens), '\\n \\n', ar_tokens[:20])"
   ]
  },
  {
   "cell_type": "markdown",
   "id": "625d1b44",
   "metadata": {},
   "source": [
    "### Sentence Tokenizing Arabic Document"
   ]
  },
  {
   "cell_type": "markdown",
   "id": "810b5836",
   "metadata": {},
   "source": [
    "### POS Tagging English Document"
   ]
  },
  {
   "cell_type": "code",
   "execution_count": 107,
   "id": "a48dc111",
   "metadata": {},
   "outputs": [],
   "source": [
    "from camel_tools.disambig.mle import MLEDisambiguator\n",
    "from camel_tools.tagger.default import DefaultTagger\n",
    "from camel_tools.morphology.database import MorphologyDB"
   ]
  },
  {
   "cell_type": "code",
   "execution_count": 108,
   "id": "ecdc6ab1",
   "metadata": {},
   "outputs": [],
   "source": [
    "from transformers import pipeline"
   ]
  },
  {
   "cell_type": "code",
   "execution_count": 109,
   "id": "85c20042",
   "metadata": {},
   "outputs": [],
   "source": [
    "pos = pipeline('token-classification', model='CAMeL-Lab/bert-base-arabic-camelbert-ca-pos-msa')"
   ]
  },
  {
   "cell_type": "code",
   "execution_count": 110,
   "id": "2d7c8fca",
   "metadata": {},
   "outputs": [
    {
     "name": "stderr",
     "output_type": "stream",
     "text": [
      "Asking to truncate to max_length but no maximum length is provided and the model has no predefined maximum length. Default to no truncation.\n"
     ]
    }
   ],
   "source": [
    "ar_pos = pos(ar_tokens[:20])"
   ]
  },
  {
   "cell_type": "markdown",
   "id": "3f77ef18",
   "metadata": {},
   "source": [
    "# Creating DataFrame for Analyzation"
   ]
  },
  {
   "cell_type": "code",
   "execution_count": 214,
   "id": "c53d244a",
   "metadata": {},
   "outputs": [],
   "source": [
    "data = {'Language': ['English', 'Spanish', 'French', 'Russian', 'Mandarin', 'Arabic'],\n",
    "        'Document' : [english_samp, spanish_samp, french_samp, russian_samp, mandarin_samp, arabic_samp],\n",
    "        'Word_Tokens' : [eng_tokens, es_tokens, fr_tokens, ru_tokens, zh_tokens, ar_tokens],\n",
    "        'Word_Token_Length' : [len(eng_tokens), len(es_tokens), len(fr_tokens), len(ru_tokens), len(zh_tokens), len(ar_tokens)],\n",
    "        'Sentence_Tokens' : [eng_sent, es_sent, fr_sent, ru_sent, zh_sent, 0],\n",
    "        'Sentence_Token_Length' : [len(eng_sent), len(es_sent), len(fr_sent), len(ru_sent), len(zh_sent), 0],\n",
    "        'POS_Count' : [len(eng_pos), len(es_pos), len(fr_pos), len(ru_pos), len(zh_pos), 0],\n",
    "        'POS_Set' : [set(eng_pos), set(es_pos), set(fr_pos), set(ru_pos), set(zh_pos), 'null'],\n",
    "        'POS_SetCount' : [len(set(eng_pos)), len(set(es_pos)), len(set(fr_pos)), len(set(ru_pos)), len(set(zh_pos)), 0],\n",
    "        'Dependency': [set(eng_dep), set(es_dep), set(fr_dep), set(ru_dep), set(zh_dep), 'null'],\n",
    "        'Dependency_Count' : [len(set(eng_dep)), len(set(es_dep)), len(set(fr_dep)), len(set(ru_dep)), len(set(zh_dep)), 'null'],\n",
    "        'Entity_Label_List' :[set(eng_label), set(es_label), set(fr_label), set(ru_label), set(zh_label), 'null'],\n",
    "        'Entity_Label_Count' : [len(set(eng_label)), len(set(es_label)), len(set(fr_label)), len(set(ru_label)), len(set(zh_label)), 'null'],\n",
    "        'Entity_Count' : [len((eng_ent)), (len(es_ent)), len(set(fr_ent)), len(set(ru_ent)), len(set(zh_ent)), 0],\n",
    "       }"
   ]
  },
  {
   "cell_type": "code",
   "execution_count": 215,
   "id": "a4e88176",
   "metadata": {},
   "outputs": [],
   "source": [
    "sixway_df = pd.DataFrame(data)"
   ]
  },
  {
   "cell_type": "code",
   "execution_count": 216,
   "id": "41e04bf3",
   "metadata": {
    "scrolled": false
   },
   "outputs": [
    {
     "data": {
      "text/html": [
       "<div>\n",
       "<style scoped>\n",
       "    .dataframe tbody tr th:only-of-type {\n",
       "        vertical-align: middle;\n",
       "    }\n",
       "\n",
       "    .dataframe tbody tr th {\n",
       "        vertical-align: top;\n",
       "    }\n",
       "\n",
       "    .dataframe thead th {\n",
       "        text-align: right;\n",
       "    }\n",
       "</style>\n",
       "<table border=\"1\" class=\"dataframe\">\n",
       "  <thead>\n",
       "    <tr style=\"text-align: right;\">\n",
       "      <th></th>\n",
       "      <th>Language</th>\n",
       "      <th>Document</th>\n",
       "      <th>Word_Tokens</th>\n",
       "      <th>Word_Token_Length</th>\n",
       "      <th>Sentence_Tokens</th>\n",
       "      <th>Sentence_Token_Length</th>\n",
       "      <th>POS_Count</th>\n",
       "      <th>POS_Set</th>\n",
       "      <th>POS_SetCount</th>\n",
       "      <th>Dependency</th>\n",
       "      <th>Dependency_Count</th>\n",
       "      <th>Entity_Label_List</th>\n",
       "      <th>Entity_Label_Count</th>\n",
       "      <th>Entity_Count</th>\n",
       "    </tr>\n",
       "  </thead>\n",
       "  <tbody>\n",
       "    <tr>\n",
       "      <th>0</th>\n",
       "      <td>English</td>\n",
       "      <td>RESOLUTION 918 (1994)\\nAdopted by the Security...</td>\n",
       "      <td>[RESOLUTION, 918, (, 1994, ), \\n, Adopted, by,...</td>\n",
       "      <td>177808</td>\n",
       "      <td>[RESOLUTION 918 (1994)\\nAdopted by the Securit...</td>\n",
       "      <td>6662</td>\n",
       "      <td>177808</td>\n",
       "      <td>{ADP, AUX, SPACE, PUNCT, ADV, SYM, ADJ, SCONJ,...</td>\n",
       "      <td>18</td>\n",
       "      <td>{advcl, prt, conj, pcomp, aux, case, expl, pre...</td>\n",
       "      <td>45</td>\n",
       "      <td>{FAC, LANGUAGE, PERCENT, EVENT, LOC, TIME, PRO...</td>\n",
       "      <td>18</td>\n",
       "      <td>12124</td>\n",
       "    </tr>\n",
       "    <tr>\n",
       "      <th>1</th>\n",
       "      <td>Spanish</td>\n",
       "      <td>RESOLUCIÓN 918 (1994)\\nAprobada por el Consejo...</td>\n",
       "      <td>[RESOLUCIÓN, 918, (, 1994, ), \\n, Aprobada, po...</td>\n",
       "      <td>176209</td>\n",
       "      <td>[RESOLUCIÓN 918 (1994)\\nAprobada por el Consej...</td>\n",
       "      <td>4861</td>\n",
       "      <td>176209</td>\n",
       "      <td>{ADP, AUX, SPACE, PUNCT, ADV, SYM, ADJ, SCONJ,...</td>\n",
       "      <td>17</td>\n",
       "      <td>{advcl, cop, flat, expl:impers, obl, conj, aux...</td>\n",
       "      <td>31</td>\n",
       "      <td>{PER, ORG, LOC, MISC}</td>\n",
       "      <td>4</td>\n",
       "      <td>9826</td>\n",
       "    </tr>\n",
       "    <tr>\n",
       "      <th>2</th>\n",
       "      <td>French</td>\n",
       "      <td>RESOLUTION 918 (1994)\\nAdoptée par le Conseil ...</td>\n",
       "      <td>[RESOLUTION, 918, (, 1994, ), \\n, Adoptée, par...</td>\n",
       "      <td>181823</td>\n",
       "      <td>[RESOLUTION 918 (1994)\\n, Adoptée, par le Cons...</td>\n",
       "      <td>9440</td>\n",
       "      <td>181823</td>\n",
       "      <td>{ADP, AUX, PUNCT, SPACE, ADV, SYM, ADJ, SCONJ,...</td>\n",
       "      <td>16</td>\n",
       "      <td>{advcl, cop, flat:name, conj, case, aux:tense,...</td>\n",
       "      <td>36</td>\n",
       "      <td>{PER, ORG, LOC, MISC}</td>\n",
       "      <td>4</td>\n",
       "      <td>2762</td>\n",
       "    </tr>\n",
       "    <tr>\n",
       "      <th>3</th>\n",
       "      <td>Russian</td>\n",
       "      <td>РЕЗОЛЮЦИЯ 918 (1994),\\nпринятая Советом Безопа...</td>\n",
       "      <td>[РЕЗОЛЮЦИЯ, 918, (, 1994, ), ,, \\n, принятая, ...</td>\n",
       "      <td>153964</td>\n",
       "      <td>[РЕЗОЛЮЦИЯ 918 (1994),\\n, принятая Советом Без...</td>\n",
       "      <td>9310</td>\n",
       "      <td>153964</td>\n",
       "      <td>{ADP, AUX, SPACE, PUNCT, ADV, SYM, ADJ, SCONJ,...</td>\n",
       "      <td>18</td>\n",
       "      <td>{advcl, cop, flat:name, flat, obl, conj, aux, ...</td>\n",
       "      <td>40</td>\n",
       "      <td>{PER, ORG, LOC}</td>\n",
       "      <td>3</td>\n",
       "      <td>2126</td>\n",
       "    </tr>\n",
       "    <tr>\n",
       "      <th>4</th>\n",
       "      <td>Mandarin</td>\n",
       "      <td>第918(1994)号决议\\n1994年5月17日安全理事会第3377次会议通过\\n安全理事...</td>\n",
       "      <td>[第918, (, 1994, )号, 决议, \\n, 1994年, 5月, 17日, 安全...</td>\n",
       "      <td>553748</td>\n",
       "      <td>[第918(1994)号决议\\n1994年5月17日安全理事会第3377次会议通过\\n安全理...</td>\n",
       "      <td>23363</td>\n",
       "      <td>553748</td>\n",
       "      <td>{ADP, PUNCT, SPACE, ADV, ADJ, SCONJ, PART, DET...</td>\n",
       "      <td>16</td>\n",
       "      <td>{cop, nmod:range, conj, nmod:assmod, mark:clf,...</td>\n",
       "      <td>44</td>\n",
       "      <td>{FAC, LANGUAGE, PERCENT, EVENT, LOC, TIME, PER...</td>\n",
       "      <td>18</td>\n",
       "      <td>9476</td>\n",
       "    </tr>\n",
       "    <tr>\n",
       "      <th>5</th>\n",
       "      <td>Arabic</td>\n",
       "      <td>القرار ٨١٩ )٤٩٩١(\\nالذي اتخذه مجلس اﻷمن في جلس...</td>\n",
       "      <td>[القرار, ٨١٩, ), ٤٩٩١, (, الذي, اتخذه, مجلس, ا...</td>\n",
       "      <td>188380</td>\n",
       "      <td>0</td>\n",
       "      <td>0</td>\n",
       "      <td>0</td>\n",
       "      <td>null</td>\n",
       "      <td>0</td>\n",
       "      <td>null</td>\n",
       "      <td>null</td>\n",
       "      <td>null</td>\n",
       "      <td>null</td>\n",
       "      <td>0</td>\n",
       "    </tr>\n",
       "  </tbody>\n",
       "</table>\n",
       "</div>"
      ],
      "text/plain": [
       "   Language                                           Document  \\\n",
       "0   English  RESOLUTION 918 (1994)\\nAdopted by the Security...   \n",
       "1   Spanish  RESOLUCIÓN 918 (1994)\\nAprobada por el Consejo...   \n",
       "2    French  RESOLUTION 918 (1994)\\nAdoptée par le Conseil ...   \n",
       "3   Russian  РЕЗОЛЮЦИЯ 918 (1994),\\nпринятая Советом Безопа...   \n",
       "4  Mandarin  第918(1994)号决议\\n1994年5月17日安全理事会第3377次会议通过\\n安全理事...   \n",
       "5    Arabic  القرار ٨١٩ )٤٩٩١(\\nالذي اتخذه مجلس اﻷمن في جلس...   \n",
       "\n",
       "                                         Word_Tokens  Word_Token_Length  \\\n",
       "0  [RESOLUTION, 918, (, 1994, ), \\n, Adopted, by,...             177808   \n",
       "1  [RESOLUCIÓN, 918, (, 1994, ), \\n, Aprobada, po...             176209   \n",
       "2  [RESOLUTION, 918, (, 1994, ), \\n, Adoptée, par...             181823   \n",
       "3  [РЕЗОЛЮЦИЯ, 918, (, 1994, ), ,, \\n, принятая, ...             153964   \n",
       "4  [第918, (, 1994, )号, 决议, \\n, 1994年, 5月, 17日, 安全...             553748   \n",
       "5  [القرار, ٨١٩, ), ٤٩٩١, (, الذي, اتخذه, مجلس, ا...             188380   \n",
       "\n",
       "                                     Sentence_Tokens  Sentence_Token_Length  \\\n",
       "0  [RESOLUTION 918 (1994)\\nAdopted by the Securit...                   6662   \n",
       "1  [RESOLUCIÓN 918 (1994)\\nAprobada por el Consej...                   4861   \n",
       "2  [RESOLUTION 918 (1994)\\n, Adoptée, par le Cons...                   9440   \n",
       "3  [РЕЗОЛЮЦИЯ 918 (1994),\\n, принятая Советом Без...                   9310   \n",
       "4  [第918(1994)号决议\\n1994年5月17日安全理事会第3377次会议通过\\n安全理...                  23363   \n",
       "5                                                  0                      0   \n",
       "\n",
       "   POS_Count                                            POS_Set  POS_SetCount  \\\n",
       "0     177808  {ADP, AUX, SPACE, PUNCT, ADV, SYM, ADJ, SCONJ,...            18   \n",
       "1     176209  {ADP, AUX, SPACE, PUNCT, ADV, SYM, ADJ, SCONJ,...            17   \n",
       "2     181823  {ADP, AUX, PUNCT, SPACE, ADV, SYM, ADJ, SCONJ,...            16   \n",
       "3     153964  {ADP, AUX, SPACE, PUNCT, ADV, SYM, ADJ, SCONJ,...            18   \n",
       "4     553748  {ADP, PUNCT, SPACE, ADV, ADJ, SCONJ, PART, DET...            16   \n",
       "5          0                                               null             0   \n",
       "\n",
       "                                          Dependency Dependency_Count  \\\n",
       "0  {advcl, prt, conj, pcomp, aux, case, expl, pre...               45   \n",
       "1  {advcl, cop, flat, expl:impers, obl, conj, aux...               31   \n",
       "2  {advcl, cop, flat:name, conj, case, aux:tense,...               36   \n",
       "3  {advcl, cop, flat:name, flat, obl, conj, aux, ...               40   \n",
       "4  {cop, nmod:range, conj, nmod:assmod, mark:clf,...               44   \n",
       "5                                               null             null   \n",
       "\n",
       "                                   Entity_Label_List Entity_Label_Count  \\\n",
       "0  {FAC, LANGUAGE, PERCENT, EVENT, LOC, TIME, PRO...                 18   \n",
       "1                              {PER, ORG, LOC, MISC}                  4   \n",
       "2                              {PER, ORG, LOC, MISC}                  4   \n",
       "3                                    {PER, ORG, LOC}                  3   \n",
       "4  {FAC, LANGUAGE, PERCENT, EVENT, LOC, TIME, PER...                 18   \n",
       "5                                               null               null   \n",
       "\n",
       "   Entity_Count  \n",
       "0         12124  \n",
       "1          9826  \n",
       "2          2762  \n",
       "3          2126  \n",
       "4          9476  \n",
       "5             0  "
      ]
     },
     "execution_count": 216,
     "metadata": {},
     "output_type": "execute_result"
    }
   ],
   "source": [
    "sixway_df"
   ]
  },
  {
   "cell_type": "code",
   "execution_count": 217,
   "id": "d134fd15",
   "metadata": {},
   "outputs": [
    {
     "ename": "NotImplementedError",
     "evalue": "[E111] Pickling a token is not supported, because tokens are only views of the parent Doc and can't exist on their own. A pickled token would always have to include its Doc and Vocab, which has practically no advantage over pickling the parent Doc directly. So instead of pickling the token, pickle the Doc it belongs to.",
     "output_type": "error",
     "traceback": [
      "\u001b[0;31m---------------------------------------------------------------------------\u001b[0m",
      "\u001b[0;31mNotImplementedError\u001b[0m                       Traceback (most recent call last)",
      "\u001b[0;32m/var/folders/y9/1cnvdvl95fg_q2fb85g7l4t80000gn/T/ipykernel_14687/3670540749.py\u001b[0m in \u001b[0;36m<module>\u001b[0;34m\u001b[0m\n\u001b[0;32m----> 1\u001b[0;31m \u001b[0msixway_df\u001b[0m\u001b[0;34m.\u001b[0m\u001b[0mto_pickle\u001b[0m\u001b[0;34m(\u001b[0m\u001b[0;34m\"sixway_df_new.pkl\"\u001b[0m\u001b[0;34m)\u001b[0m\u001b[0;34m\u001b[0m\u001b[0;34m\u001b[0m\u001b[0m\n\u001b[0m",
      "\u001b[0;32m~/opt/anaconda3/lib/python3.9/site-packages/pandas/core/generic.py\u001b[0m in \u001b[0;36mto_pickle\u001b[0;34m(self, path, compression, protocol, storage_options)\u001b[0m\n\u001b[1;32m   2955\u001b[0m         \u001b[0;32mfrom\u001b[0m \u001b[0mpandas\u001b[0m\u001b[0;34m.\u001b[0m\u001b[0mio\u001b[0m\u001b[0;34m.\u001b[0m\u001b[0mpickle\u001b[0m \u001b[0;32mimport\u001b[0m \u001b[0mto_pickle\u001b[0m\u001b[0;34m\u001b[0m\u001b[0;34m\u001b[0m\u001b[0m\n\u001b[1;32m   2956\u001b[0m \u001b[0;34m\u001b[0m\u001b[0m\n\u001b[0;32m-> 2957\u001b[0;31m         to_pickle(\n\u001b[0m\u001b[1;32m   2958\u001b[0m             \u001b[0mself\u001b[0m\u001b[0;34m,\u001b[0m\u001b[0;34m\u001b[0m\u001b[0;34m\u001b[0m\u001b[0m\n\u001b[1;32m   2959\u001b[0m             \u001b[0mpath\u001b[0m\u001b[0;34m,\u001b[0m\u001b[0;34m\u001b[0m\u001b[0;34m\u001b[0m\u001b[0m\n",
      "\u001b[0;32m~/opt/anaconda3/lib/python3.9/site-packages/pandas/io/pickle.py\u001b[0m in \u001b[0;36mto_pickle\u001b[0;34m(obj, filepath_or_buffer, compression, protocol, storage_options)\u001b[0m\n\u001b[1;32m    111\u001b[0m         \u001b[0;32melse\u001b[0m\u001b[0;34m:\u001b[0m\u001b[0;34m\u001b[0m\u001b[0;34m\u001b[0m\u001b[0m\n\u001b[1;32m    112\u001b[0m             \u001b[0;31m# letting pickle write directly to the buffer is more memory-efficient\u001b[0m\u001b[0;34m\u001b[0m\u001b[0;34m\u001b[0m\u001b[0m\n\u001b[0;32m--> 113\u001b[0;31m             pickle.dump(\n\u001b[0m\u001b[1;32m    114\u001b[0m                 \u001b[0;31m# error: Argument 2 to \"dump\" has incompatible type \"Union[IO[Any],\u001b[0m\u001b[0;34m\u001b[0m\u001b[0;34m\u001b[0m\u001b[0m\n\u001b[1;32m    115\u001b[0m                 \u001b[0;31m# RawIOBase, BufferedIOBase, TextIOBase, TextIOWrapper, mmap]\"; expected\u001b[0m\u001b[0;34m\u001b[0m\u001b[0;34m\u001b[0m\u001b[0m\n",
      "\u001b[0;32m~/opt/anaconda3/lib/python3.9/site-packages/spacy/tokens/token.pyx\u001b[0m in \u001b[0;36mspacy.tokens.token.Token.__reduce__\u001b[0;34m()\u001b[0m\n",
      "\u001b[0;31mNotImplementedError\u001b[0m: [E111] Pickling a token is not supported, because tokens are only views of the parent Doc and can't exist on their own. A pickled token would always have to include its Doc and Vocab, which has practically no advantage over pickling the parent Doc directly. So instead of pickling the token, pickle the Doc it belongs to."
     ]
    }
   ],
   "source": [
    "sixway_df.to_pickle(\"sixway_df_new.pkl\")"
   ]
  },
  {
   "cell_type": "code",
   "execution_count": 211,
   "id": "2ebbb824",
   "metadata": {},
   "outputs": [
    {
     "data": {
      "image/png": "[encoded data removed]",
      "text/plain": [
       "<Figure size 432x288 with 1 Axes>"
      ]
     },
     "metadata": {
      "needs_background": "light"
     },
     "output_type": "display_data"
    }
   ],
   "source": [
    "import matplotlib.pyplot as plt\n",
    "sixway_df.plot.bar(x='Language', y='Word_Token_Length', rot=0)\n",
    "plt.savefig(\"Word_Tokens_Comparison.png\")"
   ]
  },
  {
   "cell_type": "code",
   "execution_count": 213,
   "id": "111d6bde",
   "metadata": {},
   "outputs": [
    {
     "data": {
      "image/png": "[encoded data removed]",
      "text/plain": [
       "<Figure size 432x288 with 1 Axes>"
      ]
     },
     "metadata": {
      "needs_background": "light"
     },
     "output_type": "display_data"
    }
   ],
   "source": [
    "sixway_df.plot.bar(x='Language', y='Sentence_Token_Length', rot=0)\n",
    "plt.savefig(\"Sentence_Length.png\")"
   ]
  },
  {
   "cell_type": "code",
   "execution_count": 210,
   "id": "466286cd",
   "metadata": {},
   "outputs": [
    {
     "data": {
      "image/png": "[encoded data removed]",
      "text/plain": [
       "<Figure size 432x288 with 1 Axes>"
      ]
     },
     "metadata": {
      "needs_background": "light"
     },
     "output_type": "display_data"
    }
   ],
   "source": [
    "sixway_df.plot.bar(x='Language', y='Entity_Count', rot=0)\n",
    "plt.savefig(\"EntityCount.png\")"
   ]
  },
  {
   "cell_type": "code",
   "execution_count": 190,
   "id": "926db058",
   "metadata": {},
   "outputs": [],
   "source": [
    "sixway_df['Average_Sentence_Length'] = sixway_df['Word_Token_Length']/sixway_df['Sentence_Token_Length']"
   ]
  },
  {
   "cell_type": "code",
   "execution_count": 208,
   "id": "afc4d38e",
   "metadata": {},
   "outputs": [],
   "source": [
    "sixway_df['TTR'] = sixway_df.POS_Count / sixway_df.Word_Token_Length"
   ]
  },
  {
   "cell_type": "code",
   "execution_count": 209,
   "id": "495f4dcf",
   "metadata": {},
   "outputs": [
    {
     "data": {
      "text/html": [
       "<div>\n",
       "<style scoped>\n",
       "    .dataframe tbody tr th:only-of-type {\n",
       "        vertical-align: middle;\n",
       "    }\n",
       "\n",
       "    .dataframe tbody tr th {\n",
       "        vertical-align: top;\n",
       "    }\n",
       "\n",
       "    .dataframe thead th {\n",
       "        text-align: right;\n",
       "    }\n",
       "</style>\n",
       "<table border=\"1\" class=\"dataframe\">\n",
       "  <thead>\n",
       "    <tr style=\"text-align: right;\">\n",
       "      <th></th>\n",
       "      <th>Language</th>\n",
       "      <th>Document</th>\n",
       "      <th>Word_Tokens</th>\n",
       "      <th>Word_Token_Length</th>\n",
       "      <th>Sentence_Tokens</th>\n",
       "      <th>Sentence_Token_Length</th>\n",
       "      <th>POS</th>\n",
       "      <th>POS_Set</th>\n",
       "      <th>POS_Count</th>\n",
       "      <th>Dependency</th>\n",
       "      <th>Dependency_Count</th>\n",
       "      <th>Entity_Label_List</th>\n",
       "      <th>Entity_Label_Count</th>\n",
       "      <th>Entity_Count</th>\n",
       "      <th>TTR</th>\n",
       "    </tr>\n",
       "  </thead>\n",
       "  <tbody>\n",
       "    <tr>\n",
       "      <th>0</th>\n",
       "      <td>English</td>\n",
       "      <td>RESOLUTION 918 (1994)\\nAdopted by the Security...</td>\n",
       "      <td>[RESOLUTION, 918, (, 1994, ), \\n, Adopted, by,...</td>\n",
       "      <td>177808</td>\n",
       "      <td>[RESOLUTION 918 (1994)\\nAdopted by the Securit...</td>\n",
       "      <td>6662</td>\n",
       "      <td>[PROPN, NUM, PUNCT, NUM, PUNCT, SPACE, VERB, A...</td>\n",
       "      <td>{ADP, AUX, SPACE, PUNCT, ADV, SYM, ADJ, SCONJ,...</td>\n",
       "      <td>18</td>\n",
       "      <td>{advcl, prt, conj, pcomp, aux, case, expl, pre...</td>\n",
       "      <td>45</td>\n",
       "      <td>{FAC, LANGUAGE, PERCENT, EVENT, LOC, TIME, PRO...</td>\n",
       "      <td>18</td>\n",
       "      <td>12124</td>\n",
       "      <td>0.000101</td>\n",
       "    </tr>\n",
       "    <tr>\n",
       "      <th>1</th>\n",
       "      <td>Spanish</td>\n",
       "      <td>RESOLUCIÓN 918 (1994)\\nAprobada por el Consejo...</td>\n",
       "      <td>[RESOLUCIÓN, 918, (, 1994, ), \\n, Aprobada, po...</td>\n",
       "      <td>176209</td>\n",
       "      <td>[RESOLUCIÓN 918 (1994)\\nAprobada por el Consej...</td>\n",
       "      <td>4861</td>\n",
       "      <td>[PROPN, NUM, PUNCT, NOUN, PUNCT, SPACE, ADJ, A...</td>\n",
       "      <td>{ADP, AUX, SPACE, PUNCT, ADV, SYM, ADJ, SCONJ,...</td>\n",
       "      <td>17</td>\n",
       "      <td>{advcl, cop, flat, expl:impers, obl, conj, aux...</td>\n",
       "      <td>31</td>\n",
       "      <td>{PER, ORG, LOC, MISC}</td>\n",
       "      <td>4</td>\n",
       "      <td>9826</td>\n",
       "      <td>0.000096</td>\n",
       "    </tr>\n",
       "    <tr>\n",
       "      <th>2</th>\n",
       "      <td>French</td>\n",
       "      <td>RESOLUTION 918 (1994)\\nAdoptée par le Conseil ...</td>\n",
       "      <td>[RESOLUTION, 918, (, 1994, ), \\n, Adoptée, par...</td>\n",
       "      <td>181823</td>\n",
       "      <td>[RESOLUTION 918 (1994)\\n, Adoptée, par le Cons...</td>\n",
       "      <td>9440</td>\n",
       "      <td>[NOUN, NUM, PUNCT, NUM, PUNCT, SPACE, VERB, AD...</td>\n",
       "      <td>{ADP, AUX, PUNCT, SPACE, ADV, SYM, ADJ, SCONJ,...</td>\n",
       "      <td>16</td>\n",
       "      <td>{advcl, cop, flat:name, conj, case, aux:tense,...</td>\n",
       "      <td>36</td>\n",
       "      <td>{PER, ORG, LOC, MISC}</td>\n",
       "      <td>4</td>\n",
       "      <td>2762</td>\n",
       "      <td>0.000088</td>\n",
       "    </tr>\n",
       "    <tr>\n",
       "      <th>3</th>\n",
       "      <td>Russian</td>\n",
       "      <td>РЕЗОЛЮЦИЯ 918 (1994),\\nпринятая Советом Безопа...</td>\n",
       "      <td>[РЕЗОЛЮЦИЯ, 918, (, 1994, ), ,, \\n, принятая, ...</td>\n",
       "      <td>153964</td>\n",
       "      <td>[РЕЗОЛЮЦИЯ 918 (1994),\\n, принятая Советом Без...</td>\n",
       "      <td>9310</td>\n",
       "      <td>[PROPN, NUM, PUNCT, ADJ, PUNCT, PUNCT, SPACE, ...</td>\n",
       "      <td>{ADP, AUX, SPACE, PUNCT, ADV, SYM, ADJ, SCONJ,...</td>\n",
       "      <td>18</td>\n",
       "      <td>{advcl, cop, flat:name, flat, obl, conj, aux, ...</td>\n",
       "      <td>40</td>\n",
       "      <td>{PER, ORG, LOC}</td>\n",
       "      <td>3</td>\n",
       "      <td>2126</td>\n",
       "      <td>0.000117</td>\n",
       "    </tr>\n",
       "    <tr>\n",
       "      <th>4</th>\n",
       "      <td>Mandarin</td>\n",
       "      <td>第918(1994)号决议\\n1994年5月17日安全理事会第3377次会议通过\\n安全理事...</td>\n",
       "      <td>[第918, (, 1994, )号, 决议, \\n, 1994年, 5月, 17日, 安全...</td>\n",
       "      <td>553748</td>\n",
       "      <td>[第918(1994)号决议\\n1994年5月17日安全理事会第3377次会议通过\\n安全理...</td>\n",
       "      <td>23363</td>\n",
       "      <td>[NUM, PUNCT, NOUN, PROPN, VERB, SPACE, NOUN, N...</td>\n",
       "      <td>{ADP, PUNCT, SPACE, ADV, ADJ, SCONJ, PART, DET...</td>\n",
       "      <td>16</td>\n",
       "      <td>{cop, nmod:range, conj, nmod:assmod, mark:clf,...</td>\n",
       "      <td>44</td>\n",
       "      <td>{FAC, LANGUAGE, PERCENT, EVENT, LOC, TIME, PER...</td>\n",
       "      <td>18</td>\n",
       "      <td>9476</td>\n",
       "      <td>0.000029</td>\n",
       "    </tr>\n",
       "    <tr>\n",
       "      <th>5</th>\n",
       "      <td>Arabic</td>\n",
       "      <td>القرار ٨١٩ )٤٩٩١(\\nالذي اتخذه مجلس اﻷمن في جلس...</td>\n",
       "      <td>[القرار, ٨١٩, ), ٤٩٩١, (, الذي, اتخذه, مجلس, ا...</td>\n",
       "      <td>188380</td>\n",
       "      <td>0</td>\n",
       "      <td>0</td>\n",
       "      <td>0</td>\n",
       "      <td>null</td>\n",
       "      <td>0</td>\n",
       "      <td>null</td>\n",
       "      <td>null</td>\n",
       "      <td>null</td>\n",
       "      <td>null</td>\n",
       "      <td>0</td>\n",
       "      <td>0.000000</td>\n",
       "    </tr>\n",
       "  </tbody>\n",
       "</table>\n",
       "</div>"
      ],
      "text/plain": [
       "   Language                                           Document  \\\n",
       "0   English  RESOLUTION 918 (1994)\\nAdopted by the Security...   \n",
       "1   Spanish  RESOLUCIÓN 918 (1994)\\nAprobada por el Consejo...   \n",
       "2    French  RESOLUTION 918 (1994)\\nAdoptée par le Conseil ...   \n",
       "3   Russian  РЕЗОЛЮЦИЯ 918 (1994),\\nпринятая Советом Безопа...   \n",
       "4  Mandarin  第918(1994)号决议\\n1994年5月17日安全理事会第3377次会议通过\\n安全理事...   \n",
       "5    Arabic  القرار ٨١٩ )٤٩٩١(\\nالذي اتخذه مجلس اﻷمن في جلس...   \n",
       "\n",
       "                                         Word_Tokens  Word_Token_Length  \\\n",
       "0  [RESOLUTION, 918, (, 1994, ), \\n, Adopted, by,...             177808   \n",
       "1  [RESOLUCIÓN, 918, (, 1994, ), \\n, Aprobada, po...             176209   \n",
       "2  [RESOLUTION, 918, (, 1994, ), \\n, Adoptée, par...             181823   \n",
       "3  [РЕЗОЛЮЦИЯ, 918, (, 1994, ), ,, \\n, принятая, ...             153964   \n",
       "4  [第918, (, 1994, )号, 决议, \\n, 1994年, 5月, 17日, 安全...             553748   \n",
       "5  [القرار, ٨١٩, ), ٤٩٩١, (, الذي, اتخذه, مجلس, ا...             188380   \n",
       "\n",
       "                                     Sentence_Tokens  Sentence_Token_Length  \\\n",
       "0  [RESOLUTION 918 (1994)\\nAdopted by the Securit...                   6662   \n",
       "1  [RESOLUCIÓN 918 (1994)\\nAprobada por el Consej...                   4861   \n",
       "2  [RESOLUTION 918 (1994)\\n, Adoptée, par le Cons...                   9440   \n",
       "3  [РЕЗОЛЮЦИЯ 918 (1994),\\n, принятая Советом Без...                   9310   \n",
       "4  [第918(1994)号决议\\n1994年5月17日安全理事会第3377次会议通过\\n安全理...                  23363   \n",
       "5                                                  0                      0   \n",
       "\n",
       "                                                 POS  \\\n",
       "0  [PROPN, NUM, PUNCT, NUM, PUNCT, SPACE, VERB, A...   \n",
       "1  [PROPN, NUM, PUNCT, NOUN, PUNCT, SPACE, ADJ, A...   \n",
       "2  [NOUN, NUM, PUNCT, NUM, PUNCT, SPACE, VERB, AD...   \n",
       "3  [PROPN, NUM, PUNCT, ADJ, PUNCT, PUNCT, SPACE, ...   \n",
       "4  [NUM, PUNCT, NOUN, PROPN, VERB, SPACE, NOUN, N...   \n",
       "5                                                  0   \n",
       "\n",
       "                                             POS_Set  POS_Count  \\\n",
       "0  {ADP, AUX, SPACE, PUNCT, ADV, SYM, ADJ, SCONJ,...         18   \n",
       "1  {ADP, AUX, SPACE, PUNCT, ADV, SYM, ADJ, SCONJ,...         17   \n",
       "2  {ADP, AUX, PUNCT, SPACE, ADV, SYM, ADJ, SCONJ,...         16   \n",
       "3  {ADP, AUX, SPACE, PUNCT, ADV, SYM, ADJ, SCONJ,...         18   \n",
       "4  {ADP, PUNCT, SPACE, ADV, ADJ, SCONJ, PART, DET...         16   \n",
       "5                                               null          0   \n",
       "\n",
       "                                          Dependency Dependency_Count  \\\n",
       "0  {advcl, prt, conj, pcomp, aux, case, expl, pre...               45   \n",
       "1  {advcl, cop, flat, expl:impers, obl, conj, aux...               31   \n",
       "2  {advcl, cop, flat:name, conj, case, aux:tense,...               36   \n",
       "3  {advcl, cop, flat:name, flat, obl, conj, aux, ...               40   \n",
       "4  {cop, nmod:range, conj, nmod:assmod, mark:clf,...               44   \n",
       "5                                               null             null   \n",
       "\n",
       "                                   Entity_Label_List Entity_Label_Count  \\\n",
       "0  {FAC, LANGUAGE, PERCENT, EVENT, LOC, TIME, PRO...                 18   \n",
       "1                              {PER, ORG, LOC, MISC}                  4   \n",
       "2                              {PER, ORG, LOC, MISC}                  4   \n",
       "3                                    {PER, ORG, LOC}                  3   \n",
       "4  {FAC, LANGUAGE, PERCENT, EVENT, LOC, TIME, PER...                 18   \n",
       "5                                               null               null   \n",
       "\n",
       "   Entity_Count       TTR  \n",
       "0         12124  0.000101  \n",
       "1          9826  0.000096  \n",
       "2          2762  0.000088  \n",
       "3          2126  0.000117  \n",
       "4          9476  0.000029  \n",
       "5             0  0.000000  "
      ]
     },
     "execution_count": 209,
     "metadata": {},
     "output_type": "execute_result"
    }
   ],
   "source": [
    "sixway_df"
   ]
  },
  {
   "cell_type": "code",
   "execution_count": null,
   "id": "7397c675",
   "metadata": {},
   "outputs": [],
   "source": []
  }
 ],
 "metadata": {
  "kernelspec": {
   "display_name": "Python 3 (ipykernel)",
   "language": "python",
   "name": "python3"
  },
  "language_info": {
   "codemirror_mode": {
    "name": "ipython",
    "version": 3
   },
   "file_extension": ".py",
   "mimetype": "text/x-python",
   "name": "python",
   "nbconvert_exporter": "python",
   "pygments_lexer": "ipython3",
   "version": "3.9.7"
  }
 },
 "nbformat": 4,
 "nbformat_minor": 5
}
